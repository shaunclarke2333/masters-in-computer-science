{
 "cells": [
  {
   "cell_type": "code",
   "execution_count": 343,
   "id": "128d8252",
   "metadata": {},
   "outputs": [],
   "source": [
    "import string\n",
    "import re\n",
    "file_path = \"other_file.txt\""
   ]
  },
  {
   "cell_type": "code",
   "execution_count": 357,
   "id": "af418fc6",
   "metadata": {},
   "outputs": [
    {
     "name": "stdout",
     "output_type": "stream",
     "text": [
      "ayo, what's down? what's down? let's keep it real, son, count this money\n",
      "you know what i'm sayin'?\n",
      "ayo, put the grants over there in the safe.\n",
      "i added  nas\n",
      "i also added .\n",
      "some new stuff\n",
      "some more new stuff.\n"
     ]
    }
   ],
   "source": [
    "# This function reads the file content\n",
    "def read_file(path):\n",
    "    try:\n",
    "        file = open(path)\n",
    "        file_content = file.read()\n",
    "        close_file(file)\n",
    "        file_content.lower()\n",
    "        return file_content\n",
    "    except FileNotFoundError as err:\n",
    "        return False\n",
    "        \n",
    "\n",
    "file_content = read_file(file_path)\n",
    "print(file_content)"
   ]
  },
  {
   "cell_type": "code",
   "execution_count": 345,
   "id": "fdda5ae2",
   "metadata": {},
   "outputs": [
    {
     "data": {
      "text/plain": [
       "\"ayo, what's down? what's down? let's keep it real, son, count this money\\nyou know what i'm sayin'?\\nayo, put the grants over there in the safe.\\na whole new sentence\\ni also added this line.\\nsome new stuff\\nsome more new stuff.\""
      ]
     },
     "execution_count": 345,
     "metadata": {},
     "output_type": "execute_result"
    }
   ],
   "source": [
    "file_content.replace(\"i added this line nas\",\"replaced a whole sentence\")"
   ]
  },
  {
   "cell_type": "code",
   "execution_count": 330,
   "id": "2c55aa65",
   "metadata": {},
   "outputs": [],
   "source": [
    "# This function closes the file if it is open\n",
    "def close_file(file):\n",
    "    file.close()"
   ]
  },
  {
   "cell_type": "code",
   "execution_count": 361,
   "id": "83f9fd31",
   "metadata": {},
   "outputs": [],
   "source": [
    "# This function writes the file content\n",
    "def write_to_file(path,mode,content):\n",
    "    file = open(path, mode)\n",
    "    file.write(f\"\\n{content}\")\n",
    "    close_file(file)\n",
    "    file_content = read_file(path)\n",
    "    return file_content\n",
    "    \n",
    "# file_content = write_to_file(file_path,\"w\", \"Another new line was added.\")\n",
    "# print(file_content)"
   ]
  },
  {
   "cell_type": "code",
   "execution_count": 362,
   "id": "4eddd575",
   "metadata": {},
   "outputs": [
    {
     "name": "stdout",
     "output_type": "stream",
     "text": [
      "['ayo', 'whats', 'down', 'whats', 'down', 'lets', 'keep', 'it', 'real', 'son', 'count', 'this', 'money', 'you', 'know', 'what', 'im', 'sayin', 'ayo', 'put', 'the', 'grants', 'over', 'there', 'in', 'the', 'safe', 'i', 'added', 'nas', 'i', 'also', 'added', 'some', 'new', 'stuff', 'some', 'more', 'new', 'stuff']\n"
     ]
    }
   ],
   "source": [
    "# This function removes punctuations from the text file data\n",
    "def remove_punctuations(file_content):\n",
    "    # creating dictionary of punctuations to replace\n",
    "    translator = str.maketrans(\"\", \"\", string.punctuation)\n",
    "    # removing punctuatiosn from file\n",
    "    file_content = file_content.translate(translator)\n",
    "    # Turning string into a list\n",
    "    file_content = file_content.split()\n",
    "    \n",
    "    return file_content\n",
    "\n",
    "content = remove_punctuations(file_content)\n",
    "\n",
    "print(content)"
   ]
  },
  {
   "cell_type": "code",
   "execution_count": 363,
   "id": "db88d8f8",
   "metadata": {},
   "outputs": [
    {
     "data": {
      "text/plain": [
       "0"
      ]
     },
     "execution_count": 363,
     "metadata": {},
     "output_type": "execute_result"
    }
   ],
   "source": [
    "content.count(\"what's\")"
   ]
  },
  {
   "cell_type": "code",
   "execution_count": null,
   "id": "16c763f3",
   "metadata": {},
   "outputs": [],
   "source": [
    "\n",
    "    "
   ]
  },
  {
   "cell_type": "code",
   "execution_count": 364,
   "id": "b4c578ef",
   "metadata": {},
   "outputs": [],
   "source": [
    "def all_word_count(path):\n",
    "    \"\"\"\n",
    "    This function reads in the content of a .txt file.<br>\n",
    "    \n",
    "    parameters:<br>\n",
    "    - path:<br>\n",
    "      - This parameter is the path to the .txt file\n",
    "    \n",
    "    - returns:<br>\n",
    "      - This function returns a list of tuples with the 5 most common words and the total times they appeared.<br>\n",
    "    \"\"\"\n",
    "    \n",
    "    # Empty dict to hold words and their count\n",
    "    counting_dict = {}\n",
    "    # Empty list to hold words and their counts\n",
    "    list_of_values = list()\n",
    "        \n",
    "    # reading file content\n",
    "    file_content = read_file(path)\n",
    "    # creating dictionary of punctuations to replace\n",
    "    translator = str.maketrans(\"\", \"\", string.punctuation)\n",
    "    # removing punctuatiosn from file\n",
    "    file_content = file_content.translate(translator)\n",
    "    # Turning string into a list\n",
    "    file_content = file_content.split()\n",
    "    \n",
    "    # getting each word and number of times it appears to a dictionary\n",
    "    for word in file_content:\n",
    "        if word not in counting_dict:\n",
    "            counting_dict[word]= 1\n",
    "        elif word in counting_dict:\n",
    "            counting_dict[word] += 1\n",
    "    \n",
    "    # Converted dictionary to list a of tuples and looping through it.\n",
    "    for key, value in list(counting_dict.items()):\n",
    "        list_of_values.append((value, key))\n",
    "    \n",
    "    #sorting list by totals in descending order\n",
    "    list_of_values.sort(reverse=True)\n",
    "    \n",
    "    # returning the first five items in the sorted list\n",
    "    return list_of_values[:5]\n",
    "\n",
    "top_five = all_word_count(file_path)"
   ]
  },
  {
   "cell_type": "code",
   "execution_count": 365,
   "id": "c85bb2b1",
   "metadata": {},
   "outputs": [
    {
     "name": "stdout",
     "output_type": "stream",
     "text": [
      "The top five words are as follows:\n",
      "Whats appeared 2 times\n",
      "The appeared 2 times\n",
      "Some appeared 2 times\n",
      "New appeared 2 times\n",
      "I appeared 2 times\n"
     ]
    }
   ],
   "source": [
    "print(f\"The top five words are as follows:\")\n",
    "for i in range(len(top_five)):\n",
    "    # Capitalizing the first letter of each word\n",
    "    word = top_five[i][1].title()\n",
    "    word_count = top_five[i][0]\n",
    "    print(f\"{word} appeared {word_count} times\")"
   ]
  },
  {
   "cell_type": "code",
   "execution_count": 366,
   "id": "11581760",
   "metadata": {
    "scrolled": true
   },
   "outputs": [
    {
     "name": "stdout",
     "output_type": "stream",
     "text": [
      "The word 'This' appears 1 times\n"
     ]
    }
   ],
   "source": [
    "def single_word_count(path, word):\n",
    "    \"\"\"\n",
    "    This function finds out how many times a single word appeared in the .txt document.<br>\n",
    "    \n",
    "    parameters:<br>\n",
    "    - path:<br>\n",
    "      - This parameter is the path to the .txt file\n",
    "    - word:<br>\n",
    "      - This word would be submitted by the user \n",
    "      \n",
    "    - returns:<br>\n",
    "      - This function returns an integer<br>\n",
    "      - if the word submitted doesn't exist, it returns false.\n",
    "    \"\"\"\n",
    "    # local variable for file content\n",
    "    file_content = read_file(path)\n",
    "    \n",
    "    if word not in file_content:\n",
    "        return False\n",
    "    \n",
    "    # local variable for word count\n",
    "    word_freq = file_content.count(word)\n",
    "    return word_freq\n",
    "\n",
    "word = \"this\"\n",
    "word_count = single_word_count(file_path, word)\n",
    "\n",
    "print(f\"The word '{word.capitalize()}' appears {word_count} times\")"
   ]
  },
  {
   "cell_type": "code",
   "execution_count": 367,
   "id": "80c822ba",
   "metadata": {},
   "outputs": [
    {
     "name": "stdout",
     "output_type": "stream",
     "text": [
      "The word 'I added this line nas' was replaced with 'A whole new sentence' in not found places\n"
     ]
    }
   ],
   "source": [
    "def replace_item(path, item_to_replace, new_item):\n",
    "    \"\"\"\n",
    "    \"\"\"\n",
    "    \n",
    "    # Local variable to hold how many times the word appears before change\n",
    "    old_word_count = single_word_count(path, item_to_replace)\n",
    "    \n",
    "    # If word does not exist return false\n",
    "    if not old_word_count:\n",
    "        return \"not found\"\n",
    "    \n",
    "    # local variable to hold file content\n",
    "    file_content = read_file(path)\n",
    "    \n",
    "    # Local variable to hold the regex pattern to find the whole word\n",
    "    pattern = rf'\\b{item_to_replace}\\b'\n",
    "    # local variable to hold updated file content output using regex to maintain punctuation\n",
    "    updated_file_content = re.sub(pattern, f'{new_item}', file_content)\n",
    "    \n",
    "    write_to_file(path,\"w\",updated_file_content)\n",
    "    \n",
    "    # Local variable to hold new word count \n",
    "    new_word_count = single_word_count(path,item_to_replace)\n",
    "    \n",
    "    if old_word_count == new_word_count:\n",
    "        return \"not updated\"\n",
    "    \n",
    "    if new_word_count != old_word_count:\n",
    "        return old_word_count\n",
    "#     print(f\"{read_file(path)}\")\n",
    "item_to_replace = \"a whole new sentence\" \n",
    "new_item = \"i added this line nas\" \n",
    "updated_word_count = replace_item(file_path,item_to_replace,new_item)\n",
    "print(f\"The word '{word_to_replace.capitalize()}' was replaced with '{new_word.capitalize()}' in {updated_word_count} places\")"
   ]
  },
  {
   "cell_type": "code",
   "execution_count": 369,
   "id": "f33d43ed",
   "metadata": {},
   "outputs": [
    {
     "name": "stdout",
     "output_type": "stream",
     "text": [
      "'Appending a line' was added to other_file.txt\n",
      "ayo, what's down? what's down? let's keep it real, son, count this money\n",
      "you know what i'm sayin'?\n",
      "ayo, put the grants over there in the safe.\n",
      "i added  nas\n",
      "i also added .\n",
      "some new stuff\n",
      "some more new stuff.Appending a line\n",
      "Appending a line\n",
      "Appending a line\n"
     ]
    }
   ],
   "source": [
    "def add_text(path, mode,content):\n",
    "    file_content = write_to_file(path, mode,content)\n",
    "    return file_content\n",
    "\n",
    "text_to_add = \"Appending a line\"\n",
    "text_added = add_text(file_path,\"a\",text_to_add)\n",
    "print(f\"'{text_to_add}' was added to {file_path}\")\n",
    "print(text_added)"
   ]
  },
  {
   "cell_type": "code",
   "execution_count": 356,
   "id": "26e43284",
   "metadata": {},
   "outputs": [
    {
     "name": "stdout",
     "output_type": "stream",
     "text": [
      "2\n"
     ]
    }
   ],
   "source": [
    "def delete_text(path, item_to_replace):\n",
    "    file_content = read_file(path)\n",
    "    \n",
    "    if not file_content:\n",
    "        return \"File not found\"\n",
    "    \n",
    "    updated_item = replace_item(path, item_to_replace, new_item=\"\")\n",
    "    \n",
    "    if updated_item == \"not found\" or updated_item == \"not updated\":\n",
    "        return False\n",
    "    \n",
    "    return updated_item\n",
    "    \n",
    "item_to_delete = \"this line\" \n",
    "deleted_text = delete_text(file_path,item_to_delete)\n",
    "print(deleted_text)"
   ]
  },
  {
   "cell_type": "code",
   "execution_count": 121,
   "id": "e959740f",
   "metadata": {},
   "outputs": [],
   "source": [
    "def highlight():\n",
    "    pass"
   ]
  },
  {
   "cell_type": "code",
   "execution_count": null,
   "id": "1435bc97",
   "metadata": {},
   "outputs": [],
   "source": []
  },
  {
   "cell_type": "code",
   "execution_count": 24,
   "id": "e903ba59",
   "metadata": {},
   "outputs": [],
   "source": [
    "# Project Notes\n",
    "\"\"\"\n",
    "be sure to convert the content to .lower once you read it in\n",
    "\n",
    "1. Explore using \"match\" to create a menu that has the following options:\n",
    "    ===Edit Menu===\n",
    "    1: Top 5 most common words\n",
    "    2: Single Word Frequency\n",
    "    3: Replace a word\n",
    "    4: Add Text\n",
    "    5: Delete Text\n",
    "    6: Highlight Text\n",
    "    =============\n",
    "    \n",
    "2. For option 1, top 5 most common words:\n",
    "    loop through the content of the file and passing each word through .count(word).\n",
    "    Then add the count to a list, sort the list, then select the first\\top five entries.\n",
    "    \n",
    "3. For option 2, single word frequency:\n",
    "    pass the user input word into the .count() method as a parameter.\n",
    "    file_content.count(word) this counts how many times the word appears.\n",
    "    \n",
    "4. For option 3, replace a word:\n",
    "    Use the .replace string method to raplace the words the user enters.\n",
    "    .replace(\"word i want to replace\", \"new word to add\")\n",
    "    save updated file\n",
    "    If the word does not exist. let the user know, use try except to catch it.\n",
    "\n",
    "5. \n",
    "\"\"\""
   ]
  },
  {
   "cell_type": "code",
   "execution_count": null,
   "id": "1b61fc1e",
   "metadata": {},
   "outputs": [],
   "source": []
  }
 ],
 "metadata": {
  "kernelspec": {
   "display_name": "Python 3 (ipykernel)",
   "language": "python",
   "name": "python3"
  },
  "language_info": {
   "codemirror_mode": {
    "name": "ipython",
    "version": 3
   },
   "file_extension": ".py",
   "mimetype": "text/x-python",
   "name": "python",
   "nbconvert_exporter": "python",
   "pygments_lexer": "ipython3",
   "version": "3.9.13"
  }
 },
 "nbformat": 4,
 "nbformat_minor": 5
}
