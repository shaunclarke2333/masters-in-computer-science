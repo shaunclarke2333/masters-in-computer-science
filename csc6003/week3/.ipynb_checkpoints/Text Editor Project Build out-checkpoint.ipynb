{
 "cells": [
  {
   "cell_type": "code",
   "execution_count": 138,
   "id": "f20a2a10",
   "metadata": {},
   "outputs": [],
   "source": [
    "import string\n",
    "import re\n",
    "file_path = \"other_file.txt\""
   ]
  },
  {
   "cell_type": "code",
   "execution_count": 139,
   "id": "04d411ca",
   "metadata": {},
   "outputs": [
    {
     "name": "stdout",
     "output_type": "stream",
     "text": [
      "ayo, what's down? what's down? let's keep >>it<< real, son, count this money\n",
      "you know what i'm sayin'?\n",
      "ayo, put the grants over there in the safe.\n",
      "i added  nas\n",
      "i also added .\n",
      "\n",
      "some more new stuff.>appending< a line\n",
      ">appending< a line\n",
      ">appending< a line\n",
      ">>it<< ain't hard to tell\n",
      ">>it<< ain't hard to tell\n",
      ">>it<< ain't hard to tell\n",
      ">>it<< ain't hard to tell\n",
      ">>it<< isn't hard to tell\n"
     ]
    }
   ],
   "source": [
    "# This function reads the file content\n",
    "def read_file(path):\n",
    "    try:\n",
    "        file = open(path)\n",
    "        file_content = file.read()\n",
    "        close_file(file)\n",
    "        file_content = file_content.lower()\n",
    "        return file_content\n",
    "    except FileNotFoundError as err:\n",
    "        return False\n",
    "        \n",
    "\n",
    "file_content = read_file(file_path)\n",
    "print(file_content)"
   ]
  },
  {
   "cell_type": "code",
   "execution_count": 76,
   "id": "0fff8ee5",
   "metadata": {},
   "outputs": [
    {
     "data": {
      "text/plain": [
       "\"ayo, what's down? what's down? let's keep it real, son, count this money\\nyou know what i'm sayin'?\\nayo, put the grants over there in the safe.\\ni added  nas\\ni also added .\\nsome new stuff\\nsome more new stuff.>appending< a line\\n>appending< a line\\n>appending< a line\\ni ain't hard to tell\""
      ]
     },
     "execution_count": 76,
     "metadata": {},
     "output_type": "execute_result"
    }
   ],
   "source": [
    "file_content.replace(\"i added this line nas\",\"replaced a whole sentence\")"
   ]
  },
  {
   "cell_type": "code",
   "execution_count": 77,
   "id": "98f62a2e",
   "metadata": {},
   "outputs": [],
   "source": [
    "# This function closes the file if it is open\n",
    "def close_file(file):\n",
    "    file.close()"
   ]
  },
  {
   "cell_type": "code",
   "execution_count": 119,
   "id": "5b88ded5",
   "metadata": {},
   "outputs": [],
   "source": [
    "# This function writes the file content\n",
    "def write_to_file(path,mode,content):\n",
    "    try:\n",
    "        file = open(path, mode, newline=\"\")\n",
    "        if mode == \"a\":\n",
    "            file.write(f\"\\n{content}\")\n",
    "        if mode == \"w\":\n",
    "            file.write(content)\n",
    "        close_file(file)\n",
    "        file_content = read_file(path)\n",
    "        return file_content\n",
    "    except FileNotFoundError as err:\n",
    "        return False\n",
    "    \n",
    "# file_content = write_to_file(file_path,\"w\", \"Another new line was added.\")\n",
    "# print(file_content)"
   ]
  },
  {
   "cell_type": "code",
   "execution_count": 88,
   "id": "20fff8ab",
   "metadata": {},
   "outputs": [
    {
     "name": "stdout",
     "output_type": "stream",
     "text": [
      "['byo', 'whats', 'down', 'whats', 'down', 'lets', 'keep', 'it', 'real', 'son', 'count', 'this', 'money', 'you', 'know', 'what', 'im', 'sayin', 'byo', 'put', 'the', 'grants', 'over', 'there', 'in', 'the', 'safe', 'i', 'added', 'nas', 'i', 'also', 'added', 'some', 'new', 'stuff', 'some', 'more', 'new', 'stuffappending', 'a', 'line', 'appending', 'a', 'line', 'appending', 'a', 'line', 'it', 'aint', 'hard', 'to', 'tell']\n"
     ]
    }
   ],
   "source": [
    "# This function removes punctuations from the text file data\n",
    "def remove_punctuations(file_content):\n",
    "    # creating dictionary of punctuations to replace\n",
    "    translator = str.maketrans(\"\", \"\", string.punctuation)\n",
    "    # removing punctuatiosn from file\n",
    "    file_content = file_content.translate(translator)\n",
    "    # Turning string into a list\n",
    "    file_content = file_content.split()\n",
    "    \n",
    "    return file_content\n",
    "\n",
    "content = remove_punctuations(file_content)\n",
    "\n",
    "print(content)"
   ]
  },
  {
   "cell_type": "code",
   "execution_count": 89,
   "id": "64fe21c2",
   "metadata": {},
   "outputs": [
    {
     "data": {
      "text/plain": [
       "0"
      ]
     },
     "execution_count": 89,
     "metadata": {},
     "output_type": "execute_result"
    }
   ],
   "source": [
    "content.count(\"what's\")"
   ]
  },
  {
   "cell_type": "code",
   "execution_count": null,
   "id": "87d1d5ec",
   "metadata": {},
   "outputs": [],
   "source": [
    "\n",
    "    "
   ]
  },
  {
   "cell_type": "code",
   "execution_count": 102,
   "id": "62ec865a",
   "metadata": {},
   "outputs": [],
   "source": [
    "def all_word_count(path):\n",
    "    \"\"\"\n",
    "    This function reads in the content of a .txt file.<br>\n",
    "    \n",
    "    parameters:<br>\n",
    "    - path:<br>\n",
    "      - This parameter is the path to the .txt file\n",
    "    \n",
    "    - returns:<br>\n",
    "      - This function returns a list of tuples with the 5 most common words and the total times they appeared.<br>\n",
    "    \"\"\"\n",
    "    try:\n",
    "        # Empty dict to hold words and their count\n",
    "        counting_dict = {}\n",
    "        # Empty list to hold words and their counts\n",
    "        list_of_values = list()\n",
    "\n",
    "        # reading file content\n",
    "        file_content = read_file(path)\n",
    "        # creating dictionary of punctuations to replace\n",
    "        translator = str.maketrans(\"\", \"\", string.punctuation)\n",
    "        # removing punctuatiosn from file\n",
    "        file_content = file_content.translate(translator)\n",
    "        # Turning string into a list\n",
    "        file_content = file_content.split()\n",
    "\n",
    "        # getting each word and number of times it appears to a dictionary\n",
    "        for word in file_content:\n",
    "            if word not in counting_dict:\n",
    "                counting_dict[word]= 1\n",
    "            elif word in counting_dict:\n",
    "                counting_dict[word] += 1\n",
    "\n",
    "        # Converted dictionary to list a of tuples and looping through it.\n",
    "        for key, value in list(counting_dict.items()):\n",
    "            list_of_values.append((value, key))\n",
    "\n",
    "        #sorting list by totals in descending order\n",
    "        list_of_values.sort(reverse=True)\n",
    "\n",
    "        # returning the first five items in the sorted list\n",
    "        return list_of_values[:5]\n",
    "    except FileNotFoundError as err:\n",
    "        return False\n",
    "\n",
    "top_five = all_word_count(file_path)"
   ]
  },
  {
   "cell_type": "code",
   "execution_count": 103,
   "id": "46d963dd",
   "metadata": {},
   "outputs": [
    {
     "name": "stdout",
     "output_type": "stream",
     "text": [
      "The top five words are as follows:\n",
      "It appeared 4 times\n",
      "To appeared 3 times\n",
      "Tell appeared 3 times\n",
      "Line appeared 3 times\n",
      "Hard appeared 3 times\n"
     ]
    }
   ],
   "source": [
    "print(f\"The top five words are as follows:\")\n",
    "for i in range(len(top_five)):\n",
    "    # Capitalizing the first letter of each word\n",
    "    word = top_five[i][1].title()\n",
    "    word_count = top_five[i][0]\n",
    "    print(f\"{word} appeared {word_count} times\")"
   ]
  },
  {
   "cell_type": "code",
   "execution_count": 104,
   "id": "39c5a907",
   "metadata": {
    "scrolled": true
   },
   "outputs": [
    {
     "name": "stdout",
     "output_type": "stream",
     "text": [
      "The word 'Appending' appears 3 times\n"
     ]
    }
   ],
   "source": [
    "def single_word_count(path, word):\n",
    "    \"\"\"\n",
    "    This function finds out how many times a single word appeared in the .txt document.<br>\n",
    "    \n",
    "    parameters:<br>\n",
    "    - path:<br>\n",
    "      - This parameter is the path to the .txt file\n",
    "    - word:<br>\n",
    "      - This word would be submitted by the user \n",
    "      \n",
    "    - returns:<br>\n",
    "      - This function returns an integer<br>\n",
    "      - if the word submitted doesn't exist, it returns false.\n",
    "    \"\"\"\n",
    "    try:\n",
    "        # local variable for file content\n",
    "        file_content = read_file(path)\n",
    "   \n",
    "        if word not in file_content:\n",
    "            return False\n",
    "\n",
    "        # local variable for word count\n",
    "        word_freq = file_content.count(word)\n",
    "        return word_freq\n",
    "    except FileNotFoundError as err:\n",
    "        return False\n",
    "\n",
    "word = \"appending\"\n",
    "word_count = single_word_count(file_path, word)\n",
    "\n",
    "print(f\"The word '{word.capitalize()}' appears {word_count} times\")"
   ]
  },
  {
   "cell_type": "code",
   "execution_count": 120,
   "id": "f15dac9f",
   "metadata": {},
   "outputs": [
    {
     "name": "stdout",
     "output_type": "stream",
     "text": [
      "The word 'Byo' was replaced with 'Ayo' in not found places\n"
     ]
    }
   ],
   "source": [
    "def replace_item(path, item_to_replace, new_item):\n",
    "    \"\"\"\n",
    "    \"\"\"\n",
    "    try:\n",
    "        # Local variable to hold how many times the word appears before change\n",
    "        old_word_count = single_word_count(path, item_to_replace)\n",
    "#         print(f\"old count {old_word_count}\")\n",
    "\n",
    "        # If word does not exist return false\n",
    "        if not old_word_count:\n",
    "            return \"not found\"\n",
    "\n",
    "        # local variable to hold file content\n",
    "        file_content = read_file(path)\n",
    "\n",
    "        # Local variable to hold the regex pattern to find the whole word\n",
    "        pattern = rf'\\b{item_to_replace}\\b'\n",
    "        # local variable to hold updated file content output using regex to maintain punctuation\n",
    "        updated_file_content = re.sub(pattern, f'{new_item}', file_content)\n",
    "\n",
    "        write_to_file(path,\"w\",updated_file_content)\n",
    "\n",
    "        # Local variable to hold new word count \n",
    "        new_word_count = single_word_count(path,new_item)\n",
    "#         print(f\"new count {new_word_count}\")\n",
    "\n",
    "        if old_word_count != new_word_count:\n",
    "            return \"not updated\"\n",
    "\n",
    "        if new_word_count == old_word_count:\n",
    "            return old_word_count\n",
    "    except FileNotFoundError as err:\n",
    "        return False\n",
    "#     print(f\"{read_file(path)}\")\n",
    "item_to_replace = \"byo\" \n",
    "new_item = \"ayo\" \n",
    "updated_word_count = replace_item(file_path,item_to_replace,new_item)\n",
    "print(f\"The word '{item_to_replace.capitalize()}' was replaced with '{new_item.capitalize()}' in {updated_word_count} places\")"
   ]
  },
  {
   "cell_type": "code",
   "execution_count": 122,
   "id": "0f038018",
   "metadata": {},
   "outputs": [
    {
     "name": "stdout",
     "output_type": "stream",
     "text": [
      "'It isn't hard to tell' was added to other_file.txt\n",
      "ayo, what's down? what's down? let's keep >it< real, son, count this money\n",
      "you know what i'm sayin'?\n",
      "ayo, put the grants over there in the safe.\n",
      "i added  nas\n",
      "i also added .\n",
      "\n",
      "some more new stuff.>appending< a line\n",
      ">appending< a line\n",
      ">appending< a line\n",
      ">it< ain't >>>hard<<< to >tell<\n",
      ">it< ain't >>>hard<<< to >tell<\n",
      ">it< ain't >>>hard<<< to >tell<\n",
      ">it< ain't >>>hard<<< to >tell<\n",
      ">it< isn't >>>hard<<< to >tell<\n",
      "it isn't hard to tell\n",
      "it isn't hard to tell\n"
     ]
    }
   ],
   "source": [
    "def add_text(path, mode,content):\n",
    "    try:\n",
    "        file_content = write_to_file(path, mode,content)\n",
    "        return file_content\n",
    "    except FileNotFoundError as err:\n",
    "        return False\n",
    "\n",
    "text_to_add = \"It isn't hard to tell\"\n",
    "text_added = add_text(file_path,\"a\",text_to_add)\n",
    "print(f\"'{text_to_add}' was added to {file_path}\")\n",
    "print(text_added)"
   ]
  },
  {
   "cell_type": "code",
   "execution_count": 107,
   "id": "7dd92e84",
   "metadata": {},
   "outputs": [
    {
     "name": "stdout",
     "output_type": "stream",
     "text": [
      "old count False\n",
      "ayo, what's down? what's down? let's keep it real, son, count this money\n",
      "you know what i'm sayin'?\n",
      "ayo, put the grants over there in the safe.\n",
      "i added  nas\n",
      "i also added .\n",
      "\n",
      "some more new stuff.>appending< a line\n",
      ">appending< a line\n",
      ">appending< a line\n",
      "it ain't hard to tell\n",
      "it ain't hard to tell\n",
      "it ain't hard to tell\n",
      "it ain't hard to tell\n",
      "False\n"
     ]
    }
   ],
   "source": [
    "def delete_text(path, item_to_replace):\n",
    "    try:\n",
    "        file_content = read_file(path)\n",
    "\n",
    "        if not file_content:\n",
    "            return \"not found\"\n",
    "\n",
    "        updated_item = replace_item(path, item_to_replace, new_item=\"\")\n",
    "\n",
    "        if updated_item == \"not found\" or updated_item == \"not updated\":\n",
    "            return False\n",
    "\n",
    "        return updated_item\n",
    "    except FileNotFoundError as err:\n",
    "        return False\n",
    "    \n",
    "item_to_delete = \"some new stuff\" \n",
    "deleted_text = delete_text(file_path,item_to_delete)\n",
    "file_content = read_file(file_path)\n",
    "print(file_content)\n",
    "print(deleted_text)"
   ]
  },
  {
   "cell_type": "code",
   "execution_count": 126,
   "id": "d4f1d2a4",
   "metadata": {},
   "outputs": [
    {
     "name": "stdout",
     "output_type": "stream",
     "text": [
      "6\n",
      "ayo, what's down? what's down? let's keep >>it<< real, son, count this money\n",
      "you know what i'm sayin'?\n",
      "ayo, put the grants over there in the safe.\n",
      "i added  nas\n",
      "i also added .\n",
      "\n",
      "some more new stuff.>appending< a line\n",
      ">appending< a line\n",
      ">appending< a line\n",
      ">>it<< ain't hard to tell\n",
      ">>it<< ain't hard to tell\n",
      ">>it<< ain't hard to tell\n",
      ">>it<< ain't hard to tell\n",
      ">>it<< isn't hard to tell\n"
     ]
    }
   ],
   "source": [
    "def highlight_text(path, item_to_highlight):\n",
    "    try:\n",
    "        file_content = read_file(path)\n",
    "\n",
    "        if not file_content:\n",
    "            return \"not found\"\n",
    "\n",
    "        updated_item = replace_item(path, item_to_highlight,f\">>{item_to_highlight}<<\")\n",
    "\n",
    "        if updated_item == \"not found\" or updated_item == \"not updated\":\n",
    "            return False\n",
    "\n",
    "        return updated_item\n",
    "    except FileNotFoundError as err:\n",
    "        return False\n",
    "\n",
    "highlighted_text = highlight_text(file_path,\"it\")\n",
    "print(highlighted_text)\n",
    "file_content = read_file(file_path)\n",
    "print(file_content)"
   ]
  },
  {
   "cell_type": "code",
   "execution_count": null,
   "id": "e402d068",
   "metadata": {},
   "outputs": [],
   "source": []
  },
  {
   "cell_type": "code",
   "execution_count": 24,
   "id": "5dcb150d",
   "metadata": {},
   "outputs": [],
   "source": [
    "# Project Notes\n",
    "\"\"\"\n",
    "be sure to convert the content to .lower once you read it in\n",
    "\n",
    "1. Explore using \"match\" to create a menu that has the following options:\n",
    "    ===Edit Menu===\n",
    "    1: Top 5 most common words\n",
    "    2: Single Word Frequency\n",
    "    3: Replace a word\n",
    "    4: Add Text\n",
    "    5: Delete Text\n",
    "    6: Highlight Text\n",
    "    =============\n",
    "    \n",
    "2. For option 1, top 5 most common words:\n",
    "    loop through the content of the file and passing each word through .count(word).\n",
    "    Then add the count to a list, sort the list, then select the first\\top five entries.\n",
    "    \n",
    "3. For option 2, single word frequency:\n",
    "    pass the user input word into the .count() method as a parameter.\n",
    "    file_content.count(word) this counts how many times the word appears.\n",
    "    \n",
    "4. For option 3, replace a word:\n",
    "    Use the .replace string method to raplace the words the user enters.\n",
    "    .replace(\"word i want to replace\", \"new word to add\")\n",
    "    save updated file\n",
    "    If the word does not exist. let the user know, use try except to catch it.\n",
    "\n",
    "5. \n",
    "\"\"\""
   ]
  },
  {
   "cell_type": "code",
   "execution_count": 165,
   "id": "94fe336b",
   "metadata": {},
   "outputs": [
    {
     "name": "stdout",
     "output_type": "stream",
     "text": [
      "\n",
      "Please select a valid menu option\n",
      ":> error\n",
      "\n",
      "Please select a valid menu option\n",
      ":> ayo\n",
      "ayo\n"
     ]
    }
   ],
   "source": [
    "# This fucntion gets user input\n",
    "def get_user_input(input_message, path, num=False):\n",
    "    \"\"\"\n",
    "    This function gets the user inputs for the menu.<br>\n",
    "    Parameters:<br>\n",
    "    - input_message\n",
    "      - A message telling the user what kind of input to enter.\n",
    "   - path:<br>\n",
    "      - This parameter is the path to the .txt file\n",
    "    - num:<br>\n",
    "      - This defaults to false\n",
    "      - Parameter allows the function to validate if an integer is requested.\n",
    "      \n",
    "    Returns:<br> \n",
    "    - The user input.<br>\n",
    "    \"\"\"\n",
    "    \n",
    "    while True:\n",
    "        try:\n",
    "            # Getting the user input\n",
    "            user_input = input(f\"\\n{input_message}\\n:> \").lower()\n",
    "            \n",
    "            if num:\n",
    "                user_input = int(user_input)\n",
    "                if user_input >= 1 and user_input <= 6:\n",
    "                    return user_input\n",
    "                else:\n",
    "                    continue\n",
    "            \n",
    "            # Getting content from text file\n",
    "            file_content = read_file(path)\n",
    "            \n",
    "#             print(file_content)\n",
    "            \n",
    "            if user_input not in file_content:\n",
    "                raise ValueError(f\"\\nInvalid input *{user_input}* not found\\n\")\n",
    "            return user_input\n",
    "            \n",
    "        except ValueError as err:\n",
    "            continue\n",
    "\n",
    "user_inputs = get_user_input(\"Please select a valid menu option\", file_path)\n",
    "print(user_inputs)"
   ]
  },
  {
   "cell_type": "code",
   "execution_count": null,
   "id": "320c3337",
   "metadata": {},
   "outputs": [
    {
     "name": "stdout",
     "output_type": "stream",
     "text": [
      "\n",
      "                =+=+=+=Text Editor Menu=+=+=+=\n",
      "\n",
      "                1: Top 5 most common words\n",
      "\n",
      "                2: Single Word Frequency\n",
      "\n",
      "                3: Replace a word\n",
      "\n",
      "                4: Add Text\n",
      "\n",
      "                5: Delete Text\n",
      "\n",
      "                6: Highlight Text\n",
      ":> \n",
      "                9\n",
      "\n",
      "Please enter a valid input\n",
      "\n"
     ]
    }
   ],
   "source": [
    "# This function accepts the user_menu input\n",
    "def user_menu_input():\n",
    "    \"\"\"\n",
    "    This function takes no parameters.<br>\n",
    "    It displays the user menu.<br>\n",
    "    It also prompts the user to make a selection.<br>\n",
    "    It processes the user input.<br>\n",
    "    returns the user input as an integer.<br>\n",
    "    If an invalid input is entered False is returned.\n",
    "    \"\"\"\n",
    "    \n",
    "    \n",
    "    while True:\n",
    "        try:\n",
    "            # Asking the user to eneter their menu selection\n",
    "            user_input = int(input(\n",
    "                f\"\"\"\n",
    "                =+=+=+=Text Editor Menu=+=+=+=\\n\n",
    "                1: Top 5 most common words\\n\n",
    "                2: Single Word Frequency\\n\n",
    "                3: Replace a word\\n\n",
    "                4: Add Text\\n\n",
    "                5: Delete Text\\n\n",
    "                6: Highlight Text\\n:> \n",
    "                \"\"\"\n",
    "            ))\n",
    "            # Logic to validate user input and proceed accordingly. \n",
    "            if user_input >= 1 and user_input <= 6:\n",
    "                return user_input\n",
    "            else:\n",
    "                raise ValueError(f\"\\nPlease enter a valid input\\n\")\n",
    "                continue\n",
    "        except ValueError as err:\n",
    "            print(err)\n",
    "            continue\n",
    "        \n",
    "user_input = user_menu_input()\n",
    "print(user_input)"
   ]
  },
  {
   "cell_type": "code",
   "execution_count": null,
   "id": "7c9c7e89",
   "metadata": {},
   "outputs": [],
   "source": []
  }
 ],
 "metadata": {
  "kernelspec": {
   "display_name": "Python 3 (ipykernel)",
   "language": "python",
   "name": "python3"
  },
  "language_info": {
   "codemirror_mode": {
    "name": "ipython",
    "version": 3
   },
   "file_extension": ".py",
   "mimetype": "text/x-python",
   "name": "python",
   "nbconvert_exporter": "python",
   "pygments_lexer": "ipython3",
   "version": "3.9.13"
  }
 },
 "nbformat": 4,
 "nbformat_minor": 5
}
