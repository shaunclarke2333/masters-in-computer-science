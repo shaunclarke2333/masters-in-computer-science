{
 "cells": [
  {
   "cell_type": "code",
   "execution_count": null,
   "id": "5a26dc96",
   "metadata": {},
   "outputs": [],
   "source": [
    "'''\n",
    "GK  - A program to set up and display a 2 d array of strings\n",
    "'''\n",
    "import random\n",
    "\n",
    "# Global variable for grid size\n",
    "grid_size = 10\n",
    "# Global variable for grid\n",
    "grid = [ ['']*grid_size for i in range(grid_size) ]\n",
    "# Global variable for number of ships to place\n",
    "num_of_ships = 5"
   ]
  },
  {
   "cell_type": "code",
   "execution_count": 350,
   "id": "fe4f0cd1",
   "metadata": {},
   "outputs": [
    {
     "name": "stdout",
     "output_type": "stream",
     "text": [
      "+---+---+---+---+---+---+---+---+---+---+---+\n",
      "|   | 0 | 1 | 2 | 3 | 4 | 5 | 6 | 7 | 8 | 9 |\n",
      "+---+---+---+---+---+---+---+---+---+---+---+\n",
      "| 0 | . | . | . | S | . | S | . | . | . | . |\n",
      "+---+---+---+---+---+---+---+---+---+---+---+\n",
      "| 1 | . | . | . | . | . | . | . | . | . | . |\n",
      "+---+---+---+---+---+---+---+---+---+---+---+\n",
      "| 2 | . | . | . | S | . | . | . | . | . | . |\n",
      "+---+---+---+---+---+---+---+---+---+---+---+\n",
      "| 3 | . | . | O | . | . | . | . | . | S | . |\n",
      "+---+---+---+---+---+---+---+---+---+---+---+\n",
      "| 4 | . | . | . | . | . | . | . | . | . | . |\n",
      "+---+---+---+---+---+---+---+---+---+---+---+\n",
      "| 5 | . | . | . | . | . | . | . | . | . | . |\n",
      "+---+---+---+---+---+---+---+---+---+---+---+\n",
      "| 6 | . | . | . | . | . | . | . | . | . | . |\n",
      "+---+---+---+---+---+---+---+---+---+---+---+\n",
      "| 7 | . | . | . | . | . | . | . | . | . | . |\n",
      "+---+---+---+---+---+---+---+---+---+---+---+\n",
      "| 8 | . | . | . | . | . | . | . | S | . | . |\n",
      "+---+---+---+---+---+---+---+---+---+---+---+\n",
      "| 9 | . | . | . | . | . | . | . | . | . | . |\n",
      "+---+---+---+---+---+---+---+---+---+---+---+\n"
     ]
    }
   ],
   "source": [
    "# display the grid (2d array)\n",
    "def displayArray(myboard):\n",
    "    # Gettinglength of board to use as marker forprinting grid within range\n",
    "    lenght_of_board = len(myboard)\n",
    "    # Getting boder length to print grid with plus signs\n",
    "    border_length = lenght_of_board + 1\n",
    "    \n",
    "    # Printing the plus sing border at top \n",
    "    print(f\"+{'---+' * border_length}\")\n",
    "    # Looping through to print column numbers\n",
    "    for c in range(lenght_of_board):\n",
    "        # Logic to print one row over at begining so we have an empty box\n",
    "        if c == 0:\n",
    "            print(\"|   |\", end=\"\")\n",
    "        # Printing column numbers\n",
    "        print(f\" {c} \", end=\"\")\n",
    "        # Printing the line at the end of the column numbers row.\n",
    "        print(f\"|\", end=\"\")\n",
    "    print()\n",
    "    \n",
    "    # Looping through to fill out the grid\n",
    "    for i in range(grid_size):\n",
    "        # Printing the grid separator\n",
    "        print(f\"+{'---+' * border_length}\")\n",
    "        # Printing the number at the beginning of each row\n",
    "        print(f\"| {i} \", end=\"\")\n",
    "        # Printing the donts and seperator lines in each row\n",
    "        for j in range(grid_size):\n",
    "            print(f\"| {myboard[i][j]} \", end = \"\")\n",
    "        # Printing the line at the end of each grid row\n",
    "        print(f\"|\", end=\"\")\n",
    "        print()\n",
    "    # Printing the border at the bottom of the grid.\n",
    "    print(f\"+{'---+' * border_length}\")\n",
    "    \n",
    "displayArray(grid)\n"
   ]
  },
  {
   "cell_type": "code",
   "execution_count": null,
   "id": "9c8f51aa",
   "metadata": {},
   "outputs": [],
   "source": [
    "# Add ships\n",
    "def add_ships():\n",
    "    # Empty set to hold uniqe ship locations\n",
    "    ship_locations = set()\n",
    "    \n",
    "    # While loop to get random row and column pairs until set is complete\n",
    "    while len(ship_locations) < num_of_ships:\n",
    "        row = random.randint(0, grid_size - 1)\n",
    "        col = random.randint(0, grid_size - 1)\n",
    "        # Adding row and column to the ship locations set\n",
    "        ship_locations.add((row, col))\n",
    "    \n",
    "    # Converting the set to a list so it can be updated later\n",
    "    ship_locations = list(ship_locations)\n",
    "    return ship_locations"
   ]
  },
  {
   "cell_type": "code",
   "execution_count": 330,
   "id": "3cc8c3ca",
   "metadata": {},
   "outputs": [],
   "source": [
    "# initilize the 2 d array (the grid)\n",
    "def setupArray(myboard, ship_locations):\n",
    "    i = j = 0\n",
    "\n",
    "    while i < grid_size:\n",
    "        while j < grid_size:\n",
    "            # store the string \"i, j\" into the array\n",
    "            myboard[i][j] = \".\"\n",
    "            j += 1\n",
    "        j = 0\n",
    "        i += 1\n",
    "        \n",
    "    # Adding ship to locations on the grid\n",
    "    for ship in ship_locations:\n",
    "        myboard[ship[0]][ship[1]] = 'S'"
   ]
  },
  {
   "cell_type": "code",
   "execution_count": 366,
   "id": "1f6535bf",
   "metadata": {},
   "outputs": [
    {
     "name": "stdout",
     "output_type": "stream",
     "text": [
      "Enter Your Attack Coordinates\n",
      "Enter Column Number: 5\n",
      "Enter Row Number: 6\n",
      "Are you even trying?\n",
      "+---+---+---+---+---+---+---+---+---+---+---+\n",
      "|   | 0 | 1 | 2 | 3 | 4 | 5 | 6 | 7 | 8 | 9 |\n",
      "+---+---+---+---+---+---+---+---+---+---+---+\n",
      "| 0 | . | . | . | X | . | X | . | . | . | . |\n",
      "+---+---+---+---+---+---+---+---+---+---+---+\n",
      "| 1 | . | . | . | . | . | . | . | . | . | . |\n",
      "+---+---+---+---+---+---+---+---+---+---+---+\n",
      "| 2 | . | . | . | S | . | . | . | . | . | . |\n",
      "+---+---+---+---+---+---+---+---+---+---+---+\n",
      "| 3 | . | . | O | . | . | . | . | . | S | . |\n",
      "+---+---+---+---+---+---+---+---+---+---+---+\n",
      "| 4 | . | . | . | . | . | . | . | . | . | . |\n",
      "+---+---+---+---+---+---+---+---+---+---+---+\n",
      "| 5 | . | . | . | . | . | . | . | . | . | . |\n",
      "+---+---+---+---+---+---+---+---+---+---+---+\n",
      "| 6 | . | . | . | . | . | O | . | . | . | . |\n",
      "+---+---+---+---+---+---+---+---+---+---+---+\n",
      "| 7 | . | . | . | . | . | O | . | . | . | . |\n",
      "+---+---+---+---+---+---+---+---+---+---+---+\n",
      "| 8 | . | . | . | . | . | . | . | S | . | . |\n",
      "+---+---+---+---+---+---+---+---+---+---+---+\n",
      "| 9 | . | . | . | . | . | O | . | . | . | . |\n",
      "+---+---+---+---+---+---+---+---+---+---+---+\n"
     ]
    }
   ],
   "source": [
    "def get_user_selection():\n",
    "    try:\n",
    "        print(f\"Enter Your Attack Coordinates\")\n",
    "        column = int(input(f\"Enter Column Number: \"))\n",
    "        row = int(input(f\"Enter Row Number: \"))\n",
    "    except valueError:\n",
    "        pass\n",
    "\n",
    "    return row,column\n",
    "\n",
    "row,col = get_user_selection()\n",
    "\n",
    "hitOrMiss(grid, row, col)\n",
    "\n",
    "displayArray(grid)"
   ]
  },
  {
   "cell_type": "code",
   "execution_count": 358,
   "id": "02d39b47",
   "metadata": {},
   "outputs": [],
   "source": [
    "\n",
    "def hitOrMiss(myboard, row, col):\n",
    "    # implement the hit or miss functionality here\n",
    "    location = myboard[row][col]\n",
    "\n",
    "    if location == \"S\":\n",
    "        print(f\"You sunk my battleship\")\n",
    "        myboard[row][col] = \"X\"\n",
    "    elif location != \"S\":\n",
    "        print(f\"Are you even trying?\")\n",
    "        myboard[row][col] = \"O\"\n",
    "    \n",
    "\n",
    "\n"
   ]
  },
  {
   "cell_type": "code",
   "execution_count": 333,
   "id": "ec161c9e",
   "metadata": {
    "scrolled": true
   },
   "outputs": [],
   "source": [
    "# the main function!\n",
    "def main(myboard):\n",
    "    ship_locations = add_ships()\n",
    "    # first set up the array\n",
    "    setupArray(myboard,ship_locations)\n",
    "\n",
    "    # now display the array\n",
    "    displayArray(myboard)"
   ]
  },
  {
   "cell_type": "code",
   "execution_count": 337,
   "id": "38e7480c",
   "metadata": {},
   "outputs": [
    {
     "name": "stdout",
     "output_type": "stream",
     "text": [
      "+---+---+---+---+---+---+---+---+---+---+---+\n",
      "|   | 0 | 1 | 2 | 3 | 4 | 5 | 6 | 7 | 8 | 9 |\n",
      "+---+---+---+---+---+---+---+---+---+---+---+\n",
      "| 0 | . | . | . | S | . | S | . | . | . | . |\n",
      "+---+---+---+---+---+---+---+---+---+---+---+\n",
      "| 1 | . | . | . | . | . | . | . | . | . | . |\n",
      "+---+---+---+---+---+---+---+---+---+---+---+\n",
      "| 2 | . | . | . | S | . | . | . | . | . | . |\n",
      "+---+---+---+---+---+---+---+---+---+---+---+\n",
      "| 3 | . | . | . | . | . | . | . | . | S | . |\n",
      "+---+---+---+---+---+---+---+---+---+---+---+\n",
      "| 4 | . | . | . | . | . | . | . | . | . | . |\n",
      "+---+---+---+---+---+---+---+---+---+---+---+\n",
      "| 5 | . | . | . | . | . | . | . | . | . | . |\n",
      "+---+---+---+---+---+---+---+---+---+---+---+\n",
      "| 6 | . | . | . | . | . | . | . | . | . | . |\n",
      "+---+---+---+---+---+---+---+---+---+---+---+\n",
      "| 7 | . | . | . | . | . | . | . | . | . | . |\n",
      "+---+---+---+---+---+---+---+---+---+---+---+\n",
      "| 8 | . | . | . | . | . | . | . | S | . | . |\n",
      "+---+---+---+---+---+---+---+---+---+---+---+\n",
      "| 9 | . | . | . | . | . | . | . | . | . | . |\n",
      "+---+---+---+---+---+---+---+---+---+---+---+\n"
     ]
    }
   ],
   "source": [
    "main(grid)\n"
   ]
  },
  {
   "cell_type": "code",
   "execution_count": null,
   "id": "2fb7f1e3",
   "metadata": {},
   "outputs": [],
   "source": []
  },
  {
   "cell_type": "code",
   "execution_count": null,
   "id": "dc7bf8a9",
   "metadata": {},
   "outputs": [],
   "source": []
  },
  {
   "cell_type": "code",
   "execution_count": null,
   "id": "42c9cf49",
   "metadata": {},
   "outputs": [],
   "source": []
  }
 ],
 "metadata": {
  "kernelspec": {
   "display_name": "Python 3 (ipykernel)",
   "language": "python",
   "name": "python3"
  },
  "language_info": {
   "codemirror_mode": {
    "name": "ipython",
    "version": 3
   },
   "file_extension": ".py",
   "mimetype": "text/x-python",
   "name": "python",
   "nbconvert_exporter": "python",
   "pygments_lexer": "ipython3",
   "version": "3.9.13"
  }
 },
 "nbformat": 4,
 "nbformat_minor": 5
}
