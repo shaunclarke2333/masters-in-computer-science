{
 "cells": [
  {
   "cell_type": "code",
   "execution_count": 147,
   "id": "18eb07d6",
   "metadata": {},
   "outputs": [
    {
     "data": {
      "text/plain": [
       "'\\nWhere i left off:\\n    Working on user input class.\\n    Add a method for things we need input for like:\\n        add a user\\n        add a song\\n        retrieve song\\n        update song\\n        delete song\\n        display all songs\\n        \\n        and idea of the approach:\\n        options = user_menu.get_display_menu(user)\\n        choice = user_input.get_menu_choice(options)\\n        \\n        idead of approach:\\n        def handle_add_song(self, user: MusicUser) -> None:\\n        title = input(\"Enter title: \")\\n        artist = input(\"Enter artist: \")\\n        genre = input(\"Enter genre: \")\\n        user.add_music_to_library(Song(title, artist, genre))\\n\\n- \\n'"
      ]
     },
     "execution_count": 147,
     "metadata": {},
     "output_type": "execute_result"
    }
   ],
   "source": [
    "\"\"\"\n",
    "Where i left off:\n",
    "    Working on user input class.\n",
    "    Add a method for things we need input for like:\n",
    "        add a user\n",
    "        add a song\n",
    "        retrieve song\n",
    "        update song\n",
    "        delete song\n",
    "        display all songs\n",
    "        \n",
    "        and idea of the approach:\n",
    "        options = user_menu.get_display_menu(user)\n",
    "        choice = user_input.get_menu_choice(options)\n",
    "        \n",
    "        idead of approach:\n",
    "        def handle_add_song(self, user: MusicUser) -> None:\n",
    "        title = input(\"Enter title: \")\n",
    "        artist = input(\"Enter artist: \")\n",
    "        genre = input(\"Enter genre: \")\n",
    "        user.add_music_to_library(Song(title, artist, genre))\n",
    "\n",
    "- \n",
    "\"\"\""
   ]
  },
  {
   "cell_type": "code",
   "execution_count": 148,
   "id": "1926fa70",
   "metadata": {},
   "outputs": [],
   "source": [
    "from typing import Optional\n",
    "from typing import Tuple\n",
    "from typing import Dict\n",
    "from typing import List\n",
    "from typing import Union"
   ]
  },
  {
   "cell_type": "code",
   "execution_count": 149,
   "id": "8a7b6b0f",
   "metadata": {},
   "outputs": [],
   "source": [
    "# This PARENT class creates a new user, and holds their music collection\n",
    "class User:\n",
    "    # Making the users class variable list private.\n",
    "    __users = []\n",
    "    \n",
    "    def __init__(self, first_name: str, last_name: str):\n",
    "        self.first_name = first_name\n",
    "        self.last_name = last_name\n",
    "        self.username = (last_name+first_name[0]).lower() # Using last name and first initial for username\n",
    "        self.__class__.__users.append(self.username) # adding user to list \n",
    "        self.music_collection = {}\n",
    "        \n",
    "    # This method gets a user from the list\n",
    "    def change_user(self, menu_option: int) -> str:\n",
    "        try:\n",
    "            return self.__class__.__users[menu_option]\n",
    "        except IndexError:\n",
    "            return f\"user not found\"\n",
    "    \n",
    "    # This method returns the username \n",
    "    def get_username(self) -> str:\n",
    "        if not self.username:\n",
    "            return 'user not found'\n",
    "        return self.username\n",
    "    \n",
    "    # This method gets the music collection\n",
    "    def get_music_collection(self) -> dict:\n",
    "        return self.music_collection\n",
    "    \n",
    "     # This method gets users\n",
    "    def get_users(self) -> list:\n",
    "        return self.__class__.__users"
   ]
  },
  {
   "cell_type": "code",
   "execution_count": 150,
   "id": "91eabc16",
   "metadata": {},
   "outputs": [],
   "source": [
    "# This CHILD CLASS inherits the parent class USER and handles user actions\n",
    "class MusicUser(User):\n",
    "    def __init__(self,first_name, last_name):\n",
    "        super().__init__(first_name, last_name)\n",
    "        \n",
    "    # This method checks if library is empty and is only accessible from inside.\n",
    "    def __is_collection_empty(self) -> bool:\n",
    "        if  len(self.music_collection) == 0:\n",
    "            return True\n",
    "        else:\n",
    "            return False\n",
    "        \n",
    "    # This method checks if a song already exists in the library and is only accessible from inside.\n",
    "    def is_song_in_library(self, title: str) -> bool:\n",
    "        if title in self.music_collection:\n",
    "            return True\n",
    "        else:\n",
    "            return False\n",
    "    \n",
    "    # This method adds music to the collection\n",
    "    def add_music_to_library(self, title: str, artist: str, genre: str) -> str:\n",
    "        # Checking if the song already exists\n",
    "        if self.is_song_in_library(title):\n",
    "            return f\"exists\"\n",
    "        # Adding song to library\n",
    "        self.music_collection[title]={\"artist\": artist, \"genre\": genre}\n",
    "        # Making sure song was added \n",
    "        if self.is_song_in_library(title):\n",
    "            return f\"{title} song added\"\n",
    "        else:\n",
    "            return f\"{title} song not added\"\n",
    "    \n",
    "    # This method retrieves the song details\n",
    "    def retrieve_song_details(self, title: str) -> Union[dict,str]:\n",
    "        # Checking if song is in library\n",
    "        if not self.is_song_in_library(title):\n",
    "            return f\"song not found\"\n",
    "        # Getting song details, artist and genre\n",
    "        return self.music_collection[title]\n",
    "        \n",
    "    # This method updates a song's details in the user library\n",
    "    def update_song_details(self, title, artist, genre) -> str:\n",
    "        # Checking if song is in library\n",
    "        if not self.is_song_in_library(title):\n",
    "            return f\"song not found\"\n",
    "        # Updating song details, artist and genre\n",
    "        new_artist = self.music_collection[title]['artist'] = artist\n",
    "        new_genre = self.music_collection[title]['genre'] = genre\n",
    "        # Checking if details were updated\n",
    "        if self.music_collection[title]['artist'] == new_artist and self.music_collection[title]['genre'] == new_genre:\n",
    "            return \"details updated\"\n",
    "        else:\n",
    "            return \"details not updated\"\n",
    "        \n",
    "    # This method deletes song details\n",
    "    def delete_song(self, title: str) -> str:\n",
    "        # deleting song from music library\n",
    "        if not self.is_song_in_library(title):\n",
    "            return f\"song not found\"\n",
    "        # Deleting song \n",
    "        del self.music_collection[title]\n",
    "        # Making sure song was deleted \n",
    "        if not self.is_song_in_library(title):\n",
    "            return f\"song deleted\"\n",
    "        else:\n",
    "            return f\"song was not deleted\"\n",
    "        \n",
    "    # This method displays all songs in the users collections\n",
    "    def display_all_songs(self) -> Union[str,dict]:\n",
    "        # Checking of library is empty\n",
    "        if  self.__is_collection_empty():\n",
    "            return f\"library is empty\"\n",
    "        return self.music_collection\n",
    "           "
   ]
  },
  {
   "cell_type": "code",
   "execution_count": 151,
   "id": "a89bca4f",
   "metadata": {},
   "outputs": [],
   "source": [
    "# This class displays menu items based on the user and or music in the library\n",
    "class UserMenu:\n",
    "    def __init__(self):\n",
    "        self.__menu_options = [ # This list holds the main menu options\n",
    "            \"1) Add user\",\n",
    "            \"2) Change User\",\n",
    "            \"3) Add a song\",\n",
    "            \"4) Retrieve song details\",\n",
    "            \"5) Update song details\",\n",
    "            \"6) Delete a song\",\n",
    "            \"7) Display all songs\",\n",
    "            \"8) Exit\"\n",
    "        ]\n",
    "        self.__sub_menu_options = [\n",
    "            \"1) Add a user\",\n",
    "            \"2) Select a user\"\n",
    "        ]\n",
    "        \n",
    "    # Checks if there is at least one user\n",
    "    def __user_exists(self, user_object: Optional[User] = None) -> bool:\n",
    "        if user_object is None:\n",
    "            return False\n",
    "        elif len(user_object.get_users()) > 0:\n",
    "            return True\n",
    "    \n",
    "    # Checks if there are multiple users\n",
    "    def __multiple_users_exist(self, user_object: Optional[User] = None) -> bool:\n",
    "        all_users = user_object.get_users()\n",
    "        \n",
    "        if all_users > 1:\n",
    "            return True\n",
    "        elif user_object is None:\n",
    "            return False\n",
    "        else:\n",
    "            return False\n",
    "        \n",
    "    # CHecks if the library has any songs\n",
    "    def __library_has_songs(self, user_object: Optional[User] = None) -> bool:\n",
    "        if user_object is None:\n",
    "            return False\n",
    "        all_songs = len(user_object.get_music_collection())\n",
    "        if all_songs > 0:\n",
    "            return True\n",
    "        else:\n",
    "            return False\n",
    "            \n",
    "    # Displays the menu based on user and music library state\n",
    "    def display_menu(self, user_object: Optional[User] = None) -> List[str]:\n",
    "        if self.__user_exists(user_object) and not self.__library_has_songs(user_object):\n",
    "            # If user exists and no songs return add user, add song and exit\n",
    "            return [self.__menu_options[0], self.__menu_options[2], self.__menu_options[7]]\n",
    "        elif self.__user_exists(user_object) and self.__library_has_songs(user_object):\n",
    "            temp_list = self.__menu_options.copy()\n",
    "            # if user exists and and song in library return full menu\n",
    "            return temp_list\n",
    "        elif not self.__user_exists():\n",
    "            # If no users exist return add user and exit menu options\n",
    "            return [self.__menu_options[0], self.__menu_options[7]]\n",
    "        \n",
    "    # Displays the chnage user submenu\n",
    "    def display_sub_menu(self, user_object: User) -> list[str]:\n",
    "        # If we have more than one user\n",
    "        if len(user_object.get_users()) > 1:\n",
    "            temp_sub_menu = self.__sub_menu_options.copy()\n",
    "            return temp_sub_menu\n",
    "        else:\n",
    "            return [\"No other users exist\", self.__sub_menu_options[0]]\n",
    "        \n",
    "    # Displays the sub menu based on user state and main menu selection\n",
    "    def display_user_selection_menu(self, user_object: Optional[User] = None) -> list[str]:\n",
    "        # list to hold user selection options.\n",
    "        choose_user_list = []\n",
    "        # looping through user list and getting index and item\n",
    "        for index, user in enumerate(user_object.get_users()):\n",
    "            # Incremeting the index by one so it can be used as menu number\n",
    "            index += 1\n",
    "            # Adding user option to choose user menu\n",
    "            choose_user_list.append(f\"{index}) {user}\")\n",
    "        # Copying list to avoid returning original list\n",
    "        copied_choose_user_list = choose_user_list.copy()\n",
    "            \n",
    "        return copied_choose_user_list\n"
   ]
  },
  {
   "cell_type": "code",
   "execution_count": 152,
   "id": "f4947c30",
   "metadata": {},
   "outputs": [],
   "source": [
    "show_menu = UserMenu()"
   ]
  },
  {
   "cell_type": "code",
   "execution_count": 153,
   "id": "5827d980",
   "metadata": {},
   "outputs": [
    {
     "name": "stdout",
     "output_type": "stream",
     "text": [
      "1) Add user\n",
      "3) Add a song\n",
      "8) Exit\n"
     ]
    }
   ],
   "source": [
    "for option in show_menu.display_menu(user):\n",
    "    print(f\"{option}\", end=\"\\n\")"
   ]
  },
  {
   "cell_type": "code",
   "execution_count": 154,
   "id": "0bb39ed7",
   "metadata": {},
   "outputs": [
    {
     "data": {
      "text/plain": [
       "3"
      ]
     },
     "execution_count": 154,
     "metadata": {},
     "output_type": "execute_result"
    }
   ],
   "source": [
    "len(user.get_users())"
   ]
  },
  {
   "cell_type": "code",
   "execution_count": 155,
   "id": "5a48838f",
   "metadata": {},
   "outputs": [
    {
     "data": {
      "text/plain": [
       "['westj', 'clarkes', 'bugsj']"
      ]
     },
     "execution_count": 155,
     "metadata": {},
     "output_type": "execute_result"
    }
   ],
   "source": [
    "user.get_users()"
   ]
  },
  {
   "cell_type": "code",
   "execution_count": 156,
   "id": "f4732ea3",
   "metadata": {},
   "outputs": [
    {
     "name": "stdout",
     "output_type": "stream",
     "text": [
      "1) Add a user\n",
      "2) Select a user\n"
     ]
    }
   ],
   "source": [
    "\n",
    "for option in show_menu.display_sub_menu(user):\n",
    "    print(f\"{option}\", end=\"\\n\")"
   ]
  },
  {
   "cell_type": "code",
   "execution_count": 158,
   "id": "343e57ec",
   "metadata": {},
   "outputs": [],
   "source": [
    "# This class handles user input validation and returns\n",
    "class UserInput:\n",
    "        \n",
    "    # Gets user input\n",
    "    def get_input(self, input_message: str) -> str:\n",
    "        while True:\n",
    "            try:\n",
    "                user_input: str = input(f\"{input_message}\\n:>\").lower().strip()\n",
    "                if not user_input:\n",
    "                    raise ValueError(f\"Input cannot be empty.\")\n",
    "                return user_input\n",
    "            except ValueError as err:\n",
    "                print(err)\n",
    "                \n",
    "    # Gets input and creates a new user\n",
    "    def handle_add_user(self) -> object:\n",
    "        # Validating first name input\n",
    "        first_name: str = self.get_input(\"Enter user's first name\")\n",
    "        # Validating last name input\n",
    "        last_name: str = self.get_input(\"Enter user's last name\")\n",
    "        # Creating a new user\n",
    "        new_user: object = MusicUser(first_name, last_name)\n",
    "        return new_user\n",
    "    \n",
    "    # Gets input and add a song to the library\n",
    "    def handle_add_song(self, user_object: MusicUser) -> str:\n",
    "        # Validating title input\n",
    "        title: str = self.get_input(\"Enter song title\")\n",
    "        # Validating artist input\n",
    "        artist: str = self.get_input(\"Enter artist name\")\n",
    "        # Validating genre input\n",
    "        genre: str = self.get_input(\"Enter genre\")\n",
    "               \n",
    "        # Adding song to music library\n",
    "        new_music: str = user_object.add_music_to_library(title, artist, genre)\n",
    "        return new_music\n",
    "    \n",
    "    # Gets input and returns song details\n",
    "    def handle_retrieve_song_details(self, user_object: MusicUser) -> dict:\n",
    "        # Validating title input\n",
    "        title: str = self.get_input(\"Enter song title you would like to see\")\n",
    "        # Getting song details \n",
    "        song: dict = user_object.retrieve_song_details(title)\n",
    "        return song\n",
    "    \n",
    "    # Gets input and pass them to music user method to update son info\n",
    "    def handle_update_song(self, user_object: MusicUser) -> Union[dict,str]:\n",
    "        # Validating title input\n",
    "        while True:\n",
    "            try:\n",
    "                # Validating title input\n",
    "                title: str = self.get_input(\"Enter song title you would like to update\")\n",
    "                # If song is not in library\n",
    "                if not user_object.is_song_in_library(title):\n",
    "                    raise KeyError(f\"Song not found\")\n",
    "                break\n",
    "            except KeyError as err:\n",
    "                print(err)\n",
    "            \n",
    "        # Validating artist input\n",
    "        artist: str = self.get_input(\"Enter new artist name\")\n",
    "        # Validating genre input\n",
    "        genre: str = self.get_input(\"Enter new genre\")\n",
    "        # Updating artist name in library\n",
    "        update_song = user_object.update_song_details(title, artist, genre)\n",
    "        return update_song\n",
    "    \n",
    "    def handle_delete_song(self, user_object: MusicUser, title: str) -> str:\n",
    "        # Validating title input\n",
    "        title : str = self.get_input(\"Enter the title of the song you want to delete\")\n",
    "        # Deleting song\n",
    "        deleted_song: str = user_object.deleted_song(title)\n",
    "        return deleted_song\n",
    "    "
   ]
  },
  {
   "cell_type": "code",
   "execution_count": null,
   "id": "cf6dfe31",
   "metadata": {},
   "outputs": [],
   "source": []
  },
  {
   "cell_type": "code",
   "execution_count": 128,
   "id": "604b054b",
   "metadata": {},
   "outputs": [],
   "source": [
    "user_input = UserInput()"
   ]
  },
  {
   "cell_type": "code",
   "execution_count": 129,
   "id": "3a8d1af1",
   "metadata": {},
   "outputs": [
    {
     "name": "stdout",
     "output_type": "stream",
     "text": [
      "Enter user's first name\n",
      ":>Jerry\n",
      "Return didnt exit the method\n",
      "Enter user's last name\n",
      ":>Bugs\n"
     ]
    }
   ],
   "source": [
    "user = user_input.handle_add_user()"
   ]
  },
  {
   "cell_type": "code",
   "execution_count": 123,
   "id": "9696ce16",
   "metadata": {},
   "outputs": [
    {
     "name": "stdout",
     "output_type": "stream",
     "text": [
      "Enter song title\n",
      ":>Doin It\n",
      "Enter artist name\n",
      ":>LL Cool J\n",
      "Enter genre\n",
      ":>Hip Hop\n"
     ]
    }
   ],
   "source": [
    "user_input.handle_add_song(user)"
   ]
  },
  {
   "cell_type": "code",
   "execution_count": 125,
   "id": "ea907be9",
   "metadata": {},
   "outputs": [
    {
     "name": "stdout",
     "output_type": "stream",
     "text": [
      "Enter song title you would like to see\n",
      ":>Doin It\n"
     ]
    },
    {
     "data": {
      "text/plain": [
       "{'artist': 'll cool j', 'genre': 'hip hop'}"
      ]
     },
     "execution_count": 125,
     "metadata": {},
     "output_type": "execute_result"
    }
   ],
   "source": [
    "user_input.handle_retrieve_song_details(user)"
   ]
  },
  {
   "cell_type": "code",
   "execution_count": 160,
   "id": "563f58f6",
   "metadata": {},
   "outputs": [
    {
     "data": {
      "text/plain": [
       "['westj', 'clarkes', 'bugsj']"
      ]
     },
     "execution_count": 160,
     "metadata": {},
     "output_type": "execute_result"
    }
   ],
   "source": [
    "user.get_users()"
   ]
  },
  {
   "cell_type": "code",
   "execution_count": null,
   "id": "c6c23926",
   "metadata": {},
   "outputs": [],
   "source": []
  },
  {
   "cell_type": "code",
   "execution_count": null,
   "id": "537a99f2",
   "metadata": {},
   "outputs": [],
   "source": []
  }
 ],
 "metadata": {
  "kernelspec": {
   "display_name": "Python 3 (ipykernel)",
   "language": "python",
   "name": "python3"
  },
  "language_info": {
   "codemirror_mode": {
    "name": "ipython",
    "version": 3
   },
   "file_extension": ".py",
   "mimetype": "text/x-python",
   "name": "python",
   "nbconvert_exporter": "python",
   "pygments_lexer": "ipython3",
   "version": "3.9.13"
  }
 },
 "nbformat": 4,
 "nbformat_minor": 5
}
