{
 "cells": [
  {
   "cell_type": "code",
   "execution_count": 70,
   "id": "8a7b6b0f",
   "metadata": {},
   "outputs": [],
   "source": [
    "# This class creates a new user, and holds their music collection\n",
    "class User:\n",
    "    # Making the users class variable list private.\n",
    "    __users = []\n",
    "    \n",
    "    def __init__(self, first_name, last_name):\n",
    "        self.first_name = first_name\n",
    "        self.last_name = last_name\n",
    "        self.username = (last_name+first_name[0]).lower() # Using last name and first initial for username\n",
    "        self.__class__.__users.append(self.username) # adding user to list \n",
    "        self.music_collection = {}\n",
    "        \n",
    "    # This method changes users\n",
    "    def change_user(self, menu_option):\n",
    "        return self.__class__.__users[menu_option]\n",
    "    # This method returns the username \n",
    "    def get_username(self):\n",
    "        return self.username\n",
    "    "
   ]
  },
  {
   "cell_type": "code",
   "execution_count": 71,
   "id": "91eabc16",
   "metadata": {},
   "outputs": [],
   "source": [
    "# This class inherits the parent class user and handles user actions\n",
    "class MusicUser(User):\n",
    "    def __init__(self,first_name, last_name):\n",
    "        super().__init__(first_name, last_name)\n",
    "        \n",
    "    # This method checks if library is empty and is only accessible from inside.\n",
    "    def __is_collection_empty(self):\n",
    "        if  len(self.music_collection) == 0:\n",
    "            return True\n",
    "        else:\n",
    "            return False\n",
    "        \n",
    "    # This method checks if a song already exists in the library\n",
    "    def __is_song_in_library(self, title):\n",
    "        if title in self.music_collection:\n",
    "            return True\n",
    "        else:\n",
    "            return False\n",
    "    \n",
    "    # This method adds music to the collection\n",
    "    def add_music_to_library(self, song):\n",
    "        for title, details in song.items():\n",
    "            # Checking if song already in library\n",
    "            if not self.__is_song_in_library(title):\n",
    "                # Adding song to library\n",
    "                self.music_collection[title]={\"artist\": details['artist'], \"genre\": details['genre']}\n",
    "            \n",
    "            if self.__is_song_in_library(title):\n",
    "                return f\"{title} already in library\"\n",
    "    \n",
    "    # This method retrieves the song details\n",
    "    def retrieve_song_details(self, title):\n",
    "        # Checking if library is empty \n",
    "        if self.__is_collection_empty():\n",
    "            return f\"collection is empty\"\n",
    "        # Checking if song is in library\n",
    "        if not self.__is_song_in_library(title):\n",
    "            return f\"song not found\"\n",
    "        # Getting song details\n",
    "        artist = self.music_collection[title]['artist']\n",
    "        genre = self.music_collection[title]['genre']\n",
    "        print(f\"Title: {title}\\nArtist: {artist}\\nGenre: {genre}\")\n",
    "        \n",
    "    # This method updates a song's details in the user library\n",
    "    def update_song_details(self, title):\n",
    "        pass\n",
    "    \n",
    "    # This function deletes song details\n",
    "    def delete_song(self, title):\n",
    "        # deleting song from music library\n",
    "        if not self.__is_song_in_library(title):\n",
    "            return f\"song not found\"\n",
    "            \n",
    "        del self.music_collection[title]\n",
    "        \n",
    "    \n",
    "    # This method displays all songs in the users collections\n",
    "    def display_all_songs(self):\n",
    "        if  self.__is_collection_empty():\n",
    "            return f\"collection is empty\"\n",
    "        for key, value in self.music_collection.items():\n",
    "            print(f\"Song Title: {key}\\nArtist: {value['artist']}\\nGenre: {value['genre']}\",end=\"\\n\\n\")"
   ]
  },
  {
   "cell_type": "code",
   "execution_count": 76,
   "id": "2dc653eb",
   "metadata": {},
   "outputs": [],
   "source": [
    "# This class handles \n",
    "class Songs:\n",
    "    def __init__(self, title, artist, genre):\n",
    "        self.title = title\n",
    "        self.artist = artist\n",
    "        self.genre = genre\n",
    "        self.song = {\n",
    "            title:{\n",
    "            \"artist\": artist,\n",
    "            \"genre\": genre}\n",
    "        }\n",
    "        \n",
    "        # Getter method that returns the song dictionary\n",
    "    def get_song(self):\n",
    "        return self.song"
   ]
  },
  {
   "cell_type": "code",
   "execution_count": 77,
   "id": "79bb2d2b",
   "metadata": {},
   "outputs": [],
   "source": [
    "user = MusicUser(\"Shaun\", \"Clarke\")"
   ]
  },
  {
   "cell_type": "code",
   "execution_count": 78,
   "id": "95dd762a",
   "metadata": {},
   "outputs": [
    {
     "data": {
      "text/plain": [
       "'clarkes'"
      ]
     },
     "execution_count": 78,
     "metadata": {},
     "output_type": "execute_result"
    }
   ],
   "source": [
    "user.get_username()"
   ]
  },
  {
   "cell_type": "code",
   "execution_count": 90,
   "id": "3b9cb429",
   "metadata": {},
   "outputs": [],
   "source": [
    "song = Songs(\"rainy night\", \"Blue Brown\", \"Pop\")"
   ]
  },
  {
   "cell_type": "code",
   "execution_count": 91,
   "id": "b2f41b0f",
   "metadata": {},
   "outputs": [
    {
     "data": {
      "text/plain": [
       "{'rainy night': {'artist': 'Blue Brown', 'genre': 'Pop'}}"
      ]
     },
     "execution_count": 91,
     "metadata": {},
     "output_type": "execute_result"
    }
   ],
   "source": [
    "song.get_song()"
   ]
  },
  {
   "cell_type": "code",
   "execution_count": 49,
   "id": "95c3bb29",
   "metadata": {},
   "outputs": [
    {
     "name": "stdout",
     "output_type": "stream",
     "text": [
      "rainy day {'artist': 'James Brown', 'genre': 'Funk'}\n"
     ]
    }
   ],
   "source": [
    "for title, detail in song.get_song().items():\n",
    "    print(title, detail)"
   ]
  },
  {
   "cell_type": "code",
   "execution_count": 92,
   "id": "24897556",
   "metadata": {},
   "outputs": [],
   "source": [
    "song = song.get_song()"
   ]
  },
  {
   "cell_type": "code",
   "execution_count": 93,
   "id": "ca93ce6f",
   "metadata": {},
   "outputs": [
    {
     "data": {
      "text/plain": [
       "'rainy night already in library'"
      ]
     },
     "execution_count": 93,
     "metadata": {},
     "output_type": "execute_result"
    }
   ],
   "source": [
    "user.add_music_to_library(song)"
   ]
  },
  {
   "cell_type": "code",
   "execution_count": 94,
   "id": "4539f3d2",
   "metadata": {},
   "outputs": [
    {
     "name": "stdout",
     "output_type": "stream",
     "text": [
      "Title: rainy day\n",
      "Artist: James Brown\n",
      "Genre: Funk\n"
     ]
    }
   ],
   "source": [
    "user.retrieve_song_details(\"rainy day\")"
   ]
  },
  {
   "cell_type": "code",
   "execution_count": 86,
   "id": "25eaa418",
   "metadata": {},
   "outputs": [
    {
     "data": {
      "text/plain": [
       "{}"
      ]
     },
     "execution_count": 86,
     "metadata": {},
     "output_type": "execute_result"
    }
   ],
   "source": [
    "user.music_collection"
   ]
  },
  {
   "cell_type": "code",
   "execution_count": 85,
   "id": "0e0ca16e",
   "metadata": {},
   "outputs": [],
   "source": [
    "user.delete_song(\"rainy day\")"
   ]
  },
  {
   "cell_type": "code",
   "execution_count": 113,
   "id": "8f01b96d",
   "metadata": {},
   "outputs": [],
   "source": [
    "# user.music_collection[\"rainy day\"]={\"artist\": \"James Brown\", \"genre\": \"Funk\"}"
   ]
  },
  {
   "cell_type": "code",
   "execution_count": 114,
   "id": "ca50ee83",
   "metadata": {},
   "outputs": [],
   "source": [
    "# user.music_collection[\"Big Bad John\"]={\"artist\": \"Jimmy Dean\", \"genre\": \"Country\"}"
   ]
  },
  {
   "cell_type": "code",
   "execution_count": 124,
   "id": "2d547cff",
   "metadata": {},
   "outputs": [
    {
     "name": "stdout",
     "output_type": "stream",
     "text": [
      "{}\n"
     ]
    }
   ],
   "source": [
    "print(user.music_collection)"
   ]
  },
  {
   "cell_type": "code",
   "execution_count": 95,
   "id": "d76a7c13",
   "metadata": {},
   "outputs": [
    {
     "name": "stdout",
     "output_type": "stream",
     "text": [
      "Song Title: rainy day\n",
      "Artist: James Brown\n",
      "Genre: Funk\n",
      "\n",
      "Song Title: rainy night\n",
      "Artist: Blue Brown\n",
      "Genre: Pop\n",
      "\n"
     ]
    }
   ],
   "source": [
    "user.display_all_songs()"
   ]
  },
  {
   "cell_type": "code",
   "execution_count": 26,
   "id": "add6aefa",
   "metadata": {},
   "outputs": [
    {
     "data": {
      "text/plain": [
       "'clarkes'"
      ]
     },
     "execution_count": 26,
     "metadata": {},
     "output_type": "execute_result"
    }
   ],
   "source": [
    "user.change_user(1)"
   ]
  },
  {
   "cell_type": "code",
   "execution_count": null,
   "id": "810b8a1f",
   "metadata": {},
   "outputs": [],
   "source": []
  },
  {
   "cell_type": "code",
   "execution_count": null,
   "id": "7a0c2ac6",
   "metadata": {},
   "outputs": [],
   "source": []
  },
  {
   "cell_type": "code",
   "execution_count": null,
   "id": "c9f0e3af",
   "metadata": {},
   "outputs": [],
   "source": []
  }
 ],
 "metadata": {
  "kernelspec": {
   "display_name": "Python 3 (ipykernel)",
   "language": "python",
   "name": "python3"
  },
  "language_info": {
   "codemirror_mode": {
    "name": "ipython",
    "version": 3
   },
   "file_extension": ".py",
   "mimetype": "text/x-python",
   "name": "python",
   "nbconvert_exporter": "python",
   "pygments_lexer": "ipython3",
   "version": "3.9.13"
  }
 },
 "nbformat": 4,
 "nbformat_minor": 5
}
