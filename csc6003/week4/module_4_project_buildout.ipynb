{
 "cells": [
  {
   "cell_type": "code",
   "execution_count": 104,
   "id": "18eb07d6",
   "metadata": {},
   "outputs": [
    {
     "data": {
      "text/plain": [
       "'\\nWhere i left off:\\n- Think about creating an input class that basically accepts input\\n- Think about a child class that acts on the input\\n- The menu class can also be a parent class or a list.\\n  -Then a child class called display menu and it deisplays menu items bsed on if they exist.\\n   - by parsing the list and using indexes to select the menu options.\\n   - example, if there is no user in the database, only display add user option.\\n   - if there is a user display add user and add song.\\n   - if there is more than one user display add user, add song, change user\\n   - if there is a song display add user, add song, change user,4) Retrieve song details,Update song details,\\n      Delete a song, Display all songs\\n- \\n'"
      ]
     },
     "execution_count": 104,
     "metadata": {},
     "output_type": "execute_result"
    }
   ],
   "source": [
    "\"\"\"\n",
    "Where i left off:\n",
    "- Think about creating an input class that basically accepts input\n",
    "- Think about a child class that acts on the input\n",
    "- The menu class can also be a parent class or a list.\n",
    "  -Then a child class called display menu and it deisplays menu items bsed on if they exist.\n",
    "   - by parsing the list and using indexes to select the menu options.\n",
    "   - example, if there is no user in the database, only display add user option.\n",
    "   - if there is a user display add user and add song.\n",
    "   - if there is more than one user display add user, add song, change user\n",
    "   - if there is a song display add user, add song, change user,4) Retrieve song details,Update song details,\n",
    "      Delete a song, Display all songs\n",
    "- \n",
    "\"\"\""
   ]
  },
  {
   "cell_type": "code",
   "execution_count": 105,
   "id": "8a7b6b0f",
   "metadata": {},
   "outputs": [],
   "source": [
    "# This PARENT class creates a new user, and holds their music collection\n",
    "class User:\n",
    "    # Making the users class variable list private.\n",
    "    __users = []\n",
    "    \n",
    "    def __init__(self, first_name, last_name):\n",
    "        self.first_name = first_name\n",
    "        self.last_name = last_name\n",
    "        self.username = (last_name+first_name[0]).lower() # Using last name and first initial for username\n",
    "        self.__class__.__users.append(self.username) # adding user to list \n",
    "        self.music_collection = {}\n",
    "        \n",
    "    # This method gets a user from the list\n",
    "    def change_user(self, menu_option):\n",
    "        try:\n",
    "            return self.__class__.__users[menu_option]\n",
    "        except IndexError:\n",
    "            return f\"user not found\"\n",
    "    \n",
    "    # This method returns the username \n",
    "    def get_username(self):\n",
    "        return self.username\n",
    "    \n",
    "    # This function gets the music collection\n",
    "    def get_music_collection(self):\n",
    "        pass\n",
    "    "
   ]
  },
  {
   "cell_type": "code",
   "execution_count": 106,
   "id": "91eabc16",
   "metadata": {},
   "outputs": [],
   "source": [
    "# This CHILD CLASS inherits the parent class USER and handles user actions\n",
    "class MusicUser(User):\n",
    "    def __init__(self,first_name, last_name):\n",
    "        super().__init__(first_name, last_name)\n",
    "        \n",
    "    # This method checks if library is empty and is only accessible from inside.\n",
    "    def __is_collection_empty(self):\n",
    "        if  len(self.music_collection) == 0:\n",
    "            return True\n",
    "        else:\n",
    "            return False\n",
    "        \n",
    "    # This method checks if a song already exists in the library and is only accessible from inside.\n",
    "    def __is_song_in_library(self, title):\n",
    "        if title in self.music_collection:\n",
    "            return True\n",
    "        else:\n",
    "            return False\n",
    "    \n",
    "    # This method adds music to the collection\n",
    "    def add_music_to_library(self, song):\n",
    "        for title, details in song.items():\n",
    "            # Checking if the song already exists\n",
    "            if self.__is_song_in_library(title):\n",
    "                return f\"exists\"\n",
    "            # Adding song to library\n",
    "            self.music_collection[title]={\"artist\": details['artist'], \"genre\": details['genre']}\n",
    "            # Making sure song was added \n",
    "            if self.__is_song_in_library(title):\n",
    "                return f\"{title} song added\"\n",
    "            else:\n",
    "                return f\"{title} song not added\"\n",
    "    \n",
    "    # This method retrieves the song details\n",
    "    def retrieve_song_details(self, title):\n",
    "        # Checking if song is in library\n",
    "        if not self.__is_song_in_library(title):\n",
    "            return f\"song not found\"\n",
    "        # Getting song details, artist and genre\n",
    "        artist = self.music_collection[title]['artist']\n",
    "        genre = self.music_collection[title]['genre']\n",
    "        print(f\"Title: {title}\\nArtist: {artist}\\nGenre: {genre}\")\n",
    "        \n",
    "    # This method updates a song's details in the user library\n",
    "    def update_song_details(self, title, artist, genre):\n",
    "        # Checking if song is in library\n",
    "        if not self.__is_song_in_library(title):\n",
    "            return f\"song not found\"\n",
    "        # Updating song details, artist and genre\n",
    "        artist = self.music_collection[title]['artist'] = artist\n",
    "        genre = self.music_collection[title]['genre'] = genre\n",
    "        # Displaying updated song details\n",
    "        print(f\"Updated song details\", end=\"\\n\\n\")\n",
    "        self.retrieve_song_details(title)\n",
    "    \n",
    "    # This method deletes song details\n",
    "    def delete_song(self, title):\n",
    "        # deleting song from music library\n",
    "        if not self.__is_song_in_library(title):\n",
    "            return f\"song not found\"\n",
    "        # Deleting song \n",
    "        del self.music_collection[title]\n",
    "        # Making sure song was deleted \n",
    "        if not self.__is_song_in_library(title):\n",
    "            return f\"song deleted\"\n",
    "        \n",
    "    # This method displays all songs in the users collections\n",
    "    def display_all_songs(self):\n",
    "        # Checking of library is empty\n",
    "        if  self.__is_collection_empty():\n",
    "            return f\"collection is empty\"\n",
    "        for key, value in self.music_collection.items():\n",
    "            print(f\"Song Title: {key}\\nArtist: {value['artist']}\\nGenre: {value['genre']}\",end=\"\\n\\n\")"
   ]
  },
  {
   "cell_type": "code",
   "execution_count": 107,
   "id": "2dc653eb",
   "metadata": {},
   "outputs": [],
   "source": [
    "# This class handles the creation of a song object with its details\n",
    "class Song:\n",
    "    def __init__(self, title, artist, genre):\n",
    "        self.title = title\n",
    "        self.artist = artist\n",
    "        self.genre = genre\n",
    "        self.song = {\n",
    "            title:{\n",
    "            \"artist\": artist,\n",
    "            \"genre\": genre}\n",
    "        }\n",
    "        \n",
    "        # Getter method that returns the song dictionary\n",
    "    def get_song(self):\n",
    "        return self.song"
   ]
  },
  {
   "cell_type": "code",
   "execution_count": 108,
   "id": "79bb2d2b",
   "metadata": {},
   "outputs": [],
   "source": [
    "user = MusicUser(\"Kevin\", \"Bronx\")"
   ]
  },
  {
   "cell_type": "code",
   "execution_count": 109,
   "id": "95dd762a",
   "metadata": {},
   "outputs": [
    {
     "data": {
      "text/plain": [
       "'bronxk'"
      ]
     },
     "execution_count": 109,
     "metadata": {},
     "output_type": "execute_result"
    }
   ],
   "source": [
    "user.get_username()"
   ]
  },
  {
   "cell_type": "code",
   "execution_count": 110,
   "id": "503f4408",
   "metadata": {},
   "outputs": [],
   "source": [
    "song1 = Song(\"Blue Moon\", \"Some Group\", \"Classic\")"
   ]
  },
  {
   "cell_type": "code",
   "execution_count": 111,
   "id": "bdd8e146",
   "metadata": {},
   "outputs": [
    {
     "name": "stdout",
     "output_type": "stream",
     "text": [
      "{'Blue Moon': {'artist': 'Some Group', 'genre': 'Classic'}}\n"
     ]
    }
   ],
   "source": [
    "song =song1.get_song()\n",
    "print(song)"
   ]
  },
  {
   "cell_type": "code",
   "execution_count": 112,
   "id": "454a34a0",
   "metadata": {},
   "outputs": [
    {
     "data": {
      "text/plain": [
       "'Blue Moon song added'"
      ]
     },
     "execution_count": 112,
     "metadata": {},
     "output_type": "execute_result"
    }
   ],
   "source": [
    "user.add_music_to_library(song)"
   ]
  },
  {
   "cell_type": "code",
   "execution_count": 114,
   "id": "c9ce6e5c",
   "metadata": {},
   "outputs": [
    {
     "name": "stdout",
     "output_type": "stream",
     "text": [
      "Song Title: Blue Moon\n",
      "Artist: Some Group\n",
      "Genre: Classic\n",
      "\n"
     ]
    }
   ],
   "source": [
    "user.display_all_songs()"
   ]
  },
  {
   "cell_type": "code",
   "execution_count": 87,
   "id": "7c47bd92",
   "metadata": {},
   "outputs": [],
   "source": [
    "# Manin menu that gives all music collection options\n",
    "# This function accepts the user_menu input\n",
    "def user_menu_input():\n",
    "    \"\"\"\n",
    "    This function gets the user inputs for the menu.<br>\n",
    "    Parameters:<br>\n",
    "    - This function takes no parameters\n",
    "      \n",
    "    Returns:<br> \n",
    "    - The user input as an integer.<br>\n",
    "    \"\"\"\n",
    "    \n",
    "    while True:\n",
    "        try:\n",
    "            # Asking the user to eneter their menu selection\n",
    "            user_input = int(input(\n",
    "            f\"\"\"\\n=+=+=+=Text Editor Menu=+=+=+=\\n1: Top 5 most common words\\n2: Single Word Frequency\\n3: Replace a word\\n4: Add Text\\n5: Delete Text\\n6: Highlight Text\\n7: Undo all changes\\n8: Exit\\n\\nPlease Select a Menu Option\\n:> \"\"\"\n",
    "            ))\n",
    "\n",
    "            # Logic to validate user input and proceed accordingly. \n",
    "            if user_input >= 1 and user_input <= 8:\n",
    "                return user_input\n",
    "            else:\n",
    "                raise ValueError(f\"\\nPlease enter a valid input\\n\")\n",
    "        except ValueError as err:\n",
    "            print(f\"\\n{err}\")\n",
    "            print(f\"Please enter a valid input\\n\")\n",
    "\n"
   ]
  },
  {
   "cell_type": "code",
   "execution_count": 88,
   "id": "fa75265a",
   "metadata": {},
   "outputs": [],
   "source": [
    "# Submenu for change user that gives add user or back to main menu option"
   ]
  },
  {
   "cell_type": "code",
   "execution_count": 89,
   "id": "74f9b80a",
   "metadata": {},
   "outputs": [],
   "source": [
    "# This fucntion gets user input\n",
    "def get_user_input(input_message, new=False):\n",
    "    \"\"\"\n",
    "    This function gets the user inputs.<br>\n",
    "    Parameters:<br>\n",
    "    - input_message\n",
    "      - A message telling the user what kind of input to enter.\n",
    "   - new=False<br>\n",
    "      - This is a default parameter that if false allows us to accept an input that is not in the file.\n",
    "      \n",
    "    Returns:<br> \n",
    "    - The user input.<br>\n",
    "    \"\"\"\n",
    "    \n",
    "    while True:\n",
    "        try:\n",
    "            # Getting the user input\n",
    "            user_input = input(f\"\\n{input_message}\\n:> \").lower()\n",
    "            \n",
    "#             if not new:\n",
    "#                 if user_input not in file_content:\n",
    "#                     raise ValueError(f\"\\nInvalid input *{user_input}* not found in file.\\n\")\n",
    "        \n",
    "            return user_input\n",
    "        except ValueError as err:\n",
    "            print(err)\n",
    "            continue\n"
   ]
  },
  {
   "cell_type": "code",
   "execution_count": 103,
   "id": "48211fa3",
   "metadata": {},
   "outputs": [],
   "source": [
    "# This class displays menu items based on the user and or music in the library\n",
    "class DisplayMenu:\n",
    "    def __init__(self):\n",
    "        self.__menu_options_list = [ # This list holds the menu options\n",
    "            \"1) Add user\",\n",
    "            \"2) Change User\",\n",
    "            \"3) Add a song\",\n",
    "            \"4) Retrieve song details\",\n",
    "            \"5) Update song details\",\n",
    "            \"6) Delete a song\",\n",
    "            \"7) Display all songs\",\n",
    "            \"8) Exit\"\n",
    "        ]\n",
    "    \n",
    "    # Add methods below to select menu options based on user and library state\n",
    "    def show_add_user(self, user_object):\n",
    "        pass\n",
    "    \n",
    "    def show_add_user_song(self, user_object):\n",
    "        pass\n",
    "    \n",
    "    def show_add_user_change_song(self, user_object):\n",
    "        pass\n",
    "    \n",
    "    def show_full_menu(self, user_object):\n",
    "        pass\n",
    "    \n",
    "        "
   ]
  },
  {
   "cell_type": "code",
   "execution_count": null,
   "id": "e2829d60",
   "metadata": {},
   "outputs": [],
   "source": [
    "if len(user.music_collection) == 0 and len "
   ]
  },
  {
   "cell_type": "code",
   "execution_count": null,
   "id": "bc243934",
   "metadata": {},
   "outputs": [],
   "source": []
  }
 ],
 "metadata": {
  "kernelspec": {
   "display_name": "Python 3 (ipykernel)",
   "language": "python",
   "name": "python3"
  },
  "language_info": {
   "codemirror_mode": {
    "name": "ipython",
    "version": 3
   },
   "file_extension": ".py",
   "mimetype": "text/x-python",
   "name": "python",
   "nbconvert_exporter": "python",
   "pygments_lexer": "ipython3",
   "version": "3.9.13"
  }
 },
 "nbformat": 4,
 "nbformat_minor": 5
}
