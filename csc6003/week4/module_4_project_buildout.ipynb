{
 "cells": [
  {
   "cell_type": "code",
   "execution_count": 156,
   "id": "18eb07d6",
   "metadata": {},
   "outputs": [
    {
     "data": {
      "text/plain": [
       "'\\nWhere i left off:\\n    Working on user input class.\\n    Add a method for things we need input for like:\\n        add a user\\n        add a song\\n        retrieve song\\n        update song\\n        delete song\\n        display all songs\\n        \\n        and idea of the approach:\\n        options = user_menu.get_display_menu(user)\\n        choice = user_input.get_menu_choice(options)\\n        \\n        idead of approach:\\n        def handle_add_song(self, user: MusicUser) -> None:\\n        title = input(\"Enter title: \")\\n        artist = input(\"Enter artist: \")\\n        genre = input(\"Enter genre: \")\\n        user.add_music_to_library(Song(title, artist, genre))\\n\\n- \\n'"
      ]
     },
     "execution_count": 156,
     "metadata": {},
     "output_type": "execute_result"
    }
   ],
   "source": [
    "\"\"\"\n",
    "Where i left off:\n",
    "    Working on user input class.\n",
    "    Add a method for things we need input for like:\n",
    "        add a user\n",
    "        add a song\n",
    "        retrieve song\n",
    "        update song\n",
    "        delete song\n",
    "        display all songs\n",
    "        \n",
    "        and idea of the approach:\n",
    "        options = user_menu.get_display_menu(user)\n",
    "        choice = user_input.get_menu_choice(options)\n",
    "        \n",
    "        idead of approach:\n",
    "        def handle_add_song(self, user: MusicUser) -> None:\n",
    "        title = input(\"Enter title: \")\n",
    "        artist = input(\"Enter artist: \")\n",
    "        genre = input(\"Enter genre: \")\n",
    "        user.add_music_to_library(Song(title, artist, genre))\n",
    "\n",
    "- \n",
    "\"\"\""
   ]
  },
  {
   "cell_type": "code",
   "execution_count": 109,
   "id": "1926fa70",
   "metadata": {},
   "outputs": [],
   "source": [
    "from typing import Optional\n",
    "from typing import Tuple\n",
    "from typing import Dict\n",
    "from typing import List"
   ]
  },
  {
   "cell_type": "code",
   "execution_count": 110,
   "id": "8a7b6b0f",
   "metadata": {},
   "outputs": [],
   "source": [
    "# This PARENT class creates a new user, and holds their music collection\n",
    "class User:\n",
    "    # Making the users class variable list private.\n",
    "    __users = []\n",
    "    \n",
    "    def __init__(self, first_name: str, last_name: str):\n",
    "        self.first_name = first_name\n",
    "        self.last_name = last_name\n",
    "        self.username = (last_name+first_name[0]).lower() # Using last name and first initial for username\n",
    "        self.__class__.__users.append(self.username) # adding user to list \n",
    "        self.music_collection = {}\n",
    "        \n",
    "    # This method gets a user from the list\n",
    "    def change_user(self, menu_option: int) -> str:\n",
    "        try:\n",
    "            return self.__class__.__users[menu_option]\n",
    "        except IndexError:\n",
    "            return f\"user not found\"\n",
    "    \n",
    "    # This method returns the username \n",
    "    def get_username(self) -> str:\n",
    "        if not self.username:\n",
    "            return 'user not found'\n",
    "        return self.username\n",
    "    \n",
    "    # This method gets the music collection\n",
    "    def get_music_collection(self) -> dict:\n",
    "        return self.music_collection\n",
    "    \n",
    "     # This method gets users\n",
    "    def get_users(self) -> list:\n",
    "        return self.__class__.__users"
   ]
  },
  {
   "cell_type": "code",
   "execution_count": 111,
   "id": "91eabc16",
   "metadata": {},
   "outputs": [],
   "source": [
    "# This CHILD CLASS inherits the parent class USER and handles user actions\n",
    "class MusicUser(User):\n",
    "    def __init__(self,first_name, last_name):\n",
    "        super().__init__(first_name, last_name)\n",
    "        \n",
    "    # This method checks if library is empty and is only accessible from inside.\n",
    "    def __is_collection_empty(self):\n",
    "        if  len(self.music_collection) == 0:\n",
    "            return True\n",
    "        else:\n",
    "            return False\n",
    "        \n",
    "    # This method checks if a song already exists in the library and is only accessible from inside.\n",
    "    def __is_song_in_library(self, title):\n",
    "        if title in self.music_collection:\n",
    "            return True\n",
    "        else:\n",
    "            return False\n",
    "    \n",
    "    # This method adds music to the collection\n",
    "    def add_music_to_library(self, song):\n",
    "        for title, details in song.items():\n",
    "            # Checking if the song already exists\n",
    "            if self.__is_song_in_library(title):\n",
    "                return f\"exists\"\n",
    "            # Adding song to library\n",
    "            self.music_collection[title]={\"artist\": details['artist'], \"genre\": details['genre']}\n",
    "            # Making sure song was added \n",
    "            if self.__is_song_in_library(title):\n",
    "                return f\"{title} song added\"\n",
    "            else:\n",
    "                return f\"{title} song not added\"\n",
    "    \n",
    "    # This method retrieves the song details\n",
    "    def retrieve_song_details(self, title):\n",
    "        # Checking if song is in library\n",
    "        if not self.__is_song_in_library(title):\n",
    "            return f\"song not found\"\n",
    "        # Getting song details, artist and genre\n",
    "        artist = self.music_collection[title]['artist']\n",
    "        genre = self.music_collection[title]['genre']\n",
    "        print(f\"Title: {title}\\nArtist: {artist}\\nGenre: {genre}\")\n",
    "        \n",
    "    # This method updates a song's details in the user library\n",
    "    def update_song_details(self, title, artist, genre):\n",
    "        # Checking if song is in library\n",
    "        if not self.__is_song_in_library(title):\n",
    "            return f\"song not found\"\n",
    "        # Updating song details, artist and genre\n",
    "        artist = self.music_collection[title]['artist'] = artist\n",
    "        genre = self.music_collection[title]['genre'] = genre\n",
    "        # Displaying updated song details\n",
    "        print(f\"Updated song details\", end=\"\\n\\n\")\n",
    "        self.retrieve_song_details(title)\n",
    "    \n",
    "    # This method deletes song details\n",
    "    def delete_song(self, title):\n",
    "        # deleting song from music library\n",
    "        if not self.__is_song_in_library(title):\n",
    "            return f\"song not found\"\n",
    "        # Deleting song \n",
    "        del self.music_collection[title]\n",
    "        # Making sure song was deleted \n",
    "        if not self.__is_song_in_library(title):\n",
    "            return f\"song deleted\"\n",
    "        else:\n",
    "            return f\"song was not deleted\"\n",
    "        \n",
    "    # This method displays all songs in the users collections\n",
    "    def display_all_songs(self):\n",
    "        # Checking of library is empty\n",
    "        if  self.__is_collection_empty():\n",
    "            return f\"collection is empty\"\n",
    "        for key, value in self.music_collection.items():\n",
    "            print(f\"Song Title: {key}\\nArtist: {value['artist']}\\nGenre: {value['genre']}\",end=\"\\n\\n\")"
   ]
  },
  {
   "cell_type": "code",
   "execution_count": 112,
   "id": "2dc653eb",
   "metadata": {},
   "outputs": [],
   "source": [
    "# This class handles the creation of a song object with its details\n",
    "class Song:\n",
    "    def __init__(self, title, artist, genre):\n",
    "        self.title = title\n",
    "        self.artist = artist\n",
    "        self.genre = genre\n",
    "        self.song = {\n",
    "            title:{\n",
    "            \"artist\": artist,\n",
    "            \"genre\": genre}\n",
    "        }\n",
    "        \n",
    "        # Getter method that returns the song dictionary\n",
    "    def get_song(self):\n",
    "        return self.song"
   ]
  },
  {
   "cell_type": "code",
   "execution_count": 147,
   "id": "79bb2d2b",
   "metadata": {},
   "outputs": [],
   "source": [
    "user = MusicUser(\"Mike\", \"Jones\")"
   ]
  },
  {
   "cell_type": "code",
   "execution_count": 148,
   "id": "95dd762a",
   "metadata": {},
   "outputs": [
    {
     "data": {
      "text/plain": [
       "'jonesm'"
      ]
     },
     "execution_count": 148,
     "metadata": {},
     "output_type": "execute_result"
    }
   ],
   "source": [
    "user.get_username()"
   ]
  },
  {
   "cell_type": "code",
   "execution_count": 149,
   "id": "cc687e55",
   "metadata": {},
   "outputs": [],
   "source": [
    "song1 = Song(\"Blue Moon\", \"Some Group\", \"Classic\")"
   ]
  },
  {
   "cell_type": "code",
   "execution_count": 150,
   "id": "b8c97981",
   "metadata": {},
   "outputs": [
    {
     "name": "stdout",
     "output_type": "stream",
     "text": [
      "{'Blue Moon': {'artist': 'Some Group', 'genre': 'Classic'}}\n"
     ]
    }
   ],
   "source": [
    "song =song1.get_song()\n",
    "print(song)"
   ]
  },
  {
   "cell_type": "code",
   "execution_count": 151,
   "id": "cf73c899",
   "metadata": {},
   "outputs": [
    {
     "data": {
      "text/plain": [
       "'Blue Moon song added'"
      ]
     },
     "execution_count": 151,
     "metadata": {},
     "output_type": "execute_result"
    }
   ],
   "source": [
    "user.add_music_to_library(song)"
   ]
  },
  {
   "cell_type": "code",
   "execution_count": 152,
   "id": "2e913fc4",
   "metadata": {},
   "outputs": [
    {
     "name": "stdout",
     "output_type": "stream",
     "text": [
      "Song Title: Blue Moon\n",
      "Artist: Some Group\n",
      "Genre: Classic\n",
      "\n"
     ]
    }
   ],
   "source": [
    "user.display_all_songs()"
   ]
  },
  {
   "cell_type": "code",
   "execution_count": 119,
   "id": "7c47bd92",
   "metadata": {},
   "outputs": [],
   "source": [
    "# Manin menu that gives all music collection options\n",
    "# This function accepts the user_menu input\n",
    "def user_menu_input():\n",
    "    \"\"\"\n",
    "    This function gets the user inputs for the menu.<br>\n",
    "    Parameters:<br>\n",
    "    - This function takes no parameters\n",
    "      \n",
    "    Returns:<br> \n",
    "    - The user input as an integer.<br>\n",
    "    \"\"\"\n",
    "    \n",
    "    while True:\n",
    "        try:\n",
    "            # Asking the user to eneter their menu selection\n",
    "            user_input = int(input(\n",
    "            f\"\"\"\\n=+=+=+=Text Editor Menu=+=+=+=\\n1: Top 5 most common words\\n2: Single Word Frequency\\n3: Replace a word\\n4: Add Text\\n5: Delete Text\\n6: Highlight Text\\n7: Undo all changes\\n8: Exit\\n\\nPlease Select a Menu Option\\n:> \"\"\"\n",
    "            ))\n",
    "\n",
    "            # Logic to validate user input and proceed accordingly. \n",
    "            if user_input >= 1 and user_input <= 8:\n",
    "                return user_input\n",
    "            else:\n",
    "                raise ValueError(f\"\\nPlease enter a valid input\\n\")\n",
    "        except ValueError as err:\n",
    "            print(f\"\\n{err}\")\n",
    "            print(f\"Please enter a valid input\\n\")\n",
    "\n"
   ]
  },
  {
   "cell_type": "code",
   "execution_count": 120,
   "id": "fa75265a",
   "metadata": {},
   "outputs": [],
   "source": [
    "# Submenu for change user that gives add user or back to main menu option"
   ]
  },
  {
   "cell_type": "code",
   "execution_count": 121,
   "id": "74f9b80a",
   "metadata": {},
   "outputs": [],
   "source": [
    "# This fucntion gets user input\n",
    "def get_user_input(input_message, new=False):\n",
    "    \"\"\"\n",
    "    This function gets the user inputs.<br>\n",
    "    Parameters:<br>\n",
    "    - input_message\n",
    "      - A message telling the user what kind of input to enter.\n",
    "   - new=False<br>\n",
    "      - This is a default parameter that if false allows us to accept an input that is not in the file.\n",
    "      \n",
    "    Returns:<br> \n",
    "    - The user input.<br>\n",
    "    \"\"\"\n",
    "    \n",
    "    while True:\n",
    "        try:\n",
    "            # Getting the user input\n",
    "            user_input = input(f\"\\n{input_message}\\n:> \").lower()\n",
    "            \n",
    "#             if not new:\n",
    "#                 if user_input not in file_content:\n",
    "#                     raise ValueError(f\"\\nInvalid input *{user_input}* not found in file.\\n\")\n",
    "        \n",
    "            return user_input\n",
    "        except ValueError as err:\n",
    "            print(err)\n",
    "            continue\n"
   ]
  },
  {
   "cell_type": "code",
   "execution_count": 140,
   "id": "a89bca4f",
   "metadata": {},
   "outputs": [],
   "source": [
    "# This class displays menu items based on the user and or music in the library\n",
    "class UserMenu:\n",
    "    def __init__(self):\n",
    "        self.__menu_options = [ # This list holds the main menu options\n",
    "            \"1) Add user\",\n",
    "            \"2) Change User\",\n",
    "            \"3) Add a song\",\n",
    "            \"4) Retrieve song details\",\n",
    "            \"5) Update song details\",\n",
    "            \"6) Delete a song\",\n",
    "            \"7) Display all songs\",\n",
    "            \"8) Exit\"\n",
    "        ]\n",
    "        self.__sub_menu_options = [\n",
    "            \"1) Add a user\",\n",
    "            \"2) Select a user\"\n",
    "        ]\n",
    "        \n",
    "    # Checks if there is at least one user\n",
    "    def __user_exists(self, user_object: Optional[User] = None) -> bool:\n",
    "        if user_object is None:\n",
    "            return False\n",
    "        elif len(user_object.get_users()) > 0:\n",
    "            return True\n",
    "    \n",
    "    # Checks if there are multiple users\n",
    "    def __multiple_users_exist(self, user_object: Optional[User] = None) -> bool:\n",
    "        all_users = user_object.get_users()\n",
    "        \n",
    "        if all_users > 1:\n",
    "            return True\n",
    "        elif user_object is None:\n",
    "            return False\n",
    "        else:\n",
    "            return False\n",
    "        \n",
    "    # CHecks if the library has any songs\n",
    "    def __library_has_songs(self, user_object: Optional[User] = None) -> bool:\n",
    "        if user_object is None:\n",
    "            return False\n",
    "        all_songs = len(user_object.get_music_collection())\n",
    "        if all_songs > 0:\n",
    "            return True\n",
    "        else:\n",
    "            return False\n",
    "            \n",
    "    # Displays the menu based on user and music library state\n",
    "    def display_menu(self, user_object: Optional[User] = None) -> List[str]:\n",
    "        if self.__user_exists(user_object) and not self.__library_has_songs(user_object):\n",
    "            # If user exists and no songs return add user, add song and exit\n",
    "            return [self.__menu_options[0], self.__menu_options[2], self.__menu_options[7]]\n",
    "        elif self.__user_exists(user_object) and self.__library_has_songs(user_object):\n",
    "            temp_list = self.__menu_options.copy()\n",
    "            # if user exists and and song in library return full menu\n",
    "            return temp_list\n",
    "        elif not self.__user_exists():\n",
    "            # If no users exist return add user and exit menu options\n",
    "            return [self.__menu_options[0], self.__menu_options[7]]\n",
    "        \n",
    "    # Displays the chnage user submenu\n",
    "    def display_sub_menu(self, user_object: User) -> list[str]:\n",
    "        # If we have more than one user\n",
    "        if len(user_object.get_users()) > 1:\n",
    "            temp_sub_menu = self.__sub_menu_options.copy()\n",
    "            return temp_sub_menu\n",
    "        else:\n",
    "            return [\"No other users exist\", self.__sub_menu_options[0]]\n",
    "        \n",
    "    # Displays the sub menu based on user state and main menu selection\n",
    "    def display_user_selection_menu(self, user_object: Optional[User] = None) -> list[str]:\n",
    "        # list to hold user selection options.\n",
    "        choose_user_list = []\n",
    "        # looping through user list and getting index and item\n",
    "        for index, user in enumerate(user_object.get_users()):\n",
    "            # Incremeting the index by one so it can be used as menu number\n",
    "            index += 1\n",
    "            # Adding user option to choose user menu\n",
    "            choose_user_list.append(f\"{index}) {user}\")\n",
    "        # Copying list to avoid returning original list\n",
    "        copied_choose_user_list = choose_user_list.copy()\n",
    "            \n",
    "        return copied_choose_user_list\n",
    "         \n"
   ]
  },
  {
   "cell_type": "code",
   "execution_count": 141,
   "id": "f4947c30",
   "metadata": {},
   "outputs": [],
   "source": [
    "show_menu = UserMenu()"
   ]
  },
  {
   "cell_type": "code",
   "execution_count": 142,
   "id": "5827d980",
   "metadata": {},
   "outputs": [
    {
     "name": "stdout",
     "output_type": "stream",
     "text": [
      "1) Add user\n",
      "2) Change User\n",
      "3) Add a song\n",
      "4) Retrieve song details\n",
      "5) Update song details\n",
      "6) Delete a song\n",
      "7) Display all songs\n",
      "8) Exit\n"
     ]
    }
   ],
   "source": [
    "for option in show_menu.display_menu(user):\n",
    "    print(f\"{option}\", end=\"\\n\")"
   ]
  },
  {
   "cell_type": "code",
   "execution_count": 143,
   "id": "0bb39ed7",
   "metadata": {},
   "outputs": [
    {
     "data": {
      "text/plain": [
       "1"
      ]
     },
     "execution_count": 143,
     "metadata": {},
     "output_type": "execute_result"
    }
   ],
   "source": [
    "len(user.get_users())"
   ]
  },
  {
   "cell_type": "code",
   "execution_count": 153,
   "id": "5a48838f",
   "metadata": {},
   "outputs": [
    {
     "data": {
      "text/plain": [
       "['bronxk', 'jonesm']"
      ]
     },
     "execution_count": 153,
     "metadata": {},
     "output_type": "execute_result"
    }
   ],
   "source": [
    "user.get_users()"
   ]
  },
  {
   "cell_type": "code",
   "execution_count": 154,
   "id": "f4732ea3",
   "metadata": {},
   "outputs": [
    {
     "name": "stdout",
     "output_type": "stream",
     "text": [
      "1) Add a user\n",
      "2) Select a user\n"
     ]
    }
   ],
   "source": [
    "\n",
    "for option in show_menu.display_sub_menu(user):\n",
    "    print(f\"{option}\", end=\"\\n\")"
   ]
  },
  {
   "cell_type": "code",
   "execution_count": null,
   "id": "343e57ec",
   "metadata": {},
   "outputs": [],
   "source": [
    "class UserInput:\n",
    "    def __init__(self):\n",
    "    \n",
    "    \n",
    "    "
   ]
  },
  {
   "cell_type": "code",
   "execution_count": null,
   "id": "3a8d1af1",
   "metadata": {},
   "outputs": [],
   "source": []
  },
  {
   "cell_type": "code",
   "execution_count": null,
   "id": "9696ce16",
   "metadata": {},
   "outputs": [],
   "source": []
  },
  {
   "cell_type": "code",
   "execution_count": null,
   "id": "ea907be9",
   "metadata": {},
   "outputs": [],
   "source": []
  },
  {
   "cell_type": "code",
   "execution_count": null,
   "id": "563f58f6",
   "metadata": {},
   "outputs": [],
   "source": []
  },
  {
   "cell_type": "code",
   "execution_count": null,
   "id": "c6c23926",
   "metadata": {},
   "outputs": [],
   "source": []
  },
  {
   "cell_type": "code",
   "execution_count": null,
   "id": "537a99f2",
   "metadata": {},
   "outputs": [],
   "source": []
  }
 ],
 "metadata": {
  "kernelspec": {
   "display_name": "Python 3 (ipykernel)",
   "language": "python",
   "name": "python3"
  },
  "language_info": {
   "codemirror_mode": {
    "name": "ipython",
    "version": 3
   },
   "file_extension": ".py",
   "mimetype": "text/x-python",
   "name": "python",
   "nbconvert_exporter": "python",
   "pygments_lexer": "ipython3",
   "version": "3.9.13"
  }
 },
 "nbformat": 4,
 "nbformat_minor": 5
}
