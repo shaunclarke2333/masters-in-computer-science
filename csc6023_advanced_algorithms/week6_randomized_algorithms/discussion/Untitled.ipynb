{
 "cells": [
  {
   "cell_type": "code",
   "execution_count": 1,
   "id": "5e08a744",
   "metadata": {},
   "outputs": [],
   "source": [
    "t = \"0x1a\""
   ]
  },
  {
   "cell_type": "code",
   "execution_count": 2,
   "id": "b0f4a82b",
   "metadata": {},
   "outputs": [],
   "source": [
    "t = t[2:]"
   ]
  },
  {
   "cell_type": "code",
   "execution_count": 3,
   "id": "e7d64af2",
   "metadata": {},
   "outputs": [
    {
     "name": "stdout",
     "output_type": "stream",
     "text": [
      "1a\n"
     ]
    }
   ],
   "source": [
    "print(t)"
   ]
  },
  {
   "cell_type": "code",
   "execution_count": 4,
   "id": "d3f71941",
   "metadata": {},
   "outputs": [
    {
     "name": "stdout",
     "output_type": "stream",
     "text": [
      "-0x1\n"
     ]
    }
   ],
   "source": [
    "print(hex(-1))"
   ]
  },
  {
   "cell_type": "code",
   "execution_count": 8,
   "id": "b8fc216a",
   "metadata": {},
   "outputs": [
    {
     "name": "stdout",
     "output_type": "stream",
     "text": [
      "4294967297\n"
     ]
    }
   ],
   "source": [
    "print((1 << 32) + 1)"
   ]
  },
  {
   "cell_type": "code",
   "execution_count": 11,
   "id": "b5d9dd60",
   "metadata": {},
   "outputs": [
    {
     "name": "stdout",
     "output_type": "stream",
     "text": [
      "yes\n"
     ]
    }
   ],
   "source": [
    "if -1 < 0:\n",
    "    print(\"yes\")"
   ]
  },
  {
   "cell_type": "code",
   "execution_count": 16,
   "id": "30b4403a",
   "metadata": {},
   "outputs": [
    {
     "name": "stdout",
     "output_type": "stream",
     "text": [
      "255\n"
     ]
    }
   ],
   "source": [
    "y = -1 & 0xFF\n",
    "print(y)"
   ]
  },
  {
   "cell_type": "code",
   "execution_count": 17,
   "id": "4832cbe8",
   "metadata": {},
   "outputs": [
    {
     "data": {
      "text/plain": [
       "int"
      ]
     },
     "execution_count": 17,
     "metadata": {},
     "output_type": "execute_result"
    }
   ],
   "source": [
    "type(y)"
   ]
  },
  {
   "cell_type": "code",
   "execution_count": 18,
   "id": "58b7fe8f",
   "metadata": {},
   "outputs": [
    {
     "data": {
      "text/plain": [
       "'0xff'"
      ]
     },
     "execution_count": 18,
     "metadata": {},
     "output_type": "execute_result"
    }
   ],
   "source": [
    "hex(y)"
   ]
  },
  {
   "cell_type": "code",
   "execution_count": 20,
   "id": "52265eb0",
   "metadata": {},
   "outputs": [],
   "source": [
    "hex_str = hex(-1 & 0xFFFFFFFF)"
   ]
  },
  {
   "cell_type": "code",
   "execution_count": 21,
   "id": "5c3c1ab1",
   "metadata": {},
   "outputs": [
    {
     "data": {
      "text/plain": [
       "'ffffffff'"
      ]
     },
     "execution_count": 21,
     "metadata": {},
     "output_type": "execute_result"
    }
   ],
   "source": [
    "hex_str[2:]"
   ]
  },
  {
   "cell_type": "code",
   "execution_count": 48,
   "id": "b613c723",
   "metadata": {},
   "outputs": [],
   "source": [
    "def to_hex(n):\n",
    "    \"\"\"Convert integer to to hex\"\"\"\n",
    "    bits=32\n",
    "    \n",
    "    if n < 0:\n",
    "        n &= (1 << bits) - 1  # two's complement mask\n",
    "\n",
    "    digits = \"0123456789abcdef\"\n",
    "    if n == 0:\n",
    "        return \"0\"\n",
    "\n",
    "    s = \"\"\n",
    "    while n:\n",
    "        s = digits[n % 16] + s\n",
    "        n //= 16\n",
    "    return s\n"
   ]
  },
  {
   "cell_type": "code",
   "execution_count": 51,
   "id": "30a01069",
   "metadata": {},
   "outputs": [
    {
     "data": {
      "text/plain": [
       "'ffffffff'"
      ]
     },
     "execution_count": 51,
     "metadata": {},
     "output_type": "execute_result"
    }
   ],
   "source": [
    "to_hex(-1)"
   ]
  },
  {
   "cell_type": "code",
   "execution_count": null,
   "id": "957a965f",
   "metadata": {},
   "outputs": [],
   "source": []
  }
 ],
 "metadata": {
  "kernelspec": {
   "display_name": "Python 3 (ipykernel)",
   "language": "python",
   "name": "python3"
  },
  "language_info": {
   "codemirror_mode": {
    "name": "ipython",
    "version": 3
   },
   "file_extension": ".py",
   "mimetype": "text/x-python",
   "name": "python",
   "nbconvert_exporter": "python",
   "pygments_lexer": "ipython3",
   "version": "3.9.13"
  }
 },
 "nbformat": 4,
 "nbformat_minor": 5
}
