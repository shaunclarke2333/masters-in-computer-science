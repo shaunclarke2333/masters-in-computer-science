{
 "cells": [
  {
   "cell_type": "code",
   "execution_count": null,
   "id": "c2b05355",
   "metadata": {},
   "outputs": [],
   "source": [
    "\"\"\"\n",
    "Write a function to find the longest common prefix string amongst an array of strings.\n",
    "\n",
    "If there is no common prefix, return an empty string \"\".\n",
    "\n",
    " \n",
    "\n",
    "Example 1:\n",
    "\n",
    "Input: strs = [\"flower\",\"flow\",\"flight\"]\n",
    "\"\"\""
   ]
  },
  {
   "cell_type": "code",
   "execution_count": 58,
   "id": "855c70a9",
   "metadata": {},
   "outputs": [
    {
     "name": "stdout",
     "output_type": "stream",
     "text": [
      "This is index: a\n",
      "This is index: ar\n",
      "This is index: bc\n",
      "This is index: an\n",
      "This is index: \n",
      "{'a': 1, 'ar': 1, 'bc': 1, 'an': 1, '': 1}\n",
      "{}\n",
      "0\n"
     ]
    }
   ],
   "source": [
    "from typing import List\n",
    "from typing import Dict\n",
    "\n",
    "common_pre: Dict = {}\n",
    "str_tracker: Dict = {}\n",
    "\n",
    "# strs = [\"flower\",\"flow\",\"flight\"]\n",
    "# strs = [\"dog\",\"racecar\",\"car\"]\n",
    "strs = [\"a\", \"arg\", \"bcd\", \"and\", \"\"]\n",
    "    \n",
    "def common_prefix(array: List[str]) -> str:\n",
    "    if len(strs) == 0:\n",
    "            return \"\"\n",
    "    for st in strs:\n",
    "        prefix = st[0:2]\n",
    "        print(f\"This is index: {st[0:2]}\")\n",
    "        if len(strs) == 1:\n",
    "            return prefix\n",
    "        elif prefix not in str_tracker:\n",
    "            str_tracker[prefix] = 1\n",
    "#             print(str_tracker)\n",
    "        elif prefix in str_tracker:\n",
    "            str_tracker[prefix] += 1\n",
    "            print(str_tracker[prefix])\n",
    "            if prefix not in common_pre:\n",
    "                common_pre[prefix] = 1\n",
    "            else:\n",
    "                common_pre[prefix] += 1\n",
    "    if len(common_pre) > 0:\n",
    "        key_list = list(common_pre.keys())\n",
    "        return key_list[0]\n",
    "    elif len(common_pre) < 0:\n",
    "        pss \n",
    "    \n",
    "    else:\n",
    "        return \"\"   \n",
    "    \n",
    "    \n",
    "\n",
    "common_prefix(strs)\n",
    "print(str_tracker)\n",
    "print(common_pre)\n",
    "print(len(common_pre))"
   ]
  },
  {
   "cell_type": "code",
   "execution_count": 32,
   "id": "e4b43a3b",
   "metadata": {},
   "outputs": [
    {
     "name": "stdout",
     "output_type": "stream",
     "text": [
      "fl\n",
      "{'fl': 3}\n",
      "1\n"
     ]
    }
   ],
   "source": [
    "# common_pre: Dict = {}\n",
    "# str_tracker: Dict = {}\n",
    "# strs = [\"flower\",\"flow\",\"flight\"]\n",
    "# # strs = [\"dog\",\"racecar\",\"car\"]\n",
    "\n",
    "# for st in strs:\n",
    "#     prefix: str = st[0:2]\n",
    "# #     print(st[0:2])\n",
    "#     if prefix not in str_tracker:\n",
    "#         str_tracker[prefix] = 1\n",
    "#     elif prefix in str_tracker:\n",
    "#         str_tracker[prefix] += 1\n",
    "# #         print(str_tracker[prefix])\n",
    "#         if prefix not in common_pre:\n",
    "#             common_pre[prefix] = 1\n",
    "#         else:\n",
    "#             common_pre[prefix] += 1\n",
    "# if len(common_pre) > 0:\n",
    "#     key_list = list(common_pre.keys())\n",
    "#     print(key_list[0])\n",
    "# else:\n",
    "#     print(\"\")\n",
    "    \n",
    "# print(str_tracker)\n",
    "# print(len(common_pre))"
   ]
  },
  {
   "cell_type": "code",
   "execution_count": 38,
   "id": "cef1277e",
   "metadata": {},
   "outputs": [
    {
     "name": "stdout",
     "output_type": "stream",
     "text": [
      "['a']\n"
     ]
    }
   ],
   "source": [
    "x = [\"a\"]\n",
    "print(x[0:2])"
   ]
  },
  {
   "cell_type": "code",
   "execution_count": null,
   "id": "de017845",
   "metadata": {},
   "outputs": [],
   "source": []
  }
 ],
 "metadata": {
  "kernelspec": {
   "display_name": "Python 3 (ipykernel)",
   "language": "python",
   "name": "python3"
  },
  "language_info": {
   "codemirror_mode": {
    "name": "ipython",
    "version": 3
   },
   "file_extension": ".py",
   "mimetype": "text/x-python",
   "name": "python",
   "nbconvert_exporter": "python",
   "pygments_lexer": "ipython3",
   "version": "3.9.13"
  }
 },
 "nbformat": 4,
 "nbformat_minor": 5
}
