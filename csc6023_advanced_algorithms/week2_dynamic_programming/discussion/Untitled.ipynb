{
 "cells": [
  {
   "cell_type": "code",
   "execution_count": 243,
   "id": "3ba70bb4",
   "metadata": {},
   "outputs": [],
   "source": [
    "# nums = [0,1,2,2,3,0,4,2]\n",
    "nums = [3,3]"
   ]
  },
  {
   "cell_type": "code",
   "execution_count": 244,
   "id": "f42d484d",
   "metadata": {},
   "outputs": [],
   "source": [
    "# val = 2\n",
    "val =3 "
   ]
  },
  {
   "cell_type": "code",
   "execution_count": 245,
   "id": "0dd55025",
   "metadata": {},
   "outputs": [
    {
     "name": "stdout",
     "output_type": "stream",
     "text": [
      "This is num: 3 at index 0\n",
      "len of nums after removal: 1\n"
     ]
    }
   ],
   "source": [
    "\n",
    "for i,num in enumerate(nums):\n",
    "#         print(f\"This is num: {num} at index {i}\")\n",
    "        if num == val:\n",
    "            nums.remove(num)\n",
    "#             print(f\"len of nums after removal: {len(nums)}\")\n",
    "        elif nums[-1] == val:\n",
    "#             print(f\"This is num-1: {num[-1]} at index {i}\")\n",
    "            nums.remove(nums[-1])\n",
    "    #     print(f\"len: {len(nums)}\")\n",
    "        elif (len(nums)-1) != i:\n",
    "#             print(f\"Final element{i}\")\n",
    "            if nums[i+1] == val:\n",
    "                nums.remove(nums[i+1])\n",
    "if len(nums) > 0:\n",
    "    if num == val:\n",
    "        nums.remove(num)\n"
   ]
  },
  {
   "cell_type": "code",
   "execution_count": null,
   "id": "b1da1d0c",
   "metadata": {},
   "outputs": [],
   "source": [
    " for i,num in enumerate(nums):\n",
    "            if num == val:\n",
    "                nums.remove(num)\n",
    "            elif nums[-1] == val:\n",
    "                nums.remove(nums[-1])\n",
    "            elif (len(nums)-1) != i:\n",
    "\n",
    "                if nums[i+1] == val:\n",
    "                    nums.remove(nums[i+1])\n",
    "        "
   ]
  },
  {
   "cell_type": "code",
   "execution_count": 246,
   "id": "0b9fa1db",
   "metadata": {},
   "outputs": [
    {
     "name": "stdout",
     "output_type": "stream",
     "text": [
      "[]\n"
     ]
    }
   ],
   "source": [
    "print(nums)"
   ]
  },
  {
   "cell_type": "code",
   "execution_count": 459,
   "id": "0693f002",
   "metadata": {},
   "outputs": [],
   "source": [
    "# nums = [0,1,2,2,3,0,4,2]\n",
    "# nums = [3,3]\n",
    "# nums = [1]"
   ]
  },
  {
   "cell_type": "code",
   "execution_count": 460,
   "id": "b4633438",
   "metadata": {},
   "outputs": [],
   "source": [
    "# val = 2\n",
    "# val =3\n",
    "# val = 1"
   ]
  },
  {
   "cell_type": "code",
   "execution_count": 461,
   "id": "163b68d8",
   "metadata": {
    "scrolled": true
   },
   "outputs": [],
   "source": [
    "index_list = []\n",
    "for i,num in enumerate(nums):\n",
    "    if num == val:\n",
    "        index_list.append(i)\n",
    "        \n",
    "length = len(nums)\n",
    "len_counter = 0\n",
    "# print(index_list)\n",
    "# print(nums)\n",
    "for i in index_list:\n",
    "#     print(f\"len counter: {len_counter}\")\n",
    "#     print(f\"This is i: {i}\")\n",
    "    for num in nums:\n",
    "        if len(nums) == 0:\n",
    "            break\n",
    "        if len(nums) == length:\n",
    "            nums.remove(nums[i])\n",
    "#             print(f\"This is len nums after remove: {len(nums)}\")\n",
    "#             print(nums)\n",
    "            len_counter += 1\n",
    "        if len(nums) != 0:\n",
    "            if len(nums) < length and nums[i- len_counter] == val and len(nums) != 0:\n",
    "#                 print(f\"Didn't kip\")\n",
    "#                 print(f\"This is len_counter: {len_counter}\")\n",
    "                index = i-len_counter\n",
    "#                 print(f\"this is i - len_counter {index}\")\n",
    "                nums.remove(nums[i- len_counter])\n",
    "                len_counter += 1\n",
    "            \n",
    "\n",
    "        \n",
    "        "
   ]
  },
  {
   "cell_type": "code",
   "execution_count": 462,
   "id": "538eae50",
   "metadata": {},
   "outputs": [
    {
     "name": "stdout",
     "output_type": "stream",
     "text": [
      "[]\n"
     ]
    }
   ],
   "source": [
    "print(nums)"
   ]
  },
  {
   "cell_type": "code",
   "execution_count": 322,
   "id": "6d9d895b",
   "metadata": {},
   "outputs": [
    {
     "name": "stdout",
     "output_type": "stream",
     "text": [
      "0\n"
     ]
    }
   ],
   "source": [
    "print(length - 1)"
   ]
  },
  {
   "cell_type": "code",
   "execution_count": 327,
   "id": "2fc7b9dc",
   "metadata": {},
   "outputs": [],
   "source": [
    "nums = [0,1,2,2,3,0,4,2]"
   ]
  },
  {
   "cell_type": "code",
   "execution_count": 328,
   "id": "0b020216",
   "metadata": {},
   "outputs": [
    {
     "data": {
      "text/plain": [
       "8"
      ]
     },
     "execution_count": 328,
     "metadata": {},
     "output_type": "execute_result"
    }
   ],
   "source": [
    "len(nums)"
   ]
  },
  {
   "cell_type": "code",
   "execution_count": 332,
   "id": "488d15fd",
   "metadata": {},
   "outputs": [
    {
     "name": "stdout",
     "output_type": "stream",
     "text": [
      "This is i: 0\n",
      "\n",
      " This is i - 1: -1\n",
      "This is i: 1\n",
      "\n",
      " This is i - 1: 0\n",
      "This is i: 2\n",
      "\n",
      " This is i - 1: 1\n",
      "This is i: 3\n",
      "\n",
      " This is i - 1: 2\n",
      "This is i: 4\n",
      "\n",
      " This is i - 1: 3\n",
      "This is i: 5\n",
      "\n",
      " This is i - 1: 4\n",
      "This is i: 6\n",
      "\n",
      " This is i - 1: 5\n"
     ]
    }
   ],
   "source": [
    "for i in range(len(nums)):\n",
    "    print(f\"This is i: {i}\")\n",
    "    i-=1\n",
    "    \n",
    "    print(f\"\\n This is i - 1: {i}\")"
   ]
  },
  {
   "cell_type": "code",
   "execution_count": 329,
   "id": "30c24213",
   "metadata": {},
   "outputs": [
    {
     "name": "stdout",
     "output_type": "stream",
     "text": [
      "[0, 1, 2, 3, 0, 4, 2]\n"
     ]
    }
   ],
   "source": [
    "nums.remove(2)\n",
    "print(nums)"
   ]
  },
  {
   "cell_type": "code",
   "execution_count": 439,
   "id": "201a125d",
   "metadata": {},
   "outputs": [
    {
     "data": {
      "text/plain": [
       "0"
      ]
     },
     "execution_count": 439,
     "metadata": {},
     "output_type": "execute_result"
    }
   ],
   "source": [
    "y = []\n",
    "len(y)"
   ]
  },
  {
   "cell_type": "code",
   "execution_count": null,
   "id": "df1a9f36",
   "metadata": {},
   "outputs": [],
   "source": []
  }
 ],
 "metadata": {
  "kernelspec": {
   "display_name": "Python 3 (ipykernel)",
   "language": "python",
   "name": "python3"
  },
  "language_info": {
   "codemirror_mode": {
    "name": "ipython",
    "version": 3
   },
   "file_extension": ".py",
   "mimetype": "text/x-python",
   "name": "python",
   "nbconvert_exporter": "python",
   "pygments_lexer": "ipython3",
   "version": "3.9.13"
  }
 },
 "nbformat": 4,
 "nbformat_minor": 5
}
