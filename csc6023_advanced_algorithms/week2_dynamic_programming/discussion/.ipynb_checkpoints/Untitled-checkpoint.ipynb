{
 "cells": [
  {
   "cell_type": "code",
   "execution_count": null,
   "id": "75be7809",
   "metadata": {},
   "outputs": [],
   "source": [
    "\"\"\"\n",
    "Write a function to find the longest common prefix string amongst an array of strings.\n",
    "\n",
    "If there is no common prefix, return an empty string \"\".\n",
    "\n",
    " \n",
    "\n",
    "Example 1:\n",
    "\n",
    "Input: strs = [\"flower\",\"flow\",\"flight\"]\n",
    "\"\"\""
   ]
  },
  {
   "cell_type": "code",
   "execution_count": 3,
   "id": "ed4c877d",
   "metadata": {},
   "outputs": [],
   "source": [
    "from typing import List\n",
    "from typing import Dict\n",
    "str_tracker: Dict = {}\n",
    "def common_prefix(array: List[str]) -> str:\n",
    "    pass"
   ]
  },
  {
   "cell_type": "code",
   "execution_count": 8,
   "id": "368975a9",
   "metadata": {},
   "outputs": [
    {
     "name": "stdout",
     "output_type": "stream",
     "text": [
      "{'do': 1, 'ra': 1, 'ca': 1}\n"
     ]
    }
   ],
   "source": [
    "common_counter: int = 0\n",
    "str_tracker: Dict = {}\n",
    "# strs = [\"flower\",\"flow\",\"flight\"]\n",
    "strs = [\"dog\",\"racecar\",\"car\"]\n",
    "\n",
    "for st in strs:\n",
    "    prefix: str = st[0:2]\n",
    "#     print(st[0:2])\n",
    "    if prefix not in str_tracker:\n",
    "        str_tracker[prefix] = 1\n",
    "    elif prefix in str_tracker:\n",
    "        str_tracker[prefix] += 1\n",
    "    \n",
    "print(str_tracker)"
   ]
  },
  {
   "cell_type": "code",
   "execution_count": null,
   "id": "38f62b09",
   "metadata": {},
   "outputs": [],
   "source": []
  }
 ],
 "metadata": {
  "kernelspec": {
   "display_name": "Python 3 (ipykernel)",
   "language": "python",
   "name": "python3"
  },
  "language_info": {
   "codemirror_mode": {
    "name": "ipython",
    "version": 3
   },
   "file_extension": ".py",
   "mimetype": "text/x-python",
   "name": "python",
   "nbconvert_exporter": "python",
   "pygments_lexer": "ipython3",
   "version": "3.9.13"
  }
 },
 "nbformat": 4,
 "nbformat_minor": 5
}
