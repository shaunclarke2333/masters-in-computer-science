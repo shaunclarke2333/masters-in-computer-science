{
 "cells": [
  {
   "cell_type": "code",
   "execution_count": null,
   "id": "f90a7e90",
   "metadata": {},
   "outputs": [],
   "source": [
    "\"\"\"\n",
    "Loop through linked list to get data in each node\n",
    "\n",
    "\"\"\""
   ]
  },
  {
   "cell_type": "code",
   "execution_count": null,
   "id": "d57ba70a",
   "metadata": {},
   "outputs": [],
   "source": []
  },
  {
   "cell_type": "code",
   "execution_count": 51,
   "id": "ee4654c8",
   "metadata": {},
   "outputs": [],
   "source": [
    "from typing import List"
   ]
  },
  {
   "cell_type": "code",
   "execution_count": null,
   "id": "74067848",
   "metadata": {},
   "outputs": [],
   "source": [
    "# This class handles getting the numbers and creating the sorted list\n",
    "class CreateNumbersList:\n",
    "            \n",
    "    # This method reads the content of a text file\n",
    "    def read_txt_file(self, file_name: str) -> str:\n",
    "        # Opening the text file\n",
    "        with open(file_name, \"r\") as file:\n",
    "            # reading content from text file\n",
    "            file_content: str = file.read()\n",
    "            # removing \\n from the content read from the file\n",
    "            file_content: str = file_content.replace('\\n', ',')\n",
    "        # closing the text file\n",
    "        file.close()\n",
    "        return file_content\n",
    "    \n",
    "    # This method formats the file content as a sorted list\n",
    "    def create_sorted_list(self, file_content: str) -> List:\n",
    "        # converting string to a list\n",
    "        file_content: List = file_content.split(\",\")\n",
    "        # Converting items in list to int using map and converting it back to a list\n",
    "        file_content: List = list(map(int, file_content))\n",
    "        # Sorting the list\n",
    "        file_content.sort()\n",
    "        # Reversing the sorted list\n",
    "        file_content.reverse()\n",
    "        return file_content\n",
    "        "
   ]
  },
  {
   "cell_type": "code",
   "execution_count": null,
   "id": "3cf01ed5",
   "metadata": {},
   "outputs": [],
   "source": [
    "# # Creating the create numbers list object\n",
    "# create_list = CreateNumbersList()\n"
   ]
  },
  {
   "cell_type": "code",
   "execution_count": null,
   "id": "5eeedee0",
   "metadata": {},
   "outputs": [],
   "source": [
    "# file_content = create_list.read_txt_file(\"numbers.txt\")\n",
    "# print(file_content)"
   ]
  },
  {
   "cell_type": "code",
   "execution_count": null,
   "id": "0bfa7912",
   "metadata": {},
   "outputs": [],
   "source": [
    "# test = create_list.create_sorted_list(file_content)\n",
    "# print(test)\n"
   ]
  },
  {
   "cell_type": "code",
   "execution_count": null,
   "id": "f5fda369",
   "metadata": {},
   "outputs": [],
   "source": [
    "class Node:\n",
    "    def __init__(self, d):\n",
    "        self.Data = d\n",
    "        self.Next = None"
   ]
  },
  {
   "cell_type": "code",
   "execution_count": null,
   "id": "72db9be5",
   "metadata": {},
   "outputs": [],
   "source": [
    "class Linkedlist:\n",
    "    def __init__(self, d=None):\n",
    "        if (d == None): # an empty list\n",
    "            self.Header = None\n",
    "            self.Current = None\n",
    "        else:\n",
    "            self.Header = Node(d)\n",
    "            self.Current = self.Header\n",
    "\n",
    "    def nextCurrent(self):\n",
    "        if (self.Current.Next is not None):\n",
    "            self.Current = self.Current.Next\n",
    "        else:\n",
    "            self.Current = self.Header\n",
    "\n",
    "    def resetCurrent(self):\n",
    "        self.Current = self.Header\n",
    "\n",
    "    def getCurrent(self):\n",
    "        if (self.Current is not None):\n",
    "            return self.Current.Data\n",
    "        else:\n",
    "            return None\n",
    "        \n",
    "    def insertBeginning(self, d):\n",
    "        if (self.Header is None): # if list is empty\n",
    "            self.Header = Node(d)\n",
    "            self.Current = self.Header\n",
    "        else:                     # if list not empty\n",
    "            Tmp = Node(d)\n",
    "            Tmp.Next = self.Header\n",
    "            self.Header = Tmp\n",
    "\n",
    "    def insertCurrentNext(self, d):\n",
    "        if (self.Header is None): # if list is empty\n",
    "            self.Header = Node(d)\n",
    "            self.Current = self.Header\n",
    "        else:                     # if list not empty\n",
    "            Tmp = Node(d)\n",
    "            Tmp.Next = self.Current.Next\n",
    "            self.Current.Next = Tmp\n",
    "\n",
    "    def removeBeginning(self):\n",
    "        if (self.Header is None): # if list is empty\n",
    "            return None\n",
    "        else:                     # if list not empty\n",
    "            ans = self.Header.Data\n",
    "            self.Header = self.Header.Next\n",
    "            self.Current = self.Header\n",
    "            return ans\n",
    "        \n",
    "    def removeCurrentNext(self):\n",
    "        if (self.Current.Next is None): # if there is no node\n",
    "            return None                 #        after Current\n",
    "        else:                           # if there is\n",
    "            ans = self.Current.Next.Data\n",
    "            self.Current.Next = self.Current.Next.Next\n",
    "            return ans\n",
    "        \n",
    "    def printList(self,msg=\"=====\"):\n",
    "        p = self.Header\n",
    "        print(\"====\",msg)\n",
    "        while (p is not None):\n",
    "            print(p.Data, end=\" \")\n",
    "            p = p.Next\n",
    "        if (self.Current is not None):\n",
    "            print(\"Current:\", self.Current.Data)\n",
    "        else:\n",
    "            print(\"Empty Linked List\")\n",
    "        input(\"----------------\")"
   ]
  },
  {
   "cell_type": "code",
   "execution_count": null,
   "id": "46d4c3a1",
   "metadata": {},
   "outputs": [],
   "source": [
    "# This class prompts the user for an input\n",
    "class UserInput:\n",
    "    \"\"\"\n",
    "    This class does not need to be instantiated.\n",
    "    It prompts the user to input an integer.\n",
    "    \"\"\"\n",
    "    # This static method prompts the user for input\n",
    "    @staticmethod\n",
    "    def get_user_input():\n",
    "        # While loop to prompt user until input is satisfied\n",
    "        while True:\n",
    "            try:\n",
    "                # Prompting the user to enter an integer\n",
    "                user_input: int = int(input(f\"Enter a number, any number\\n: \").strip())\n",
    "                return user_input\n",
    "            except ValueError:\n",
    "                print(\"\\nYour input must be a number\\n\")"
   ]
  },
  {
   "cell_type": "code",
   "execution_count": 73,
   "id": "aac572bc",
   "metadata": {},
   "outputs": [
    {
     "name": "stdout",
     "output_type": "stream",
     "text": [
      "==== List created\n",
      "Empty Linked List\n",
      "----------------\n",
      "==== Inserting 52 at Beginning\n",
      "52 Current: 52\n",
      "----------------\n",
      "==== Inserting 42 at Beginning\n",
      "42 52 Current: 52\n",
      "----------------\n",
      "==== Inserting 41 at Beginning\n",
      "41 42 52 Current: 52\n",
      "----------------\n",
      "==== Inserting 36 at Beginning\n",
      "36 41 42 52 Current: 52\n",
      "----------------\n",
      "==== Inserting 32 at Beginning\n",
      "32 36 41 42 52 Current: 52\n",
      "----------------\n",
      "==== Inserting 26 at Beginning\n",
      "26 32 36 41 42 52 Current: 52\n",
      "----------------\n",
      "==== Inserting 25 at Beginning\n",
      "25 26 32 36 41 42 52 Current: 52\n",
      "----------------\n",
      "==== Inserting 21 at Beginning\n",
      "21 25 26 32 36 41 42 52 Current: 52\n",
      "----------------\n",
      "==== Inserting 14 at Beginning\n",
      "14 21 25 26 32 36 41 42 52 Current: 52\n",
      "----------------\n",
      "==== Inserting 10 at Beginning\n",
      "10 14 21 25 26 32 36 41 42 52 Current: 52\n",
      "----------------\n",
      "Enter a number, any number\n",
      ": 3\n",
      "3\n",
      "calling method\n",
      "calling method\n",
      "calling method\n",
      "==== Current status of the list\n",
      "10 14 21 25 26 32 36 41 42 52 Current: 25\n",
      "----------------\n"
     ]
    }
   ],
   "source": [
    "# This function traverses the linked list by calling nextcurrent n times.\n",
    "def traverse_linked_list(obj, method_name: str, num_places: int) -> None:\n",
    "    \"\"\"\n",
    "    Executes nextcurrent n times.\n",
    "    \"\"\"\n",
    "    # looping number of places to move to next current in linked list\n",
    "    for _ in range(num_places):\n",
    "        print(\"calling method\")\n",
    "        # using the object and method name to call the method on each iteration\n",
    "        getattr(obj, method_name)()\n",
    "        \n",
    "# def main():\n",
    "    # Creating the create numbers list object\n",
    "create_list: CreateNumbersList = CreateNumbersList()\n",
    "# Reading the data from the txt file\n",
    "file_content: str = create_list.read_txt_file(\"numbers.txt\")\n",
    "# Getting the sorted list of data from the text file:\n",
    "a: List = create_list.create_sorted_list(file_content)\n",
    "\n",
    "# Instantiating link list object\n",
    "l: Linkedlist = Linkedlist()\n",
    "# printing linked list with status message\n",
    "l.printList(\"List created\")\n",
    "# looping through sorted list and add items to a linked list\n",
    "for num in a:\n",
    "    # adding number to the head of the linked list\n",
    "    l.insertBeginning(num)\n",
    "    # printing list with custom message\n",
    "    l.printList(f\"Inserting {num} at Beginning\")\n",
    "# resetting the current node to the header node at the beggining of linked list\n",
    "l.resetCurrent()\n",
    "# priting the current state of the list\n",
    "l.printList(\"Current status of the list\")\n",
    "\n",
    "# Getting user input\n",
    "number_input: int = UserInput.get_user_input()\n",
    "print(number_input)\n",
    "\n",
    "# Changing places in the linked list.\n",
    "traverse_linked_list(l, \"nextCurrent\", 3)\n",
    "\n",
    "# Counter to hold the place to insert number\n",
    "place_counter = 0\n",
    "# looping through linked list to get the data from each node\n",
    "for data in range(len(a)):\n",
    "    # Getting the current node\n",
    "    current_node: int = l.getCurrent()\n",
    "    print(f\"current node is {current_node}\")\n",
    "    if data \n",
    "\n",
    "# main()"
   ]
  },
  {
   "cell_type": "code",
   "execution_count": null,
   "id": "a79d683e",
   "metadata": {},
   "outputs": [],
   "source": [
    "\n"
   ]
  },
  {
   "cell_type": "code",
   "execution_count": null,
   "id": "c66a00fb",
   "metadata": {},
   "outputs": [],
   "source": []
  },
  {
   "cell_type": "code",
   "execution_count": 49,
   "id": "ac3cb946",
   "metadata": {},
   "outputs": [
    {
     "data": {
      "text/plain": [
       "int"
      ]
     },
     "execution_count": 49,
     "metadata": {},
     "output_type": "execute_result"
    }
   ],
   "source": []
  },
  {
   "cell_type": "code",
   "execution_count": null,
   "id": "dc8401a4",
   "metadata": {},
   "outputs": [],
   "source": [
    "#     mylist.nextCurrent()\n",
    "#     mylist.printList(\"Moving the Current to the next (circularly)\")\n",
    "#     mylist.nextCurrent()\n",
    "#     mylist.printList(\"Moving the Current to the next (circularly)\")\n",
    "#     print(\"The current is:\",mylist.getCurrent())\n",
    "#     print(mylist.removeCurrentNext())\n",
    "#     mylist.printList(\"Removing next the Current\")\n",
    "#     mylist.insertCurrentNext(23)\n",
    "#     mylist.printList(\"Inserting 23 next the Current\")\n",
    "    # asking the user for input"
   ]
  }
 ],
 "metadata": {
  "kernelspec": {
   "display_name": "Python 3 (ipykernel)",
   "language": "python",
   "name": "python3"
  },
  "language_info": {
   "codemirror_mode": {
    "name": "ipython",
    "version": 3
   },
   "file_extension": ".py",
   "mimetype": "text/x-python",
   "name": "python",
   "nbconvert_exporter": "python",
   "pygments_lexer": "ipython3",
   "version": "3.9.13"
  }
 },
 "nbformat": 4,
 "nbformat_minor": 5
}
