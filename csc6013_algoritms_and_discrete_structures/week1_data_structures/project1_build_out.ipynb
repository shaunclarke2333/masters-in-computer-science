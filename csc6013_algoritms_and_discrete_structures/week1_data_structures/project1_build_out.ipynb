{
 "cells": [
  {
   "cell_type": "code",
   "execution_count": 1,
   "id": "7d6c1b6a",
   "metadata": {},
   "outputs": [],
   "source": [
    "from typing import List"
   ]
  },
  {
   "cell_type": "code",
   "execution_count": 14,
   "id": "b328148f",
   "metadata": {},
   "outputs": [],
   "source": [
    "# This class handles getting the numbers and creating the sorted list\n",
    "class CreateNumbersList:\n",
    "            \n",
    "    # This method reads the content of a text file\n",
    "    def read_txt_file(self, file_name: str) -> str:\n",
    "        # Opening the text file\n",
    "        with open(file_name, \"r\") as file:\n",
    "            # reading content from text file\n",
    "            file_content: str = file.read()\n",
    "            # removing \\n from the content read from the file\n",
    "            file_content: str = file_content.replace('\\n', ',')\n",
    "        # closing the text file\n",
    "        file.close()\n",
    "        return file_content\n",
    "    \n",
    "    # This method formats the file content as a sorted list\n",
    "    def create_sorted_list(self, file_content: str) -> List:\n",
    "        # converting string to a list\n",
    "        file_content: List = file_content.split(\",\")\n",
    "        # Converting items in list to int using map and converting it back to a list\n",
    "        file_content: List = list(map(int, file_content))\n",
    "        # Sorting the list\n",
    "        file_content.sort()\n",
    "        return file_content\n",
    "        "
   ]
  },
  {
   "cell_type": "code",
   "execution_count": 15,
   "id": "f763f522",
   "metadata": {},
   "outputs": [],
   "source": [
    "# Creating the create numbers list object\n",
    "create_list = CreateNumbersList()\n"
   ]
  },
  {
   "cell_type": "code",
   "execution_count": 16,
   "id": "3acfc3b7",
   "metadata": {},
   "outputs": [
    {
     "name": "stdout",
     "output_type": "stream",
     "text": [
      "10,52,36,25,14,26,32,21,41,42\n"
     ]
    }
   ],
   "source": [
    "file_content = create_list.read_txt_file(\"numbers.txt\")\n",
    "print(file_content)"
   ]
  },
  {
   "cell_type": "code",
   "execution_count": 17,
   "id": "e8bb2a36",
   "metadata": {},
   "outputs": [
    {
     "name": "stdout",
     "output_type": "stream",
     "text": [
      "[10, 14, 21, 25, 26, 32, 36, 41, 42, 52]\n"
     ]
    }
   ],
   "source": [
    "test = create_list.create_sorted_list(file_content)\n",
    "print(test)\n"
   ]
  },
  {
   "cell_type": "code",
   "execution_count": null,
   "id": "053ae654",
   "metadata": {},
   "outputs": [],
   "source": []
  },
  {
   "cell_type": "code",
   "execution_count": null,
   "id": "b1c71086",
   "metadata": {},
   "outputs": [],
   "source": []
  }
 ],
 "metadata": {
  "kernelspec": {
   "display_name": "Python 3 (ipykernel)",
   "language": "python",
   "name": "python3"
  },
  "language_info": {
   "codemirror_mode": {
    "name": "ipython",
    "version": 3
   },
   "file_extension": ".py",
   "mimetype": "text/x-python",
   "name": "python",
   "nbconvert_exporter": "python",
   "pygments_lexer": "ipython3",
   "version": "3.9.13"
  }
 },
 "nbformat": 4,
 "nbformat_minor": 5
}
