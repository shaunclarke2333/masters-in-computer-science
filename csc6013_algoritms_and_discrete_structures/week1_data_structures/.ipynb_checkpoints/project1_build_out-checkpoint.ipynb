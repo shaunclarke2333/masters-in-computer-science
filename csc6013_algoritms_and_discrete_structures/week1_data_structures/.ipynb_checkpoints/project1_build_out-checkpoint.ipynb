{
 "cells": [
  {
   "cell_type": "code",
   "execution_count": 1,
   "id": "4109d260",
   "metadata": {},
   "outputs": [
    {
     "data": {
      "text/plain": [
       "'\\nXX-Create a program that reads a list of Integer numbers from a file named \"data.txt\" (use your own file with about 10 numbers - no repetitions and one number per line);\\nXX-Store those numbers into an array a and sort it - a.sort();\\nUse the linked list and node classes seen in class to store the ordered elements of a into a LinkedList structure L;\\nAsk the user a Integer value x;\\nLook for the position to insert x in L:\\n    If the value x is already in L, remove it;\\n    If it is not, insert x in the appropriated position so L remains sorted;\\nGo to your IDE and try to program it (your code must run correctly on IDLE);\\nSave your program in a .py file and submit it.\\n'"
      ]
     },
     "execution_count": 1,
     "metadata": {},
     "output_type": "execute_result"
    }
   ],
   "source": [
    "\"\"\"\n",
    "XX-Create a program that reads a list of Integer numbers from a file named \"data.txt\" (use your own file with about 10 numbers - no repetitions and one number per line);\n",
    "XX-Store those numbers into an array a and sort it - a.sort();\n",
    "Use the linked list and node classes seen in class to store the ordered elements of a into a LinkedList structure L;\n",
    "Ask the user a Integer value x;\n",
    "Look for the position to insert x in L:\n",
    "    If the value x is already in L, remove it;\n",
    "    If it is not, insert x in the appropriated position so L remains sorted;\n",
    "Go to your IDE and try to program it (your code must run correctly on IDLE);\n",
    "Save your program in a .py file and submit it.\n",
    "\"\"\""
   ]
  },
  {
   "cell_type": "code",
   "execution_count": null,
   "id": "87ade1d5",
   "metadata": {},
   "outputs": [],
   "source": []
  },
  {
   "cell_type": "code",
   "execution_count": 2,
   "id": "ffe08d23",
   "metadata": {},
   "outputs": [],
   "source": [
    "from typing import List"
   ]
  },
  {
   "cell_type": "code",
   "execution_count": 3,
   "id": "58cad69d",
   "metadata": {},
   "outputs": [],
   "source": [
    "# This class handles getting the numbers and creating the sorted list\n",
    "class CreateNumbersList:\n",
    "            \n",
    "    # This method reads the content of a text file\n",
    "    def read_txt_file(self, file_name: str) -> str:\n",
    "        # Opening the text file\n",
    "        with open(file_name, \"r\") as file:\n",
    "            # reading content from text file\n",
    "            file_content: str = file.read()\n",
    "            # removing \\n from the content read from the file\n",
    "            file_content: str = file_content.replace('\\n', ',')\n",
    "        # closing the text file\n",
    "        file.close()\n",
    "        return file_content\n",
    "    \n",
    "    # This method formats the file content as a sorted list\n",
    "    def create_sorted_list(self, file_content: str) -> List:\n",
    "        # converting string to a list\n",
    "        file_content: List = file_content.split(\",\")\n",
    "        # Converting items in list to int using map and converting it back to a list\n",
    "        file_content: List = list(map(int, file_content))\n",
    "        # Sorting the list\n",
    "        file_content.sort()\n",
    "        return file_content\n",
    "        "
   ]
  },
  {
   "cell_type": "code",
   "execution_count": 4,
   "id": "b2ddb839",
   "metadata": {},
   "outputs": [],
   "source": [
    "# # Creating the create numbers list object\n",
    "# create_list = CreateNumbersList()\n"
   ]
  },
  {
   "cell_type": "code",
   "execution_count": 5,
   "id": "9b849112",
   "metadata": {},
   "outputs": [],
   "source": [
    "# file_content = create_list.read_txt_file(\"numbers.txt\")\n",
    "# print(file_content)"
   ]
  },
  {
   "cell_type": "code",
   "execution_count": 6,
   "id": "90c1b2b7",
   "metadata": {},
   "outputs": [],
   "source": [
    "# test = create_list.create_sorted_list(file_content)\n",
    "# print(test)\n"
   ]
  },
  {
   "cell_type": "code",
   "execution_count": 7,
   "id": "923d5fa5",
   "metadata": {},
   "outputs": [],
   "source": [
    "class Node:\n",
    "    def __init__(self, d):\n",
    "        self.Data = d\n",
    "        self.Next = None"
   ]
  },
  {
   "cell_type": "code",
   "execution_count": 8,
   "id": "9d11284c",
   "metadata": {},
   "outputs": [],
   "source": [
    "class Linkedlist:\n",
    "    def __init__(self, d=None):\n",
    "        if (d == None): # an empty list\n",
    "            self.Header = None\n",
    "            self.Current = None\n",
    "        else:\n",
    "            self.Header = Node(d)\n",
    "            self.Current = self.Header\n",
    "\n",
    "    def nextCurrent(self):\n",
    "        if (self.Current.Next is not None):\n",
    "            self.Current = self.Current.Next\n",
    "        else:\n",
    "            self.Current = self.Header\n",
    "\n",
    "    def resetCurrent(self):\n",
    "        self.Current = self.Header\n",
    "\n",
    "    def getCurrent(self):\n",
    "        if (self.Current is not None):\n",
    "            return self.Current.Data\n",
    "        else:\n",
    "            return None\n",
    "        \n",
    "    def insertBeginning(self, d):\n",
    "        if (self.Header is None): # if list is empty\n",
    "            self.Header = Node(d)\n",
    "            self.Current = self.Header\n",
    "        else:                     # if list not empty\n",
    "            Tmp = Node(d)\n",
    "            Tmp.Next = self.Header\n",
    "            self.Header = Tmp\n",
    "\n",
    "    def insertCurrentNext(self, d):\n",
    "        if (self.Header is None): # if list is empty\n",
    "            self.Header = Node(d)\n",
    "            self.Current = self.Header\n",
    "        else:                     # if list not empty\n",
    "            Tmp = Node(d)\n",
    "            Tmp.Next = self.Current.Next\n",
    "            self.Current.Next = Tmp\n",
    "\n",
    "    def removeBeginning(self):\n",
    "        if (self.Header is None): # if list is empty\n",
    "            return None\n",
    "        else:                     # if list not empty\n",
    "            ans = self.Header.Data\n",
    "            self.Header = self.Header.Next\n",
    "            self.Current = self.Header\n",
    "            return ans\n",
    "        \n",
    "    def removeCurrentNext(self):\n",
    "        if (self.Current.Next is None): # if there is no node\n",
    "            return None                 #        after Current\n",
    "        else:                           # if there is\n",
    "            ans = self.Current.Next.Data\n",
    "            self.Current.Next = self.Current.Next.Next\n",
    "            return ans\n",
    "        \n",
    "    def printList(self,msg=\"=====\"):\n",
    "        p = self.Header\n",
    "        print(\"====\",msg)\n",
    "        while (p is not None):\n",
    "            print(p.Data, end=\" \")\n",
    "            p = p.Next\n",
    "        if (self.Current is not None):\n",
    "            print(\"Current:\", self.Current.Data)\n",
    "        else:\n",
    "            print(\"Empty Linked List\")\n",
    "        input(\"----------------\")"
   ]
  },
  {
   "cell_type": "code",
   "execution_count": null,
   "id": "038da77a",
   "metadata": {},
   "outputs": [],
   "source": []
  },
  {
   "cell_type": "code",
   "execution_count": 10,
   "id": "bf083164",
   "metadata": {},
   "outputs": [
    {
     "name": "stdout",
     "output_type": "stream",
     "text": [
      "==== List created\n",
      "Empty Linked List\n",
      "----------------\n",
      "==== Inserting 10 at Beginning\n",
      "10 Current: 10\n",
      "----------------\n",
      "==== Inserting 14 at Beginning\n",
      "14 10 Current: 10\n",
      "----------------\n",
      "==== Inserting 21 at Beginning\n",
      "21 14 10 Current: 10\n",
      "----------------\n",
      "==== Inserting 25 at Beginning\n",
      "25 21 14 10 Current: 10\n",
      "----------------\n",
      "==== Inserting 26 at Beginning\n",
      "26 25 21 14 10 Current: 10\n",
      "----------------\n",
      "==== Inserting 32 at Beginning\n",
      "32 26 25 21 14 10 Current: 10\n",
      "----------------\n",
      "==== Inserting 36 at Beginning\n",
      "36 32 26 25 21 14 10 Current: 10\n",
      "----------------\n",
      "==== Inserting 41 at Beginning\n",
      "41 36 32 26 25 21 14 10 Current: 10\n",
      "----------------\n",
      "==== Inserting 42 at Beginning\n",
      "42 41 36 32 26 25 21 14 10 Current: 10\n",
      "----------------\n",
      "==== Inserting 52 at Beginning\n",
      "52 42 41 36 32 26 25 21 14 10 Current: 10\n",
      "----------------\n",
      "==== Reseting the Current\n",
      "52 42 41 36 32 26 25 21 14 10 Current: 52\n",
      "----------------\n",
      "==== Current status of the list\n",
      "52 42 41 36 32 26 25 21 14 10 Current: 52\n",
      "----------------\n"
     ]
    }
   ],
   "source": [
    "def main():\n",
    "    # Creating the create numbers list object\n",
    "    create_list: CreateNumbersList = CreateNumbersList()\n",
    "    # Reading the data from the txt file\n",
    "    file_content: str = create_list.read_txt_file(\"numbers.txt\")\n",
    "    # Getting the sorted list of data from the text file:\n",
    "    a: List = create_list.create_sorted_list(file_content)\n",
    "    \n",
    "    # Instantiating link list object\n",
    "    l: Linkedlist = Linkedlist()\n",
    "    # printing linked list with status message\n",
    "    l.printList(\"List created\")\n",
    "    # looping through sorted list and add items to a linked list\n",
    "    for num in a:\n",
    "        # adding number to the head of the linked list\n",
    "        l.insertBeginning(num)\n",
    "        # printing list with custom message\n",
    "        l.printList(f\"Inserting {num} at Beginning\")\n",
    "        \n",
    "    l.resetCurrent()\n",
    "    l.printList(\"Reseting the Current\")\n",
    "#     mylist.nextCurrent()\n",
    "#     mylist.printList(\"Moving the Current to the next (circularly)\")\n",
    "#     mylist.nextCurrent()\n",
    "#     mylist.printList(\"Moving the Current to the next (circularly)\")\n",
    "#     print(\"The current is:\",mylist.getCurrent())\n",
    "#     print(mylist.removeCurrentNext())\n",
    "#     mylist.printList(\"Removing next the Current\")\n",
    "#     mylist.insertCurrentNext(23)\n",
    "#     mylist.printList(\"Inserting 23 next the Current\")\n",
    "    l.printList(\"Current status of the list\")\n",
    "    \n",
    "\n",
    "main()"
   ]
  },
  {
   "cell_type": "code",
   "execution_count": null,
   "id": "a937eb58",
   "metadata": {},
   "outputs": [],
   "source": [
    "\n",
    "\n",
    "\n"
   ]
  },
  {
   "cell_type": "code",
   "execution_count": null,
   "id": "714ee2bc",
   "metadata": {},
   "outputs": [],
   "source": []
  },
  {
   "cell_type": "code",
   "execution_count": null,
   "id": "dffc4c12",
   "metadata": {},
   "outputs": [],
   "source": []
  },
  {
   "cell_type": "code",
   "execution_count": null,
   "id": "eb7e7957",
   "metadata": {},
   "outputs": [],
   "source": []
  }
 ],
 "metadata": {
  "kernelspec": {
   "display_name": "Python 3 (ipykernel)",
   "language": "python",
   "name": "python3"
  },
  "language_info": {
   "codemirror_mode": {
    "name": "ipython",
    "version": 3
   },
   "file_extension": ".py",
   "mimetype": "text/x-python",
   "name": "python",
   "nbconvert_exporter": "python",
   "pygments_lexer": "ipython3",
   "version": "3.9.13"
  }
 },
 "nbformat": 4,
 "nbformat_minor": 5
}
