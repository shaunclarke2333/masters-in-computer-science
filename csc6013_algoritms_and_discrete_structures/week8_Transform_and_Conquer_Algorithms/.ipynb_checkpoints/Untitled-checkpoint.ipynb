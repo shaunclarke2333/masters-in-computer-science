{
 "cells": [
  {
   "cell_type": "code",
   "execution_count": null,
   "id": "192bd40b",
   "metadata": {},
   "outputs": [],
   "source": [
    "\"\"\"\n",
    "3) Brute-Force Algorithm - Create the Difference of Two Sets\n",
    "Given two arrays of Integers A and B with len(A) = n and len(B) = m, create a third array C that\n",
    "includes all elements of A that are not in B. We write this operation as “A – B”; we call the\n",
    "operation set difference; and we call the result the difference of the two sets A and B (or simply\n",
    "“A minus B”). Assume that in each array, each element is listed only once (there are no\n",
    "duplicates within the same array), but the elements are not sorted.\n",
    "a) Write a brute force function that uses nested for loops to repeatedly check if each element in A\n",
    "matches any of the elements in B. If the element from A does not match any element in B, then\n",
    "copy it into the next available slot of array C. Do not sort any of the arrays at any time.\n",
    "Example: With A = [2, 4, 6] and B = [3, 4, 5], your algorithm should produce C = [2, 6].\n",
    "b) Trace the algorithm with\n",
    " A = [20, 40, 70, 30, 10, 80, 50, 90, 60]\n",
    " B = [35, 45, 55, 60, 50, 40]\n",
    "c) Perform asymptotic analysis to determine the maximum number of comparisons of array\n",
    "elements that are needed. What is the Big-Oh class for this algorithm in terms of m and n?\n",
    "\"\"\""
   ]
  },
  {
   "cell_type": "code",
   "execution_count": 17,
   "id": "3175a30c",
   "metadata": {},
   "outputs": [],
   "source": [
    "A = [20, 40, 70,30, 10, 80, 50, 90, 60]\n",
    "B = [35, 45, 55, 60, 50, 40]\n",
    "C = []\n"
   ]
  },
  {
   "cell_type": "code",
   "execution_count": 18,
   "id": "d054e4ce",
   "metadata": {},
   "outputs": [],
   "source": [
    "\n",
    "def bruteforce_diff(A, B):\n",
    "    for a in A:\n",
    "        exists = False\n",
    "        for b in B:\n",
    "            if a == b:\n",
    "                print(f\"A={a}: checking B:{B}.\\nMatch found so skipping\")\n",
    "                \n",
    "                exists = True\n",
    "                break\n",
    "        if not exists:\n",
    "            print(f\"A={a}: checking B:{B}.\\nNo match found adding A:{a} to C:{C}\")\n",
    "            C.append(a)\n",
    "    return C\n",
    "        \n",
    "            "
   ]
  },
  {
   "cell_type": "code",
   "execution_count": 19,
   "id": "66977ca2",
   "metadata": {},
   "outputs": [
    {
     "name": "stdout",
     "output_type": "stream",
     "text": [
      "A=20: checking B:[35, 45, 55, 60, 50, 40].\n",
      "No match found adding A:20 to C:[]\n",
      "A=40: checking B:[35, 45, 55, 60, 50, 40].\n",
      "Match found so skipping\n",
      "A=70: checking B:[35, 45, 55, 60, 50, 40].\n",
      "No match found adding A:70 to C:[20]\n",
      "A=30: checking B:[35, 45, 55, 60, 50, 40].\n",
      "No match found adding A:30 to C:[20, 70]\n",
      "A=10: checking B:[35, 45, 55, 60, 50, 40].\n",
      "No match found adding A:10 to C:[20, 70, 30]\n",
      "A=80: checking B:[35, 45, 55, 60, 50, 40].\n",
      "No match found adding A:80 to C:[20, 70, 30, 10]\n",
      "A=50: checking B:[35, 45, 55, 60, 50, 40].\n",
      "Match found so skipping\n",
      "A=90: checking B:[35, 45, 55, 60, 50, 40].\n",
      "No match found adding A:90 to C:[20, 70, 30, 10, 80]\n",
      "A=60: checking B:[35, 45, 55, 60, 50, 40].\n",
      "Match found so skipping\n"
     ]
    },
    {
     "data": {
      "text/plain": [
       "[20, 70, 30, 10, 80, 90]"
      ]
     },
     "execution_count": 19,
     "metadata": {},
     "output_type": "execute_result"
    }
   ],
   "source": [
    "bruteforce_diff(A, B)"
   ]
  },
  {
   "cell_type": "code",
   "execution_count": 20,
   "id": "ee0d91c5",
   "metadata": {},
   "outputs": [],
   "source": [
    "#4"
   ]
  },
  {
   "cell_type": "code",
   "execution_count": 21,
   "id": "e711cac3",
   "metadata": {},
   "outputs": [
    {
     "ename": "NameError",
     "evalue": "name 'D' is not defined",
     "output_type": "error",
     "traceback": [
      "\u001b[1;31m---------------------------------------------------------------------------\u001b[0m",
      "\u001b[1;31mNameError\u001b[0m                                 Traceback (most recent call last)",
      "\u001b[1;32m~\\AppData\\Local\\Temp\\ipykernel_35588\\2246063604.py\u001b[0m in \u001b[0;36m<module>\u001b[1;34m\u001b[0m\n\u001b[0;32m      1\u001b[0m adjacency_list = [\n\u001b[1;32m----> 2\u001b[1;33m     \u001b[1;33m[\u001b[0m\u001b[0mB\u001b[0m\u001b[1;33m,\u001b[0m\u001b[0mD\u001b[0m\u001b[1;33m]\u001b[0m\u001b[1;33m,\u001b[0m \u001b[1;31m#A\u001b[0m\u001b[1;33m\u001b[0m\u001b[1;33m\u001b[0m\u001b[0m\n\u001b[0m\u001b[0;32m      3\u001b[0m     \u001b[1;33m[\u001b[0m\u001b[0mA\u001b[0m\u001b[1;33m,\u001b[0m\u001b[0mC\u001b[0m\u001b[1;33m,\u001b[0m\u001b[0mG\u001b[0m\u001b[1;33m]\u001b[0m\u001b[1;33m,\u001b[0m \u001b[1;31m#B\u001b[0m\u001b[1;33m\u001b[0m\u001b[1;33m\u001b[0m\u001b[0m\n\u001b[0;32m      4\u001b[0m     \u001b[1;33m[\u001b[0m\u001b[0mA\u001b[0m\u001b[1;33m,\u001b[0m\u001b[0mB\u001b[0m\u001b[1;33m]\u001b[0m\u001b[1;33m,\u001b[0m \u001b[1;31m#C\u001b[0m\u001b[1;33m\u001b[0m\u001b[1;33m\u001b[0m\u001b[0m\n\u001b[0;32m      5\u001b[0m     \u001b[1;33m[\u001b[0m\u001b[0mE\u001b[0m\u001b[1;33m,\u001b[0m\u001b[0mF\u001b[0m\u001b[1;33m]\u001b[0m\u001b[1;33m,\u001b[0m \u001b[1;31m#D\u001b[0m\u001b[1;33m\u001b[0m\u001b[1;33m\u001b[0m\u001b[0m\n",
      "\u001b[1;31mNameError\u001b[0m: name 'D' is not defined"
     ]
    }
   ],
   "source": [
    "adjacency_list = [\n",
    "    [B,D], #A\n",
    "    [A,C,G], #B\n",
    "    [A,B], #C\n",
    "    [E,F], #D\n",
    "    [F], #E\n",
    "    [B], #F\n",
    "    [C,F], #g\n",
    "]"
   ]
  },
  {
   "cell_type": "code",
   "execution_count": null,
   "id": "0fa4688e",
   "metadata": {},
   "outputs": [],
   "source": []
  }
 ],
 "metadata": {
  "kernelspec": {
   "display_name": "Python 3 (ipykernel)",
   "language": "python",
   "name": "python3"
  },
  "language_info": {
   "codemirror_mode": {
    "name": "ipython",
    "version": 3
   },
   "file_extension": ".py",
   "mimetype": "text/x-python",
   "name": "python",
   "nbconvert_exporter": "python",
   "pygments_lexer": "ipython3",
   "version": "3.9.13"
  }
 },
 "nbformat": 4,
 "nbformat_minor": 5
}
