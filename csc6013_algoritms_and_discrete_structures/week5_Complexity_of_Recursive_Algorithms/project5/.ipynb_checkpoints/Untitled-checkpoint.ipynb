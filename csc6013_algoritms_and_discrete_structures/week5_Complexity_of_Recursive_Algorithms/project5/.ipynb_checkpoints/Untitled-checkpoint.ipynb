{
 "cells": [
  {
   "cell_type": "code",
   "execution_count": 3,
   "id": "a07cee1f",
   "metadata": {},
   "outputs": [
    {
     "name": "stdout",
     "output_type": "stream",
     "text": [
      "Digits in binary of 256: 9\n",
      "Digits in binary of 750: 10\n"
     ]
    }
   ],
   "source": [
    "\"\"\"\n",
    "Develop a Python program with a recursive algorithm to calculate the number of digits in the binary expansion/representation of a positive Integer n.\n",
    "    if n == 1, the answer is 1;\n",
    "    if n > 1, the answer is 1 plus the number of digits in the binary representation of n//2.\n",
    "Run your code for the instances: n = 256 and n = 750.\n",
    "Create the recurrence relation and stopping condition for your algorithm, and compute the Big Oh complexity using either back substitution or the master method.\n",
    "\"\"\"\n",
    "\n",
    "def binary_digits(n):\n",
    "    if n == 1:\n",
    "        return 1\n",
    "    else:\n",
    "        return 1 + binary_digits(n // 2)\n",
    "\n",
    "# Test cases\n",
    "print(\"Digits in binary of 256:\", binary_digits(256))\n",
    "print(\"Digits in binary of 750:\", binary_digits(750))\n"
   ]
  },
  {
   "cell_type": "code",
   "execution_count": 2,
   "id": "26891c89",
   "metadata": {},
   "outputs": [
    {
     "name": "stdout",
     "output_type": "stream",
     "text": [
      "Sum of squares up to 12: 650\n"
     ]
    }
   ],
   "source": [
    "\"\"\"\n",
    "Develop a Python program with a recursive algorithm to calculate the sum of the squares of the positive Integers 12 + 22 + 32 + … + n2, given the value of n.\n",
    "    if n == 1, the answer is 1;\n",
    "    if n > 1, the answer is n2 plus the sum of the squares up to (n-1).\n",
    "Run your code for the instances: n = 12 and n = 20.\n",
    "Create the recurrence relation and stopping condition for your algorithm, and compute the Big Oh complexity using either back substitution or the master method.\n",
    "\"\"\"\n",
    "\n",
    "def sum_of_squares(n):\n",
    "    if n == 1:\n",
    "        return 1\n",
    "    else:\n",
    "        return n**2 + sum_of_squares(n - 1)\n",
    "\n",
    "# Test cases\n",
    "print(\"Sum of squares up to 12:\", sum_of_squares(12)) \n",
    "print(\"Sum of squares up to 20:\", sum_of_squares(20))\n"
   ]
  },
  {
   "cell_type": "code",
   "execution_count": null,
   "id": "d39b4c85",
   "metadata": {},
   "outputs": [],
   "source": []
  }
 ],
 "metadata": {
  "kernelspec": {
   "display_name": "Python 3 (ipykernel)",
   "language": "python",
   "name": "python3"
  },
  "language_info": {
   "codemirror_mode": {
    "name": "ipython",
    "version": 3
   },
   "file_extension": ".py",
   "mimetype": "text/x-python",
   "name": "python",
   "nbconvert_exporter": "python",
   "pygments_lexer": "ipython3",
   "version": "3.9.13"
  }
 },
 "nbformat": 4,
 "nbformat_minor": 5
}
