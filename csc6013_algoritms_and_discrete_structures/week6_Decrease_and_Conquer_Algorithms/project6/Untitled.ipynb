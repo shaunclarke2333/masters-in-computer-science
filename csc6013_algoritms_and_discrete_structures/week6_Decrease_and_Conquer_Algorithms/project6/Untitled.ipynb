{
 "cells": [
  {
   "cell_type": "code",
   "execution_count": 5,
   "id": "f3e9001c",
   "metadata": {},
   "outputs": [],
   "source": [
    "from typing import List\n",
    "import random"
   ]
  },
  {
   "cell_type": "code",
   "execution_count": 6,
   "id": "58951bb6",
   "metadata": {},
   "outputs": [],
   "source": [
    "# This class prompts the user for an input\n",
    "class UserInput:\n",
    "    \"\"\"\n",
    "    This class does not need to be instantiated.\n",
    "    It prompts the user to input an integer.\n",
    "    \"\"\"\n",
    "    # This static method prompts the user for an int input\n",
    "    @staticmethod\n",
    "    def get_user_number_input() -> int:\n",
    "        # While loop to prompt user until input is satisfied\n",
    "        while True:\n",
    "            try:\n",
    "                # Prompting the user to enter an integer\n",
    "                user_input: int = int(input(f\"Enter a number, any number\\n: \").strip())\n",
    "                return user_input\n",
    "            except ValueError:\n",
    "                print(\"\\nYour input must be a number\\n\")\n",
    "                "
   ]
  },
  {
   "cell_type": "code",
   "execution_count": 7,
   "id": "7e6ddb12",
   "metadata": {},
   "outputs": [],
   "source": [
    "class GenerateArray:\n",
    "    \"\"\"\n",
    "    This class does not need to be instantiated.\n",
    "    It prompts the user to input an integer.\n",
    "    \"\"\"\n",
    "\n",
    "    @staticmethod\n",
    "    def generate_random_array(size=1000, low=1, high=1000) -> List:\n",
    "        # Create an empty list to hold the random numbers\n",
    "        random_array: List = []\n",
    "\n",
    "        # Looping to generate and append the numbers to the array.\n",
    "        for _ in range(size):\n",
    "            # Selecting a random integer between the low and high makers and appending it\n",
    "            random_array.append(random.randint(low, high))\n",
    "\n",
    "        # return the completed list of random numbers\n",
    "        return random_array"
   ]
  },
  {
   "cell_type": "code",
   "execution_count": null,
   "id": "a6081e32",
   "metadata": {},
   "outputs": [],
   "source": []
  },
  {
   "cell_type": "code",
   "execution_count": 8,
   "id": "67522934",
   "metadata": {},
   "outputs": [],
   "source": [
    "class QuickSelect:\n",
    "    def __init__(self, numbers: List[int], k: int):\n",
    "        # The list of numbers\n",
    "        self.numbers = numbers\n",
    "        # The k-th smallest we are looking for\n",
    "        self.k = k\n",
    "    \n",
    "    # This method finds the k-th smallest number\n",
    "    def find_k_smallest(self) -> int:\n",
    "        \n",
    "        nums = self.numbers\n",
    "        \n",
    "        target = self.k - 1  # K-th smallest -> index K-1\n",
    "\n",
    "        def quickselect(l: int, r: int) -> int:\n",
    "            # sleecting the last element in the current range as pivot\n",
    "            pivot: int = nums[r]\n",
    "            # Pointer p to keep track of where the pivot will finally go\n",
    "            p: int = l\n",
    "            # Looping from left to right \n",
    "            for i in range(l, r):\n",
    "                # If the current number is smaller than the pivot\n",
    "                if nums[i] < pivot:\n",
    "                    # Swap it with the element at pointer p\n",
    "                    nums[p], nums[i] = nums[i], nums[p]\n",
    "                    # Move pointer forward\n",
    "                    p += 1\n",
    "            # Moving the pivot into its correct final spot\n",
    "            nums[p], nums[r] = nums[r], nums[p]  \n",
    "\n",
    "            # If pivot is to the right of the target index, check the left side\n",
    "            if p > target:\n",
    "                return quickselect(l, p - 1)\n",
    "            # If pivot is to the left of the target index, check the right side\n",
    "            elif p < target:\n",
    "                return quickselect(p + 1, r)\n",
    "            # If pivot is at the target index then return kth smallest element\n",
    "            else:\n",
    "                return nums[p]\n",
    "\n",
    "        # Make sure k is within range so it is valid\n",
    "        if not 1 <= self.k <= len(nums):\n",
    "            raise ValueError(\"k is out of range\")\n",
    "\n",
    "        # Calling quickselect and returning the array\n",
    "        return quickselect(0, len(nums) - 1)\n"
   ]
  },
  {
   "cell_type": "code",
   "execution_count": 67,
   "id": "fffc168b",
   "metadata": {},
   "outputs": [],
   "source": [
    "def main():\n",
    "    \n",
    "    # Generating the array\n",
    "    num_array: List = GenerateArray.generate_random_array()\n",
    "#     print(num_array[0:30])\n",
    "    \n",
    "    # Asking for user input\n",
    "    user_input: int = UserInput.get_user_number_input()\n",
    "    \n",
    "    # Instantiating the QuickSelect class\n",
    "    find_kth_smallest = QuickSelect(num_array, user_input)\n",
    "    \n",
    "    result = find_kth_smallest.find_k_smallest()\n",
    "    \n",
    "    print(f\"The {user_input}-th smallest element is: {result}\")"
   ]
  },
  {
   "cell_type": "code",
   "execution_count": 68,
   "id": "01dfeddb",
   "metadata": {},
   "outputs": [
    {
     "name": "stdout",
     "output_type": "stream",
     "text": [
      "Enter a number, any number\n",
      ": 6\n",
      "The 6-th smallest element is: 5\n"
     ]
    }
   ],
   "source": [
    "if __name__ == \"__main__\":\n",
    "    main()"
   ]
  },
  {
   "cell_type": "code",
   "execution_count": null,
   "id": "e8e750ce",
   "metadata": {},
   "outputs": [],
   "source": []
  },
  {
   "cell_type": "code",
   "execution_count": null,
   "id": "6dd7c272",
   "metadata": {},
   "outputs": [],
   "source": []
  }
 ],
 "metadata": {
  "kernelspec": {
   "display_name": "Python 3 (ipykernel)",
   "language": "python",
   "name": "python3"
  },
  "language_info": {
   "codemirror_mode": {
    "name": "ipython",
    "version": 3
   },
   "file_extension": ".py",
   "mimetype": "text/x-python",
   "name": "python",
   "nbconvert_exporter": "python",
   "pygments_lexer": "ipython3",
   "version": "3.9.13"
  }
 },
 "nbformat": 4,
 "nbformat_minor": 5
}
