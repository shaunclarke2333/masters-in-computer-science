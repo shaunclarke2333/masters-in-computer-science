{
 "cells": [
  {
   "cell_type": "code",
   "execution_count": 6,
   "id": "0060729b",
   "metadata": {},
   "outputs": [],
   "source": [
    "from typing import List"
   ]
  },
  {
   "cell_type": "code",
   "execution_count": 12,
   "id": "c582c211",
   "metadata": {},
   "outputs": [],
   "source": [
    "def lomuto(A, left, right):\n",
    "    p = A[right]\n",
    "    i = left\n",
    "    for j in range(left, right):\n",
    "        if A[j] < p:\n",
    "            A[i], A[j] = A[j], A[i]\n",
    "            i += 1\n",
    "    A[i], A[right] = A[right], A[i]\n",
    "    return i"
   ]
  },
  {
   "cell_type": "code",
   "execution_count": 13,
   "id": "39e449d1",
   "metadata": {},
   "outputs": [
    {
     "name": "stdout",
     "output_type": "stream",
     "text": [
      "Lomuto with pivot at 3 : 24\n",
      "[19, 13, 6]\n",
      "[42, 31, 60, 36, 48, 55]\n"
     ]
    }
   ],
   "source": [
    "A = [31, 55, 19, 13, 42, 6, 60, 36, 48, 24]\n",
    "pvt = lomuto(A, 0, len(A) - 1)\n",
    "print(\"Lomuto with pivot at\", pvt, \":\", A[pvt])\n",
    "print(A[:pvt])\n",
    "print(A[pvt+1:])"
   ]
  },
  {
   "cell_type": "code",
   "execution_count": null,
   "id": "f74f266a",
   "metadata": {},
   "outputs": [],
   "source": []
  }
 ],
 "metadata": {
  "kernelspec": {
   "display_name": "Python 3 (ipykernel)",
   "language": "python",
   "name": "python3"
  },
  "language_info": {
   "codemirror_mode": {
    "name": "ipython",
    "version": 3
   },
   "file_extension": ".py",
   "mimetype": "text/x-python",
   "name": "python",
   "nbconvert_exporter": "python",
   "pygments_lexer": "ipython3",
   "version": "3.9.13"
  }
 },
 "nbformat": 4,
 "nbformat_minor": 5
}
