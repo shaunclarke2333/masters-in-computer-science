{
 "cells": [
  {
   "cell_type": "code",
   "execution_count": 1,
   "id": "844b599a",
   "metadata": {},
   "outputs": [],
   "source": []
  },
  {
   "cell_type": "code",
   "execution_count": 18,
   "id": "5f31db1a",
   "metadata": {},
   "outputs": [
    {
     "name": "stdout",
     "output_type": "stream",
     "text": [
      "[9, 7, 6, 4, 2, 0, -1, -3, -5, -8, -9], mid = 0\n",
      "[-1, -3, -5, -8, -9], mid = -5\n",
      "[-1, -3], mid = -1\n",
      "-1 is at index 6\n"
     ]
    }
   ],
   "source": [
    "from typing import List\n",
    "\n",
    "\"\"\"\n",
    "Adapt the Binary Search algorithm saw in class to search a given element assuming that the array is not in ascending order, but instead it is sorted\n",
    "in descending order. Trace your algorithm execution printing:\n",
    "    at each recursive call, print the subarray from start to end and show the mid element.\n",
    "    test your algorithm for the arrays:\n",
    "        A1 = [99, 67, 56, 51, 44, 39, 38, 23, 21, 17, 11, 2]   searching for 44;\n",
    "        A1 = [99, 67, 56, 51, 44, 39, 38, 23, 21, 17, 11, 2]   searching for 56;\n",
    "        A1 = [99, 67, 56, 51, 44, 39, 38, 23, 21, 17, 11, 2]   searching for 42;\n",
    "        A2 = [9, 7, 6, 4, 2, 0, -1, -3, -5, -8, -9]   searching for -1;\n",
    "        A2 = [9, 7, 6, 4, 2, 0, -1, -3, -5, -8, -9]   searching for -7.\n",
    "\"\"\"\n",
    "def binSearch(A, start, end, k):\n",
    "    mid = (end + start) // 2\n",
    "    print(f\"{A[start:end+1]}, mid = {A[mid]}\")\n",
    "    if start > end:\n",
    "        return None\n",
    "    elif A[mid] == k:\n",
    "        return mid\n",
    "    elif A[mid] < k:\n",
    "        return binSearch(A, start, mid - 1, k)\n",
    "    else:\n",
    "        return binSearch(A, mid + 1, end, k)\n",
    "\n",
    "# A = list(range(10))  # A = [0, 1, 2, 3, 4, 5, 6, 7, 8, 9]\n",
    "A1 = [99, 67, 56, 51, 44, 39, 38, 23, 21, 17, 11, 2]    #searching for 44;\n",
    "A1 = [99, 67, 56, 51, 44, 39, 38, 23, 21, 17, 11, 2]   #searching for 56;\n",
    "A1 = [99, 67, 56, 51, 44, 39, 38, 23, 21, 17, 11, 2]   #searching for 42;\n",
    "A2 = [9, 7, 6, 4, 2, 0, -1, -3, -5, -8, -9]   #searching for -1;\n",
    "A2 = [9, 7, 6, 4, 2, 0, -1, -3, -5, -8, -9]   #searching for -7.\n",
    "for i in [44]:\n",
    "    print(\"{} is at index {}\".format(i, binSearch(A, 0, len(A) - 1, i)))\n"
   ]
  },
  {
   "cell_type": "code",
   "execution_count": 5,
   "id": "c29030f2",
   "metadata": {},
   "outputs": [
    {
     "name": "stdout",
     "output_type": "stream",
     "text": [
      "Start: 0, End: 9\n",
      "Start: 0, End: 4\n",
      "Start: 0, End: 2\n",
      "Start: 0, End: 1\n",
      "Start: 0, End: 0\n",
      "Start: 1, End: 1\n",
      "Returning: 52\n",
      "Start: 2, End: 2\n",
      "Returning: 6\n",
      "Start: 3, End: 4\n",
      "Start: 3, End: 3\n",
      "Start: 4, End: 4\n",
      "Returning: 20\n",
      "Returning: 6\n",
      "Start: 5, End: 9\n",
      "Start: 5, End: 7\n",
      "Start: 5, End: 6\n",
      "Start: 5, End: 5\n",
      "Start: 6, End: 6\n",
      "Returning: 17\n",
      "Start: 7, End: 7\n",
      "Returning: 17\n",
      "Start: 8, End: 9\n",
      "Start: 8, End: 8\n",
      "Start: 9, End: 9\n",
      "Returning: 44\n",
      "Returning: 17\n",
      "Returning: 6\n",
      "The minimum number is 6 at index 2\n"
     ]
    }
   ],
   "source": [
    "from typing import List\n",
    "\n",
    "\"\"\"\n",
    "Adapt the Maximum Element in an Array algorithm saw in class to search for the minimum element in the array.\n",
    "Trace your algorithm execution printing:\n",
    "    at the beginning of each recursive call the start and end values.\n",
    "    at the returning of each recursive call the returned value (the minimum of the array slice).\n",
    "    test your algorithm for the arrays:\n",
    "        A3 = [44, 63, 77, 17, 20, 99, 84, 6, 39, 52]\n",
    "        A4 = [52, 84, 6, 39, 20, 77, 17, 99, 44, 63]\n",
    "        A5 = [6, 17, 20, 39, 44, 52, 63, 77, 84, 99]\n",
    "\"\"\"\n",
    "\n",
    "def Min(A, start, end):\n",
    "    # At the beginning of each recursive call the start and end values.\n",
    "    print(f\"Start: {start}, End: {end}\")\n",
    "    if start == end:\n",
    "        return end\n",
    "    else:\n",
    "        mid = (end + start) // 2\n",
    "        fst = Min(A, start, mid)\n",
    "        lst = Min(A, mid + 1, end)\n",
    "        number = fst if A[fst] < A[lst] else lst\n",
    "        # At the returning of each recursive call the returned value (the minimum of the array slice).\n",
    "        print(f\"Returning: {A[number]}\")\n",
    "        return number\n",
    "    \n",
    "A3 = [44, 63, 77, 17, 20, 99, 84, 6, 39, 52]\n",
    "A4 = [52, 84, 6, 39, 20, 77, 17, 99, 44, 63]\n",
    "A5 = [6, 17, 20, 39, 44, 52, 63, 77, 84, 99]\n",
    "\n",
    "A = A4\n",
    "\n",
    "i = Min(A, 0, len(A) - 1)\n",
    "print(\"The minimum number is\", A[i], \"at index\", i)\n",
    "\n"
   ]
  },
  {
   "cell_type": "code",
   "execution_count": null,
   "id": "47735087",
   "metadata": {},
   "outputs": [],
   "source": []
  }
 ],
 "metadata": {
  "kernelspec": {
   "display_name": "Python 3 (ipykernel)",
   "language": "python",
   "name": "python3"
  },
  "language_info": {
   "codemirror_mode": {
    "name": "ipython",
    "version": 3
   },
   "file_extension": ".py",
   "mimetype": "text/x-python",
   "name": "python",
   "nbconvert_exporter": "python",
   "pygments_lexer": "ipython3",
   "version": "3.9.13"
  }
 },
 "nbformat": 4,
 "nbformat_minor": 5
}
