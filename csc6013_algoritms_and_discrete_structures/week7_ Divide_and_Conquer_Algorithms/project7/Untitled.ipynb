{
 "cells": [
  {
   "cell_type": "code",
   "execution_count": 1,
   "id": "5b422b9e",
   "metadata": {},
   "outputs": [],
   "source": [
    "\"\"\"\n",
    "Develop one Python program to perform the Quicksort, but instead of sorting the elements in ascending order (from the smallest to the largest),\n",
    "the elements are sorted in the decrescent order (from the larger to the smallest).\n",
    "\n",
    "Your program also have to compute and print at the end the number of swaps performed and the number of recursive calls.\n",
    "\n",
    "Test your program over the following arrays:\n",
    "\n",
    "A = [38, 21, 39, 60, -1, 10, 81, 23]\n",
    "B = [2, 97, 5, 88, 9, 72, 12, 64, 17, 56, 21]\n",
    "C = [100, 33, 22, 213, 65, 29, 153, 199, 47, 181, 85]\n",
    "\n",
    "You have to submit the code (.py file) of your algorithm, plus the .pdf of the trace for the three required tests.\n",
    "It is expected that your code performs the computations necessary for the traces (count the number of calls and swaps).\n",
    "\n",
    "\n",
    "\"\"\"\n"
   ]
  },
  {
   "cell_type": "code",
   "execution_count": 1,
   "id": "a4594a01",
   "metadata": {},
   "outputs": [],
   "source": [
    "from typing import List"
   ]
  },
  {
   "cell_type": "code",
   "execution_count": 7,
   "id": "d35561d4",
   "metadata": {},
   "outputs": [],
   "source": [
    "# Counters for swaps and recursive calls\n",
    "global swap_counter = 0\n",
    "global recursive_counter = 0\n",
    "\n",
    "def quick_sort(an_array:List[int]) -> List:\n",
    "    \n",
    "    # Length of the Array\n",
    "    length: int = len(an_array)\n",
    "    \n",
    "    # Logic to make sure list is not empty or has more than one item.\n",
    "    if length <= 1:\n",
    "        return an_array\n",
    "    else:\n",
    "        # Getting last element of the array to use as pivot\n",
    "        pivot: int = an_array.pop()\n",
    "            \n",
    "    # Lists to hold items greater than pivot\n",
    "    greater_than_pivot: List = []\n",
    "    # Lists to hold items less than pivot\n",
    "    less_than_pivot: List = []\n",
    "    \n",
    "    # Looping through array to add greater than or less than items to their specific lists\n",
    "    for item in an_array:\n",
    "        if item > pivot:\n",
    "            greater_than_pivot.append(item)\n",
    "        else:\n",
    "            less_than_pivot.append(item)\n",
    "    recursive_counter += 1\n",
    "    return  quick_sort(greater_than_pivot) + [pivot] + quick_sort(less_than_pivot)\n",
    "            "
   ]
  },
  {
   "cell_type": "code",
   "execution_count": 8,
   "id": "87b5f123",
   "metadata": {},
   "outputs": [
    {
     "name": "stdout",
     "output_type": "stream",
     "text": [
      "[9, 9, 8, 8, 8, 7, 7, 7, 6, 6, 6, 5, 5, 0]\n"
     ]
    }
   ],
   "source": [
    "print(quick_sort([5,6,7,8,9,8,7,6,5,6,7,8,9,0]))"
   ]
  },
  {
   "cell_type": "code",
   "execution_count": 54,
   "id": "2219db18",
   "metadata": {},
   "outputs": [],
   "source": [
    "# Counters for swaps and recursive calls\n",
    "swap_counter = 0\n",
    "recursive_counter = 0\n",
    "\n",
    "def lomuto(A: List, left: int, right: int) -> int:\n",
    "    global swap_counter\n",
    "    p: int = A[right]\n",
    "    i: int = left\n",
    "    \n",
    "    for j in range(left, right):\n",
    "        if A[j] > p:\n",
    "            swap_counter += 1\n",
    "            A[i], A[j] = A[j], A[i]\n",
    "            i += 1\n",
    "    swap_counter += 1\n",
    "    A[i], A[right] = A[right], A[i]\n",
    "    return i\n",
    "\n",
    "def quicksort(A: List[int], left: int, right: int) -> List:\n",
    "    global recursive_counter\n",
    "    if (left < right):\n",
    "        mid = lomuto(A, left, right)\n",
    "        \n",
    "        recursive_counter += 1\n",
    "        quicksort(A, left, mid-1)\n",
    "        recursive_counter += 1\n",
    "        quicksort(A, mid+1, right)\n",
    "    return A"
   ]
  },
  {
   "cell_type": "code",
   "execution_count": 57,
   "id": "6008f797",
   "metadata": {},
   "outputs": [
    {
     "name": "stdout",
     "output_type": "stream",
     "text": [
      "Sorted Array: [213, 199, 181, 153, 100, 85, 65, 47, 33, 29, 22]\n",
      "Total swaps: 61\n",
      "Total recursive call: 42\n"
     ]
    }
   ],
   "source": [
    "A = [38, 21, 39, 60, -1, 10, 81, 23]\n",
    "B = [2, 97, 5, 88, 9, 72, 12, 64, 17, 56, 21]\n",
    "C = [100, 33, 22, 213, 65, 29, 153, 199, 47, 181, 85]\n",
    "an_aray = C \n",
    "print(f\"Sorted Array: {quicksort(an_aray, 0, len(an_aray)-1)}\\nTotal swaps: {swap_counter}\\nTotal recursive call: {recursive_counter}\")"
   ]
  },
  {
   "cell_type": "code",
   "execution_count": null,
   "id": "a5c9ee18",
   "metadata": {},
   "outputs": [],
   "source": []
  }
 ],
 "metadata": {
  "kernelspec": {
   "display_name": "Python 3 (ipykernel)",
   "language": "python",
   "name": "python3"
  },
  "language_info": {
   "codemirror_mode": {
    "name": "ipython",
    "version": 3
   },
   "file_extension": ".py",
   "mimetype": "text/x-python",
   "name": "python",
   "nbconvert_exporter": "python",
   "pygments_lexer": "ipython3",
   "version": "3.9.13"
  }
 },
 "nbformat": 4,
 "nbformat_minor": 5
}
