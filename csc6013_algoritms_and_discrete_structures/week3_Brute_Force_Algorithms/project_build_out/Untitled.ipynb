{
 "cells": [
  {
   "cell_type": "code",
   "execution_count": 205,
   "id": "28d95889",
   "metadata": {},
   "outputs": [],
   "source": [
    "\"\"\"\n",
    "Author: Shaun Clarke\n",
    "Class: CSC6013\n",
    "Adapt the Selection Sort algorithm saw in class to sort the elements being the largest ones selected to go to the last positions first\n",
    "instead of the version presented in class, where the smallest ones where selected to go to the first positions.\n",
    "Trace your algorithm execution printing:\n",
    "    at each iteration of the outer loop count the number of times two array elements are compared and\n",
    "    the number of times two array elements were swapped, plus the current status of the array.\n",
    "\n",
    "    test your algorithm for the arrays:\n",
    "        A1 = [63, 44, 17, 77, 20, 6, 99, 84, 52, 39]\n",
    "        A2 = [84, 52, 39, 6, 20, 17, 77, 99, 63, 44]\n",
    "        A3 = [99, 84, 77, 63, 52, 44, 39, 20, 17, 6]\n",
    "\"\"\"\n",
    "def selection_sort(a):\n",
    "    swap_counter = 0\n",
    "    compare_counter = 0\n",
    "    for i in range(len(a)-1):\n",
    "        print(f\"Two array elements were compared {compare_counter} time{'s' if compare_counter != 1 else ''}\")\n",
    "        print(f\"Two array elements were swapped {swap_counter} time{'s' if swap_counter != 1 else ''}\")\n",
    "        print(f\"Current status of the array: {a}\\n\")\n",
    "        max_index = 0\n",
    "        for j in range(1, len(a)-i):\n",
    "            if (a[j] > a[max_index]):\n",
    "                compare_counter += 1\n",
    "                max_index = j\n",
    "        last_index = len(a)-1-i\n",
    "        a[last_index], a[max_index] = a[max_index], a[last_index]\n",
    "        swap_counter += 1"
   ]
  },
  {
   "cell_type": "code",
   "execution_count": 206,
   "id": "d2d09dc7",
   "metadata": {},
   "outputs": [
    {
     "name": "stdout",
     "output_type": "stream",
     "text": [
      "Two array elements were compared 0 times\n",
      "Two array elements were swapped 0 times\n",
      "Current status of the array: [63, 44, 17, 77, 20, 6, 99, 84, 52, 39]\n",
      "\n",
      "Two array elements were compared 2 times\n",
      "Two array elements were swapped 1 time\n",
      "Current status of the array: [63, 44, 17, 77, 20, 6, 39, 84, 52, 99]\n",
      "\n",
      "Two array elements were compared 4 times\n",
      "Two array elements were swapped 2 times\n",
      "Current status of the array: [63, 44, 17, 77, 20, 6, 39, 52, 84, 99]\n",
      "\n",
      "Two array elements were compared 5 times\n",
      "Two array elements were swapped 3 times\n",
      "Current status of the array: [63, 44, 17, 52, 20, 6, 39, 77, 84, 99]\n",
      "\n",
      "Two array elements were compared 5 times\n",
      "Two array elements were swapped 4 times\n",
      "Current status of the array: [39, 44, 17, 52, 20, 6, 63, 77, 84, 99]\n",
      "\n",
      "Two array elements were compared 7 times\n",
      "Two array elements were swapped 5 times\n",
      "Current status of the array: [39, 44, 17, 6, 20, 52, 63, 77, 84, 99]\n",
      "\n",
      "Two array elements were compared 8 times\n",
      "Two array elements were swapped 6 times\n",
      "Current status of the array: [39, 20, 17, 6, 44, 52, 63, 77, 84, 99]\n",
      "\n",
      "Two array elements were compared 8 times\n",
      "Two array elements were swapped 7 times\n",
      "Current status of the array: [6, 20, 17, 39, 44, 52, 63, 77, 84, 99]\n",
      "\n",
      "Two array elements were compared 9 times\n",
      "Two array elements were swapped 8 times\n",
      "Current status of the array: [6, 17, 20, 39, 44, 52, 63, 77, 84, 99]\n",
      "\n",
      "[6, 17, 20, 39, 44, 52, 63, 77, 84, 99]\n"
     ]
    }
   ],
   "source": [
    "A1 = [63, 44, 17, 77, 20, 6, 99, 84, 52, 39]\n",
    "selection_sort(A1)\n",
    "print(A1)"
   ]
  },
  {
   "cell_type": "code",
   "execution_count": null,
   "id": "24696e6f",
   "metadata": {},
   "outputs": [],
   "source": []
  },
  {
   "cell_type": "code",
   "execution_count": null,
   "id": "1f08200c",
   "metadata": {},
   "outputs": [],
   "source": [
    "\n"
   ]
  },
  {
   "cell_type": "code",
   "execution_count": 201,
   "id": "a96a50d4",
   "metadata": {},
   "outputs": [],
   "source": [
    "\"\"\"\n",
    "Author: Shaun Clarke\n",
    "Class: CSC6013\n",
    "Goal:\n",
    "Adapt the Bubble Sort algorithm saw in class to stop the outer loop if no swap was made during\n",
    "the last iteration (thus, the array is already sorted).\n",
    "Trace your algorithm execution printing:\n",
    "    at each iteration of the outer loop count the number of times two array elements are compared\n",
    "    and the number of times two array elements were swapped, plus the current status of the array.\n",
    "    test your algorithm for the arrays:\n",
    "        A4 = [44, 63, 77, 17, 20, 99, 84, 6, 39, 52]\n",
    "        A5 = [52, 84, 6, 39, 20, 77, 17, 99, 44, 63]\n",
    "        A6 = [6, 17, 20, 39, 44, 52, 63, 77, 84, 99]\n",
    "\"\"\"\n",
    "\n",
    "def bubble_sort(a):\n",
    "    break_counter = 0\n",
    "    swap_counter = 0\n",
    "    compare_counter = 0\n",
    "    for i in range(len(a)-1):\n",
    "        print(f\"Two array elements were compared {compare_counter} time{'s' if compare_counter != 1 else ''}\")\n",
    "        print(f\"Two array elements were swapped {swap_counter} time{'s' if swap_counter != 1 else ''}\")\n",
    "        for j in range(len(a)-i-1):\n",
    "            if (a[j] > a[j+1]):\n",
    "                compare_counter += 1\n",
    "                break_counter += 1\n",
    "                a[j], a[j+1] = a[j+1], a[j]\n",
    "                swap_counter += 1\n",
    "        if break_counter == 0:\n",
    "            print(\"No swap was made... breaking loop\")\n",
    "            break"
   ]
  },
  {
   "cell_type": "code",
   "execution_count": 202,
   "id": "539230a7",
   "metadata": {
    "scrolled": true
   },
   "outputs": [
    {
     "name": "stdout",
     "output_type": "stream",
     "text": [
      "Two array elements were compared 0 times\n",
      "Two array elements were swapped 0 times\n",
      "Two array elements were compared 6 times\n",
      "Two array elements were swapped 6 times\n",
      "Two array elements were compared 11 times\n",
      "Two array elements were swapped 11 times\n",
      "Two array elements were compared 16 times\n",
      "Two array elements were swapped 16 times\n",
      "Two array elements were compared 19 times\n",
      "Two array elements were swapped 19 times\n",
      "Two array elements were compared 21 times\n",
      "Two array elements were swapped 21 times\n",
      "Two array elements were compared 22 times\n",
      "Two array elements were swapped 22 times\n",
      "Two array elements were compared 23 times\n",
      "Two array elements were swapped 23 times\n",
      "Two array elements were compared 23 times\n",
      "Two array elements were swapped 23 times\n",
      "[6, 17, 20, 39, 44, 52, 63, 77, 84, 99]\n"
     ]
    }
   ],
   "source": [
    "A4 = [44, 63, 77, 17, 20, 99, 84, 6, 39, 52]\n",
    "bubble_sort(A4)\n",
    "print(A4)"
   ]
  },
  {
   "cell_type": "code",
   "execution_count": null,
   "id": "ebd3353d",
   "metadata": {},
   "outputs": [],
   "source": []
  },
  {
   "cell_type": "code",
   "execution_count": 209,
   "id": "b4278f55",
   "metadata": {},
   "outputs": [
    {
     "name": "stdout",
     "output_type": "stream",
     "text": [
      "Vertex A visited. V: [0, -1, -1, -1, -1, -1, -1, -1]\n",
      "Vertex B visited. V: [0, 1, -1, -1, -1, -1, -1, -1]\n",
      "Vertex C visited. V: [0, 1, 2, -1, -1, -1, -1, -1]\n",
      "Vertex D visited. V: [0, 1, 2, 3, -1, -1, -1, -1]\n",
      "Vertex E visited. V: [0, 1, 2, 3, 4, -1, -1, -1]\n",
      "Vertex F visited. V: [0, 1, 2, 3, 4, 5, -1, -1]\n",
      "Vertex G visited. V: [0, 1, 2, 3, 4, 5, 6, -1]\n",
      "Vertex H visited. V: [0, 1, 2, 3, 4, 5, 6, 7]\n",
      "[0, 1, 2, 3, 4, 5, 6, 7]\n"
     ]
    }
   ],
   "source": [
    "labels = [\"A\", \"B\", \"C\", \"D\", \"E\", \"F\", \"G\", \"H\"]\n",
    "\n",
    "def BFS(V, E):\n",
    "    for i in range(len(V)):\n",
    "        V[i] = -1           # all vertices not visited\n",
    "    count = 0\n",
    "    for i in range(len(V)):   # for all possible sources\n",
    "        if (V[i] == -1):\n",
    "            Q = [i]           # enqueue the source\n",
    "            V[i], count = count, count + 1   # visit it\n",
    "            print(f\"Vertex {labels[i]} visited. V: {V}\")\n",
    "            while (len(Q) != 0):             # for all enqueued\n",
    "                for e in E:                  # search neighbors\n",
    "                    if (e[0] == Q[0]) and (V[e[1]] == -1):\n",
    "                        Q.append(e[1])       # enqueue it\n",
    "                        V[e[1]], count = count, count + 1   # visit it\n",
    "                Q.pop(0)                     # dequeue it\n",
    "                    \n",
    "# adjacency list\n",
    "adjacency_list = [\n",
    "    [\"E\", \"H\"], # A\n",
    "    [\"A\"], # B\n",
    "    [\"F\", \"G\"], # C\n",
    "    [\"A\", \"E\"], # D\n",
    "    [\"C\"], # E\n",
    "    [\"D\", \"E\"], # F\n",
    "    [\"B\", \"E\"], # G\n",
    "    [\"D\"] # H\n",
    "]\n",
    "\n",
    "# Breakout of triplets\n",
    "E = [\n",
    "    (\"A\", \"E\", 1),\n",
    "    (\"A\", \"H\", 1),\n",
    "    (\"B\", \"A\", 1),\n",
    "    (\"C\", \"F\", 1),\n",
    "    (\"C\", \"G\", 1),\n",
    "    (\"D\", \"A\", 1),\n",
    "    (\"D\", \"E\", 1),\n",
    "    (\"E\", \"C\", 1),\n",
    "    (\"F\", \"D\", 1),\n",
    "    (\"F\", \"E\", 1),\n",
    "    (\"G\", \"B\", 1),\n",
    "    (\"G\", \"E\", 1),\n",
    "    (\"H\", \"D\", 1),\n",
    "]\n",
    "\n",
    "V = [0] * 8\n",
    "\n",
    "BFS(V, E)\n",
    "print(V)"
   ]
  },
  {
   "cell_type": "code",
   "execution_count": null,
   "id": "bad6d841",
   "metadata": {},
   "outputs": [],
   "source": []
  },
  {
   "cell_type": "code",
   "execution_count": null,
   "id": "ab6152a7",
   "metadata": {},
   "outputs": [],
   "source": []
  },
  {
   "cell_type": "code",
   "execution_count": null,
   "id": "68625d58",
   "metadata": {},
   "outputs": [],
   "source": []
  },
  {
   "cell_type": "code",
   "execution_count": null,
   "id": "2744256e",
   "metadata": {},
   "outputs": [],
   "source": []
  },
  {
   "cell_type": "code",
   "execution_count": null,
   "id": "95a8fffa",
   "metadata": {},
   "outputs": [],
   "source": []
  },
  {
   "cell_type": "code",
   "execution_count": null,
   "id": "cd8a997a",
   "metadata": {},
   "outputs": [],
   "source": []
  },
  {
   "cell_type": "code",
   "execution_count": null,
   "id": "00452abf",
   "metadata": {},
   "outputs": [],
   "source": []
  },
  {
   "cell_type": "code",
   "execution_count": null,
   "id": "c564e5c1",
   "metadata": {},
   "outputs": [],
   "source": []
  },
  {
   "cell_type": "code",
   "execution_count": null,
   "id": "e0fb89b8",
   "metadata": {},
   "outputs": [],
   "source": []
  },
  {
   "cell_type": "code",
   "execution_count": null,
   "id": "6781709d",
   "metadata": {},
   "outputs": [],
   "source": []
  },
  {
   "cell_type": "code",
   "execution_count": null,
   "id": "584349f7",
   "metadata": {},
   "outputs": [],
   "source": []
  },
  {
   "cell_type": "code",
   "execution_count": null,
   "id": "ad9f5a49",
   "metadata": {},
   "outputs": [],
   "source": []
  },
  {
   "cell_type": "code",
   "execution_count": null,
   "id": "54a95392",
   "metadata": {},
   "outputs": [],
   "source": []
  },
  {
   "cell_type": "code",
   "execution_count": null,
   "id": "bc3e969d",
   "metadata": {},
   "outputs": [],
   "source": []
  }
 ],
 "metadata": {
  "kernelspec": {
   "display_name": "Python 3.10",
   "language": "python",
   "name": "py310"
  },
  "language_info": {
   "codemirror_mode": {
    "name": "ipython",
    "version": 3
   },
   "file_extension": ".py",
   "mimetype": "text/x-python",
   "name": "python",
   "nbconvert_exporter": "python",
   "pygments_lexer": "ipython3",
   "version": "3.11.9"
  }
 },
 "nbformat": 4,
 "nbformat_minor": 5
}
