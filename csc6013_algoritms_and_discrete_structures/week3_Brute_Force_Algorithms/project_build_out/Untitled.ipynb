{
 "cells": [
  {
   "cell_type": "code",
   "execution_count": 28,
   "id": "cd845732",
   "metadata": {},
   "outputs": [],
   "source": [
    "\"\"\"\n",
    "Author: Shaun Clarke\n",
    "Class: CSC6013\n",
    "Adapt the Selection Sort algorithm saw in class to sort the elements being the largest ones selected to go to the last positions first\n",
    "instead of the version presented in class, where the smallest ones where selected to go to the first positions. Trace your algorithm execution printing:\n",
    "    at each iteration of the outer loop count the number of times two array elements are compared and\n",
    "    the number of times two array elements were swapped, plus the current status of the array.\n",
    "\n",
    "    test your algorithm for the arrays:\n",
    "        A1 = [63, 44, 17, 77, 20, 6, 99, 84, 52, 39]\n",
    "        A2 = [84, 52, 39, 6, 20, 17, 77, 99, 63, 44]\n",
    "        A3 = [99, 84, 77, 63, 52, 44, 39, 20, 17, 6]\n",
    "\"\"\"\n",
    "\n",
    "def selection_sort(a):\n",
    "    for i in range(len(a)-1):\n",
    "        print(i)\n",
    "        min_index = i\n",
    "        for j in range(i+1, len(a)):\n",
    "#             print(f\"j: {j}\")\n",
    "            if (a[j] > a[min_index]):\n",
    "                min_index = j\n",
    "        a[i], a[min_index] = a[min_index], a[i]"
   ]
  },
  {
   "cell_type": "code",
   "execution_count": 29,
   "id": "af91c89b",
   "metadata": {
    "scrolled": true
   },
   "outputs": [
    {
     "name": "stdout",
     "output_type": "stream",
     "text": [
      "0\n",
      "1\n",
      "2\n",
      "3\n",
      "4\n",
      "5\n",
      "6\n",
      "7\n",
      "8\n",
      "[99, 84, 77, 63, 52, 44, 39, 20, 17, 6]\n"
     ]
    }
   ],
   "source": [
    "A1 = [63, 44, 17, 77, 20, 6, 99, 84, 52, 39]\n",
    "selection_sort(A1)\n",
    "print(A1)"
   ]
  },
  {
   "cell_type": "code",
   "execution_count": 50,
   "id": "4993872e",
   "metadata": {},
   "outputs": [],
   "source": []
  },
  {
   "cell_type": "code",
   "execution_count": 65,
   "id": "88a4068d",
   "metadata": {},
   "outputs": [
    {
     "name": "stdout",
     "output_type": "stream",
     "text": [
      "Vertex A visited, V: [0, -1, -1, -1, -1, -1, -1, -1]\n",
      "Vertex B enqueued, Q: [1]\n",
      "Vertex C Dequeued, Q: []\n",
      "[0, 1, 2, 3, 4, 5, 6, 7]\n"
     ]
    }
   ],
   "source": [
    "def BFS(V, E):\n",
    "    for i in range(len(V)):\n",
    "        V[i] = -1           # all vertices not visited\n",
    "    count = 0\n",
    "    for i in range(len(V)):   # for all possible sources\n",
    "        if (V[i] == -1):\n",
    "            Q = [i]           # enqueue the source\n",
    "            if i == 1:\n",
    "                print(f\"Vertex B enqueued, Q: {Q}\")\n",
    "            V[i], count = count, count + 1   # visit it\n",
    "            if i == 0:\n",
    "                print(f\"Vertex A visited, V: {V}\")\n",
    "            while (len(Q) != 0):             # for all enqueued\n",
    "                for e in E:                  # search neighbors\n",
    "                    if (e[0] == Q[0]) and (V[e[1]] == -1):\n",
    "                        Q.append(e[1])       # enqueue it\n",
    "                        if i == 1:\n",
    "                            print(f\"Vertex B enqueued, Q: {Q}\")\n",
    "                        V[e[1]], count = count, count + 1   # visit it\n",
    "                Q.pop(0)                     # dequeue it\n",
    "                if i == 2:\n",
    "                    print(f\"Vertex C Dequeued, Q: {Q}\")\n",
    "                    \n",
    "# adjacency list\n",
    "adjacency_list = [\n",
    "    [\"E\", \"H\"], # A\n",
    "    [\"A\"], # B\n",
    "    [\"F\", \"G\"], # C\n",
    "    [\"A\", \"E\"], # D\n",
    "    [\"C\"], # E\n",
    "    [\"D\", \"E\"], # F\n",
    "    [\"B\", \"E\"], # G\n",
    "    [\"D\"] # H\n",
    "]\n",
    "\n",
    "# Breakout of triplets\n",
    "E = [\n",
    "    (\"A\", \"E\", 1),\n",
    "    (\"A\", \"H\", 1),\n",
    "    (\"B\", \"A\", 1),\n",
    "    (\"C\", \"F\", 1),\n",
    "    (\"C\", \"G\", 1),\n",
    "    (\"D\", \"A\", 1),\n",
    "    (\"D\", \"E\", 1),\n",
    "    (\"E\", \"C\", 1),\n",
    "    (\"F\", \"D\", 1),\n",
    "    (\"F\", \"E\", 1),\n",
    "    (\"G\", \"B\", 1),\n",
    "    (\"G\", \"E\", 1),\n",
    "    (\"H\", \"D\", 1),\n",
    "]\n",
    "\n",
    "V = [0] * 8\n",
    "\n",
    "BFS(V, E)\n",
    "print(V)"
   ]
  },
  {
   "cell_type": "code",
   "execution_count": 42,
   "id": "aa46be2e",
   "metadata": {},
   "outputs": [],
   "source": []
  },
  {
   "cell_type": "code",
   "execution_count": 48,
   "id": "2a9fe6a2",
   "metadata": {},
   "outputs": [
    {
     "name": "stdout",
     "output_type": "stream",
     "text": [
      "[0, 1, 2, 3, 4, 6, 5, 7, 8]\n"
     ]
    }
   ],
   "source": []
  },
  {
   "cell_type": "code",
   "execution_count": null,
   "id": "bdf1fe76",
   "metadata": {},
   "outputs": [],
   "source": []
  }
 ],
 "metadata": {
  "kernelspec": {
   "display_name": "Python 3.10",
   "language": "python",
   "name": "py310"
  },
  "language_info": {
   "codemirror_mode": {
    "name": "ipython",
    "version": 3
   },
   "file_extension": ".py",
   "mimetype": "text/x-python",
   "name": "python",
   "nbconvert_exporter": "python",
   "pygments_lexer": "ipython3",
   "version": "3.11.9"
  }
 },
 "nbformat": 4,
 "nbformat_minor": 5
}
