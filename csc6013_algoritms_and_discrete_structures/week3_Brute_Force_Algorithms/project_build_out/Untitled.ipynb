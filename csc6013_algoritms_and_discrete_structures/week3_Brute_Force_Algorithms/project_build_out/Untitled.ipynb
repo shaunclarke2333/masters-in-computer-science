{
 "cells": [
  {
   "cell_type": "code",
   "execution_count": 12,
   "id": "5bba6394",
   "metadata": {},
   "outputs": [],
   "source": [
    "\"\"\"\n",
    "Author: Shaun Clarke\n",
    "Class: CSC6013\n",
    "Adapt the Selection Sort algorithm saw in class to sort the elements being the largest ones selected to go to the last positions first\n",
    "instead of the version presented in class, where the smallest ones where selected to go to the first positions.\n",
    "Trace your algorithm execution printing:\n",
    "at each iteration of the outer loop count the number of times two array elements are compared and\n",
    "the number of times two array elements were swapped, plus the current status of the array.\n",
    "\n",
    "    test your algorithm for the arrays:\n",
    "        A1 = [63, 44, 17, 77, 20, 6, 99, 84, 52, 39]\n",
    "        A2 = [84, 52, 39, 6, 20, 17, 77, 99, 63, 44]\n",
    "        A3 = [99, 84, 77, 63, 52, 44, 39, 20, 17, 6]\n",
    "\"\"\"\n",
    "def selection_sort(a):\n",
    "    swap_counter = 0\n",
    "    compare_counter = 0\n",
    "    for i in range(len(a)-1):\n",
    "        print(f\"Two array elements were compared {compare_counter} time{'s' if compare_counter != 1 else ''}\")\n",
    "        print(f\"Two array elements were swapped {swap_counter} time{'s' if swap_counter != 1 else ''}\")\n",
    "        print(f\"Current status of the array: {a}\\n\")\n",
    "        max_index = 0\n",
    "        for j in range(1, len(a)-i):\n",
    "            if (a[j] > a[max_index]):\n",
    "                compare_counter += 1\n",
    "                max_index = j\n",
    "        last_index = len(a)-1-i\n",
    "        a[last_index], a[max_index] = a[max_index], a[last_index]\n",
    "        swap_counter += 1"
   ]
  },
  {
   "cell_type": "code",
   "execution_count": 206,
   "id": "66c7e30f",
   "metadata": {},
   "outputs": [
    {
     "name": "stdout",
     "output_type": "stream",
     "text": [
      "Two array elements were compared 0 times\n",
      "Two array elements were swapped 0 times\n",
      "Current status of the array: [63, 44, 17, 77, 20, 6, 99, 84, 52, 39]\n",
      "\n",
      "Two array elements were compared 2 times\n",
      "Two array elements were swapped 1 time\n",
      "Current status of the array: [63, 44, 17, 77, 20, 6, 39, 84, 52, 99]\n",
      "\n",
      "Two array elements were compared 4 times\n",
      "Two array elements were swapped 2 times\n",
      "Current status of the array: [63, 44, 17, 77, 20, 6, 39, 52, 84, 99]\n",
      "\n",
      "Two array elements were compared 5 times\n",
      "Two array elements were swapped 3 times\n",
      "Current status of the array: [63, 44, 17, 52, 20, 6, 39, 77, 84, 99]\n",
      "\n",
      "Two array elements were compared 5 times\n",
      "Two array elements were swapped 4 times\n",
      "Current status of the array: [39, 44, 17, 52, 20, 6, 63, 77, 84, 99]\n",
      "\n",
      "Two array elements were compared 7 times\n",
      "Two array elements were swapped 5 times\n",
      "Current status of the array: [39, 44, 17, 6, 20, 52, 63, 77, 84, 99]\n",
      "\n",
      "Two array elements were compared 8 times\n",
      "Two array elements were swapped 6 times\n",
      "Current status of the array: [39, 20, 17, 6, 44, 52, 63, 77, 84, 99]\n",
      "\n",
      "Two array elements were compared 8 times\n",
      "Two array elements were swapped 7 times\n",
      "Current status of the array: [6, 20, 17, 39, 44, 52, 63, 77, 84, 99]\n",
      "\n",
      "Two array elements were compared 9 times\n",
      "Two array elements were swapped 8 times\n",
      "Current status of the array: [6, 17, 20, 39, 44, 52, 63, 77, 84, 99]\n",
      "\n",
      "[6, 17, 20, 39, 44, 52, 63, 77, 84, 99]\n"
     ]
    }
   ],
   "source": [
    "A1 = [63, 44, 17, 77, 20, 6, 99, 84, 52, 39]\n",
    "selection_sort(A1)\n",
    "print(A1)"
   ]
  },
  {
   "cell_type": "code",
   "execution_count": null,
   "id": "603b1781",
   "metadata": {},
   "outputs": [],
   "source": []
  },
  {
   "cell_type": "code",
   "execution_count": null,
   "id": "a7ba253d",
   "metadata": {},
   "outputs": [],
   "source": [
    "\n"
   ]
  },
  {
   "cell_type": "code",
   "execution_count": 39,
   "id": "fe7fdb0b",
   "metadata": {},
   "outputs": [],
   "source": [
    "\"\"\"\n",
    "Author: Shaun Clarke\n",
    "Class: CSC6013\n",
    "Goal:\n",
    "Adapt the Bubble Sort algorithm saw in class to stop the outer loop if no swap was made during\n",
    "the last iteration (thus, the array is already sorted).\n",
    "Trace your algorithm execution printing:\n",
    "    at each iteration of the outer loop count the number of times two array elements are compared\n",
    "    and the number of times two array elements were swapped, plus the current status of the array.\n",
    "    test your algorithm for the arrays:\n",
    "        A4 = [44, 63, 77, 17, 20, 99, 84, 6, 39, 52]\n",
    "        A5 = [52, 84, 6, 39, 20, 77, 17, 99, 44, 63]\n",
    "        A6 = [6, 17, 20, 39, 44, 52, 63, 77, 84, 99]\n",
    "\"\"\"\n",
    "\n",
    "def bubble_sort(a):\n",
    "    break_counter = 0\n",
    "    swap_counter = 0\n",
    "    compare_counter = 0\n",
    "    for i in range(len(a)-1):\n",
    "        print(f\"Two array elements were compared {compare_counter} time{'s' if compare_counter != 1 else ''}\")\n",
    "        print(f\"Two array elements were swapped {swap_counter} time{'s' if swap_counter != 1 else ''}\")\n",
    "        for j in range(len(a)-i-1):\n",
    "            if (a[j] > a[j+1]):\n",
    "                compare_counter += 1\n",
    "                break_counter += 1\n",
    "                a[j], a[j+1] = a[j+1], a[j]\n",
    "                swap_counter += 1\n",
    "        if break_counter == 0:\n",
    "            print(\"No swap was made... breaking loop\")\n",
    "            break"
   ]
  },
  {
   "cell_type": "code",
   "execution_count": 41,
   "id": "34ef9304",
   "metadata": {
    "scrolled": true
   },
   "outputs": [
    {
     "name": "stdout",
     "output_type": "stream",
     "text": [
      "Two array elements were compared 0 times\n",
      "Two array elements were swapped 0 times\n",
      "No swap was made... breaking loop\n",
      "[6, 17, 20, 39, 44, 52, 63, 77, 84, 99]\n"
     ]
    }
   ],
   "source": [
    "A4 = [6, 17, 20, 39, 44, 52, 63, 77, 84, 99]\n",
    "bubble_sort(A4)\n",
    "print(A4)"
   ]
  },
  {
   "cell_type": "code",
   "execution_count": null,
   "id": "c9178a30",
   "metadata": {},
   "outputs": [],
   "source": []
  },
  {
   "cell_type": "code",
   "execution_count": 49,
   "id": "26d8d9a0",
   "metadata": {},
   "outputs": [
    {
     "name": "stdout",
     "output_type": "stream",
     "text": [
      "Vertex A enqueued. Q: ['A']\n",
      "Vertex A visited. V: [0, -1, -1, -1, -1, -1, -1, -1]\n",
      "Vertex E enqueued. Q: ['A', 'E']\n",
      "Vertex E visited. V: [0, -1, -1, -1, 1, -1, -1, -1]\n",
      "Vertex H enqueued. Q: ['A', 'E', 'H']\n",
      "Vertex H visited. V: [0, -1, -1, -1, 1, -1, -1, 2]\n",
      "Vertex A dequeued. Q: ['A', 'E', 'H']\n",
      "Vertex C enqueued. Q: ['E', 'H', 'C']\n",
      "Vertex C visited. V: [0, -1, 3, -1, 1, -1, -1, 2]\n",
      "Vertex E dequeued. Q: ['E', 'H', 'C']\n",
      "Vertex D enqueued. Q: ['H', 'C', 'D']\n",
      "Vertex D visited. V: [0, -1, 3, 4, 1, -1, -1, 2]\n",
      "Vertex H dequeued. Q: ['H', 'C', 'D']\n",
      "Vertex F enqueued. Q: ['C', 'D', 'F']\n",
      "Vertex F visited. V: [0, -1, 3, 4, 1, 5, -1, 2]\n",
      "Vertex G enqueued. Q: ['C', 'D', 'F', 'G']\n",
      "Vertex G visited. V: [0, -1, 3, 4, 1, 5, 6, 2]\n",
      "Vertex C dequeued. Q: ['C', 'D', 'F', 'G']\n",
      "Vertex D dequeued. Q: ['D', 'F', 'G']\n",
      "Vertex F dequeued. Q: ['F', 'G']\n",
      "Vertex B enqueued. Q: ['G', 'B']\n",
      "Vertex B visited. V: [0, 7, 3, 4, 1, 5, 6, 2]\n",
      "Vertex G dequeued. Q: ['G', 'B']\n",
      "Vertex B dequeued. Q: ['B']\n",
      "[0, 7, 3, 4, 1, 5, 6, 2]\n"
     ]
    }
   ],
   "source": [
    "from typing import List\n",
    "\n",
    "# This function creates a new list with the names of the current vertices in the queue\n",
    "def current_vertices(Q: List, verticals: List) -> List:\n",
    "    # List to hold vertices names\n",
    "    vertices_names: List = []\n",
    "    for q in Q:\n",
    "        # Adding vertices to list\n",
    "        vertices_names.append(verticals[q])\n",
    "    return vertices_names\n",
    "\n",
    "def BFS(V, E):\n",
    "    for i in range(len(V)):\n",
    "        V[i] = -1           # all vertices not visited\n",
    "    count = 0\n",
    "    for i in range(len(V)):   # for all possible sources\n",
    "        if (V[i] == -1):\n",
    "            Q = [i]           # enqueue the source\n",
    "            print(f\"Vertex {verticals[i]} enqueued. Q: {current_vertices(Q, verticals)}\")\n",
    "            V[i], count = count, count + 1   # visit it\n",
    "            print(f\"Vertex {verticals[i]} visited. V: {V}\")\n",
    "            while (len(Q) != 0):             # for all enqueued\n",
    "                for e in E:                  # search neighbors\n",
    "                    if (e[0] == Q[0]) and (V[e[1]] == -1):\n",
    "                        Q.append(e[1])       # enqueue it\n",
    "                        print(f\"Vertex {verticals[e[1]]} enqueued. Q: {current_vertices(Q, verticals)}\")\n",
    "                        V[e[1]], count = count, count + 1   # visit it\n",
    "                        print(f\"Vertex {verticals[e[1]]} visited. V: {V}\")\n",
    "                print(f\"Vertex {verticals[Q[0]]} dequeued. Q: {current_vertices(Q, verticals)}\")\n",
    "                Q.pop(0)                     # dequeue it\n",
    "                \n",
    "                \n",
    "\n",
    "verticals: List = [\n",
    "    \"A\",\n",
    "    \"B\",\n",
    "    \"C\",\n",
    "    \"D\",\n",
    "    \"E\",\n",
    "    \"F\",\n",
    "    \"G\",\n",
    "    \"H\"\n",
    "]\n",
    "                    \n",
    "# Breakout of triplets\n",
    "E: List = [\n",
    "    [0, 4, 1],\n",
    "    [0, 7, 1],\n",
    "    [1, 0, 1],\n",
    "    [2, 5, 1],\n",
    "    [2, 6, 1],\n",
    "    [3, 0, 1],\n",
    "    [3, 4, 1],\n",
    "    [4, 2, 1],\n",
    "    [5, 3, 1],\n",
    "    [5, 4, 1],\n",
    "    [6, 1, 1],\n",
    "    [6, 4, 1],\n",
    "    [7, 3, 1],\n",
    "]\n",
    "\n",
    "V: List = [0] * len(verticals)\n",
    "\n",
    "BFS(V, E)\n",
    "print(V)"
   ]
  },
  {
   "cell_type": "code",
   "execution_count": 17,
   "id": "036b598b",
   "metadata": {},
   "outputs": [],
   "source": [
    "# adjacency list\n",
    "adjacency_list = [\n",
    "    [\"E\", \"H\"], # A\n",
    "    [\"A\"], # B\n",
    "    [\"F\", \"G\"], # C\n",
    "    [\"A\", \"E\"], # D\n",
    "    [\"C\"], # E\n",
    "    [\"D\", \"E\"], # F\n",
    "    [\"B\", \"E\"], # G\n",
    "    [\"D\"] # H\n",
    "]\n"
   ]
  },
  {
   "cell_type": "code",
   "execution_count": null,
   "id": "f6190c18",
   "metadata": {},
   "outputs": [],
   "source": []
  },
  {
   "cell_type": "code",
   "execution_count": null,
   "id": "38fa23b5",
   "metadata": {},
   "outputs": [],
   "source": []
  },
  {
   "cell_type": "code",
   "execution_count": null,
   "id": "d8859328",
   "metadata": {},
   "outputs": [],
   "source": []
  },
  {
   "cell_type": "code",
   "execution_count": null,
   "id": "30dc3d63",
   "metadata": {},
   "outputs": [],
   "source": []
  },
  {
   "cell_type": "code",
   "execution_count": null,
   "id": "56a37669",
   "metadata": {},
   "outputs": [],
   "source": []
  },
  {
   "cell_type": "code",
   "execution_count": null,
   "id": "ab85ec2b",
   "metadata": {},
   "outputs": [],
   "source": []
  },
  {
   "cell_type": "code",
   "execution_count": null,
   "id": "adff5c37",
   "metadata": {},
   "outputs": [],
   "source": []
  },
  {
   "cell_type": "code",
   "execution_count": null,
   "id": "fdb6ff09",
   "metadata": {},
   "outputs": [],
   "source": []
  },
  {
   "cell_type": "code",
   "execution_count": null,
   "id": "94b99b81",
   "metadata": {},
   "outputs": [],
   "source": []
  },
  {
   "cell_type": "code",
   "execution_count": null,
   "id": "be887aba",
   "metadata": {},
   "outputs": [],
   "source": []
  },
  {
   "cell_type": "code",
   "execution_count": null,
   "id": "86376ec8",
   "metadata": {},
   "outputs": [],
   "source": []
  }
 ],
 "metadata": {
  "kernelspec": {
   "display_name": "Python 3.10",
   "language": "python",
   "name": "py310"
  },
  "language_info": {
   "codemirror_mode": {
    "name": "ipython",
    "version": 3
   },
   "file_extension": ".py",
   "mimetype": "text/x-python",
   "name": "python",
   "nbconvert_exporter": "python",
   "pygments_lexer": "ipython3",
   "version": "3.11.9"
  }
 },
 "nbformat": 4,
 "nbformat_minor": 5
}
