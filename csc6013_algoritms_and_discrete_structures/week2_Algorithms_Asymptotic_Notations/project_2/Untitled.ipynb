{
 "cells": [
  {
   "cell_type": "code",
   "execution_count": null,
   "id": "e4dba735",
   "metadata": {},
   "outputs": [],
   "source": []
  },
  {
   "cell_type": "code",
   "execution_count": 26,
   "id": "2fe6517b",
   "metadata": {},
   "outputs": [],
   "source": []
  },
  {
   "cell_type": "code",
   "execution_count": null,
   "id": "72d92553",
   "metadata": {},
   "outputs": [],
   "source": [
    "# PROJECT 1"
   ]
  },
  {
   "cell_type": "code",
   "execution_count": 27,
   "id": "65b8e9ac",
   "metadata": {},
   "outputs": [],
   "source": [
    "# This class prompts the user for an input\n",
    "class UserInput:\n",
    "    \"\"\"\n",
    "    This class does not need to be instantiated.\n",
    "    It prompts the user to input an integer.\n",
    "    \"\"\"\n",
    "    # This static method prompts the user for an int input\n",
    "    @staticmethod\n",
    "    def get_user_number_input() -> int:\n",
    "        # While loop to prompt user until input is satisfied\n",
    "        while True:\n",
    "            try:\n",
    "                # Prompting the user to enter an integer\n",
    "                user_input: int = int(input(f\"Enter a number, any number\\n: \").strip())\n",
    "                return user_input\n",
    "            except ValueError:\n",
    "                print(\"\\nYour input must be a number\\n\")\n",
    "    \n",
    "    # This static method prompts the user to enter a list of ints\n",
    "    @staticmethod\n",
    "    def get_list_input() -> List:\n",
    "        # Looping until input criteria has been satisfied\n",
    "        while True:\n",
    "            try:\n",
    "                # promt user to enter a list of numbers\n",
    "                user_input: List = input(\"\\nEnter a list of comma separated numbers\\n: \").split(\",\")\n",
    "                return user_input\n",
    "            except ValueError as err:\n",
    "                print(err)\n",
    "                \n",
    "\n"
   ]
  },
  {
   "cell_type": "code",
   "execution_count": null,
   "id": "22e70b60",
   "metadata": {},
   "outputs": [],
   "source": []
  },
  {
   "cell_type": "code",
   "execution_count": 82,
   "id": "39da3649",
   "metadata": {},
   "outputs": [
    {
     "name": "stdout",
     "output_type": "stream",
     "text": [
      "\n",
      "Enter a list of comma separated numbers\n",
      ": 20, 21, 25, 28, 33, 34, 35, 36, 41, 42\n",
      "Enter a number, any number\n",
      ": 7\n",
      "\n",
      "The array you entered has 4 numbers that are divisible by 7.\n",
      "\n"
     ]
    }
   ],
   "source": [
    "\"\"\"\n",
    "PROJECT 1\n",
    "1) Find the number of entries in an array of integers that are divisible by a given integer.\n",
    "Your function should have two input parameters – an array of integers and a positive integer – and\n",
    "should return an integer indicating the count using a return statement.\n",
    "Run your algorithm on the problem instances:\n",
    "a) [20, 21, 25, 28, 33, 34, 35, 36, 41, 42] number of entries that are divisible by 7\n",
    "and\n",
    "b) [18, 54, 76, 81, 36, 48, 99] number of entries that are divisible by 9\n",
    "\"\"\"\n",
    "\n",
    "# importing dependencies\n",
    "from typing import List\n",
    "\n",
    "# This class prompts the user for an input\n",
    "class UserInput:\n",
    "    \"\"\"\n",
    "    This class does not need to be instantiated.\n",
    "    It prompts the user to input an integer.\n",
    "    \"\"\"\n",
    "    # This static method prompts the user for an int input\n",
    "    @staticmethod\n",
    "    def get_user_number_input() -> int:\n",
    "        # While loop to prompt user until input is satisfied\n",
    "        while True:\n",
    "            try:\n",
    "                # Prompting the user to enter an integer\n",
    "                user_input: int = int(input(f\"Enter a number, any number\\n: \").strip())\n",
    "                return user_input\n",
    "            except ValueError:\n",
    "                print(\"\\nYour input must be a number\\n\")\n",
    "    \n",
    "    # This static method prompts the user to enter a list of ints\n",
    "    @staticmethod\n",
    "    def get_list_input() -> List:\n",
    "        # Looping until input criteria has been satisfied\n",
    "        while True:\n",
    "            try:\n",
    "                # promt user to enter a list of numbers\n",
    "                user_input: List = input(\"\\nEnter a list of comma separated numbers\\n: \").strip().split(\",\")\n",
    "                # converting all list items from stirng to int\n",
    "                user_input = list(map(int, user_input))\n",
    "                return user_input\n",
    "            except ValueError as err:\n",
    "                print(err)\n",
    "                \n",
    "\n",
    "# This class checks the divisibility of numbers in an array\n",
    "class CheckDivisibility:\n",
    "        \n",
    "    # This method loops through an array and find the devisible numbers\n",
    "    @staticmethod\n",
    "    def check_divider(an_array: List, divider: int) -> int:\n",
    "        # counter to hold count of divisible numbers\n",
    "        div_counter = 0\n",
    "        # loop through array and perform operation\n",
    "        for number in an_array:\n",
    "            if number % divider == 0: # if this is true\n",
    "                div_counter += 1 # Increment by 1\n",
    "        return div_counter\n",
    "    \n",
    "# This function calls the program\n",
    "def main():\n",
    "    \n",
    "    # prompting user to input a list of numbers\n",
    "    list_input = UserInput.get_list_input()\n",
    "    \n",
    "    # prompting user to input divisor integer\n",
    "    divisor = UserInput.get_user_number_input()\n",
    "    \n",
    "    # check divisibility\n",
    "    divisible_numbers = CheckDivisibility.check_divider(list_input, divisor)\n",
    "    # formatting output and using an in line conditinal statement to pluralize\n",
    "    print(f\"\\nThe array you entered has {divisible_numbers} number{'s' if divisible_numbers != 1 else ''} that are divisible by {divisor}.\\n\")\n",
    "\n",
    "# Running program if script is invoked directly \n",
    "if __name__ == \"__main__\":\n",
    "    main()\n",
    "                \n",
    "    \n",
    "    "
   ]
  },
  {
   "cell_type": "code",
   "execution_count": 32,
   "id": "789cdd2b",
   "metadata": {},
   "outputs": [],
   "source": []
  },
  {
   "cell_type": "code",
   "execution_count": 80,
   "id": "6b2ab869",
   "metadata": {},
   "outputs": [
    {
     "name": "stdout",
     "output_type": "stream",
     "text": [
      "\n",
      "Enter a list of comma separated numbers\n",
      ": 50, 120, 250, 100, 20, 300, 200\n",
      "\n",
      "The smallest gap in the array you entered is 20.\n",
      "\n"
     ]
    }
   ],
   "source": [
    "\"\"\"\n",
    "PROJECT 2\n",
    "Given an array of real numbers, without sorting the array,\n",
    "find the smallest gap between all pairs of elements (for an array A,\n",
    "the absolute value of the difference between elements 𝐴[i] and 𝐴[𝑗]).\n",
    "Your function should have one input parameter – an array of numbers –\n",
    "and should return a non-negative number indicating the smallest gap using a return statement.\n",
    "Run your algorithm on the problem instances:\n",
    "a) [50, 120, 250, 100, 20, 300, 200]\n",
    "b) [12.4, 45.9, 8.1, 79.8, -13.64, 5.09]\n",
    "\"\"\"\n",
    "\n",
    "# importing dependencies\n",
    "from typing import List\n",
    "import itertools\n",
    "\n",
    "# This class prompts the user for an input\n",
    "class UserInput:\n",
    "    \"\"\"\n",
    "    This class does not need to be instantiated.\n",
    "    It prompts the user to input a list of real numbers comma seperated.\n",
    "    \"\"\"\n",
    "\n",
    "    # This static method prompts the user to enter a list of ints\n",
    "    @staticmethod\n",
    "    def get_list_input() -> List:\n",
    "        # Looping until input criteria has been satisfied\n",
    "        while True:\n",
    "            try:\n",
    "                # promt user to enter a list of numbers\n",
    "                user_input: List = input(\"\\nEnter a list of comma separated numbers\\n: \").strip().split(\",\")\n",
    "                # converting all list items from stirng to int\n",
    "                user_input = list(map(int, user_input))\n",
    "                return user_input\n",
    "            except ValueError as err:\n",
    "                print(err)\n",
    "                \n",
    "# This class creates unique pairs from a list of numbers\n",
    "class UniquePairs:\n",
    "    # This method creates unique pairs from array of numbers\n",
    "    @staticmethod\n",
    "    def create_pairs(an_array: List) -> int:\n",
    "        # using itertools combination method to generate unique pairs from the array\n",
    "        unique_pairs = list(itertools.combinations(an_array, 2))\n",
    "        return unique_pairs\n",
    "\n",
    "# This class finds the smallest gap between all pairs of entered elements\n",
    "class FindSmallestGap:\n",
    "    \n",
    "    # finding smallest gap\n",
    "    @staticmethod\n",
    "    def find_smallest_gap(an_array: List) -> int:\n",
    "        # Variabel to hold smallest gap\n",
    "        smallest_gap = 1000\n",
    "        # generating unique pairs\n",
    "        for pair in an_array:\n",
    "            # first and second number in pair\n",
    "            first_number = pair[0]\n",
    "            second_number = pair[1]\n",
    "            # making sure we always subtract from the larger number\n",
    "            if first_number < second_number:\n",
    "                # subtracting to get the gap\n",
    "                gap = second_number - first_number\n",
    "                # checking if gap is smaller than what we have saved\n",
    "                if gap < smallest_gap:\n",
    "                    smallest_gap = gap\n",
    "            else:\n",
    "                # subtracting to get the gap\n",
    "                gap = first_number - second_number\n",
    "                # checking if gap is smaller than what we have saved\n",
    "                if gap < smallest_gap:\n",
    "                    # updating  smallest gap variable\n",
    "                    smallest_gap = gap \n",
    "                    \n",
    "        return smallest_gap\n",
    "\n",
    "# This function calls the program\n",
    "def main():\n",
    "    \n",
    "    # prompting user to input a list of numbers\n",
    "    list_input = UserInput.get_list_input()\n",
    "    \n",
    "    # creating unique pairs of numbers\n",
    "    unique_pairs = UniquePairs.create_pairs(list_input)\n",
    "\n",
    "    # Finding the smallest gap in the array of pairs\n",
    "    smallest_gap = FindSmallestGap.find_smallest_gap(unique_pairs)\n",
    "    \n",
    "    # formatting output and using an in line conditinal statement to pluralize\n",
    "    print(f\"\\nThe smallest gap in the array you entered is {smallest_gap}.\\n\")\n",
    "\n",
    "# Running program if script is invoked directly \n",
    "if __name__ == \"__main__\":\n",
    "    main()"
   ]
  },
  {
   "cell_type": "code",
   "execution_count": 59,
   "id": "ef1bfef1",
   "metadata": {},
   "outputs": [],
   "source": [
    "my_list = [12.4, 45.9, 8.1, 79.8, -13.64, 5.09]"
   ]
  },
  {
   "cell_type": "code",
   "execution_count": 66,
   "id": "47cc93c8",
   "metadata": {},
   "outputs": [],
   "source": [
    "unique_pairs = FindSmallestGap.find_smallest_gap(my_list)"
   ]
  },
  {
   "cell_type": "code",
   "execution_count": 67,
   "id": "5d56e05e",
   "metadata": {},
   "outputs": [
    {
     "name": "stdout",
     "output_type": "stream",
     "text": [
      "3.01\n"
     ]
    }
   ],
   "source": [
    "print(unique_pairs)"
   ]
  },
  {
   "cell_type": "code",
   "execution_count": 62,
   "id": "5ce4b365",
   "metadata": {},
   "outputs": [],
   "source": [
    "\"\"\"\n",
    "PROJECT 3\n",
    "3) Given an integer n>=2 and two nxn matrices A and B of real numbers,\n",
    "find the product AB of the matrices.\n",
    "Your function should have three input parameters –\n",
    "a positive integer n and two nxn matrices of numbers– and\n",
    "should return the nxn product matrix using a return statement.\n",
    "\"\"\""
   ]
  },
  {
   "cell_type": "code",
   "execution_count": 63,
   "id": "d2c6e4b7",
   "metadata": {},
   "outputs": [
    {
     "name": "stdout",
     "output_type": "stream",
     "text": [
      "3.01\n"
     ]
    }
   ],
   "source": []
  },
  {
   "cell_type": "code",
   "execution_count": null,
   "id": "d6205a0f",
   "metadata": {},
   "outputs": [],
   "source": []
  }
 ],
 "metadata": {
  "kernelspec": {
   "display_name": "Python 3 (ipykernel)",
   "language": "python",
   "name": "python3"
  },
  "language_info": {
   "codemirror_mode": {
    "name": "ipython",
    "version": 3
   },
   "file_extension": ".py",
   "mimetype": "text/x-python",
   "name": "python",
   "nbconvert_exporter": "python",
   "pygments_lexer": "ipython3",
   "version": "3.9.13"
  }
 },
 "nbformat": 4,
 "nbformat_minor": 5
}
