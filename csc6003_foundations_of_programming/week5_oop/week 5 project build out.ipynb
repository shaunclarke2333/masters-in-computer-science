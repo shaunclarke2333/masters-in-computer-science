{
 "cells": [
  {
   "cell_type": "code",
   "execution_count": 2,
   "id": "1b949c97",
   "metadata": {},
   "outputs": [],
   "source": [
    "# Working features:\n",
    "#     add file\n",
    "#     add sub folder\n",
    "#     select folder\n",
    "#     __str__\n",
    "    \n",
    "# What needs to be added:\n",
    "#     __count_files\n",
    "#     __eq__\n",
    "#     __len__\n",
    "    \n",
    "# after adding above:\n",
    "#     create input handler class\n",
    "#         hanles input and pass it to Folder class to retrieve details\n",
    "#     Create menu class to handle displaying menu based on class state\n",
    "#     create main class to hold main function"
   ]
  },
  {
   "cell_type": "code",
   "execution_count": 3,
   "id": "e3e3545d",
   "metadata": {},
   "outputs": [],
   "source": [
    "from typing import Tuple\n",
    "from typing import Dict\n",
    "from typing import List\n",
    "from typing import Union\n",
    "from typing import Optional"
   ]
  },
  {
   "cell_type": "code",
   "execution_count": 10,
   "id": "d717cc6e",
   "metadata": {},
   "outputs": [],
   "source": [
    "# This folder class represents a folder in a file system. It creates and modifies a folder.\n",
    "class Folder:\n",
    "    def __init__(self, folder_name: str):\n",
    "        self.folder_name = folder_name\n",
    "        self.files: List = []\n",
    "        self.sub_folders: List = []\n",
    "            \n",
    "        \n",
    "    # This method checks if the folder exists\n",
    "    def does_folder_exist(self, folder_name: str)-> bool:\n",
    "        \"\"\"\n",
    "        This method uses the folder name to check if a folder exists\n",
    "        \"\"\"\n",
    "        # Checking if folder exist\n",
    "        for folder in self.sub_folders:\n",
    "            if folder.folder_name == folder_name:\n",
    "                return True\n",
    "        return False\n",
    "            \n",
    "    # This method checks if the file exists in the folder\n",
    "    def does_file_exist(self, file_name: str) -> bool:\n",
    "        \"\"\"\n",
    "        This private method uses file_name to chekc if it exists in the user folder.<br>\n",
    "        Returns True or False.\n",
    "        \"\"\"\n",
    "        # Checking if the file exists\n",
    "        if file_name in self.files:\n",
    "            return True\n",
    "        else:\n",
    "            return False \n",
    "        \n",
    "    # This method adds a sub folder to a folder\n",
    "    def add_sub_folder(self, folder_name: str) -> str:\n",
    "        \"\"\"\n",
    "        This method adds a sub folder object to the main folder.\n",
    "        \"\"\"\n",
    "        # CHecking if folder exists\n",
    "        if self.does_folder_exist(folder_name):\n",
    "            return \"sub folder exists\"\n",
    "        # adding subfolder to main folder\n",
    "        creating_sub_folder = Folder(folder_name)\n",
    "        self.sub_folders.append(creating_sub_folder)\n",
    "        # Chekcing if folder was added\n",
    "        if self.does_folder_exist(folder_name):\n",
    "            return \"subfolder added\"\n",
    "        \n",
    "        return \"subfolder not added\"\n",
    "    \n",
    "    # This method gets a subfodler\n",
    "    def select_folder(self, folder_name: str) -> object:\n",
    "        # Getting folder index in list\n",
    "        for folder in self.sub_folders:\n",
    "            if folder.folder_name == folder_name:\n",
    "                return folder\n",
    "        return None\n",
    "                \n",
    "    # This method adds a file to a folder\n",
    "    def add_file_to_folder(self, file_name: str, folder_name: str, is_sub: bool = False) -> Union[bool,str]:\n",
    "        \"\"\"\n",
    "        This method adds the file to the folder by adding it to the folder class list.\n",
    "        It\n",
    "        \"\"\"\n",
    "        # Checking if sub folder exists\n",
    "        if self.does_folder_exist(folder_name):\n",
    "            print(f\"Sub folder exists\")\n",
    "            # If it is a sub folder we are adding a file to\n",
    "            if is_sub:\n",
    "                print(f\"We are adding a sub folder\")\n",
    "                # Get specific sub folder from list\n",
    "                selected_sub_fodler_object = self.select_folder(folder_name)\n",
    "                print(f\"This is selected folder: {selected_sub_fodler_object.folder_name}\")\n",
    "                # checking if file exists in sub folder\n",
    "                if selected_sub_fodler_object.does_file_exist(file_name):\n",
    "                    return \"file exist\"\n",
    "                # File doesn't exist so adding it\n",
    "                print(f\"Adding file to sub folder\")\n",
    "                selected_sub_fodler_object.files.append(file_name)\n",
    "                # Makin sure the file was added\n",
    "                if selected_sub_fodler_object.does_file_exist(file_name):\n",
    "                    return True\n",
    "                else:\n",
    "                    return False\n",
    "            # if not a sub folder, add file to main class\n",
    "            self.files.append(file_name)\n",
    "        return f\"folder does not exist\"\n",
    "    \n",
    "    # This methods outputs a visual tree layout of the folder structure\n",
    "    def __tree_view(self, prefix=\"\"):\n",
    "        # a list with the tree connector added to the bigning of the folder name\n",
    "        lines = [prefix + self.folder_name]\n",
    "        # Loop through the lis tof files and add the tree separator to the name\n",
    "        for i, f in enumerate(self.files):\n",
    "            # adding file name under folder with indent\n",
    "            lines.append(prefix + \"├── \" + f)\n",
    "        # Loop through sub folder getting index and sub folder\n",
    "        for i, sf in enumerate(self.sub_folders):\n",
    "            # Checking if last sub folder\n",
    "            is_last = (i == len(self.sub_folders) - 1)\n",
    "            # use the correct connector based on if last sub fodler or not\n",
    "            connector = \"└── \" if is_last else \"├── \"\n",
    "            # Indentation prefix for sub_folder level\n",
    "            sub_prefix = prefix + (\"    \" )\n",
    "            #Using recursion here to get the tree string and add it to the lines while removign whiteapce.\n",
    "            lines.append(prefix + connector + sf.__tree_view(sub_prefix).lstrip())\n",
    "        return \"\\n\".join(lines)\n",
    "        \n",
    "    # This method calls __tree_view to print a folder tree\n",
    "    def __str__(self) -> str:\n",
    "        return self.__tree_view() \n",
    "            \n",
    "    "
   ]
  },
  {
   "cell_type": "code",
   "execution_count": 18,
   "id": "603d73ec",
   "metadata": {},
   "outputs": [],
   "source": [
    "# Handles getting user input and pass it to Folder class to retrieve details\n",
    "class HandleInput:\n",
    "    # Gets user input\n",
    "    def get_input(self, input_message: str) -> str:\n",
    "        \"\"\"\n",
    "        This method gets the user input and makes sure it is not empty\n",
    "        \"\"\"\n",
    "        while True:\n",
    "            try:\n",
    "                user_input: str = input(f\"{input_message}\\n:>\").lower().strip()\n",
    "                if not user_input:\n",
    "                    raise ValueError(f\"Input cannot be empty.\")\n",
    "                return user_input\n",
    "            except ValueError as err:\n",
    "                print(err)\n",
    "    \n",
    "    # Gets input and create a sub fodler\n",
    "    def handle_add_sub_folder(self, folder_object: Folder) -> str:\n",
    "        # Validating sub folder name input\n",
    "        sub_folder_name: str = self.get_input(\"\\nEnter folder name\")\n",
    "        # Creating a new sub folder\n",
    "        sub_folder: object = folder_object.add_sub_folder(sub_folder_name)\n",
    "        return sub_folder\n",
    "    \n",
    "    # This method selects a subfolder from the current folder\n",
    "    \n",
    "        \n",
    "        folder = folder_object.select_folder()\n",
    "        \n",
    "    # Gets input and returns a folder object\n",
    "    def handle_select_folder(self, root_folder_object: Folder) -> object:\n",
    "        # Validating folder name input\n",
    "        while True:\n",
    "            try:\n",
    "                folder_name: str = self.get_input(\"\\nEnter folder name\")\n",
    "                # Getting folder object\n",
    "                folder: object = root_folder_object.select_folder(folder_name)\n",
    "                if not folder:\n",
    "                    raise KeyError(f\"folder does not exist\")\n",
    "                return folder\n",
    "            except KeyError as err:\n",
    "                print(err)\n",
    "                continue\n",
    "    \n",
    "    \n",
    "    \n",
    "                \n",
    "\n"
   ]
  },
  {
   "cell_type": "code",
   "execution_count": 12,
   "id": "cbf90cd3",
   "metadata": {},
   "outputs": [
    {
     "name": "stdout",
     "output_type": "stream",
     "text": [
      "top_folder\n"
     ]
    }
   ],
   "source": [
    "root_folder = Folder(\"top_folder\")\n",
    "print(root_folder)"
   ]
  },
  {
   "cell_type": "code",
   "execution_count": 13,
   "id": "f194ff41",
   "metadata": {},
   "outputs": [],
   "source": [
    "get_inputs = HandleInput()"
   ]
  },
  {
   "cell_type": "code",
   "execution_count": 14,
   "id": "3c4ac95b",
   "metadata": {},
   "outputs": [
    {
     "name": "stdout",
     "output_type": "stream",
     "text": [
      "\n",
      "Enter folder name\n",
      ":>sub_folder_main\n"
     ]
    }
   ],
   "source": [
    "sub_folder = get_inputs.handle_add_sub_folder(root_folder)"
   ]
  },
  {
   "cell_type": "code",
   "execution_count": 15,
   "id": "97095bcc",
   "metadata": {},
   "outputs": [
    {
     "name": "stdout",
     "output_type": "stream",
     "text": [
      "top_folder\n",
      "└── sub_folder_main\n"
     ]
    }
   ],
   "source": [
    "print(root_folder)"
   ]
  },
  {
   "cell_type": "code",
   "execution_count": 16,
   "id": "f1b8b0d2",
   "metadata": {},
   "outputs": [
    {
     "name": "stdout",
     "output_type": "stream",
     "text": [
      "\n",
      "Enter folder name\n",
      ":>sub_folder_main\n"
     ]
    }
   ],
   "source": [
    "select_folder = get_inputs.handle_select_folder(root_folder)"
   ]
  },
  {
   "cell_type": "code",
   "execution_count": 17,
   "id": "53e254e8",
   "metadata": {},
   "outputs": [
    {
     "data": {
      "text/plain": [
       "'sub_folder_main'"
      ]
     },
     "execution_count": 17,
     "metadata": {},
     "output_type": "execute_result"
    }
   ],
   "source": [
    "select_folder.folder_name"
   ]
  },
  {
   "cell_type": "code",
   "execution_count": null,
   "id": "67aa9487",
   "metadata": {},
   "outputs": [],
   "source": []
  }
 ],
 "metadata": {
  "kernelspec": {
   "display_name": "Python 3 (ipykernel)",
   "language": "python",
   "name": "python3"
  },
  "language_info": {
   "codemirror_mode": {
    "name": "ipython",
    "version": 3
   },
   "file_extension": ".py",
   "mimetype": "text/x-python",
   "name": "python",
   "nbconvert_exporter": "python",
   "pygments_lexer": "ipython3",
   "version": "3.9.13"
  }
 },
 "nbformat": 4,
 "nbformat_minor": 5
}
