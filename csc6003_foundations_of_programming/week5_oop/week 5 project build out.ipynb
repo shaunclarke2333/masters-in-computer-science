{
 "cells": [
  {
   "cell_type": "code",
   "execution_count": null,
   "id": "1b949c97",
   "metadata": {},
   "outputs": [],
   "source": [
    "# Working features:\n",
    "#     add file\n",
    "#     add sub folder\n",
    "#     select folder\n",
    "#     __str__\n",
    "    \n",
    "# What needs to be added:\n",
    "#     __count_files\n",
    "#     __eq__\n",
    "#     __len__\n",
    "    \n",
    "# after adding above:\n",
    "#     create input handler class\n",
    "#         hanles input and pass it to Folder class to retrieve details\n",
    "#     Create menu class to handle displaying menu based on class state\n",
    "#     create main class to hold main function"
   ]
  },
  {
   "cell_type": "code",
   "execution_count": 84,
   "id": "e3e3545d",
   "metadata": {},
   "outputs": [],
   "source": [
    "from typing import Tuple\n",
    "from typing import Dict\n",
    "from typing import List\n",
    "from typing import Union\n",
    "from typing import Optional"
   ]
  },
  {
   "cell_type": "code",
   "execution_count": 146,
   "id": "d717cc6e",
   "metadata": {},
   "outputs": [],
   "source": [
    "# This folder class represents a folder in a file system. It creates and modifies a folder.\n",
    "class Folder:\n",
    "    def __init__(self, folder_name: str):\n",
    "        self.folder_name = folder_name\n",
    "        self.files: List = []\n",
    "        self.sub_folders: List = []\n",
    "            \n",
    "        \n",
    "    # This method checks if the folder exists\n",
    "    def does_folder_exist(self, folder_name: str)-> bool:\n",
    "        \"\"\"\n",
    "        This method uses the folder name to check if a folder exists\n",
    "        \"\"\"\n",
    "        # Checking if folder exist\n",
    "        for folder in self.sub_folders:\n",
    "            if folder.folder_name == folder_name:\n",
    "                return True\n",
    "        return False\n",
    "            \n",
    "    # This method checks if the file exists in the folder\n",
    "    def does_file_exist(self, file_name: str) -> bool:\n",
    "        \"\"\"\n",
    "        This private method uses file_name to chekc if it exists in the user folder.<br>\n",
    "        Returns True or False.\n",
    "        \"\"\"\n",
    "        # Checking if the file exists\n",
    "        if file_name in self.files:\n",
    "            return True\n",
    "        else:\n",
    "            return False \n",
    "        \n",
    "    # This method adds a sub folder to a folder\n",
    "    def add_sub_folder(self, folder_name: str) -> str:\n",
    "        \"\"\"\n",
    "        This method adds a sub folder object to the main folder.\n",
    "        \"\"\"\n",
    "        # CHecking if folder exists\n",
    "        if self.does_folder_exist(folder_name):\n",
    "            return \"sub folder exists\"\n",
    "        # adding subfolder to main folder\n",
    "        creating_sub_folder = Folder(folder_name)\n",
    "        self.sub_folders.append(creating_sub_folder)\n",
    "        # Chekcing if folder was added\n",
    "        if self.does_folder_exist(folder_name):\n",
    "            return \"subfolder added\"\n",
    "        \n",
    "        return \"subfolder not added\"\n",
    "    \n",
    "    # This method gets a subfodler\n",
    "    def select_folder(self, folder_name: str) -> object:\n",
    "        # Getting folder index in list\n",
    "        for folder in self.sub_folders:\n",
    "            if folder.folder_name == folder_name:\n",
    "                return folder\n",
    "        return None\n",
    "                \n",
    "    # This method adds a file to a folder\n",
    "    def add_file_to_folder(self, file_name: str, folder_name: str, is_sub: bool = False) -> Union[bool,str]:\n",
    "        \"\"\"\n",
    "        This method adds the file to the folder by adding it to the folder class list.\n",
    "        It\n",
    "        \"\"\"\n",
    "        # Checking if sub folder exists\n",
    "        if self.does_folder_exist(folder_name):\n",
    "            print(f\"Sub folder exists\")\n",
    "            # If it is a sub folder we are adding a file to\n",
    "            if is_sub:\n",
    "                print(f\"We are adding a sub folder\")\n",
    "                # Get specific sub folder from list\n",
    "                selected_sub_fodler_object = self.select_folder(folder_name)\n",
    "                print(f\"This is selected folder: {selected_sub_fodler_object.folder_name}\")\n",
    "                # checking if file exists in sub folder\n",
    "                if selected_sub_fodler_object.does_file_exist(file_name):\n",
    "                    return \"file exist\"\n",
    "                # File doesn't exist so adding it\n",
    "                print(f\"Adding file to sub folder\")\n",
    "                selected_sub_fodler_object.files.append(file_name)\n",
    "                # Makin sure the file was added\n",
    "                if selected_sub_fodler_object.does_file_exist(file_name):\n",
    "                    return True\n",
    "                else:\n",
    "                    return False\n",
    "            # if not a sub folder, add file to main class\n",
    "            self.files.append(file_name)\n",
    "        return f\"folder does not exist\"\n",
    "    \n",
    "    # This methods outputs a visual tree layout of the folder structure\n",
    "    def __tree_view(self, prefix=\"\"):\n",
    "        # a list with the tree connector added to the bigning of the folder name\n",
    "        lines = [prefix + self.folder_name]\n",
    "        # Loop through the lis tof files and add the tree separator to the name\n",
    "        for i, f in enumerate(self.files):\n",
    "            # adding file name under folder with indent\n",
    "            lines.append(prefix + \"├── \" + f)\n",
    "        # Loop through sub folder getting index and sub folder\n",
    "        for i, sf in enumerate(self.sub_folders):\n",
    "            # Checking if last sub folder\n",
    "            is_last = (i == len(self.sub_folders) - 1)\n",
    "            # use the correct connector based on if last sub fodler or not\n",
    "            connector = \"└── \" if is_last else \"├── \"\n",
    "            # Indentation prefix for sub_folder level\n",
    "            sub_prefix = prefix + (\"    \" )\n",
    "            #Using recursion here to get the tree string and add it to the lines while removign whiteapce.\n",
    "            lines.append(prefix + connector + sf.__tree_view(sub_prefix).lstrip())\n",
    "        return \"\\n\".join(lines)\n",
    "        \n",
    "    # This method calls __tree_view to print a folder tree\n",
    "    def __str__(self) -> str:\n",
    "        return self.__tree_view() \n",
    "            \n",
    "    "
   ]
  },
  {
   "cell_type": "code",
   "execution_count": 147,
   "id": "603d73ec",
   "metadata": {},
   "outputs": [
    {
     "data": {
      "text/plain": [
       "'test_folder'"
      ]
     },
     "execution_count": 147,
     "metadata": {},
     "output_type": "execute_result"
    }
   ],
   "source": [
    "test_folder = Folder(\"test_folder\")\n",
    "test_folder.folder_name"
   ]
  },
  {
   "cell_type": "code",
   "execution_count": 153,
   "id": "11c79078",
   "metadata": {},
   "outputs": [
    {
     "name": "stdout",
     "output_type": "stream",
     "text": [
      "test_folder\n",
      "├── test_sub_folder4\n",
      "    ├── test_file\n",
      "├── test_sub_folder3\n",
      "├── test_sub_folder2\n",
      "└── test_sub_folder1\n"
     ]
    }
   ],
   "source": [
    "test_folder.add_sub_folder(\"test_sub_folder1\")\n",
    "print(test_folder)"
   ]
  },
  {
   "cell_type": "code",
   "execution_count": 149,
   "id": "7f8dbf9c",
   "metadata": {},
   "outputs": [
    {
     "name": "stdout",
     "output_type": "stream",
     "text": [
      "Sub folder exists\n",
      "We are adding a sub folder\n",
      "This is selected folder: test_sub_folder4\n",
      "Adding file to sub folder\n"
     ]
    },
    {
     "data": {
      "text/plain": [
       "True"
      ]
     },
     "execution_count": 149,
     "metadata": {},
     "output_type": "execute_result"
    }
   ],
   "source": [
    "test_folder.add_file_to_folder(\"test_file\", \"test_sub_folder4\", True)\n"
   ]
  },
  {
   "cell_type": "code",
   "execution_count": 144,
   "id": "a2da78b0",
   "metadata": {},
   "outputs": [],
   "source": [
    "sub_folder = test_folder.select_folder(\"test_sub_folder1\")"
   ]
  },
  {
   "cell_type": "code",
   "execution_count": 145,
   "id": "d1061300",
   "metadata": {},
   "outputs": [
    {
     "data": {
      "text/plain": [
       "'test_sub_folder1'"
      ]
     },
     "execution_count": 145,
     "metadata": {},
     "output_type": "execute_result"
    }
   ],
   "source": [
    "sub_folder.folder_name"
   ]
  },
  {
   "cell_type": "code",
   "execution_count": null,
   "id": "80df2a03",
   "metadata": {},
   "outputs": [],
   "source": []
  }
 ],
 "metadata": {
  "kernelspec": {
   "display_name": "Python 3 (ipykernel)",
   "language": "python",
   "name": "python3"
  },
  "language_info": {
   "codemirror_mode": {
    "name": "ipython",
    "version": 3
   },
   "file_extension": ".py",
   "mimetype": "text/x-python",
   "name": "python",
   "nbconvert_exporter": "python",
   "pygments_lexer": "ipython3",
   "version": "3.9.13"
  }
 },
 "nbformat": 4,
 "nbformat_minor": 5
}
