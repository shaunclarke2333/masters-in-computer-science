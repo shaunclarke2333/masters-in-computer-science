{
 "cells": [
  {
   "cell_type": "code",
   "execution_count": 1,
   "id": "1b949c97",
   "metadata": {},
   "outputs": [],
   "source": [
    "# Working features:\n",
    "#     add file\n",
    "#     add sub folder\n",
    "#     select folder\n",
    "#     __str__\n",
    "    \n",
    "# What needs to be added:\n",
    "#     __count_files\n",
    "#     __len__\n",
    "    \n",
    "# after adding above:\n",
    "#     create input handler class\n",
    "#         hanles input and pass it to Folder class to retrieve details\n",
    "#     Create menu class to handle displaying menu based on class state\n",
    "#     create main class to hold main function"
   ]
  },
  {
   "cell_type": "code",
   "execution_count": 5,
   "id": "e3e3545d",
   "metadata": {},
   "outputs": [],
   "source": [
    "from typing import Tuple\n",
    "from typing import Dict\n",
    "from typing import List\n",
    "from typing import Union\n",
    "from typing import Optional"
   ]
  },
  {
   "cell_type": "code",
   "execution_count": 6,
   "id": "d717cc6e",
   "metadata": {},
   "outputs": [],
   "source": [
    "# This folder class represents a folder in a file system. It creates and modifies a folder.\n",
    "class Folder:\n",
    "    def __init__(self, folder_name: str):\n",
    "        self.folder_name = folder_name\n",
    "        self.files: List = []\n",
    "        self.sub_folders: List = []\n",
    "            \n",
    "            \n",
    "    # This methods returns true if two folders have the same name\n",
    "    def __eq__(self, other_folder) -> bool:\n",
    "        return self.folder_name == other_folder\n",
    "            \n",
    "        \n",
    "    # This method checks if the folder exists\n",
    "    def does_folder_exist(self, folder_name: str)-> bool:\n",
    "        \"\"\"\n",
    "        This method uses the folder name to check if a folder exists\n",
    "        \"\"\"\n",
    "        # Checking if folder exist\n",
    "        for folder in self.sub_folders:\n",
    "            if folder.folder_name == folder_name:\n",
    "                return True\n",
    "        return False\n",
    "            \n",
    "    # This method checks if the file exists in the folder\n",
    "    def does_file_exist(self, file_name: str) -> bool:\n",
    "        \"\"\"\n",
    "        This method uses file_name to check if it exists in the user folder.<br>\n",
    "        Returns True or False.\n",
    "        \"\"\"\n",
    "        # Checking if the file exists\n",
    "        if file_name in self.files:\n",
    "            return True\n",
    "        else:\n",
    "            return False \n",
    "        \n",
    "    # This method adds a sub folder to a folder\n",
    "    def add_folder(self, folder_name: str) -> str:\n",
    "        \"\"\"\n",
    "        This method adds a folder object to the main folder.\n",
    "        \"\"\"\n",
    "        # CHecking if folder exists\n",
    "        if self.does_folder_exist(folder_name):\n",
    "            return \"folder exists\"\n",
    "        # acreating sub folder object\n",
    "        creating_sub_folder = Folder(folder_name)\n",
    "        # adding it to the sub folders list\n",
    "        self.sub_folders.append(creating_sub_folder)\n",
    "        # Chekcing if folder was added\n",
    "        if self.does_folder_exist(folder_name):\n",
    "            return \"\\nfolder added\\n\"\n",
    "        return \"folder not added\"\n",
    "    \n",
    "    # This method gets a subfodler\n",
    "    def select_folder(self, folder_name: str) -> object:\n",
    "        #\n",
    "        # Getting folder if it is in list\n",
    "        for folder in self.sub_folders:\n",
    "            # return folder if found in subfolder list\n",
    "            if folder.folder_name == folder_name:\n",
    "                return folder\n",
    "            # Using recusrion to check sun folders of folders in list\n",
    "            result =  folder.select_folder(folder_name)\n",
    "            if result is not None:\n",
    "                return result\n",
    "        #If folder name is root folder return the root folder object\n",
    "        if self.folder_name == \"root_folder\":\n",
    "            return self\n",
    "        return None\n",
    "                \n",
    "    # This method adds a file to a folder\n",
    "    def add_file_to_folder(self, file_name: str) -> Union[bool,str]:\n",
    "        \"\"\"\n",
    "        This method adds the file to the folder by adding it to the folder class list.\n",
    "        It\n",
    "        \"\"\"\n",
    "        # checking if file exists in sub folder\n",
    "        if self.does_file_exist(file_name):\n",
    "            return \"file exist\"\n",
    "        # File doesn't exist so adding it\n",
    "        self.files.append(file_name)\n",
    "        # Makin sure the file was added\n",
    "        if self.does_file_exist(file_name):\n",
    "            return True\n",
    "        else:\n",
    "            return False\n",
    "    \n",
    "    # This method counts all the files in the folder and sub fodlers\n",
    "    def __count_files(self) -> Union[int,str]:\n",
    "        count = len(self.files)\n",
    "        for sub in self.sub_folders:\n",
    "            count += sub.__count_files()  # Recursive call\n",
    "        return count\n",
    "    \n",
    "    # calling __count_files when __len__ is called.\n",
    "    def __len__(self) -> str:\n",
    "        # calling cout files to count a files \n",
    "        return self.__count_files()\n",
    "\n",
    "    # This methods outputs a visual tree layout of the folder structure\n",
    "    def __tree_view(self, prefix=\"\"):\n",
    "        # a list with the tree connector added to the bigning of the folder name\n",
    "        lines = [prefix + self.folder_name]\n",
    "        # Loop through the lis tof files and add the tree separator to the name\n",
    "        for i, f in enumerate(self.files):\n",
    "            # adding file name under folder with indent\n",
    "            lines.append(prefix + \"├── \" + f)\n",
    "        # Loop through sub folder getting index and sub folder\n",
    "        for i, sf in enumerate(self.sub_folders):\n",
    "            # Checking if last sub folder\n",
    "            is_last = (i == len(self.sub_folders) - 1)\n",
    "            # use the correct connector based on if last sub fodler or not\n",
    "            connector = \"└── \" if is_last else \"├── \"\n",
    "            # Indentation prefix for sub_folder level\n",
    "            sub_prefix = prefix + (\"    \" )\n",
    "            #Using recursion here to get the tree string and add it to the lines while removign whiteapce.\n",
    "            lines.append(prefix + connector + sf.__tree_view(sub_prefix).lstrip())\n",
    "        return \"\\n\".join(lines)\n",
    "        \n",
    "    # This method calls __tree_view to print a folder tree\n",
    "    def __str__(self) -> str:\n",
    "        return self.__tree_view() \n",
    "            \n",
    "    "
   ]
  },
  {
   "cell_type": "code",
   "execution_count": 4,
   "id": "dd4c1759",
   "metadata": {},
   "outputs": [
    {
     "name": "stdout",
     "output_type": "stream",
     "text": [
      "root_folder\n"
     ]
    }
   ],
   "source": [
    "root_folder = Folder(\"root_folder\")\n",
    "print(root_folder)"
   ]
  },
  {
   "cell_type": "code",
   "execution_count": 5,
   "id": "5893543c",
   "metadata": {},
   "outputs": [
    {
     "name": "stdout",
     "output_type": "stream",
     "text": [
      "root_folder\n",
      "└── folder3\n"
     ]
    }
   ],
   "source": [
    "root_folder.add_folder(\"folder3\")\n",
    "print(root_folder)"
   ]
  },
  {
   "cell_type": "code",
   "execution_count": 6,
   "id": "95adfb8e",
   "metadata": {},
   "outputs": [
    {
     "name": "stdout",
     "output_type": "stream",
     "text": [
      "This is sub folder:  folder3\n",
      "We are returning root:  folder3\n"
     ]
    },
    {
     "data": {
      "text/plain": [
       "'\\nfolder added\\n'"
      ]
     },
     "execution_count": 6,
     "metadata": {},
     "output_type": "execute_result"
    }
   ],
   "source": [
    "selected_folder = root_folder.select_folder(\"root_folder\")\n",
    "selected_folder.add_folder(\"sub_folder9\")\n"
   ]
  },
  {
   "cell_type": "code",
   "execution_count": 12,
   "id": "6a2b7dfb",
   "metadata": {},
   "outputs": [
    {
     "name": "stdout",
     "output_type": "stream",
     "text": [
      "This is sub folder:  folder3\n",
      "This is sub folder:  sub_folder9\n",
      "We are returning root:  sub_folder9\n",
      "root_folder\n",
      "├── file.txt\n",
      "├── folder3\n",
      "└── sub_folder9\n"
     ]
    }
   ],
   "source": [
    "selected_folder = root_folder.select_folder(\"sub_folder\")\n",
    "selected_folder.add_file_to_folder(\"file.txt\")\n",
    "print(selected_folder)"
   ]
  },
  {
   "cell_type": "code",
   "execution_count": 13,
   "id": "be1d7f83",
   "metadata": {},
   "outputs": [
    {
     "data": {
      "text/plain": [
       "1"
      ]
     },
     "execution_count": 13,
     "metadata": {},
     "output_type": "execute_result"
    }
   ],
   "source": [
    "len(root_folder)"
   ]
  },
  {
   "cell_type": "code",
   "execution_count": 7,
   "id": "603d73ec",
   "metadata": {},
   "outputs": [],
   "source": [
    "\n",
    "\n",
    "# Handles getting user input and pass it to Folder class to retrieve details\n",
    "class HandleInput:\n",
    "    # Gets user input\n",
    "    def get_input(self, input_message: str) -> str:\n",
    "        \"\"\"\n",
    "        This method gets the user input and makes sure it is not empty\n",
    "        \"\"\"\n",
    "        while True:\n",
    "            try:\n",
    "                user_input: str = input(f\"{input_message}\\n:>\").lower().strip()\n",
    "                if not user_input:\n",
    "                    raise ValueError(f\"Input cannot be empty.\")\n",
    "                return user_input\n",
    "            except ValueError as err:\n",
    "                print(err)\n",
    "    \n",
    "    # Gets input and create a sub fodler\n",
    "    def handle_add_folder(self, folder_object: Folder) -> str:\n",
    "        while True:\n",
    "            try:\n",
    "                # Validating sub folder name input\n",
    "                sub_folder_name: str = self.get_input(\"Enter the name of the folder you want to add.\")\n",
    "                # Creating a new sub folder\n",
    "                sub_folder: object = folder_object.add_folder(sub_folder_name)\n",
    "                # Making sure no duplilcates\n",
    "                if sub_folder == \"folder exists\":\n",
    "                    raise KeyError(f\"\\nFolder already exists.\\n\")\n",
    "                # making sure user tries again if folder wasnt added\n",
    "                if sub_folder == \"folder not added\":\n",
    "                    raise RuntimeError(f\"\\nfolder not added\\n\")\n",
    "                return sub_folder\n",
    "            except KeyError as err:\n",
    "                print(err)\n",
    "            except RuntimeError as err:\n",
    "                print(err)\n",
    "    \n",
    "    # This method gets input and returns a folder object\n",
    "    def handle_select_folder(self, folder_object: Folder) -> object:\n",
    "        # Validating folder name input\n",
    "        while True:\n",
    "            try:\n",
    "                folder_name: str = self.get_input(\"Enter the name of the folder you want select\")\n",
    "                # Getting folder object\n",
    "                folder: object = folder_object.select_folder(folder_name)\n",
    "                if folder is None:\n",
    "                    raise KeyError(f\"\\nfolder was not found\\n\")\n",
    "                return folder\n",
    "            except KeyError as err:\n",
    "                print(err)\n",
    "                continue\n",
    "    \n",
    "    \n",
    "    # This adds a file to a folder\n",
    "    def handle_add_file_to_folder(self, folder_object: object) -> bool:\n",
    "        # Validating folder name input\n",
    "        while True:\n",
    "            try:\n",
    "                file_name: str = self.get_input(\"Enter the name of the file you want to add\")\n",
    "                # Making sure file does not exist\n",
    "                if not folder_object.does_file_exist(file_name):\n",
    "                    # Adding file to fodler\n",
    "                    folder_object.add_file_to_folder(file_name)\n",
    "                    # checking if file was added\n",
    "                    if folder_object.does_file_exist(file_name):\n",
    "                        return f\"\\nFile added to {folder_object.folder_name} folder\\n\"\n",
    "                raise KeyError(f\"\\nfile already exists\\n\")\n",
    "            except KeyError as err:\n",
    "                print(err)\n",
    "                continue\n",
    "    \n",
    "    # This method prints the active folder\n",
    "    def handle_print_folder(self, folder_object: object) -> str:\n",
    "        print(folder_object)\n",
    "\n",
    "    # THis method counts all the files in folder and sub folders\n",
    "    def handle_count_files(self, folder_object) -> str:\n",
    "        count = len(folder_object)\n",
    "        print(f\"\\n{folder_object.folder_name} folder contains {count} file{'s' if count != 1 else ''}\\n\")\n",
    "        \n",
    "        \n"
   ]
  },
  {
   "cell_type": "code",
   "execution_count": 8,
   "id": "e1f65519",
   "metadata": {},
   "outputs": [],
   "source": [
    "user_input = HandleInput()"
   ]
  },
  {
   "cell_type": "code",
   "execution_count": 9,
   "id": "9108c4ae",
   "metadata": {},
   "outputs": [
    {
     "name": "stdout",
     "output_type": "stream",
     "text": [
      "\n",
      "Enter folder name\n",
      ":>folder2\n",
      "root_folder\n",
      "├── folder1\n",
      "└── folder2\n"
     ]
    }
   ],
   "source": [
    "user_input.handle_add_folder(root_folder)\n",
    "print(root_folder)"
   ]
  },
  {
   "cell_type": "code",
   "execution_count": 12,
   "id": "f626e157",
   "metadata": {},
   "outputs": [
    {
     "name": "stdout",
     "output_type": "stream",
     "text": [
      "\n",
      "Enter folder name\n",
      ":>folder1\n",
      "This is sub folder:  folder1\n",
      "This is returned sub folder:  folder1\n",
      "folder1\n"
     ]
    }
   ],
   "source": [
    "selected_folder = user_input.handle_select_folder(root_folder)\n",
    "print(selected_folder)"
   ]
  },
  {
   "cell_type": "code",
   "execution_count": 13,
   "id": "57aae333",
   "metadata": {},
   "outputs": [
    {
     "name": "stdout",
     "output_type": "stream",
     "text": [
      "\n",
      "Enter file name\n",
      ":>some_folder\n"
     ]
    },
    {
     "data": {
      "text/plain": [
       "'File added to folder1 folder'"
      ]
     },
     "execution_count": 13,
     "metadata": {},
     "output_type": "execute_result"
    }
   ],
   "source": [
    "user_input.handle_add_file_to_folder(selected_folder)"
   ]
  },
  {
   "cell_type": "code",
   "execution_count": 15,
   "id": "ea6402e5",
   "metadata": {},
   "outputs": [
    {
     "name": "stdout",
     "output_type": "stream",
     "text": [
      "folder1\n",
      "├── some_folder\n"
     ]
    }
   ],
   "source": [
    "user_input.handle_print_folder(selected_folder)"
   ]
  },
  {
   "cell_type": "code",
   "execution_count": 16,
   "id": "6239b376",
   "metadata": {},
   "outputs": [
    {
     "name": "stdout",
     "output_type": "stream",
     "text": [
      "folder1 folder contains 1 files\n"
     ]
    }
   ],
   "source": [
    "user_input.handle_count_files(selected_folder)"
   ]
  },
  {
   "cell_type": "code",
   "execution_count": null,
   "id": "2165f2b4",
   "metadata": {},
   "outputs": [],
   "source": []
  },
  {
   "cell_type": "code",
   "execution_count": null,
   "id": "07ebbd05",
   "metadata": {},
   "outputs": [],
   "source": []
  },
  {
   "cell_type": "code",
   "execution_count": null,
   "id": "40b520e8",
   "metadata": {},
   "outputs": [],
   "source": []
  },
  {
   "cell_type": "code",
   "execution_count": 14,
   "id": "0afa3a94",
   "metadata": {},
   "outputs": [],
   "source": [
    "# This class displays the menu and returns the user menu selection\n",
    "class Menu:\n",
    "    def __init__(self):\n",
    "        self.__menu_options = [\n",
    "            \"1) add File\",\n",
    "            \"2) add Folder\",\n",
    "            \"3) select Folder\",\n",
    "            \"4) print Folder\",\n",
    "            \"5) count files\",\n",
    "            \"6) exit\"\n",
    "        ]\n",
    "\n",
    "\n",
    "    # This function Gets menu number input\n",
    "    def get_menu_number_input(self,input_message: str, menu_options: List) -> str:\n",
    "        while True:\n",
    "            try:\n",
    "                # Getting user input\n",
    "                user_input: int = int(input(f\">\\n{input_message}\\n:>\").strip())\n",
    "                # Making sure input is not empty\n",
    "                if not user_input:\n",
    "                    raise KeyError(f\"Input cannot be empty.\\n\")\n",
    "                # Using the length of the menu list to validate that menu input is within range\n",
    "                if user_input >= 1 and user_input <= len(menu_options):\n",
    "                    return user_input\n",
    "                else:\n",
    "                    print(f\"\\nOnly menu number options will be accepted\\n\")\n",
    "            except ValueError:\n",
    "                print(\"You must enter a menu number\\n\")\n",
    "            except KeyError as err:\n",
    "                print(err)    \n",
    "\n",
    "    # This method displays the menu and returns the selection\n",
    "    def display_menu(self, current_folder: bool = False) -> int:\n",
    "        # Printing menu header\n",
    "        print(\"====MENU====\")\n",
    "        # If there is a current folder, display the current folder\n",
    "        if current_folder:\n",
    "            print(f\"==current folder:{current_folder}==\")\n",
    "        # Show Menu\n",
    "        print(*self.__menu_options, sep=\"\\n\")\n",
    "\n",
    "        # Get menu input\n",
    "        menu_input = self.get_menu_number_input(\"Choose a menu item to continue\", self.__menu_options)\n",
    "\n",
    "        return menu_input\n",
    "        \n"
   ]
  },
  {
   "cell_type": "code",
   "execution_count": 15,
   "id": "581c04d5",
   "metadata": {},
   "outputs": [],
   "source": [
    "menu = Menu()"
   ]
  },
  {
   "cell_type": "code",
   "execution_count": 16,
   "id": "34495350",
   "metadata": {},
   "outputs": [
    {
     "name": "stdout",
     "output_type": "stream",
     "text": [
      "====MENU====\n",
      "1) add File\n",
      "2) add Folder\n",
      "3) select Folder\n",
      "4) print Folder\n",
      "5) count files\n",
      "6) exit\n",
      ">\n",
      "Choose a menu item to continue\n",
      ":>7\n",
      "\n",
      "Only menu number options will be accepted\n",
      "\n",
      ">\n",
      "Choose a menu item to continue\n",
      ":>1\n"
     ]
    },
    {
     "data": {
      "text/plain": [
       "1"
      ]
     },
     "execution_count": 16,
     "metadata": {},
     "output_type": "execute_result"
    }
   ],
   "source": [
    "menu.display_menu()"
   ]
  },
  {
   "cell_type": "code",
   "execution_count": null,
   "id": "f8c76160",
   "metadata": {
    "scrolled": false
   },
   "outputs": [
    {
     "name": "stdout",
     "output_type": "stream",
     "text": [
      "root_folder\n",
      "====MENU====\n",
      "==current folder:root_folder==\n",
      "1) add File\n",
      "2) add Folder\n",
      "3) select Folder\n",
      "4) print Folder\n",
      "5) count files\n",
      "6) exit\n",
      ">\n",
      "Choose a menu item to continue\n",
      ":>2\n",
      "Enter the name of the folder you want to add.\n",
      ":>folder1\n",
      "\n",
      "folder added\n",
      "\n",
      "====MENU====\n",
      "==current folder:root_folder==\n",
      "1) add File\n",
      "2) add Folder\n",
      "3) select Folder\n",
      "4) print Folder\n",
      "5) count files\n",
      "6) exit\n",
      ">\n",
      "Choose a menu item to continue\n",
      ":>3\n",
      "Enter the name of the folder you want select\n",
      ":>folder1\n",
      "This is sub folder:  folder1\n",
      "This is returned sub folder:  folder1\n",
      "====MENU====\n",
      "==current folder:folder1==\n",
      "1) add File\n",
      "2) add Folder\n",
      "3) select Folder\n",
      "4) print Folder\n",
      "5) count files\n",
      "6) exit\n",
      ">\n",
      "Choose a menu item to continue\n",
      ":>2\n",
      "Enter the name of the folder you want to add.\n",
      ":>folders\n",
      "\n",
      "folder added\n",
      "\n",
      "====MENU====\n",
      "==current folder:folder1==\n",
      "1) add File\n",
      "2) add Folder\n",
      "3) select Folder\n",
      "4) print Folder\n",
      "5) count files\n",
      "6) exit\n",
      ">\n",
      "Choose a menu item to continue\n",
      ":>4\n",
      "folder1\n",
      "└── folders\n",
      "====MENU====\n",
      "==current folder:folder1==\n",
      "1) add File\n",
      "2) add Folder\n",
      "3) select Folder\n",
      "4) print Folder\n",
      "5) count files\n",
      "6) exit\n",
      ">\n",
      "Choose a menu item to continue\n",
      ":>3\n",
      "Enter the name of the folder you want select\n",
      ":>folders\n",
      "This is sub folder:  folder1\n",
      "This is sub folder:  folders\n",
      "This is returned sub folder:  folders\n",
      "====MENU====\n",
      "==current folder:folders==\n",
      "1) add File\n",
      "2) add Folder\n",
      "3) select Folder\n",
      "4) print Folder\n",
      "5) count files\n",
      "6) exit\n",
      ">\n",
      "Choose a menu item to continue\n",
      ":>1\n",
      "Enter the name of the file you want to add\n",
      ":>song.mp3\n",
      "\n",
      "File added to folders folder\n",
      "\n",
      "====MENU====\n",
      "==current folder:folders==\n",
      "1) add File\n",
      "2) add Folder\n",
      "3) select Folder\n",
      "4) print Folder\n",
      "5) count files\n",
      "6) exit\n",
      ">\n",
      "Choose a menu item to continue\n",
      ":>4\n",
      "folders\n",
      "├── song.mp3\n",
      "====MENU====\n",
      "==current folder:folders==\n",
      "1) add File\n",
      "2) add Folder\n",
      "3) select Folder\n",
      "4) print Folder\n",
      "5) count files\n",
      "6) exit\n",
      ">\n",
      "Choose a menu item to continue\n",
      ":>3\n",
      "Enter the name of the folder you want select\n",
      ":>root_folder\n",
      "This is sub folder:  folder1\n",
      "This is sub folder:  folders\n",
      "We are returning root:  folder1\n",
      "====MENU====\n",
      "==current folder:root_folder==\n",
      "1) add File\n",
      "2) add Folder\n",
      "3) select Folder\n",
      "4) print Folder\n",
      "5) count files\n",
      "6) exit\n",
      ">\n",
      "Choose a menu item to continue\n",
      ":>4\n",
      "root_folder\n",
      "└── folder1\n",
      "    └── folders\n",
      "        ├── song.mp3\n",
      "====MENU====\n",
      "==current folder:root_folder==\n",
      "1) add File\n",
      "2) add Folder\n",
      "3) select Folder\n",
      "4) print Folder\n",
      "5) count files\n",
      "6) exit\n",
      ">\n",
      "Choose a menu item to continue\n",
      ":>5\n",
      "\n",
      "root_folder folder contains 1 file\n",
      "\n",
      "====MENU====\n",
      "==current folder:root_folder==\n",
      "1) add File\n",
      "2) add Folder\n",
      "3) select Folder\n",
      "4) print Folder\n",
      "5) count files\n",
      "6) exit\n"
     ]
    }
   ],
   "source": [
    "\n",
    "# This class handles display runs the program\n",
    "class Main:\n",
    "    def __init__(self, folder_object: Folder, input_object: HandleInput, menu_object: Menu) -> None:\n",
    "        self.folder_object = folder_object\n",
    "        self.handle_input = input_object\n",
    "        self.menu_object = menu_object\n",
    "        self.root_folder: object = None\n",
    "        self.active_folder: object = None\n",
    "        self.active_folder_name: str = None\n",
    "\n",
    "    # This method calls the program\n",
    "    def main(self):\n",
    "        # Create root folder\n",
    "        self.root_folder = self.folder_object(\"root_folder\")\n",
    "        self.active_folder = self.root_folder\n",
    "        self.active_folder_name = self.active_folder.folder_name\n",
    "        print(self.active_folder_name)\n",
    "\n",
    "        while True:\n",
    "            try:\n",
    "                #Displaying menu and getting user selection\n",
    "                menu_selection: int = self.menu_object.display_menu(self.active_folder_name)\n",
    "                # Do folder action based on menu input\n",
    "                if menu_selection == 1:\n",
    "                    file = self.handle_input.handle_add_file_to_folder(self.active_folder)\n",
    "                    print(file)\n",
    "                elif menu_selection == 2:\n",
    "                    folder = self.handle_input.handle_add_folder(self.active_folder)\n",
    "                    print(folder)\n",
    "                elif menu_selection == 3:\n",
    "                    selected_folder = self.handle_input.handle_select_folder(self.root_folder)\n",
    "                    self.active_folder = selected_folder\n",
    "                    self.active_folder_name = self.active_folder.folder_name\n",
    "                elif menu_selection == 4:\n",
    "                    self.handle_input.handle_print_folder(self.active_folder)\n",
    "                elif menu_selection == 5:\n",
    "                    self.handle_input.handle_count_files(self.active_folder)\n",
    "\n",
    "                elif menu_selection == 6:\n",
    "                    exit()\n",
    "            except:\n",
    "                pass    \n",
    "\n",
    "run_program = Main(Folder,HandleInput(),Menu())       \n",
    "run_program.main()"
   ]
  },
  {
   "cell_type": "code",
   "execution_count": null,
   "id": "3f2993ea",
   "metadata": {},
   "outputs": [],
   "source": [
    "python3 --version"
   ]
  },
  {
   "cell_type": "code",
   "execution_count": null,
   "id": "df0d9f2b",
   "metadata": {},
   "outputs": [],
   "source": []
  },
  {
   "cell_type": "code",
   "execution_count": null,
   "id": "5284e8df",
   "metadata": {},
   "outputs": [],
   "source": []
  },
  {
   "cell_type": "code",
   "execution_count": null,
   "id": "701a6c7b",
   "metadata": {},
   "outputs": [],
   "source": []
  },
  {
   "cell_type": "code",
   "execution_count": null,
   "id": "339932f6",
   "metadata": {},
   "outputs": [],
   "source": []
  },
  {
   "cell_type": "code",
   "execution_count": null,
   "id": "a1793a67",
   "metadata": {},
   "outputs": [],
   "source": []
  },
  {
   "cell_type": "code",
   "execution_count": null,
   "id": "6de994f7",
   "metadata": {},
   "outputs": [],
   "source": []
  },
  {
   "cell_type": "code",
   "execution_count": null,
   "id": "3c0ffb32",
   "metadata": {},
   "outputs": [],
   "source": []
  },
  {
   "cell_type": "code",
   "execution_count": null,
   "id": "73b45061",
   "metadata": {},
   "outputs": [],
   "source": []
  },
  {
   "cell_type": "code",
   "execution_count": null,
   "id": "16988716",
   "metadata": {},
   "outputs": [],
   "source": []
  },
  {
   "cell_type": "code",
   "execution_count": null,
   "id": "bae0b1b9",
   "metadata": {},
   "outputs": [],
   "source": []
  },
  {
   "cell_type": "code",
   "execution_count": null,
   "id": "5b153287",
   "metadata": {},
   "outputs": [],
   "source": []
  },
  {
   "cell_type": "code",
   "execution_count": null,
   "id": "9298e20a",
   "metadata": {},
   "outputs": [],
   "source": []
  },
  {
   "cell_type": "code",
   "execution_count": null,
   "id": "7e85135f",
   "metadata": {},
   "outputs": [],
   "source": []
  },
  {
   "cell_type": "code",
   "execution_count": null,
   "id": "8090d03c",
   "metadata": {},
   "outputs": [],
   "source": []
  },
  {
   "cell_type": "code",
   "execution_count": null,
   "id": "2bf8687a",
   "metadata": {},
   "outputs": [],
   "source": []
  },
  {
   "cell_type": "code",
   "execution_count": null,
   "id": "0f80d16c",
   "metadata": {},
   "outputs": [],
   "source": []
  },
  {
   "cell_type": "code",
   "execution_count": null,
   "id": "76afdbe1",
   "metadata": {},
   "outputs": [],
   "source": []
  },
  {
   "cell_type": "code",
   "execution_count": null,
   "id": "a1baad70",
   "metadata": {},
   "outputs": [],
   "source": []
  },
  {
   "cell_type": "code",
   "execution_count": null,
   "id": "d3059126",
   "metadata": {},
   "outputs": [],
   "source": []
  },
  {
   "cell_type": "code",
   "execution_count": null,
   "id": "fb464ded",
   "metadata": {},
   "outputs": [],
   "source": []
  }
 ],
 "metadata": {
  "kernelspec": {
   "display_name": "Python 3 (ipykernel)",
   "language": "python",
   "name": "python3"
  },
  "language_info": {
   "codemirror_mode": {
    "name": "ipython",
    "version": 3
   },
   "file_extension": ".py",
   "mimetype": "text/x-python",
   "name": "python",
   "nbconvert_exporter": "python",
   "pygments_lexer": "ipython3",
   "version": "3.9.13"
  }
 },
 "nbformat": 4,
 "nbformat_minor": 5
}
