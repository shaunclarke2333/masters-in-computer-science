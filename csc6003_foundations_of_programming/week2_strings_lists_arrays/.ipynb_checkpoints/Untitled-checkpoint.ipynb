{
 "cells": [
  {
   "cell_type": "code",
   "execution_count": 21,
   "id": "c497ece5",
   "metadata": {},
   "outputs": [],
   "source": [
    "import random\n",
    "\n",
    "\"\"\"\n",
    "    -------BATTLESHIPS-------\n",
    "    Pre-reqs: Loops, Strings, Arrays, 2D Arrays, Global Variables, Methods\n",
    "    How it will work:\n",
    "    1. A 10x10 grid will have 5 ships randomly placed about\n",
    "    2. You can choose a row and column to indicate where to shoot\n",
    "    3. For every shot that hits or misses it will show up in the grid\n",
    "    4. If all ships are shot, game over\n",
    "\n",
    "    Legend:\n",
    "    1. \".\" = water\n",
    "    2. \"S\" = ship position\n",
    "    3. \"O\" = water that was shot with bullet, a miss because it hit no ship\n",
    "    4. \"X\" = ship sunk!\n",
    "\"\"\"\n",
    "\n",
    "# Global variable for grid size\n",
    "grid_size = 10\n",
    "# Global variable for grid\n",
    "grid = [ ['']*grid_size for i in range(grid_size) ]\n",
    "# Global variable for number of ships to place\n",
    "num_of_ships = 5\n"
   ]
  },
  {
   "cell_type": "code",
   "execution_count": 22,
   "id": "f9bc0e1d",
   "metadata": {},
   "outputs": [],
   "source": [
    "def drawBoard(myBoard):\n",
    "    # Gettinglength of board to use as marker forprinting grid within range\n",
    "    lenght_of_board = len(myBoard)\n",
    "    # Getting boder length to print grid with plus signs\n",
    "    border_length = lenght_of_board + 1\n",
    "    \n",
    "    # Printing the plus sing border at top \n",
    "    print(f\"+{'---+' * border_length}\")\n",
    "    # Looping through to print column numbers\n",
    "    for c in range(lenght_of_board):\n",
    "        # Logic to print one row over at begining so we have an empty box\n",
    "        if c == 0:\n",
    "            print(\"|   |\", end=\"\")\n",
    "        # Printing column numbers\n",
    "        print(f\" {c} \", end=\"\")\n",
    "        # Printing the line at the end of the column numbers row.\n",
    "        print(f\"|\", end=\"\")\n",
    "    print()\n",
    "    \n",
    "    # Looping through to fill out the grid\n",
    "    for i in range(grid_size):\n",
    "        # Printing the grid separator\n",
    "        print(f\"+{'---+' * border_length}\")\n",
    "        # Printing the number at the beginning of each row\n",
    "        print(f\"| {i} \", end=\"\")\n",
    "        # Printing the donts and seperator lines in each row\n",
    "        for j in range(grid_size):\n",
    "            print(f\"| {thearray[i][j]} \", end = \"\")\n",
    "        # Printing the line at the end of each grid row\n",
    "        print(f\"|\", end=\"\")\n",
    "        print()\n",
    "    # Printing the border at the bottom of the grid.\n",
    "    print(f\"+{'---+' * border_length}\")\n",
    "\n"
   ]
  },
  {
   "cell_type": "code",
   "execution_count": null,
   "id": "7c863ea0",
   "metadata": {},
   "outputs": [],
   "source": [
    "# Add ships\n",
    "def add_ships():\n",
    "    # Empty set to hold uniqe ship locations\n",
    "    ship_locations = set()\n",
    "    \n",
    "    # While loop to get random row and column pairs until set is complete\n",
    "    while len(ship_locations) < num_of_ships:\n",
    "        row = random.randint(0, grid_size - 1)\n",
    "        col = random.randint(0, grid_size - 1)\n",
    "        # Adding row and column to the ship locations set\n",
    "        ship_locations.add((row, col))\n",
    "    \n",
    "    # Converting the set to a list so it can be updated later\n",
    "    ship_locations = list(ship_locations)\n",
    "    return ship_locations"
   ]
  },
  {
   "cell_type": "code",
   "execution_count": 23,
   "id": "87d7df70",
   "metadata": {},
   "outputs": [],
   "source": [
    "\n",
    "def setupBoard(myboard, ship_locations):\n",
    "    i = j = 0\n",
    "\n",
    "    while i < grid_size:\n",
    "        while j < grid_size:\n",
    "            # store the string \"i, j\" into the array\n",
    "            myboard[i][j] = \".\"\n",
    "            j += 1\n",
    "        j = 0\n",
    "        i += 1\n",
    "        \n",
    "    # Adding ship to locations on the grid\n",
    "    for ship in ship_locations:\n",
    "        myboard[ship[0]][ship[1]] = 'S'\n"
   ]
  },
  {
   "cell_type": "code",
   "execution_count": null,
   "id": "ebb126bb",
   "metadata": {},
   "outputs": [],
   "source": [
    "\n",
    "def hitOrMiss(myBoard, row, col):\n",
    "    # implement the hit or miss functionality here\n",
    "    return\n"
   ]
  },
  {
   "cell_type": "code",
   "execution_count": null,
   "id": "de41dbb9",
   "metadata": {},
   "outputs": [],
   "source": [
    "\n",
    "def isGameOver(myBoard):\n",
    "    # check if there are ships remaining on the grid.\n",
    "    # if there are ships remaining, return false else return true\n",
    "    return False\n"
   ]
  },
  {
   "cell_type": "code",
   "execution_count": null,
   "id": "2d9737c1",
   "metadata": {},
   "outputs": [],
   "source": [
    "\n",
    "def main(myBoard):\n",
    "    # here do everything like\n",
    "    #   set up the board\n",
    "    #   till the game is over\n",
    "    #     draw the board\n",
    "    #     ask for a row and column and check it is a hit or a miss\n",
    "    # when the game is over, print that message!\n",
    "    print('Game over!')\n",
    "    \n"
   ]
  },
  {
   "cell_type": "code",
   "execution_count": null,
   "id": "eae44167",
   "metadata": {},
   "outputs": [],
   "source": [
    "# do not forget to call main!\n",
    "main(grid)\n"
   ]
  }
 ],
 "metadata": {
  "kernelspec": {
   "display_name": "Python 3 (ipykernel)",
   "language": "python",
   "name": "python3"
  },
  "language_info": {
   "codemirror_mode": {
    "name": "ipython",
    "version": 3
   },
   "file_extension": ".py",
   "mimetype": "text/x-python",
   "name": "python",
   "nbconvert_exporter": "python",
   "pygments_lexer": "ipython3",
   "version": "3.9.13"
  }
 },
 "nbformat": 4,
 "nbformat_minor": 5
}
