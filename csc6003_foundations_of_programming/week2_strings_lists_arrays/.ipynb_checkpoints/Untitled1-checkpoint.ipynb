{
 "cells": [
  {
   "cell_type": "code",
   "execution_count": null,
   "id": "368ea874",
   "metadata": {},
   "outputs": [],
   "source": [
    "import random\n",
    "\n",
    "\"\"\"\n",
    "    -------BATTLESHIPS-------\n",
    "    Pre-reqs: Loops, Strings, Arrays, 2D Arrays, Global Variables, Methods\n",
    "    How it will work:\n",
    "    1. A 10x10 grid will have 5 ships randomly placed about\n",
    "    2. You can choose a row and column to indicate where to shoot\n",
    "    3. For every shot that hits or misses it will show up in the grid\n",
    "    4. If all ships are shot, game over\n",
    "\n",
    "    Legend:\n",
    "    1. \".\" = water\n",
    "    2. \"S\" = ship position\n",
    "    3. \"O\" = water that was shot with bullet, a miss because it hit no ship\n",
    "    4. \"X\" = ship sunk!\n",
    "\"\"\"\n",
    "\n",
    "# Global variable for grid size\n",
    "grid_size = 10\n",
    "# Global variable for grid\n",
    "grid = [ ['']*grid_size for i in range(grid_size) ]\n",
    "# Global variable for number of ships to place\n",
    "num_of_ships = 5\n"
   ]
  },
  {
   "cell_type": "code",
   "execution_count": null,
   "id": "faa73a2d",
   "metadata": {},
   "outputs": [],
   "source": [
    "\n",
    "def drawBoard(myBoard):\n",
    "    # implement draw board here\n",
    "    return\n"
   ]
  },
  {
   "cell_type": "code",
   "execution_count": null,
   "id": "7b8caff9",
   "metadata": {},
   "outputs": [],
   "source": [
    "\n",
    "def setupBoard(myBoard):\n",
    "    # implement setup board here\n",
    "    # initialize all grid[i][j] = '.'\n",
    "    # now place the ships\n",
    "    # you can get a random row by using\n",
    "    randomRow = random.randint(0, grid_size - 1)\n",
    "    randomCol = random.randint(0, grid_size - 1)\n",
    "    # remember to call myBoard[randomRow][randomCol] = 'S' for every ship\n"
   ]
  },
  {
   "cell_type": "code",
   "execution_count": null,
   "id": "59956d90",
   "metadata": {},
   "outputs": [],
   "source": [
    "\n",
    "def hitOrMiss(myBoard, row, col):\n",
    "    # implement the hit or miss functionality here\n",
    "    return\n"
   ]
  },
  {
   "cell_type": "code",
   "execution_count": null,
   "id": "693ef645",
   "metadata": {},
   "outputs": [],
   "source": [
    "\n",
    "def isGameOver(myBoard):\n",
    "    # check if there are ships remaining on the grid.\n",
    "    # if there are ships remaining, return false else return true\n",
    "    return False\n"
   ]
  },
  {
   "cell_type": "code",
   "execution_count": null,
   "id": "80260f82",
   "metadata": {},
   "outputs": [],
   "source": [
    "\n",
    "def main(myBoard):\n",
    "    # here do everything like\n",
    "    #   set up the board\n",
    "    #   till the game is over\n",
    "    #     draw the board\n",
    "    #     ask for a row and column and check it is a hit or a miss\n",
    "    # when the game is over, print that message!\n",
    "    print('Game over!')\n",
    "    \n"
   ]
  },
  {
   "cell_type": "code",
   "execution_count": null,
   "id": "a7792235",
   "metadata": {},
   "outputs": [],
   "source": [
    "# do not forget to call main!\n",
    "main(grid)\n"
   ]
  },
  {
   "cell_type": "code",
   "execution_count": null,
   "id": "1fe37a56",
   "metadata": {},
   "outputs": [],
   "source": []
  }
 ],
 "metadata": {
  "kernelspec": {
   "display_name": "Python 3 (ipykernel)",
   "language": "python",
   "name": "python3"
  },
  "language_info": {
   "codemirror_mode": {
    "name": "ipython",
    "version": 3
   },
   "file_extension": ".py",
   "mimetype": "text/x-python",
   "name": "python",
   "nbconvert_exporter": "python",
   "pygments_lexer": "ipython3",
   "version": "3.9.13"
  }
 },
 "nbformat": 4,
 "nbformat_minor": 5
}
