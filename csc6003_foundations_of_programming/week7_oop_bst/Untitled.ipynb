{
 "cells": [
  {
   "cell_type": "code",
   "execution_count": 50,
   "id": "fc5b6b89",
   "metadata": {},
   "outputs": [],
   "source": [
    "from typing import Dict\n",
    "from typing import List\n",
    "from typing import Union\n",
    "from typing import Optional"
   ]
  },
  {
   "cell_type": "code",
   "execution_count": 46,
   "id": "fc87273f",
   "metadata": {},
   "outputs": [],
   "source": [
    "class TreeNode:\n",
    "    def __init__(self, value):\n",
    "        self.value = value # root node\n",
    "        self.left = None # left child must be less than root\n",
    "        self.right = None # right child must be greater than root\n",
    "        \n",
    "    def insert_tree_node(self, value):\n",
    "        if value < self.value:\n",
    "            if self.left is None:\n",
    "                self.left = TreeNode(value)\n",
    "            else:\n",
    "                self.left.insert_tree_node(value)\n",
    "        else:\n",
    "            if self.right is None:\n",
    "                self.right = TreeNode(value)\n",
    "            else:\n",
    "                self.right.insert_tree_node(value)\n",
    "                \n",
    "    def in_order_trav(self):\n",
    "        if self.left\n",
    "            \n",
    "        \n",
    "    \n",
    "        \n"
   ]
  },
  {
   "cell_type": "code",
   "execution_count": 47,
   "id": "07c95b8d",
   "metadata": {},
   "outputs": [],
   "source": [
    "tree = TreeNode(10)\n",
    "tree.insert_tree_node(5)\n",
    "tree.insert_tree_node(4)\n",
    "tree.insert_tree_node(2)\n",
    "tree.insert_tree_node(1)\n",
    "tree.insert_tree_node(3)\n",
    "tree.insert_tree_node(5)"
   ]
  },
  {
   "cell_type": "code",
   "execution_count": 49,
   "id": "80b2f28f",
   "metadata": {},
   "outputs": [
    {
     "name": "stdout",
     "output_type": "stream",
     "text": [
      "2\n"
     ]
    }
   ],
   "source": [
    "print(tree.left.left.left.value)"
   ]
  },
  {
   "cell_type": "code",
   "execution_count": null,
   "id": "33b2e86c",
   "metadata": {},
   "outputs": [],
   "source": []
  }
 ],
 "metadata": {
  "kernelspec": {
   "display_name": "Python 3 (ipykernel)",
   "language": "python",
   "name": "python3"
  },
  "language_info": {
   "codemirror_mode": {
    "name": "ipython",
    "version": 3
   },
   "file_extension": ".py",
   "mimetype": "text/x-python",
   "name": "python",
   "nbconvert_exporter": "python",
   "pygments_lexer": "ipython3",
   "version": "3.9.13"
  }
 },
 "nbformat": 4,
 "nbformat_minor": 5
}
