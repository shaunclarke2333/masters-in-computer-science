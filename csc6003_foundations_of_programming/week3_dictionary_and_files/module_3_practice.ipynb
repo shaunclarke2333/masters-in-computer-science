{
 "cells": [
  {
   "cell_type": "code",
   "execution_count": 5,
   "id": "91b4a78b",
   "metadata": {},
   "outputs": [],
   "source": [
    "# Creating a key value pair dictionary\n",
    "test_dict = {\n",
    "    \"name\": \"Shaun\",\n",
    "    \"age\": 23,\n",
    "    \"height\": \"6'\"\n",
    "}"
   ]
  },
  {
   "cell_type": "code",
   "execution_count": 6,
   "id": "c00902c6",
   "metadata": {},
   "outputs": [
    {
     "name": "stdout",
     "output_type": "stream",
     "text": [
      "{'name': 'Shaun', 'age': 23, 'height': \"6'\"}\n"
     ]
    }
   ],
   "source": [
    "# Printing a dictionary\n",
    "print(test_dict)"
   ]
  },
  {
   "cell_type": "code",
   "execution_count": 8,
   "id": "f5818e0c",
   "metadata": {},
   "outputs": [
    {
     "name": "stdout",
     "output_type": "stream",
     "text": [
      "My name is Shaun, i am 23 years old and 6' tall.\n"
     ]
    }
   ],
   "source": [
    "# accessing dictionary values\n",
    "print(f\"My name is {test_dict['name']}, i am {test_dict['age']} years old and {test_dict['height']} tall.\")"
   ]
  },
  {
   "cell_type": "code",
   "execution_count": 10,
   "id": "4a025ef1",
   "metadata": {},
   "outputs": [
    {
     "name": "stdout",
     "output_type": "stream",
     "text": [
      "dict_values(['Shaun', 23, \"6'\"])\n"
     ]
    }
   ],
   "source": [
    "# printing a dictionary values\n",
    "print(test_dict.values())\n"
   ]
  },
  {
   "cell_type": "code",
   "execution_count": 11,
   "id": "79174c80",
   "metadata": {},
   "outputs": [
    {
     "name": "stdout",
     "output_type": "stream",
     "text": [
      "dict_keys(['name', 'age', 'height'])\n"
     ]
    }
   ],
   "source": [
    "# printing dictionary keys\n",
    "print(test_dict.keys())"
   ]
  },
  {
   "cell_type": "code",
   "execution_count": 12,
   "id": "82d642fb",
   "metadata": {},
   "outputs": [
    {
     "name": "stdout",
     "output_type": "stream",
     "text": [
      "dict_items([('name', 'Shaun'), ('age', 23), ('height', \"6'\")])\n"
     ]
    }
   ],
   "source": [
    "# Pritning dictionary key sand values\n",
    "print(test_dict.items())"
   ]
  },
  {
   "cell_type": "code",
   "execution_count": 14,
   "id": "c1c2e857",
   "metadata": {},
   "outputs": [
    {
     "name": "stdout",
     "output_type": "stream",
     "text": [
      "a\n",
      "b\n",
      "c\n",
      "d\n",
      "5\n",
      "6\n",
      "7\n",
      "8\n"
     ]
    }
   ],
   "source": [
    "# Creating a function with *args\n",
    "def test_args(*args):\n",
    "    for item in args:\n",
    "        print(item)\n",
    "\n",
    "test_args(\"a\",\"b\",\"c\",\"d\",5,6,7,8)"
   ]
  },
  {
   "cell_type": "code",
   "execution_count": 16,
   "id": "c2aed3c2",
   "metadata": {},
   "outputs": [
    {
     "name": "stdout",
     "output_type": "stream",
     "text": [
      "('a', 1)\n",
      "('b', 2)\n",
      "('c', 'a')\n",
      "('d', 'b')\n"
     ]
    }
   ],
   "source": [
    "# Creating a function with kwargs\n",
    "def test_kwargs(**kwargs):\n",
    "    for item in kwargs.items():\n",
    "        print(item)\n",
    "        \n",
    "test_kwargs(a=1,b=2,c=\"a\",d=\"b\")"
   ]
  },
  {
   "cell_type": "code",
   "execution_count": null,
   "id": "8906a37f",
   "metadata": {},
   "outputs": [],
   "source": [
    "# Python file operations\n",
    "with open(\"/demo_file.txt\", \"r\") as file:\n",
    "    my_file.read()\n",
    "    print(my_file)"
   ]
  },
  {
   "cell_type": "code",
   "execution_count": null,
   "id": "2ed677b2",
   "metadata": {},
   "outputs": [],
   "source": []
  }
 ],
 "metadata": {
  "kernelspec": {
   "display_name": "Python 3 (ipykernel)",
   "language": "python",
   "name": "python3"
  },
  "language_info": {
   "codemirror_mode": {
    "name": "ipython",
    "version": 3
   },
   "file_extension": ".py",
   "mimetype": "text/x-python",
   "name": "python",
   "nbconvert_exporter": "python",
   "pygments_lexer": "ipython3",
   "version": "3.9.13"
  }
 },
 "nbformat": 4,
 "nbformat_minor": 5
}
