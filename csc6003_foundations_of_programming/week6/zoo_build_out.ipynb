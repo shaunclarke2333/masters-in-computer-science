{
 "cells": [
  {
   "cell_type": "code",
   "execution_count": 70,
   "id": "fd353b38",
   "metadata": {},
   "outputs": [],
   "source": [
    "# Importing dependencies\n",
    "from typing import Union\n",
    "from typing import List\n",
    "from typing import Dict\n",
    "from typing import Optional\n",
    "from typing import Tuple\n",
    "import random"
   ]
  },
  {
   "cell_type": "code",
   "execution_count": 93,
   "id": "7dfc4560",
   "metadata": {},
   "outputs": [
    {
     "ename": "NameError",
     "evalue": "name 'Folder' is not defined",
     "output_type": "error",
     "traceback": [
      "\u001b[1;31m---------------------------------------------------------------------------\u001b[0m",
      "\u001b[1;31mNameError\u001b[0m                                 Traceback (most recent call last)",
      "\u001b[1;32m~\\AppData\\Local\\Temp\\ipykernel_68528\\2552339774.py\u001b[0m in \u001b[0;36m<module>\u001b[1;34m\u001b[0m\n\u001b[0;32m      2\u001b[0m \u001b[1;32mfrom\u001b[0m \u001b[0mtyping\u001b[0m \u001b[1;32mimport\u001b[0m \u001b[0mList\u001b[0m\u001b[1;33m\u001b[0m\u001b[1;33m\u001b[0m\u001b[0m\n\u001b[0;32m      3\u001b[0m \u001b[1;31m# This class handles display runs the program\u001b[0m\u001b[1;33m\u001b[0m\u001b[1;33m\u001b[0m\u001b[0m\n\u001b[1;32m----> 4\u001b[1;33m \u001b[1;32mclass\u001b[0m \u001b[0mMain\u001b[0m\u001b[1;33m:\u001b[0m\u001b[1;33m\u001b[0m\u001b[1;33m\u001b[0m\u001b[0m\n\u001b[0m\u001b[0;32m      5\u001b[0m     \u001b[1;32mdef\u001b[0m \u001b[0m__init__\u001b[0m\u001b[1;33m(\u001b[0m\u001b[0mself\u001b[0m\u001b[1;33m,\u001b[0m \u001b[0mfolder_object\u001b[0m\u001b[1;33m:\u001b[0m \u001b[0mFolder\u001b[0m\u001b[1;33m,\u001b[0m \u001b[0minput_object\u001b[0m\u001b[1;33m:\u001b[0m \u001b[0mHandleInput\u001b[0m\u001b[1;33m,\u001b[0m \u001b[0mmenu_object\u001b[0m\u001b[1;33m:\u001b[0m \u001b[0mMenu\u001b[0m\u001b[1;33m)\u001b[0m \u001b[1;33m->\u001b[0m \u001b[1;32mNone\u001b[0m\u001b[1;33m:\u001b[0m\u001b[1;33m\u001b[0m\u001b[1;33m\u001b[0m\u001b[0m\n\u001b[0;32m      6\u001b[0m         \u001b[0mself\u001b[0m\u001b[1;33m.\u001b[0m\u001b[0mfolder_object\u001b[0m \u001b[1;33m=\u001b[0m \u001b[0mfolder_object\u001b[0m\u001b[1;33m\u001b[0m\u001b[1;33m\u001b[0m\u001b[0m\n",
      "\u001b[1;32m~\\AppData\\Local\\Temp\\ipykernel_68528\\2552339774.py\u001b[0m in \u001b[0;36mMain\u001b[1;34m()\u001b[0m\n\u001b[0;32m      3\u001b[0m \u001b[1;31m# This class handles display runs the program\u001b[0m\u001b[1;33m\u001b[0m\u001b[1;33m\u001b[0m\u001b[0m\n\u001b[0;32m      4\u001b[0m \u001b[1;32mclass\u001b[0m \u001b[0mMain\u001b[0m\u001b[1;33m:\u001b[0m\u001b[1;33m\u001b[0m\u001b[1;33m\u001b[0m\u001b[0m\n\u001b[1;32m----> 5\u001b[1;33m     \u001b[1;32mdef\u001b[0m \u001b[0m__init__\u001b[0m\u001b[1;33m(\u001b[0m\u001b[0mself\u001b[0m\u001b[1;33m,\u001b[0m \u001b[0mfolder_object\u001b[0m\u001b[1;33m:\u001b[0m \u001b[0mFolder\u001b[0m\u001b[1;33m,\u001b[0m \u001b[0minput_object\u001b[0m\u001b[1;33m:\u001b[0m \u001b[0mHandleInput\u001b[0m\u001b[1;33m,\u001b[0m \u001b[0mmenu_object\u001b[0m\u001b[1;33m:\u001b[0m \u001b[0mMenu\u001b[0m\u001b[1;33m)\u001b[0m \u001b[1;33m->\u001b[0m \u001b[1;32mNone\u001b[0m\u001b[1;33m:\u001b[0m\u001b[1;33m\u001b[0m\u001b[1;33m\u001b[0m\u001b[0m\n\u001b[0m\u001b[0;32m      6\u001b[0m         \u001b[0mself\u001b[0m\u001b[1;33m.\u001b[0m\u001b[0mfolder_object\u001b[0m \u001b[1;33m=\u001b[0m \u001b[0mfolder_object\u001b[0m\u001b[1;33m\u001b[0m\u001b[1;33m\u001b[0m\u001b[0m\n\u001b[0;32m      7\u001b[0m         \u001b[0mself\u001b[0m\u001b[1;33m.\u001b[0m\u001b[0mhandle_input\u001b[0m \u001b[1;33m=\u001b[0m \u001b[0minput_object\u001b[0m\u001b[1;33m\u001b[0m\u001b[1;33m\u001b[0m\u001b[0m\n",
      "\u001b[1;31mNameError\u001b[0m: name 'Folder' is not defined"
     ]
    }
   ],
   "source": [
    "# importing dependencies\n",
    "from typing import List\n",
    "# This class handles display runs the program\n",
    "class Main:\n",
    "    def __init__(self, folder_object: Folder, input_object: HandleInput, menu_object: Menu) -> None:\n",
    "        self.folder_object = folder_object\n",
    "        self.handle_input = input_object\n",
    "        self.menu_object = menu_object\n",
    "        self.__menu_options: List = [\n",
    "            \"1) add animals\",\n",
    "            \"2) print all\",\n",
    "            \"3) print specific\"\n",
    "        ]\n",
    "        self.__add_animal_menu: List = [\n",
    "            \"1) add bear\",\n",
    "            \"2) add elephant\",\n",
    "            \"3) add penguin\"\n",
    "        ]\n",
    "        self.__.print_specific_menu: List = [\n",
    "            \"1) print bear\",\n",
    "            \"2) print elephant\",\n",
    "            \"3) print penguin\"\n",
    "        ]\n",
    "\n",
    "    # This function Gets menu number input\n",
    "    def get_menu_number_input(self,input_message: str, menu_options: List) -> str:\n",
    "        while True:\n",
    "            try:\n",
    "                # Getting user input\n",
    "                user_input: int = int(input(f\">\\n{input_message}\\n:>\").strip())\n",
    "                # Making sure input is not empty\n",
    "                if not user_input:\n",
    "                    raise KeyError(f\"Input cannot be empty.\\n\")\n",
    "                # Using the length of the menu list to validate that menu input is within range\n",
    "                if user_input >= 1 and user_input <= len(menu_options):\n",
    "                    return user_input\n",
    "                else:\n",
    "                    print(f\"\\nOnly menu number options will be accepted\\n\")\n",
    "            except ValueError:\n",
    "                print(\"You must enter a menu number\\n\")\n",
    "            except KeyError as err:\n",
    "                print(err)    \n",
    "\n",
    "    # This method displays the menu and returns the selection\n",
    "    def display_menu(self, menu: List) -> int:\n",
    "        # Menu footer border\n",
    "        footer_border = \"================\"\n",
    "        # Printing menu header\n",
    "        print(\"====Zoo MENU====\")\n",
    "        # Show Menu\n",
    "        print(*menu, sep=\"\\n\")\n",
    "        # adding border below menu\n",
    "        print(footer_border)\n",
    "\n",
    "        # Get menu input\n",
    "        menu_input = self.get_menu_number_input(\"Choose a menu item to continue\", menu)\n",
    "\n",
    "        return menu_input\n",
    "    # This method calls the program\n",
    "    def main(self):\n",
    "        # Create root folder\n",
    "        self.root_folder = self.folder_object(\"root\")\n",
    "        self.an_animal = None\n",
    "        self.active_folder_name = self.active_folder.folder_name\n",
    "        print(self.active_folder_name)\n",
    "\n",
    "        while True:\n",
    "            try:\n",
    "                #Displaying menu and getting user selection\n",
    "                menu_selection: int = self.menu_object.display_menu(self.active_folder_name)\n",
    "\n",
    "                # Do folder action based on menu input\n",
    "                if menu_selection == 1:\n",
    "                    file = self.handle_input.handle_add_file_to_folder(self.active_folder)\n",
    "                    print(file)\n",
    "                # if option 2, ask the user to add a folder\n",
    "                elif menu_selection == 2:\n",
    "                    folder = self.handle_input.handle_add_folder(self.active_folder)\n",
    "                    print(folder)\n",
    "                # if option 3, ask user to select folder\n",
    "                elif menu_selection == 3:\n",
    "                    selected_folder = self.handle_input.handle_select_folder(self.root_folder)\n",
    "                    self.active_folder = selected_folder\n",
    "                    self.active_folder_name = self.active_folder.folder_name\n",
    "                # if option 4, print folder structure\n",
    "                elif menu_selection == 4:\n",
    "                    self.handle_input.handle_print_folder(self.active_folder)\n",
    "                # if option 5, count all files in all folders\n",
    "                elif menu_selection == 5:\n",
    "                    self.handle_input.handle_count_files(self.active_folder)\n",
    "                # if option 6, exit program.\n",
    "                elif menu_selection == 6:\n",
    "                    raise SystemExit(\"Peace Out Home Slice\")\n",
    "            except SystemExit:\n",
    "                exit()    \n",
    "\n",
    "# Create the main object\n",
    "run_program = Main(Folder,HandleInput(),Menu())\n",
    "# Call the main method to run the program.       \n",
    "run_program.main()\n"
   ]
  },
  {
   "cell_type": "code",
   "execution_count": 25,
   "id": "144e5670",
   "metadata": {},
   "outputs": [
    {
     "ename": "ModuleNotFoundError",
     "evalue": "No module named 'folder'",
     "output_type": "error",
     "traceback": [
      "\u001b[1;31m---------------------------------------------------------------------------\u001b[0m",
      "\u001b[1;31mModuleNotFoundError\u001b[0m                       Traceback (most recent call last)",
      "\u001b[1;32m~\\AppData\\Local\\Temp\\ipykernel_68528\\683473187.py\u001b[0m in \u001b[0;36m<module>\u001b[1;34m\u001b[0m\n\u001b[0;32m      1\u001b[0m \u001b[1;31m# importing dependencies\u001b[0m\u001b[1;33m\u001b[0m\u001b[1;33m\u001b[0m\u001b[0m\n\u001b[1;32m----> 2\u001b[1;33m \u001b[1;32mfrom\u001b[0m \u001b[0mfolder\u001b[0m \u001b[1;32mimport\u001b[0m \u001b[0mFolder\u001b[0m\u001b[1;33m\u001b[0m\u001b[1;33m\u001b[0m\u001b[0m\n\u001b[0m\u001b[0;32m      3\u001b[0m \u001b[1;33m\u001b[0m\u001b[0m\n\u001b[0;32m      4\u001b[0m \u001b[1;33m\u001b[0m\u001b[0m\n\u001b[0;32m      5\u001b[0m \u001b[1;31m# Handles getting user input and pass it to Folder class to retrieve details\u001b[0m\u001b[1;33m\u001b[0m\u001b[1;33m\u001b[0m\u001b[0m\n",
      "\u001b[1;31mModuleNotFoundError\u001b[0m: No module named 'folder'"
     ]
    }
   ],
   "source": [
    "# Handles getting user input and pass it to Folder class to retrieve details\n",
    "class HandleInput:\n",
    "    # Gets user string input\n",
    "    def get_string_input(self, input_message: str) -> str:\n",
    "        \"\"\"\n",
    "        This method gets the user input and makes sure it is not empty\n",
    "        \"\"\"\n",
    "        while True:\n",
    "            try:\n",
    "                user_input: str = input(f\"{input_message}\\n:>\").lower().strip()\n",
    "                if not user_input:\n",
    "                    raise ValueError(f\"Input cannot be empty.\")\n",
    "                return user_input\n",
    "            except ValueError as err:\n",
    "                print(err)\n",
    "                \n",
    "    # Gets user number input\n",
    "    def get_number_input(self, input_message: str) -> str:\n",
    "        \"\"\"\n",
    "        This method gets the user input and makes sure it is not empty\n",
    "        \"\"\"\n",
    "        while True:\n",
    "            try:\n",
    "                user_input: float = float(input(f\"{input_message}: \").strip())\n",
    "                # If input didnt trigger value error and \n",
    "                if user_input == int(user_input):\n",
    "                    return user_input\n",
    "                else:\n",
    "                    return user_input\n",
    "            except ValueError:\n",
    "                print(\"\\nPlease try again\\n\")\n",
    "    \n",
    "    # Gets input and create a bear\n",
    "    def handle_add_bear(self, bear_class: Bear) -> str:\n",
    "        # Validating input for name, species and fur color\n",
    "        name: str = self.get_string_input(\"Enter the bear's name.\")\n",
    "        species: str = self.get_string_input(\"Enter the specie of bear.\")\n",
    "        fur_color: str = self.get_string_input(\"Enter the bear's fur color\")\n",
    "        # Creating a new bear\n",
    "        return create_animal: Bear = bear_class(name, species, fur_color, \"bear\")\n",
    "            \n",
    "    # Gets input and create an elephant\n",
    "    def handle_add_elephant(self, elephant_class: Bear) -> str:\n",
    "        # Validating input for name, species and weight\n",
    "        name: str = self.get_string_input(\"Enter the elephant's name.\")\n",
    "        species: str = self.get_string_input(\"Enter the specie of elephant.\")\n",
    "        weight: float = self.get_number_input(\"Enter the elephant's weight.\")\n",
    "        # Creating a new elephant\n",
    "        return create_animal: Elephant = elephant_class(name, species, weight, \"elephant\")\n",
    "    \n",
    "    # Gets input and create an penguin\n",
    "    def handle_add_penguin(self, elephant_class: Bear) -> str:\n",
    "        # Validating input for name, species and fur color\n",
    "        name: str = self.get_string_input(\"Enter the penguin's name.\")\n",
    "        species: str = self.get_string_input(\"Enter the specie of penguin.\")\n",
    "        height: float = self.get_number_input(\"Enter the penguin's height.\")\n",
    "        # Creating a new bear\n",
    "        return create_animal: Penguin = penguin_class(name, species, height, \"penguin\")\n",
    "    \n",
    "    # This method gets input and returns a folder object\n",
    "    def handle_select_folder(self, folder_object: Folder) -> object:\n",
    "        # Validating folder name input\n",
    "        while True:\n",
    "            try:\n",
    "                folder_name: str = self.get_input(\"Enter the name of the folder you want select\")\n",
    "                # Getting folder object\n",
    "                folder: object = folder_object.select_folder(folder_name)\n",
    "                if folder is None:\n",
    "                    raise KeyError(f\"\\nfolder was not found\\n\")\n",
    "                return folder\n",
    "            except KeyError as err:\n",
    "                print(err)\n",
    "                continue\n",
    "    \n",
    "    \n",
    "    # This adds a file to a folder\n",
    "    def handle_add_file_to_folder(self, folder_object: object) -> bool:\n",
    "        # Validating folder name input\n",
    "        while True:\n",
    "            try:\n",
    "                file_name: str = self.get_input(\"Enter the name of the file you want to add\")\n",
    "                # Making sure file does not exist\n",
    "                if not folder_object.does_file_exist(file_name):\n",
    "                    # Adding file to fodler\n",
    "                    folder_object.add_file_to_folder(file_name)\n",
    "                    # checking if file was added\n",
    "                    if folder_object.does_file_exist(file_name):\n",
    "                        return f\"\\nFile added to {folder_object.folder_name} folder\\n\"\n",
    "                raise KeyError(f\"\\nfile already exists\\n\")\n",
    "            except KeyError as err:\n",
    "                print(err)\n",
    "                continue\n",
    "    \n",
    "    # This method prints the active folder\n",
    "    def handle_print_folder(self, folder_object: object) -> str:\n",
    "        print(folder_object)\n",
    "\n",
    "    # THis method counts all the files in folder and sub folders\n",
    "    def handle_count_files(self, folder_object) -> str:\n",
    "        count = len(folder_object)\n",
    "        print(f\"\\n{folder_object.folder_name} folder contains {count} file{'s' if count != 1 else ''}\\n\")\n",
    "          "
   ]
  },
  {
   "cell_type": "code",
   "execution_count": 86,
   "id": "3e4f4b26",
   "metadata": {},
   "outputs": [],
   "source": [
    "class Animal:\n",
    "    # Dictionary to hold animals\n",
    "    __zoo_keeper: Dict = {}\n",
    "        \n",
    "    def __init__(self, name: str, species: str):\n",
    "        self.name = name\n",
    "        self.species = species\n",
    "        self.__add_animal()\n",
    "    \n",
    "    # Adding animal to zoo keepr dict\n",
    "    def __add_animal(self):\n",
    "        \"\"\"\n",
    "        This method adds the user to the zoo dict\n",
    "        \"\"\"\n",
    "        self.__class__.__zoo_keeper[self.name] = self\n",
    "    \n",
    "    # This method returns the animals sound\n",
    "    def make_sound(self) -> str:\n",
    "        return \"booooooo\"\n",
    "    # This method returns the animal info formatted\n",
    "    def info(self) -> str:\n",
    "        return (\n",
    "            f\"Name: {self.name}\\n\"\n",
    "            f\"Species: {self.species}\\n\"\n",
    "            f\"Sound: {self.make_sound()}\\n\"\n",
    "            f\"\"\n",
    "        )\n",
    "    \n",
    "    def show_animals(self):\n",
    "        for key,value in self.__class__.__zoo_keeper.items():\n",
    "            print(key,value)\n",
    "    \n",
    "    # This dunder method displays the animal info formatted\n",
    "    def __str__(self) -> str:\n",
    "        return self.info()"
   ]
  },
  {
   "cell_type": "code",
   "execution_count": 87,
   "id": "56bb2779",
   "metadata": {},
   "outputs": [],
   "source": [
    "class Bear(Animal):\n",
    "    def __init__(self, name: str, species: str, fur_color: str, animal: str):\n",
    "        super().__init__(name, species)\n",
    "        self.animal = animal\n",
    "        self.fur_color: str = fur_color\n",
    "    \n",
    "    # This method returns the animals sound\n",
    "    def make_sound(self) -> str:\n",
    "        return \"roar\"\n",
    "    \n",
    "    # This method returns the animal info formatted\n",
    "    def info(self) -> str:\n",
    "        return \"\".join([\n",
    "            f\"{self.name} is a {self.animal} \",\n",
    "            f\"of the {self.species} species, \",\n",
    "            f\"who makes a {self.make_sound()} sound \",\n",
    "            f\"and has {self.fur_color} fur\"\n",
    "        ]) "
   ]
  },
  {
   "cell_type": "code",
   "execution_count": 88,
   "id": "ab34db7c",
   "metadata": {},
   "outputs": [
    {
     "name": "stdout",
     "output_type": "stream",
     "text": [
      "Yogi is a bear of the Green Bear species, who makes a roar sound and has black fur\n"
     ]
    }
   ],
   "source": [
    "bear = Bear(\"Yogi\",\"Green Bear\", \"black\", \"bear\")\n",
    "print(bear)"
   ]
  },
  {
   "cell_type": "code",
   "execution_count": 89,
   "id": "353e3c31",
   "metadata": {},
   "outputs": [
    {
     "name": "stdout",
     "output_type": "stream",
     "text": [
      "Yogi is a bear of the Green Bear species, who makes a roar sound and has black fur\n"
     ]
    }
   ],
   "source": [
    "print(bear)"
   ]
  },
  {
   "cell_type": "code",
   "execution_count": 90,
   "id": "6c494ba7",
   "metadata": {},
   "outputs": [],
   "source": [
    "class Elephant(Animal):\n",
    "    def __init__(self, name: str, species: str, weight: float, animal: str):\n",
    "        super().__init__(name, species)\n",
    "        self.animal = animal\n",
    "        self.weight: str = weight\n",
    "     \n",
    "    # This method returns the animals sound\n",
    "    def make_sound(self) -> str:\n",
    "        return \"trumpet\"\n",
    "    \n",
    "    # This method returns the animal info formatted\n",
    "    def info(self) -> str:\n",
    "        return \"\".join([\n",
    "            f\"{self.name} is a {self.animal} \",\n",
    "            f\"of the {self.species} species \",\n",
    "            f\"who makes a {self.make_sound()} sound \",\n",
    "            f\"and weighs {self.weight}lbs\"\n",
    "        ]) "
   ]
  },
  {
   "cell_type": "code",
   "execution_count": 91,
   "id": "30762c0e",
   "metadata": {},
   "outputs": [
    {
     "name": "stdout",
     "output_type": "stream",
     "text": [
      "Snuffy is a elephant of the Green Elephant species who makes a trumpet sound and weighs 22.5lbs\n"
     ]
    }
   ],
   "source": [
    "bear = Elephant(\"Snuffy\",\"Green Elephant\", 22.5, \"elephant\")\n",
    "print(bear)"
   ]
  },
  {
   "cell_type": "code",
   "execution_count": 92,
   "id": "933dcfe2",
   "metadata": {},
   "outputs": [
    {
     "name": "stdout",
     "output_type": "stream",
     "text": [
      "Yogi Yogi is a bear of the Green Bear species, who makes a roar sound and has black fur\n",
      "Snuffy Snuffy is a elephant of the Green Elephant species who makes a trumpet sound and weighs 22.5lbs\n"
     ]
    }
   ],
   "source": [
    "bear.show_animals()"
   ]
  },
  {
   "cell_type": "code",
   "execution_count": 85,
   "id": "0900c218",
   "metadata": {},
   "outputs": [],
   "source": [
    "class Penguin(Animal):\n",
    "    def __init__(self, name: str, species: str, height: float, animal: str):\n",
    "        super().__init__(name, species)\n",
    "        self.animal = animal\n",
    "        self.height: str = height\n",
    "    \n",
    "    # This method returns the animals sound       \n",
    "    def make_sound(self) -> str:\n",
    "        return \"squawk\"\n",
    "    \n",
    "    # This method returns the animal info formatted\n",
    "    def info(self) -> str:\n",
    "        return \"\".join([\n",
    "            f\"{self.name} is a {self.animal} \",\n",
    "            f\"of the {self.species} species \",\n",
    "            f\"who makes a {self.make_sound()} sound \",\n",
    "            f\"and stands at a height of {self.height}ft\"\n",
    "        ]) "
   ]
  },
  {
   "cell_type": "code",
   "execution_count": 60,
   "id": "c03eef30",
   "metadata": {},
   "outputs": [],
   "source": []
  },
  {
   "cell_type": "code",
   "execution_count": 17,
   "id": "ffa4b31d",
   "metadata": {},
   "outputs": [
    {
     "name": "stdout",
     "output_type": "stream",
     "text": [
      "Name: jerry\n",
      "Species: rodent\n",
      "Sound: booooooo\n",
      "\n"
     ]
    }
   ],
   "source": [
    "print(rat)"
   ]
  },
  {
   "cell_type": "code",
   "execution_count": null,
   "id": "8420af6a",
   "metadata": {},
   "outputs": [],
   "source": []
  }
 ],
 "metadata": {
  "kernelspec": {
   "display_name": "Python 3 (ipykernel)",
   "language": "python",
   "name": "python3"
  },
  "language_info": {
   "codemirror_mode": {
    "name": "ipython",
    "version": 3
   },
   "file_extension": ".py",
   "mimetype": "text/x-python",
   "name": "python",
   "nbconvert_exporter": "python",
   "pygments_lexer": "ipython3",
   "version": "3.9.13"
  }
 },
 "nbformat": 4,
 "nbformat_minor": 5
}
