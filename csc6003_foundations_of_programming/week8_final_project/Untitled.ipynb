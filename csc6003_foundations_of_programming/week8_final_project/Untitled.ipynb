{
 "cells": [
  {
   "cell_type": "code",
   "execution_count": 1,
   "id": "71b26ffa",
   "metadata": {},
   "outputs": [
    {
     "data": {
      "text/plain": [
       "'\\nWork on bank class next\\n- (Still here)setup methods\\n    - Test the remove account method.\\nWork on utility class\\n- reuse soeme of your input methods from other projects.\\n- you already have a convert dollars function in accounts class, move it to utility\\n- you already have a number generator function in accounts class, move it to utility\\n\\n'"
      ]
     },
     "execution_count": 1,
     "metadata": {},
     "output_type": "execute_result"
    }
   ],
   "source": [
    "\"\"\"\n",
    "Work on bank class next\n",
    "- (Still here)setup methods\n",
    "    - Test the remove account method.\n",
    "Work on utility class\n",
    "- reuse soeme of your input methods from other projects.\n",
    "- you already have a convert dollars function in accounts class, move it to utility\n",
    "- you already have a number generator function in accounts class, move it to utility\n",
    "\n",
    "\"\"\""
   ]
  },
  {
   "cell_type": "code",
   "execution_count": 4,
   "id": "b7c5e111",
   "metadata": {},
   "outputs": [],
   "source": [
    "# Importing dependencies\n",
    "from typing import Union\n",
    "from typing import List\n",
    "from typing import Dict\n",
    "from typing import Optional\n",
    "from typing import Tuple\n",
    "import random"
   ]
  },
  {
   "cell_type": "code",
   "execution_count": 84,
   "id": "85e69096",
   "metadata": {},
   "outputs": [],
   "source": [
    "# Menu list\n",
    "banking_menu: List = [\n",
    "    \"1. Open an account\",\n",
    "    \"2. Get account information and balance\",\n",
    "    \"3. Change PIN\",\n",
    "    \"4. Deposit money in account\",\n",
    "    \"5. Transfer money between accounts\",\n",
    "    \"6. Withdraw money from account\",\n",
    "    \"7. ATM withdrawal\",\n",
    "   \" 8. Deposit change\",\n",
    "    \"9. Close an account\",\n",
    "    \"10. Add monthly interest to all accounts\",\n",
    "    \"11. End Program\"\n",
    "]"
   ]
  },
  {
   "cell_type": "code",
   "execution_count": 27,
   "id": "44d02148",
   "metadata": {},
   "outputs": [],
   "source": [
    "# ThiS class creates a bank account \n",
    "class Account:\n",
    "    # a set to hold used account numbers to stay uniqe\n",
    "    __used_account_numbers: set = set()\n",
    "    # a set to hold used pin numbers to stay unique\n",
    "    __used_pin_numbers: set = set()\n",
    "    def __init__(self):\n",
    "        self.__owner_first_name = None\n",
    "        self.__owner_last_name = None\n",
    "        self.__ssn: str = None\n",
    "        self.__balance: int = None\n",
    "        self.account_number: int = None\n",
    "        self.__pin: int = None\n",
    "        \n",
    "    # This method will allow us to compare an account object to a string.\n",
    "    def __eq__(self, other_account_number: str) -> bool:\n",
    "        if isinstance(other_account_number, Account):\n",
    "            if self.account_number == other_account_number.account_number:\n",
    "                return True\n",
    "        return False\n",
    "    \n",
    "    # returns the first name\n",
    "    def get_owner_first_name(self) -> str:\n",
    "        \"\"\"\n",
    "        Getter method that returns first name\n",
    "        \"\"\"\n",
    "        return self.__owner_first_name\n",
    "    \n",
    "    # updates the first name\n",
    "    def set_owner_first_name(self, first_name: str) -> bool:\n",
    "        \"\"\"\n",
    "        Setter method that updates first name\n",
    "        \"\"\"\n",
    "        # updating first name\n",
    "        self.__owner_first_name = first_name\n",
    "        # If update was not successful\n",
    "        if self.__owner_first_name != first_name:\n",
    "            return False\n",
    "        # If update was successful\n",
    "        return True\n",
    "    \n",
    "    # returns the last name\n",
    "    def get_owner_last_name(self) -> str:\n",
    "        \"\"\"\n",
    "        Getter method that returns last name\n",
    "        \"\"\"\n",
    "        return self.__owner_last_name\n",
    "    \n",
    "    # updates the last name\n",
    "    def set_owner_last_name(self, last_name: str) -> bool:\n",
    "        \"\"\"\n",
    "        Setter method that updates last name\n",
    "        \"\"\"\n",
    "        # updating name\n",
    "        self.__owner_last_name = last_name\n",
    "        # If update was not successful\n",
    "        if self.__owner_last_name != last_name:\n",
    "            return False\n",
    "        # If update was successful\n",
    "        return True\n",
    "        \n",
    "    # returns the SSN\n",
    "    def get_ssn(self) -> str:\n",
    "        \"\"\"\n",
    "        Getter method that returns ssn\n",
    "        \"\"\"\n",
    "        return self.__ssn\n",
    "    \n",
    "    # updates the ssn\n",
    "    def set_ssn(self, ssn: str) -> bool:\n",
    "        \"\"\"\n",
    "        Setter method that updates ssn\n",
    "        \"\"\"\n",
    "        # updating ssn\n",
    "        self.__ssn = ssn\n",
    "        # If update was not successful\n",
    "        if self.__ssn != ssn:\n",
    "            return False\n",
    "        # If update was successful\n",
    "        return True\n",
    "    \n",
    "    # returns the balance\n",
    "    def get_balance(self) -> int:\n",
    "        \"\"\"\n",
    "        Getter method that returns balance\n",
    "        \"\"\"\n",
    "        # Returning balance \n",
    "        return self.__balance\n",
    "    \n",
    "    # updates the balance\n",
    "    def set_balance(self, amount: str) -> bool:\n",
    "        \"\"\"\n",
    "        Setter method that updates balance\n",
    "        \"\"\"\n",
    "        # updating balance with amount \n",
    "        self.__balance = amount\n",
    "        # If update was not successful\n",
    "        if self.__balance != amount:\n",
    "            return False\n",
    "        # If update was successful\n",
    "        return True\n",
    "    \n",
    "    # returns the pin\n",
    "    def get_pin(self) -> int:\n",
    "        \"\"\"\n",
    "        Getter method that returns pin\n",
    "        \"\"\"\n",
    "        return self.__pin\n",
    "    \n",
    "    # updates the pin\n",
    "    def set_pin(self, pin: int) -> bool:\n",
    "        \"\"\"\n",
    "        Setter method that updates balance\n",
    "        \"\"\"\n",
    "        # updating pin\n",
    "        self.__pin = pin\n",
    "        # If update was not successful\n",
    "        if self.__pin != pin:\n",
    "            return False\n",
    "        # If update was successful\n",
    "        return True \n",
    "    \n",
    "    # returns the account number\n",
    "    def get_account_number(self) -> int:\n",
    "        \"\"\"\n",
    "        Getter method that returns account number\n",
    "        \"\"\"\n",
    "        return self.account_number\n",
    "    \n",
    "    # updates the account number\n",
    "    def set_account_number(self, account_number: int) -> bool:\n",
    "        \"\"\"\n",
    "        Setter method that updates account number\n",
    "        \"\"\"\n",
    "        # updating account number\n",
    "        self.account_number = account_number\n",
    "        # If update was not successful\n",
    "        if self.account_number != account_number:\n",
    "            return False\n",
    "        # If update was successful\n",
    "        return True \n",
    "                \n",
    "    # This method adds the deposit to the acc balance returns the updated amount\n",
    "    def deposit(self, amount: int) -> int:\n",
    "        \"\"\"\n",
    "        This method adds the entered amount to the present balance.<br>\n",
    "        It also returns the updated balance.\n",
    "        \"\"\"\n",
    "        # holding balance before change for comaprison\n",
    "        previous_balance = self.__balance\n",
    "        # Updating account balance with deposit amount\n",
    "        self.__balance += amount\n",
    "        # Checking if balance was updated\n",
    "        if self.__balance - amount == previous_balance:\n",
    "            # returning balance converted to dollars\n",
    "            return self.__balance\n",
    "        else:\n",
    "            return False\n",
    "    \n",
    "    # This method subtracts the amount from the balance and returns updated amount\n",
    "    def withdraw(self, amount: int) -> int:\n",
    "        \"\"\"\n",
    "        This mehtod subtracts the entered amount from the present balance.<br>\n",
    "        It also returns the updated balance.\n",
    "        \"\"\"\n",
    "        # holding balance before change for comaprison\n",
    "        previous_balance = self.__balance\n",
    "        # Updating the account with withdrawal\n",
    "        self.__balance -= amount\n",
    "        # Checking if balance was updated\n",
    "        if self.__balance + amount == previous_balance:\n",
    "            return self.__balance\n",
    "        else:\n",
    "            return False\n",
    "    \n",
    "    # This method checks if a pin is valid and returns a boolean output\n",
    "    def is_pin_valid(self, pin: str) -> bool:\n",
    "        \"\"\"\n",
    "        This method checks if a pin is valid and returns a boolean output.\n",
    "        \"\"\"\n",
    "        # checking if pin is valid\n",
    "        if self.__pin == pin:\n",
    "            return True\n",
    "        else:\n",
    "            return False\n",
    "        \n",
    "    # This method returns account information as a formatted string\n",
    "    def __tostring(self) -> str:\n",
    "        \"\"\"\n",
    "        This method returns account information as a formatted string.\n",
    "        \"\"\"\n",
    "        # converting cents to dollars\n",
    "        balance = self.__balance / 100\n",
    "        return (\n",
    "            f\"Account Number: {self.account_number}\\n\"\n",
    "            f\"Owner First Name: {self.__owner_first_name}\\n\"\n",
    "            f\"Owner Last Name: {self.__owner_last_name}\\n\"\n",
    "            f\"Owner SSN: xxx-xx-{self.__ssn[-4:]}\\n\"\n",
    "            f\"PIN: {self.__pin}\\n\"\n",
    "            f\"Balance: ${balance:.2f}\"\n",
    "        )\n",
    "\n",
    "    # Allows the print(object) to display the formatted output\n",
    "    def __repr__(self) -> str:\n",
    "        \"\"\"\n",
    "        Allowing the class to display readable format when printed\n",
    "        \"\"\"\n",
    "        return self.__tostring()\n",
    "        \n",
    "    \n",
    "        \n",
    "        \n",
    "        \n",
    "        \n",
    "        \n",
    "        "
   ]
  },
  {
   "cell_type": "code",
   "execution_count": 28,
   "id": "233b072b",
   "metadata": {},
   "outputs": [],
   "source": [
    "def test_accounts(first_name: str, last_name: str,balance: float, social: str):\n",
    "    ran_num = Account()\n",
    "    ran_num.set_owner_first_name(first_name)\n",
    "#     print(ran_num.get_owner_first_name())\n",
    "    ran_num.set_owner_last_name(last_name)\n",
    "#     print(ran_num.get_owner_last_name())\n",
    "    ran_num.set_ssn(social)\n",
    "#     print(ran_num.get_ssn())\n",
    "    ran_num.set_balance(balance)\n",
    "#     print(ran_num.get_balance())\n",
    "    ran_num.deposit(200.10)\n",
    "    ran_num.withdraw(50.02)\n",
    "#     print(ran_num.get_balance())\n",
    "#     print(ran_num)\n",
    "    return ran_num"
   ]
  },
  {
   "cell_type": "code",
   "execution_count": null,
   "id": "3d231337",
   "metadata": {},
   "outputs": [],
   "source": []
  },
  {
   "cell_type": "code",
   "execution_count": 29,
   "id": "0423a769",
   "metadata": {},
   "outputs": [],
   "source": [
    "def prompt_user_for_positive_umber(input_message):\n",
    "        while True:\n",
    "            try:\n",
    "                user_input: float = float(input(f\"{input_message}\\n:>\"))\n",
    "                # If input didnt trigger value error and \n",
    "                if user_input == int(user_input):\n",
    "                    return user_input\n",
    "                else:\n",
    "                    return user_input\n",
    "            except ValueError:\n",
    "                return \"not a number\""
   ]
  },
  {
   "cell_type": "code",
   "execution_count": 15,
   "id": "32cf36c2",
   "metadata": {},
   "outputs": [],
   "source": [
    "# money = prompt_user_for_positive_umber(\"enter some money\")"
   ]
  },
  {
   "cell_type": "code",
   "execution_count": 16,
   "id": "e513a63a",
   "metadata": {},
   "outputs": [],
   "source": [
    "# print(money)"
   ]
  },
  {
   "cell_type": "code",
   "execution_count": null,
   "id": "ee8e1125",
   "metadata": {},
   "outputs": [],
   "source": []
  },
  {
   "cell_type": "code",
   "execution_count": 30,
   "id": "3687d5f4",
   "metadata": {},
   "outputs": [],
   "source": [
    "def create_account_object():\n",
    "    account_object = Account()\n",
    "    return account_object"
   ]
  },
  {
   "cell_type": "code",
   "execution_count": 31,
   "id": "fa819cb9",
   "metadata": {},
   "outputs": [],
   "source": [
    "test_users = [[\"Shaun\", \"Clarke\", 250, \"000291234\"],[\"Jerry\", \"West\", 210, \"000292654\"],[\"Kat\", \"Clarke\", 225.00, \"000297852\"]]"
   ]
  },
  {
   "cell_type": "code",
   "execution_count": 32,
   "id": "120aa139",
   "metadata": {},
   "outputs": [
    {
     "name": "stdout",
     "output_type": "stream",
     "text": [
      "Account Number: 12345672\n",
      "Owner First Name: Shaun\n",
      "Owner Last Name: Clarke\n",
      "Owner SSN: xxx-xx-1234\n",
      "PIN: 1232\n",
      "Balance: $2.50\n",
      "\n",
      "\n",
      "Account Number: 12345673\n",
      "Owner First Name: Jerry\n",
      "Owner Last Name: West\n",
      "Owner SSN: xxx-xx-2654\n",
      "PIN: 1233\n",
      "Balance: $2.10\n",
      "\n",
      "\n",
      "Account Number: 12345674\n",
      "Owner First Name: Kat\n",
      "Owner Last Name: Clarke\n",
      "Owner SSN: xxx-xx-7852\n",
      "PIN: 1234\n",
      "Balance: $2.25\n",
      "\n",
      "\n",
      "This is counter: 3\n"
     ]
    }
   ],
   "source": [
    "counter = 0\n",
    "account_counter = 0\n",
    "user_objects = []\n",
    "for user in test_users:\n",
    "    # creating account emoty object\n",
    "    account_object = create_account_object()\n",
    "    \n",
    "    account_counter += 1\n",
    "    first_name = account_object.set_owner_first_name(user[0])\n",
    "    last_name = account_object.set_owner_last_name(user[1])\n",
    "    balance = account_object.set_balance(user[2])\n",
    "    ssn = account_object.set_ssn(user[3])\n",
    "    account_num = 12345671+account_counter\n",
    "    account_number = account_object.set_account_number(12345671+account_counter)\n",
    "    pin_num =1231+account_counter\n",
    "    pin = account_object.set_pin(pin_num)\n",
    "\n",
    "    user_objects.append(account_object)\n",
    "    print(account_object)\n",
    "    counter +=1\n",
    "    print(\"\\n\")\n",
    "print(f\"This is counter: {counter}\")"
   ]
  },
  {
   "cell_type": "code",
   "execution_count": 129,
   "id": "0137e42e",
   "metadata": {},
   "outputs": [
    {
     "name": "stdout",
     "output_type": "stream",
     "text": [
      "Shaun\n",
      "Clarke\n",
      "12345672\n",
      "1232\n",
      "250\n",
      "000291234\n"
     ]
    }
   ],
   "source": [
    "print(user_objects[0].get_owner_first_name())\n",
    "print(user_objects[0].get_owner_last_name())\n",
    "print(user_objects[0].get_account_number())\n",
    "print(user_objects[0].get_pin())\n",
    "print(user_objects[0].get_balance())\n",
    "print(user_objects[0].get_ssn())"
   ]
  },
  {
   "cell_type": "code",
   "execution_count": 20,
   "id": "84f56788",
   "metadata": {},
   "outputs": [],
   "source": [
    "user1 = user_objects[0]\n",
    "user2= user_objects[1]\n",
    "user3= user_objects[2]\n"
   ]
  },
  {
   "cell_type": "code",
   "execution_count": 21,
   "id": "72176107",
   "metadata": {},
   "outputs": [
    {
     "name": "stdout",
     "output_type": "stream",
     "text": [
      "Account Number: 12345673\n",
      "Owner First Name: Jerry\n",
      "Owner Last Name: West\n",
      "Owner SSN: xxx-xx-2654\n",
      "PIN: 1233\n",
      "Balance: $2.10\n"
     ]
    }
   ],
   "source": [
    "print(user2)"
   ]
  },
  {
   "cell_type": "code",
   "execution_count": 33,
   "id": "0a278da3",
   "metadata": {},
   "outputs": [],
   "source": [
    "# This class mimics some of the basic functions of a bank\n",
    "class Bank:\n",
    "#     # List to hold all bank accounts\n",
    "#     __accounts = []\n",
    "#     # Variable for total allowed bank accounts\n",
    "#     __total_accounts = 0\n",
    "    def __init__(self):\n",
    "        self.__class__.__accounts = []\n",
    "        self.__class__.__total_accounts = 0\n",
    "    \n",
    "    # This method checks if an account is already in accounts\n",
    "    def __does_account_exist(self, account: Account) -> bool:\n",
    "        \"\"\"\n",
    "        This method checks if an account is already in accounts.\n",
    "        \"\"\"\n",
    "        # Checking for duplicates\n",
    "        for acc in self.__class__.__accounts:\n",
    "            if acc == account:\n",
    "                return True\n",
    "        return False\n",
    "    \n",
    "    # This method adds the Account object to the bank\n",
    "    def add_account_to_bank(self, account: Account) -> Union[bool,str]:\n",
    "        \"\"\"\n",
    "        This method adds an account object to the accounts list.<br>\n",
    "        It also make sure they are no duplicates and only allows 100 accounts.\n",
    "        \"\"\"\n",
    "        # Checking if we reached account limit\n",
    "        if self.__class__.__total_accounts == 2:\n",
    "            print(f\"No more accounts available\")\n",
    "            return False\n",
    "        # Checking for duplicates\n",
    "        if self.__does_account_exist(account):\n",
    "            return f\"account already exists\"\n",
    "        # Adding account to bank if they are no duplicates\n",
    "        self.__class__.__accounts.append(account)\n",
    "        #updating total accounts count by adding 1 to represent a new account\n",
    "        self.__class__.__total_accounts += 1\n",
    "        print(f\"total after adding account: {self.__class__.__total_accounts}\")\n",
    "        return True\n",
    "        \n",
    "    # This method removes an account object from the accounts list\n",
    "    def remove_account_from_bank(self, account: Account) -> bool:\n",
    "        \"\"\"\n",
    "        This method allows us to remnove an account from the account list\n",
    "        \"\"\"\n",
    "        # checking each account in the list\n",
    "        for index,acc in enumerate(self.__class__.__accounts):\n",
    "            if acc is not None:\n",
    "                # if we have a match\n",
    "                if acc == account:\n",
    "                    # replace the account with None\n",
    "                    self.__class__.__accounts[index] = None\n",
    "                    #updating total accounts count by subtracting 1 to represent closing an account\n",
    "                    self.__class__.__total_accounts -= 1\n",
    "                    print(f\"total after removing account: {self.__class__.__total_accounts}\")\n",
    "                    return True\n",
    "        # return false if account doesnt exist\n",
    "        return False\n",
    "    \n",
    "    # This method finds the specified account and return it\n",
    "    def find_account(self, account_number: int) -> Account:\n",
    "        # checking each account in the list\n",
    "        for acc in self.__class__.__accounts:\n",
    "            if acc is not None:\n",
    "                # If there is an account number match, return the account\n",
    "                if acc.get_account_number() == account_number:\n",
    "                    return acc\n",
    "        # Return false if the account was not found\n",
    "        return False\n",
    "    \n",
    "    # This method adds a monthly interest to all accounts using a submitted rate\n",
    "    def add_monthly_interest(self, interest_rate: float) -> bool:\n",
    "        # checking each account\n",
    "        for acc in self.__class__.__accounts:\n",
    "            if acc is not None:\n",
    "                print(f\"This is {acc.get_owner_first_name()} balance: {acc.get_balance()}\")\n",
    "                # getting present balance\n",
    "                balance = float(acc.get_balance())\n",
    "                # Creating interest rate amount\n",
    "                interest = balance * (interest_rate/100)\n",
    "                # depositing balance to account\n",
    "                acc.deposit(interest)\n",
    "        \n",
    "                \n",
    "        "
   ]
  },
  {
   "cell_type": "code",
   "execution_count": 34,
   "id": "580e8558",
   "metadata": {},
   "outputs": [],
   "source": [
    "user1 = user_objects[0]\n",
    "user2= user_objects[1]\n",
    "user3= user_objects[2]\n",
    "# bank.add_account_to_bank(user1)"
   ]
  },
  {
   "cell_type": "code",
   "execution_count": 35,
   "id": "c629864b",
   "metadata": {},
   "outputs": [],
   "source": [
    "bank = Bank()"
   ]
  },
  {
   "cell_type": "code",
   "execution_count": 38,
   "id": "f889083b",
   "metadata": {},
   "outputs": [
    {
     "data": {
      "text/plain": [
       "Account Number: 12345673\n",
       "Owner First Name: Jerry\n",
       "Owner Last Name: West\n",
       "Owner SSN: xxx-xx-2654\n",
       "PIN: 1233\n",
       "Balance: $2.10"
      ]
     },
     "execution_count": 38,
     "metadata": {},
     "output_type": "execute_result"
    }
   ],
   "source": [
    "bank.find_account(12345673)"
   ]
  },
  {
   "cell_type": "code",
   "execution_count": 37,
   "id": "9cc11443",
   "metadata": {
    "scrolled": false
   },
   "outputs": [
    {
     "name": "stdout",
     "output_type": "stream",
     "text": [
      "total after adding account: 1\n",
      "True\n",
      "Account Number: 12345672\n",
      "Owner First Name: Shaun\n",
      "Owner Last Name: Clarke\n",
      "Owner SSN: xxx-xx-1234\n",
      "PIN: 1232\n",
      "Balance: $2.50\n",
      "total after adding account: 2\n",
      "True\n",
      "Account Number: 12345673\n",
      "Owner First Name: Jerry\n",
      "Owner Last Name: West\n",
      "Owner SSN: xxx-xx-2654\n",
      "PIN: 1233\n",
      "Balance: $2.10\n"
     ]
    }
   ],
   "source": [
    "for account in user_objects[:2]:\n",
    "    print(bank.add_account_to_bank(account))\n",
    "    print(account)"
   ]
  },
  {
   "cell_type": "code",
   "execution_count": 41,
   "id": "f7be8d8b",
   "metadata": {},
   "outputs": [
    {
     "name": "stdout",
     "output_type": "stream",
     "text": [
      "yes\n"
     ]
    }
   ],
   "source": [
    "if not bank.find_account(1234567233):\n",
    "    print(\"yes\")\n",
    "else:\n",
    "    print(\"No\")"
   ]
  },
  {
   "cell_type": "code",
   "execution_count": 146,
   "id": "55191f17",
   "metadata": {},
   "outputs": [
    {
     "data": {
      "text/plain": [
       "'Shaun'"
      ]
     },
     "execution_count": 146,
     "metadata": {},
     "output_type": "execute_result"
    }
   ],
   "source": [
    "account1 = bank.find_account(12345672)\n",
    "account1.get_owner_first_name()"
   ]
  },
  {
   "cell_type": "code",
   "execution_count": 147,
   "id": "d6fb2696",
   "metadata": {},
   "outputs": [
    {
     "name": "stdout",
     "output_type": "stream",
     "text": [
      "total after removing account: 1\n"
     ]
    },
    {
     "data": {
      "text/plain": [
       "True"
      ]
     },
     "execution_count": 147,
     "metadata": {},
     "output_type": "execute_result"
    }
   ],
   "source": [
    "bank.remove_account_from_bank(account1)"
   ]
  },
  {
   "cell_type": "code",
   "execution_count": 148,
   "id": "d718d1b2",
   "metadata": {},
   "outputs": [
    {
     "name": "stdout",
     "output_type": "stream",
     "text": [
      "total after adding account: 2\n"
     ]
    },
    {
     "data": {
      "text/plain": [
       "True"
      ]
     },
     "execution_count": 148,
     "metadata": {},
     "output_type": "execute_result"
    }
   ],
   "source": [
    "bank.add_account_to_bank(user_objects[-1])"
   ]
  },
  {
   "cell_type": "code",
   "execution_count": 149,
   "id": "e5e7084f",
   "metadata": {},
   "outputs": [
    {
     "name": "stdout",
     "output_type": "stream",
     "text": [
      "This is Jerry balance: 210\n",
      "This is Kat balance: 225.0\n"
     ]
    }
   ],
   "source": [
    "bank.add_monthly_interest(2.5)"
   ]
  },
  {
   "cell_type": "code",
   "execution_count": 150,
   "id": "a5f255ee",
   "metadata": {},
   "outputs": [],
   "source": [
    "# This class is like a swiss army knife with methods that carry out bank actions\n",
    "class BankUtility:\n",
    "    # a set to hold used generated numbers\n",
    "    __used_numbers: set = set()\n",
    "    \n",
    "    # Gets user strin ginput\n",
    "    def get_string_input(self, input_message: str) -> str:\n",
    "        while True:\n",
    "            try:\n",
    "                user_input: str = input(f\"{input_message}\\n:>\").lower().strip()\n",
    "                if not user_input:\n",
    "                    raise ValueError(f\"Input cannot be empty.\")\n",
    "                return user_input\n",
    "            except ValueError as err:\n",
    "                print(err)\n",
    "                \n",
    "    # Get user number input\n",
    "    def prompt_user_for_positive_umber(self, input_message: str) -> Union[float, str]:\n",
    "        \"\"\"\n",
    "        This method asks the user to enter a number and returns it.\n",
    "        If they enter a string it asks the user to try again\n",
    "        \"\"\"\n",
    "        while True:\n",
    "            try:\n",
    "                user_input: float = float(input(f\"{input_message}\\n:>\"))\n",
    "                # If input didnt trigger value error and \n",
    "                if user_input == int(user_input):\n",
    "                    return user_input\n",
    "                else:\n",
    "                    return user_input\n",
    "            except ValueError:\n",
    "                print(\"\\nPlease try again\\n\")\n",
    "    \n",
    "    # Generates a uniqe 8 or 4 digit numbr that does not start with 0.\n",
    "    def number_generator(self,minimum: int, maximum: int) -> int:\n",
    "        \"\"\"\n",
    "        This method generates a unique 8 or 4 digit number.<br>\n",
    "        The 8 digit number is used as an account number.<br>\n",
    "        The 4 digit number is used as a pin bumber.\n",
    "        \"\"\"\n",
    "        while True:\n",
    "            # loop until a uniqe 8 or 4 digit number is selected\n",
    "            number: int = random.randint(minimum, maximum)\n",
    "            # check if number already used or if it starts with 0\n",
    "            if number not in self.__class__.__used_numbers and str(number)[0] != \"0\":\n",
    "                # add number to set\n",
    "                self.__class__.__used_numbers.add(number)\n",
    "                return number\n",
    "        \n",
    "    \n",
    "    # This method converts dollars to cents and back\n",
    "    def convert_dollars_and_cents(self, amount: int, switch: bool = False) -> int:\n",
    "        \"\"\"\n",
    "        This method uses a switch to convert dollars to cents.<br>\n",
    "        Swtich set to default False which converts dollars to cents.<br>\n",
    "        If switch is set to True convert cents to dollars.\n",
    "        \"\"\"\n",
    "        # Convert dollars to cents\n",
    "        cents: int = int(round(amount * 100))\n",
    "        return cents\n"
   ]
  },
  {
   "cell_type": "code",
   "execution_count": 151,
   "id": "4dc4fb2f",
   "metadata": {},
   "outputs": [],
   "source": [
    "user1 = Account()\n",
    "user2 = Account()\n",
    "user3 = Account()\n",
    "users = [user1,user2,user3]"
   ]
  },
  {
   "cell_type": "code",
   "execution_count": 10,
   "id": "7f3f94fd",
   "metadata": {},
   "outputs": [],
   "source": [
    "bank = Bank()"
   ]
  },
  {
   "cell_type": "code",
   "execution_count": 153,
   "id": "9b165382",
   "metadata": {},
   "outputs": [],
   "source": [
    "bank_utility = BankUtility()"
   ]
  },
  {
   "cell_type": "code",
   "execution_count": 154,
   "id": "2a17d120",
   "metadata": {},
   "outputs": [],
   "source": [
    "def create_accounts():\n",
    "    for user in users:\n",
    "        first_name = bank_utility.get_string_input(\"Enter First Name\")\n",
    "        user.set_owner_first_name(first_name)\n",
    "        \n",
    "        last_name = bank_utility.get_string_input(\"Enter Last Name\")\n",
    "        user.set_owner_last_name(last_name)\n",
    "        \n",
    "        account_num = bank_utility.number_generator(20000000, 99999999)\n",
    "        user.set_account_number(account_num)\n",
    "        \n",
    "        pin_num = bank_utility.number_generator(2000,9999)\n",
    "        user.set_pin(pin_num)\n",
    "        \n",
    "        ssn_num = bank_utility.get_string_input(\"Enter your SSN\")\n",
    "        user.set_ssn(ssn_num)\n",
    "        \n",
    "        balance = bank_utility.prompt_user_for_positive_umber(\"Enter starting balance\")\n",
    "        balance = bank_utility.convert_dollars_and_cents(balance)\n",
    "        user.set_balance(balance)\n",
    "        \n",
    "        bank.add_account_to_bank(user)\n",
    "        print(user)\n"
   ]
  },
  {
   "cell_type": "code",
   "execution_count": 156,
   "id": "abf9f3a7",
   "metadata": {},
   "outputs": [],
   "source": [
    "create_accounts()"
   ]
  },
  {
   "cell_type": "code",
   "execution_count": 113,
   "id": "9b7247f5",
   "metadata": {},
   "outputs": [
    {
     "name": "stdout",
     "output_type": "stream",
     "text": [
      "Account Number: 74933574\n",
      "Owner First Name: shaun\n",
      "Owner Last Name: clarke\n",
      "Owner SSN: xxx-xx-3456\n",
      "PIN: 9084\n",
      "Balance: $216.42\n",
      "\n",
      "Account Number: 65024018\n",
      "Owner First Name: kat\n",
      "Owner Last Name: clarke\n",
      "Owner SSN: xxx-xx-6789\n",
      "PIN: 5645\n",
      "Balance: $244.19\n",
      "\n",
      "Account Number: 75312789\n",
      "Owner First Name: colby\n",
      "Owner Last Name: smoulders\n",
      "Owner SSN: xxx-xx-9876\n",
      "PIN: 2738\n",
      "Balance: $918.04\n",
      "\n"
     ]
    }
   ],
   "source": [
    "for user in users:\n",
    "    print(f\"{user}\\n\")\n",
    "    "
   ]
  },
  {
   "cell_type": "code",
   "execution_count": 109,
   "id": "1d314e88",
   "metadata": {},
   "outputs": [
    {
     "name": "stdout",
     "output_type": "stream",
     "text": [
      "This is shaun balance: 20910.35\n",
      "This is colby balance: 88700\n"
     ]
    }
   ],
   "source": [
    "bank.add_monthly_interest(3.5)"
   ]
  },
  {
   "cell_type": "code",
   "execution_count": 102,
   "id": "51f48c69",
   "metadata": {},
   "outputs": [
    {
     "data": {
      "text/plain": [
       "118700"
      ]
     },
     "execution_count": 102,
     "metadata": {},
     "output_type": "execute_result"
    }
   ],
   "source": [
    "amount = bank_utility.convert_dollars_and_cents(200)\n",
    "user3.deposit(amount)"
   ]
  },
  {
   "cell_type": "code",
   "execution_count": 104,
   "id": "f2538e50",
   "metadata": {},
   "outputs": [
    {
     "data": {
      "text/plain": [
       "88700"
      ]
     },
     "execution_count": 104,
     "metadata": {},
     "output_type": "execute_result"
    }
   ],
   "source": [
    "amount = bank_utility.convert_dollars_and_cents(300)\n",
    "user3.withdraw(amount)"
   ]
  },
  {
   "cell_type": "code",
   "execution_count": 110,
   "id": "61fa3e07",
   "metadata": {},
   "outputs": [
    {
     "name": "stdout",
     "output_type": "stream",
     "text": [
      "total after removing account: 1\n"
     ]
    },
    {
     "data": {
      "text/plain": [
       "True"
      ]
     },
     "execution_count": 110,
     "metadata": {},
     "output_type": "execute_result"
    }
   ],
   "source": [
    "bank.remove_account_from_bank(user3)"
   ]
  },
  {
   "cell_type": "code",
   "execution_count": 112,
   "id": "f060be22",
   "metadata": {},
   "outputs": [
    {
     "name": "stdout",
     "output_type": "stream",
     "text": [
      "total after adding account: 2\n"
     ]
    },
    {
     "data": {
      "text/plain": [
       "True"
      ]
     },
     "execution_count": 112,
     "metadata": {},
     "output_type": "execute_result"
    }
   ],
   "source": [
    "bank.add_account_to_bank(user2)"
   ]
  },
  {
   "cell_type": "code",
   "execution_count": 116,
   "id": "5db07150",
   "metadata": {},
   "outputs": [
    {
     "data": {
      "text/plain": [
       "'kat'"
      ]
     },
     "execution_count": 116,
     "metadata": {},
     "output_type": "execute_result"
    }
   ],
   "source": [
    "bank.find_account(65024018).get_owner_first_name()"
   ]
  },
  {
   "cell_type": "code",
   "execution_count": 183,
   "id": "e7227797",
   "metadata": {},
   "outputs": [],
   "source": [
    "# This class mimics a coin counter machine\n",
    "class CoinCollector:\n",
    "    # constructor so you cannot instantiate this class\n",
    "    def __init__(self):\n",
    "        raise TypeError(\"You cannot instantiate this class.\")\n",
    "        \n",
    "    # Making parse change a static method since it does not use anything in the class\n",
    "    @staticmethod\n",
    "    def parseChange(coins: str) -> Tuple[int, List]:\n",
    "        # dictionary to hold change conversion map\n",
    "        coin_values: dict = {\n",
    "            \"p\": 1,\n",
    "            \"n\": 5,\n",
    "            \"d\": 10,\n",
    "            \"q\": 25,\n",
    "            \"h\": 50,\n",
    "            \"w\": 100,\n",
    "        }\n",
    "        # tracking invalid coins\n",
    "        invalid_coins: List = []\n",
    "        # coin counter\n",
    "        coin_counter: int = 0\n",
    "        # splitting string into list\n",
    "        coins: list = list(coins)\n",
    "        # calculating coin total\n",
    "        for coin in coins:\n",
    "            # If coin is invalid, add it to invalid list other wise count it\n",
    "            if coin not in coin_values:\n",
    "                # ad invalid coin to list\n",
    "                invalid_coins.append(coin)\n",
    "            else:\n",
    "                # counting coins\n",
    "                coin_counter += coin_values[coin]\n",
    "        return coin_counter, invalid_coins\n",
    "       "
   ]
  },
  {
   "cell_type": "code",
   "execution_count": 187,
   "id": "a691c5f9",
   "metadata": {},
   "outputs": [
    {
     "name": "stdout",
     "output_type": "stream",
     "text": [
      "136 ['l']\n"
     ]
    }
   ],
   "source": [
    "total, invalid_coins = CoinCollector.parseChange(\"plwqd\")\n",
    "print(total, invalid_coins)"
   ]
  },
  {
   "cell_type": "code",
   "execution_count": 165,
   "id": "5aa0451e",
   "metadata": {},
   "outputs": [],
   "source": [
    " coin_values: dict = {\n",
    "            \"p\": 1,\n",
    "            \"n\": 5,\n",
    "            \"d\": 10,\n",
    "            \"q\": 25,\n",
    "            \"h\": 50,\n",
    "            \"w\": 100,\n",
    "        }"
   ]
  },
  {
   "cell_type": "code",
   "execution_count": 166,
   "id": "3818ad67",
   "metadata": {},
   "outputs": [
    {
     "data": {
      "text/plain": [
       "1"
      ]
     },
     "execution_count": 166,
     "metadata": {},
     "output_type": "execute_result"
    }
   ],
   "source": [
    "coin_values[\"p\"]"
   ]
  },
  {
   "cell_type": "code",
   "execution_count": 189,
   "id": "c3e40bcf",
   "metadata": {},
   "outputs": [],
   "source": [
    "# BankManager class is where the action happens\n",
    "class BankManager:\n",
    "    def __init__(self, bank_object: Bank, bank_util_object: BankUtility, account_object: Account):\n",
    "        self.bank_object = bank_object\n",
    "        self.bank_util_object = bank_util_object\n",
    "        self.account_object = account_object\n",
    "        \n",
    "    # This method prompt the user to enter an account number then pin\n",
    "    def prompt_for_account_and_pin(self, bank_object: Bank) -> Union[Account,str]:\n",
    "        while True:\n",
    "            try:\n",
    "                user_input: int = int(input(f\"\\nPlease enter your account number.\\n:>\"))\n",
    "                if bank.get_account_number()\n",
    "            except ValueError:\n",
    "                print(\"\\nPlease try again entering number sonly.\\n\")\n",
    "        \n",
    "        \n",
    "    \n",
    "    \n",
    "    "
   ]
  },
  {
   "cell_type": "code",
   "execution_count": 8,
   "id": "f4b85ea0",
   "metadata": {},
   "outputs": [],
   "source": [
    "nums = 12345678"
   ]
  },
  {
   "cell_type": "code",
   "execution_count": 9,
   "id": "f565ed7f",
   "metadata": {},
   "outputs": [
    {
     "data": {
      "text/plain": [
       "8"
      ]
     },
     "execution_count": 9,
     "metadata": {},
     "output_type": "execute_result"
    }
   ],
   "source": [
    "len(str(nums))"
   ]
  },
  {
   "cell_type": "code",
   "execution_count": null,
   "id": "85c9c753",
   "metadata": {},
   "outputs": [],
   "source": []
  }
 ],
 "metadata": {
  "kernelspec": {
   "display_name": "Python 3 (ipykernel)",
   "language": "python",
   "name": "python3"
  },
  "language_info": {
   "codemirror_mode": {
    "name": "ipython",
    "version": 3
   },
   "file_extension": ".py",
   "mimetype": "text/x-python",
   "name": "python",
   "nbconvert_exporter": "python",
   "pygments_lexer": "ipython3",
   "version": "3.9.13"
  }
 },
 "nbformat": 4,
 "nbformat_minor": 5
}
