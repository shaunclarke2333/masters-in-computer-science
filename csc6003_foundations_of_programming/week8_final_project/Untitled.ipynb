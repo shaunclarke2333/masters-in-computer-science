{
 "cells": [
  {
   "cell_type": "code",
   "execution_count": 1,
   "id": "c0b2c3a7",
   "metadata": {},
   "outputs": [
    {
     "data": {
      "text/plain": [
       "'\\nWork on bank class next\\n- (Still here)setup methods\\n    - Test the remove account method.\\nWork on utility class\\n- reuse soeme of your input methods from other projects.\\n- you already have a convert dollars function in accounts class, move it to utility\\n- you already have a number generator function in accounts class, move it to utility\\n\\n'"
      ]
     },
     "execution_count": 1,
     "metadata": {},
     "output_type": "execute_result"
    }
   ],
   "source": [
    "\"\"\"\n",
    "Work on bank class next\n",
    "- (Still here)setup methods\n",
    "    - Test the remove account method.\n",
    "Work on utility class\n",
    "- reuse soeme of your input methods from other projects.\n",
    "- you already have a convert dollars function in accounts class, move it to utility\n",
    "- you already have a number generator function in accounts class, move it to utility\n",
    "\n",
    "\"\"\""
   ]
  },
  {
   "cell_type": "code",
   "execution_count": 4,
   "id": "d42105dd",
   "metadata": {},
   "outputs": [],
   "source": [
    "# Importing dependencies\n",
    "from typing import Union\n",
    "from typing import List\n",
    "from typing import Dict\n",
    "from typing import Optional\n",
    "from typing import Tuple\n",
    "import random"
   ]
  },
  {
   "cell_type": "code",
   "execution_count": 45,
   "id": "e5bcd0d2",
   "metadata": {},
   "outputs": [],
   "source": [
    "# Menu list\n",
    "banking_menu: List = [\n",
    "    \"1. Open an account\",\n",
    "    \"2. Get account information and balance\",\n",
    "    \"3. Change PIN\",\n",
    "    \"4. Deposit money in account\",\n",
    "    \"5. Transfer money between accounts\",\n",
    "    \"6. Withdraw money from account\",\n",
    "    \"7. ATM withdrawal\",\n",
    "   \" 8. Deposit change\",\n",
    "    \"9. Close an account\",\n",
    "    \"10. Add monthly interest to all accounts\",\n",
    "    \"11. End Program\"\n",
    "]"
   ]
  },
  {
   "cell_type": "code",
   "execution_count": 27,
   "id": "a993320e",
   "metadata": {},
   "outputs": [],
   "source": [
    "# ThiS class creates a bank account \n",
    "class Account:\n",
    "    # a set to hold used account numbers to stay uniqe\n",
    "    __used_account_numbers: set = set()\n",
    "    # a set to hold used pin numbers to stay unique\n",
    "    __used_pin_numbers: set = set()\n",
    "    def __init__(self):\n",
    "        self.__owner_first_name = None\n",
    "        self.__owner_last_name = None\n",
    "        self.__ssn: str = None\n",
    "        self.__balance: int = None\n",
    "        self.account_number: int = None\n",
    "        self.__pin: int = None\n",
    "        \n",
    "    # This method will allow us to compare an account object to a string.\n",
    "    def __eq__(self, other_account_number: str) -> bool:\n",
    "        if isinstance(other_account_number, Account):\n",
    "            if self.account_number == other_account_number.account_number:\n",
    "                return True\n",
    "        return False\n",
    "    \n",
    "    # returns the first name\n",
    "    def get_owner_first_name(self) -> str:\n",
    "        \"\"\"\n",
    "        Getter method that returns first name\n",
    "        \"\"\"\n",
    "        return self.__owner_first_name\n",
    "    \n",
    "    # updates the first name\n",
    "    def set_owner_first_name(self, first_name: str) -> bool:\n",
    "        \"\"\"\n",
    "        Setter method that updates first name\n",
    "        \"\"\"\n",
    "        # updating first name\n",
    "        self.__owner_first_name = first_name\n",
    "        # If update was not successful\n",
    "        if self.__owner_first_name != first_name:\n",
    "            return False\n",
    "        # If update was successful\n",
    "        return True\n",
    "    \n",
    "    # returns the last name\n",
    "    def get_owner_last_name(self) -> str:\n",
    "        \"\"\"\n",
    "        Getter method that returns last name\n",
    "        \"\"\"\n",
    "        return self.__owner_last_name\n",
    "    \n",
    "    # updates the last name\n",
    "    def set_owner_last_name(self, last_name: str) -> bool:\n",
    "        \"\"\"\n",
    "        Setter method that updates last name\n",
    "        \"\"\"\n",
    "        # updating name\n",
    "        self.__owner_last_name = last_name\n",
    "        # If update was not successful\n",
    "        if self.__owner_last_name != last_name:\n",
    "            return False\n",
    "        # If update was successful\n",
    "        return True\n",
    "        \n",
    "    # returns the SSN\n",
    "    def get_ssn(self) -> str:\n",
    "        \"\"\"\n",
    "        Getter method that returns ssn\n",
    "        \"\"\"\n",
    "        return self.__ssn\n",
    "    \n",
    "    # updates the ssn\n",
    "    def set_ssn(self, ssn: str) -> bool:\n",
    "        \"\"\"\n",
    "        Setter method that updates ssn\n",
    "        \"\"\"\n",
    "        # updating ssn\n",
    "        self.__ssn = ssn\n",
    "        # If update was not successful\n",
    "        if self.__ssn != ssn:\n",
    "            return False\n",
    "        # If update was successful\n",
    "        return True\n",
    "    \n",
    "    # returns the balance\n",
    "    def get_balance(self) -> int:\n",
    "        \"\"\"\n",
    "        Getter method that returns balance\n",
    "        \"\"\"\n",
    "        # Returning balance \n",
    "        return self.__balance\n",
    "    \n",
    "    # updates the balance\n",
    "    def set_balance(self, amount: str) -> bool:\n",
    "        \"\"\"\n",
    "        Setter method that updates balance\n",
    "        \"\"\"\n",
    "        # updating balance with amount \n",
    "        self.__balance = amount\n",
    "        # If update was not successful\n",
    "        if self.__balance != amount:\n",
    "            return False\n",
    "        # If update was successful\n",
    "        return True\n",
    "    \n",
    "    # returns the pin\n",
    "    def get_pin(self) -> int:\n",
    "        \"\"\"\n",
    "        Getter method that returns pin\n",
    "        \"\"\"\n",
    "        return self.__pin\n",
    "    \n",
    "    # updates the pin\n",
    "    def set_pin(self, pin: int) -> bool:\n",
    "        \"\"\"\n",
    "        Setter method that updates balance\n",
    "        \"\"\"\n",
    "        # updating pin\n",
    "        self.__pin = pin\n",
    "        # If update was not successful\n",
    "        if self.__pin != pin:\n",
    "            return False\n",
    "        # If update was successful\n",
    "        return True \n",
    "    \n",
    "    # returns the account number\n",
    "    def get_account_number(self) -> int:\n",
    "        \"\"\"\n",
    "        Getter method that returns account number\n",
    "        \"\"\"\n",
    "        return self.account_number\n",
    "    \n",
    "    # updates the account number\n",
    "    def set_account_number(self, account_number: int) -> bool:\n",
    "        \"\"\"\n",
    "        Setter method that updates account number\n",
    "        \"\"\"\n",
    "        # updating account number\n",
    "        self.account_number = account_number\n",
    "        # If update was not successful\n",
    "        if self.account_number != account_number:\n",
    "            return False\n",
    "        # If update was successful\n",
    "        return True \n",
    "                \n",
    "    # This method adds the deposit to the acc balance returns the updated amount\n",
    "    def deposit(self, amount: int) -> int:\n",
    "        \"\"\"\n",
    "        This method adds the entered amount to the present balance.<br>\n",
    "        It also returns the updated balance.\n",
    "        \"\"\"\n",
    "        # holding balance before change for comaprison\n",
    "        previous_balance = self.__balance\n",
    "        # Updating account balance with deposit amount\n",
    "        self.__balance += amount\n",
    "        # Checking if balance was updated\n",
    "        if self.__balance - amount == previous_balance:\n",
    "            # returning balance converted to dollars\n",
    "            return self.__balance\n",
    "        else:\n",
    "            return False\n",
    "    \n",
    "    # This method subtracts the amount from the balance and returns updated amount\n",
    "    def withdraw(self, amount: int) -> int:\n",
    "        \"\"\"\n",
    "        This mehtod subtracts the entered amount from the present balance.<br>\n",
    "        It also returns the updated balance.\n",
    "        \"\"\"\n",
    "        # holding balance before change for comaprison\n",
    "        previous_balance = self.__balance\n",
    "        # Updating the account with withdrawal\n",
    "        self.__balance -= amount\n",
    "        # Checking if balance was updated\n",
    "        if self.__balance + amount == previous_balance:\n",
    "            return self.__balance\n",
    "        else:\n",
    "            return False\n",
    "    \n",
    "    # This method checks if a pin is valid and returns a boolean output\n",
    "    def is_pin_valid(self, pin: str) -> bool:\n",
    "        \"\"\"\n",
    "        This method checks if a pin is valid and returns a boolean output.\n",
    "        \"\"\"\n",
    "        # checking if pin is valid\n",
    "        if self.__pin == pin:\n",
    "            return True\n",
    "        else:\n",
    "            return False\n",
    "        \n",
    "    # This method returns account information as a formatted string\n",
    "    def __tostring(self) -> str:\n",
    "        \"\"\"\n",
    "        This method returns account information as a formatted string.\n",
    "        \"\"\"\n",
    "        # converting cents to dollars\n",
    "        balance = self.__balance / 100\n",
    "        return (\n",
    "            f\"Account Number: {self.account_number}\\n\"\n",
    "            f\"Owner First Name: {self.__owner_first_name}\\n\"\n",
    "            f\"Owner Last Name: {self.__owner_last_name}\\n\"\n",
    "            f\"Owner SSN: xxx-xx-{self.__ssn[-4:]}\\n\"\n",
    "            f\"PIN: {self.__pin}\\n\"\n",
    "            f\"Balance: ${balance:.2f}\"\n",
    "        )\n",
    "\n",
    "    # Allows the print(object) to display the formatted output\n",
    "    def __repr__(self) -> str:\n",
    "        \"\"\"\n",
    "        Allowing the class to display readable format when printed\n",
    "        \"\"\"\n",
    "        return self.__tostring()\n",
    "        \n",
    "    \n",
    "        \n",
    "        \n",
    "        \n",
    "        \n",
    "        \n",
    "        "
   ]
  },
  {
   "cell_type": "code",
   "execution_count": 28,
   "id": "392bc517",
   "metadata": {},
   "outputs": [],
   "source": [
    "def test_accounts(first_name: str, last_name: str,balance: float, social: str):\n",
    "    ran_num = Account()\n",
    "    ran_num.set_owner_first_name(first_name)\n",
    "#     print(ran_num.get_owner_first_name())\n",
    "    ran_num.set_owner_last_name(last_name)\n",
    "#     print(ran_num.get_owner_last_name())\n",
    "    ran_num.set_ssn(social)\n",
    "#     print(ran_num.get_ssn())\n",
    "    ran_num.set_balance(balance)\n",
    "#     print(ran_num.get_balance())\n",
    "    ran_num.deposit(200.10)\n",
    "    ran_num.withdraw(50.02)\n",
    "#     print(ran_num.get_balance())\n",
    "#     print(ran_num)\n",
    "    return ran_num"
   ]
  },
  {
   "cell_type": "code",
   "execution_count": null,
   "id": "57ada9a2",
   "metadata": {},
   "outputs": [],
   "source": []
  },
  {
   "cell_type": "code",
   "execution_count": 29,
   "id": "2c0b4550",
   "metadata": {},
   "outputs": [],
   "source": [
    "def prompt_user_for_positive_umber(input_message):\n",
    "        while True:\n",
    "            try:\n",
    "                user_input: float = float(input(f\"{input_message}\\n:>\"))\n",
    "                # If input didnt trigger value error and \n",
    "                if user_input == int(user_input):\n",
    "                    return user_input\n",
    "                else:\n",
    "                    return user_input\n",
    "            except ValueError:\n",
    "                return \"not a number\""
   ]
  },
  {
   "cell_type": "code",
   "execution_count": 15,
   "id": "9d586528",
   "metadata": {},
   "outputs": [],
   "source": [
    "# money = prompt_user_for_positive_umber(\"enter some money\")"
   ]
  },
  {
   "cell_type": "code",
   "execution_count": 16,
   "id": "b907cdbe",
   "metadata": {},
   "outputs": [],
   "source": [
    "# print(money)"
   ]
  },
  {
   "cell_type": "code",
   "execution_count": null,
   "id": "34f9c922",
   "metadata": {},
   "outputs": [],
   "source": []
  },
  {
   "cell_type": "code",
   "execution_count": 30,
   "id": "6868804b",
   "metadata": {},
   "outputs": [],
   "source": [
    "def create_account_object():\n",
    "    account_object = Account()\n",
    "    return account_object"
   ]
  },
  {
   "cell_type": "code",
   "execution_count": 31,
   "id": "21c98899",
   "metadata": {},
   "outputs": [],
   "source": [
    "test_users = [[\"Shaun\", \"Clarke\", 250, \"000291234\"],[\"Jerry\", \"West\", 210, \"000292654\"],[\"Kat\", \"Clarke\", 225.00, \"000297852\"]]"
   ]
  },
  {
   "cell_type": "code",
   "execution_count": 32,
   "id": "37ebe427",
   "metadata": {},
   "outputs": [
    {
     "name": "stdout",
     "output_type": "stream",
     "text": [
      "Account Number: 12345672\n",
      "Owner First Name: Shaun\n",
      "Owner Last Name: Clarke\n",
      "Owner SSN: xxx-xx-1234\n",
      "PIN: 1232\n",
      "Balance: $2.50\n",
      "\n",
      "\n",
      "Account Number: 12345673\n",
      "Owner First Name: Jerry\n",
      "Owner Last Name: West\n",
      "Owner SSN: xxx-xx-2654\n",
      "PIN: 1233\n",
      "Balance: $2.10\n",
      "\n",
      "\n",
      "Account Number: 12345674\n",
      "Owner First Name: Kat\n",
      "Owner Last Name: Clarke\n",
      "Owner SSN: xxx-xx-7852\n",
      "PIN: 1234\n",
      "Balance: $2.25\n",
      "\n",
      "\n",
      "This is counter: 3\n"
     ]
    }
   ],
   "source": [
    "counter = 0\n",
    "account_counter = 0\n",
    "user_objects = []\n",
    "for user in test_users:\n",
    "    # creating account emoty object\n",
    "    account_object = create_account_object()\n",
    "    \n",
    "    account_counter += 1\n",
    "    first_name = account_object.set_owner_first_name(user[0])\n",
    "    last_name = account_object.set_owner_last_name(user[1])\n",
    "    balance = account_object.set_balance(user[2])\n",
    "    ssn = account_object.set_ssn(user[3])\n",
    "    account_num = 12345671+account_counter\n",
    "    account_number = account_object.set_account_number(12345671+account_counter)\n",
    "    pin_num =1231+account_counter\n",
    "    pin = account_object.set_pin(pin_num)\n",
    "\n",
    "    user_objects.append(account_object)\n",
    "    print(account_object)\n",
    "    counter +=1\n",
    "    print(\"\\n\")\n",
    "print(f\"This is counter: {counter}\")"
   ]
  },
  {
   "cell_type": "code",
   "execution_count": 129,
   "id": "0fafa60e",
   "metadata": {},
   "outputs": [
    {
     "name": "stdout",
     "output_type": "stream",
     "text": [
      "Shaun\n",
      "Clarke\n",
      "12345672\n",
      "1232\n",
      "250\n",
      "000291234\n"
     ]
    }
   ],
   "source": [
    "print(user_objects[0].get_owner_first_name())\n",
    "print(user_objects[0].get_owner_last_name())\n",
    "print(user_objects[0].get_account_number())\n",
    "print(user_objects[0].get_pin())\n",
    "print(user_objects[0].get_balance())\n",
    "print(user_objects[0].get_ssn())"
   ]
  },
  {
   "cell_type": "code",
   "execution_count": 20,
   "id": "ece542fd",
   "metadata": {},
   "outputs": [],
   "source": [
    "user1 = user_objects[0]\n",
    "user2= user_objects[1]\n",
    "user3= user_objects[2]\n"
   ]
  },
  {
   "cell_type": "code",
   "execution_count": 21,
   "id": "450fff9f",
   "metadata": {},
   "outputs": [
    {
     "name": "stdout",
     "output_type": "stream",
     "text": [
      "Account Number: 12345673\n",
      "Owner First Name: Jerry\n",
      "Owner Last Name: West\n",
      "Owner SSN: xxx-xx-2654\n",
      "PIN: 1233\n",
      "Balance: $2.10\n"
     ]
    }
   ],
   "source": [
    "print(user2)"
   ]
  },
  {
   "cell_type": "code",
   "execution_count": 33,
   "id": "ec494423",
   "metadata": {},
   "outputs": [],
   "source": [
    "# This class mimics some of the basic functions of a bank\n",
    "class Bank:\n",
    "#     # List to hold all bank accounts\n",
    "#     __accounts = []\n",
    "#     # Variable for total allowed bank accounts\n",
    "#     __total_accounts = 0\n",
    "    def __init__(self):\n",
    "        self.__class__.__accounts = []\n",
    "        self.__class__.__total_accounts = 0\n",
    "    \n",
    "    # This method checks if an account is already in accounts\n",
    "    def __does_account_exist(self, account: Account) -> bool:\n",
    "        \"\"\"\n",
    "        This method checks if an account is already in accounts.\n",
    "        \"\"\"\n",
    "        # Checking for duplicates\n",
    "        for acc in self.__class__.__accounts:\n",
    "            if acc == account:\n",
    "                return True\n",
    "        return False\n",
    "    \n",
    "    # This method adds the Account object to the bank\n",
    "    def add_account_to_bank(self, account: Account) -> Union[bool,str]:\n",
    "        \"\"\"\n",
    "        This method adds an account object to the accounts list.<br>\n",
    "        It also make sure they are no duplicates and only allows 100 accounts.\n",
    "        \"\"\"\n",
    "        # Checking if we reached account limit\n",
    "        if self.__class__.__total_accounts == 2:\n",
    "            print(f\"No more accounts available\")\n",
    "            return False\n",
    "        # Checking for duplicates\n",
    "        if self.__does_account_exist(account):\n",
    "            return f\"account already exists\"\n",
    "        # Adding account to bank if they are no duplicates\n",
    "        self.__class__.__accounts.append(account)\n",
    "        #updating total accounts count by adding 1 to represent a new account\n",
    "        self.__class__.__total_accounts += 1\n",
    "        print(f\"total after adding account: {self.__class__.__total_accounts}\")\n",
    "        return True\n",
    "        \n",
    "    # This method removes an account object from the accounts list\n",
    "    def remove_account_from_bank(self, account: Account) -> bool:\n",
    "        \"\"\"\n",
    "        This method allows us to remnove an account from the account list\n",
    "        \"\"\"\n",
    "        # checking each account in the list\n",
    "        for index,acc in enumerate(self.__class__.__accounts):\n",
    "            if acc is not None:\n",
    "                # if we have a match\n",
    "                if acc == account:\n",
    "                    # replace the account with None\n",
    "                    self.__class__.__accounts[index] = None\n",
    "                    #updating total accounts count by subtracting 1 to represent closing an account\n",
    "                    self.__class__.__total_accounts -= 1\n",
    "                    print(f\"total after removing account: {self.__class__.__total_accounts}\")\n",
    "                    return True\n",
    "        # return false if account doesnt exist\n",
    "        return False\n",
    "    \n",
    "    # This method finds the specified account and return it\n",
    "    def find_account(self, account_number: int) -> Account:\n",
    "        # checking each account in the list\n",
    "        for acc in self.__class__.__accounts:\n",
    "            if acc is not None:\n",
    "                # If there is an account number match, return the account\n",
    "                if acc.get_account_number() == account_number:\n",
    "                    return acc\n",
    "        # Return false if the account was not found\n",
    "        return False\n",
    "    \n",
    "    # This method adds a monthly interest to all accounts using a submitted rate\n",
    "    def add_monthly_interest(self, interest_rate: float) -> bool:\n",
    "        # checking each account\n",
    "        for acc in self.__class__.__accounts:\n",
    "            if acc is not None:\n",
    "                print(f\"This is {acc.get_owner_first_name()} balance: {acc.get_balance()}\")\n",
    "                # getting present balance\n",
    "                balance = float(acc.get_balance())\n",
    "                # Creating interest rate amount\n",
    "                interest = balance * (interest_rate/100)\n",
    "                # depositing balance to account\n",
    "                acc.deposit(interest)\n",
    "        \n",
    "                \n",
    "        "
   ]
  },
  {
   "cell_type": "code",
   "execution_count": 34,
   "id": "ae32d727",
   "metadata": {},
   "outputs": [],
   "source": [
    "user1 = user_objects[0]\n",
    "user2= user_objects[1]\n",
    "user3= user_objects[2]\n",
    "# bank.add_account_to_bank(user1)"
   ]
  },
  {
   "cell_type": "code",
   "execution_count": 35,
   "id": "d97bf2de",
   "metadata": {},
   "outputs": [],
   "source": [
    "bank = Bank()"
   ]
  },
  {
   "cell_type": "code",
   "execution_count": 38,
   "id": "de5c7ab9",
   "metadata": {},
   "outputs": [
    {
     "data": {
      "text/plain": [
       "Account Number: 12345673\n",
       "Owner First Name: Jerry\n",
       "Owner Last Name: West\n",
       "Owner SSN: xxx-xx-2654\n",
       "PIN: 1233\n",
       "Balance: $2.10"
      ]
     },
     "execution_count": 38,
     "metadata": {},
     "output_type": "execute_result"
    }
   ],
   "source": [
    "bank.find_account(12345673)"
   ]
  },
  {
   "cell_type": "code",
   "execution_count": 37,
   "id": "2a58e2e4",
   "metadata": {
    "scrolled": false
   },
   "outputs": [
    {
     "name": "stdout",
     "output_type": "stream",
     "text": [
      "total after adding account: 1\n",
      "True\n",
      "Account Number: 12345672\n",
      "Owner First Name: Shaun\n",
      "Owner Last Name: Clarke\n",
      "Owner SSN: xxx-xx-1234\n",
      "PIN: 1232\n",
      "Balance: $2.50\n",
      "total after adding account: 2\n",
      "True\n",
      "Account Number: 12345673\n",
      "Owner First Name: Jerry\n",
      "Owner Last Name: West\n",
      "Owner SSN: xxx-xx-2654\n",
      "PIN: 1233\n",
      "Balance: $2.10\n"
     ]
    }
   ],
   "source": [
    "for account in user_objects[:2]:\n",
    "    print(bank.add_account_to_bank(account))\n",
    "    print(account)"
   ]
  },
  {
   "cell_type": "code",
   "execution_count": 41,
   "id": "c54c7534",
   "metadata": {},
   "outputs": [
    {
     "name": "stdout",
     "output_type": "stream",
     "text": [
      "yes\n"
     ]
    }
   ],
   "source": [
    "if not bank.find_account(1234567233):\n",
    "    print(\"yes\")\n",
    "else:\n",
    "    print(\"No\")"
   ]
  },
  {
   "cell_type": "code",
   "execution_count": 146,
   "id": "2896261e",
   "metadata": {},
   "outputs": [
    {
     "data": {
      "text/plain": [
       "'Shaun'"
      ]
     },
     "execution_count": 146,
     "metadata": {},
     "output_type": "execute_result"
    }
   ],
   "source": [
    "account1 = bank.find_account(12345672)\n",
    "account1.get_owner_first_name()"
   ]
  },
  {
   "cell_type": "code",
   "execution_count": 147,
   "id": "bb4a4c91",
   "metadata": {},
   "outputs": [
    {
     "name": "stdout",
     "output_type": "stream",
     "text": [
      "total after removing account: 1\n"
     ]
    },
    {
     "data": {
      "text/plain": [
       "True"
      ]
     },
     "execution_count": 147,
     "metadata": {},
     "output_type": "execute_result"
    }
   ],
   "source": [
    "bank.remove_account_from_bank(account1)"
   ]
  },
  {
   "cell_type": "code",
   "execution_count": 148,
   "id": "b53370ea",
   "metadata": {},
   "outputs": [
    {
     "name": "stdout",
     "output_type": "stream",
     "text": [
      "total after adding account: 2\n"
     ]
    },
    {
     "data": {
      "text/plain": [
       "True"
      ]
     },
     "execution_count": 148,
     "metadata": {},
     "output_type": "execute_result"
    }
   ],
   "source": [
    "bank.add_account_to_bank(user_objects[-1])"
   ]
  },
  {
   "cell_type": "code",
   "execution_count": 149,
   "id": "9dc62243",
   "metadata": {},
   "outputs": [
    {
     "name": "stdout",
     "output_type": "stream",
     "text": [
      "This is Jerry balance: 210\n",
      "This is Kat balance: 225.0\n"
     ]
    }
   ],
   "source": [
    "bank.add_monthly_interest(2.5)"
   ]
  },
  {
   "cell_type": "code",
   "execution_count": 150,
   "id": "11419b41",
   "metadata": {},
   "outputs": [],
   "source": [
    "# This class is like a swiss army knife with methods that carry out bank actions\n",
    "class BankUtility:\n",
    "    # a set to hold used generated numbers\n",
    "    __used_numbers: set = set()\n",
    "    \n",
    "    # Gets user strin ginput\n",
    "    def get_string_input(self, input_message: str) -> str:\n",
    "        while True:\n",
    "            try:\n",
    "                user_input: str = input(f\"{input_message}\\n:>\").lower().strip()\n",
    "                if not user_input:\n",
    "                    raise ValueError(f\"Input cannot be empty.\")\n",
    "                return user_input\n",
    "            except ValueError as err:\n",
    "                print(err)\n",
    "                \n",
    "    # Get user number input\n",
    "    def prompt_user_for_positive_umber(self, input_message: str) -> Union[float, str]:\n",
    "        \"\"\"\n",
    "        This method asks the user to enter a number and returns it.\n",
    "        If they enter a string it asks the user to try again\n",
    "        \"\"\"\n",
    "        while True:\n",
    "            try:\n",
    "                user_input: float = float(input(f\"{input_message}\\n:>\"))\n",
    "                # If input didnt trigger value error and \n",
    "                if user_input == int(user_input):\n",
    "                    return user_input\n",
    "                else:\n",
    "                    return user_input\n",
    "            except ValueError:\n",
    "                print(\"\\nPlease try again\\n\")\n",
    "    \n",
    "    # Generates a uniqe 8 or 4 digit numbr that does not start with 0.\n",
    "    def number_generator(self,minimum: int, maximum: int) -> int:\n",
    "        \"\"\"\n",
    "        This method generates a unique 8 or 4 digit number.<br>\n",
    "        The 8 digit number is used as an account number.<br>\n",
    "        The 4 digit number is used as a pin bumber.\n",
    "        \"\"\"\n",
    "        while True:\n",
    "            # loop until a uniqe 8 or 4 digit number is selected\n",
    "            number: int = random.randint(minimum, maximum)\n",
    "            # check if number already used or if it starts with 0\n",
    "            if number not in self.__class__.__used_numbers and str(number)[0] != \"0\":\n",
    "                # add number to set\n",
    "                self.__class__.__used_numbers.add(number)\n",
    "                return number\n",
    "        \n",
    "    \n",
    "    # This method converts dollars to cents and back\n",
    "    def convert_dollars_and_cents(self, amount: int, switch: bool = False) -> int:\n",
    "        \"\"\"\n",
    "        This method uses a switch to convert dollars to cents.<br>\n",
    "        Swtich set to default False which converts dollars to cents.<br>\n",
    "        If switch is set to True convert cents to dollars.\n",
    "        \"\"\"\n",
    "        # Convert dollars to cents\n",
    "        cents: int = int(round(amount * 100))\n",
    "        return cents\n"
   ]
  },
  {
   "cell_type": "code",
   "execution_count": 151,
   "id": "ba72a6be",
   "metadata": {},
   "outputs": [],
   "source": [
    "user1 = Account()\n",
    "user2 = Account()\n",
    "user3 = Account()\n",
    "users = [user1,user2,user3]"
   ]
  },
  {
   "cell_type": "code",
   "execution_count": 10,
   "id": "2f1205a7",
   "metadata": {},
   "outputs": [],
   "source": [
    "bank = Bank()"
   ]
  },
  {
   "cell_type": "code",
   "execution_count": 153,
   "id": "086a7019",
   "metadata": {},
   "outputs": [],
   "source": [
    "bank_utility = BankUtility()"
   ]
  },
  {
   "cell_type": "code",
   "execution_count": 154,
   "id": "65004cba",
   "metadata": {},
   "outputs": [],
   "source": [
    "def create_accounts():\n",
    "    for user in users:\n",
    "        first_name = bank_utility.get_string_input(\"Enter First Name\")\n",
    "        user.set_owner_first_name(first_name)\n",
    "        \n",
    "        last_name = bank_utility.get_string_input(\"Enter Last Name\")\n",
    "        user.set_owner_last_name(last_name)\n",
    "        \n",
    "        account_num = bank_utility.number_generator(20000000, 99999999)\n",
    "        user.set_account_number(account_num)\n",
    "        \n",
    "        pin_num = bank_utility.number_generator(2000,9999)\n",
    "        user.set_pin(pin_num)\n",
    "        \n",
    "        ssn_num = bank_utility.get_string_input(\"Enter your SSN\")\n",
    "        user.set_ssn(ssn_num)\n",
    "        \n",
    "        balance = bank_utility.prompt_user_for_positive_umber(\"Enter starting balance\")\n",
    "        balance = bank_utility.convert_dollars_and_cents(balance)\n",
    "        user.set_balance(balance)\n",
    "        \n",
    "        bank.add_account_to_bank(user)\n",
    "        print(user)\n"
   ]
  },
  {
   "cell_type": "code",
   "execution_count": 156,
   "id": "fa5949d4",
   "metadata": {},
   "outputs": [],
   "source": [
    "create_accounts()"
   ]
  },
  {
   "cell_type": "code",
   "execution_count": 113,
   "id": "28b9be68",
   "metadata": {},
   "outputs": [
    {
     "name": "stdout",
     "output_type": "stream",
     "text": [
      "Account Number: 74933574\n",
      "Owner First Name: shaun\n",
      "Owner Last Name: clarke\n",
      "Owner SSN: xxx-xx-3456\n",
      "PIN: 9084\n",
      "Balance: $216.42\n",
      "\n",
      "Account Number: 65024018\n",
      "Owner First Name: kat\n",
      "Owner Last Name: clarke\n",
      "Owner SSN: xxx-xx-6789\n",
      "PIN: 5645\n",
      "Balance: $244.19\n",
      "\n",
      "Account Number: 75312789\n",
      "Owner First Name: colby\n",
      "Owner Last Name: smoulders\n",
      "Owner SSN: xxx-xx-9876\n",
      "PIN: 2738\n",
      "Balance: $918.04\n",
      "\n"
     ]
    }
   ],
   "source": [
    "for user in users:\n",
    "    print(f\"{user}\\n\")\n",
    "    "
   ]
  },
  {
   "cell_type": "code",
   "execution_count": 109,
   "id": "30b4edba",
   "metadata": {},
   "outputs": [
    {
     "name": "stdout",
     "output_type": "stream",
     "text": [
      "This is shaun balance: 20910.35\n",
      "This is colby balance: 88700\n"
     ]
    }
   ],
   "source": [
    "bank.add_monthly_interest(3.5)"
   ]
  },
  {
   "cell_type": "code",
   "execution_count": 102,
   "id": "d313d53f",
   "metadata": {},
   "outputs": [
    {
     "data": {
      "text/plain": [
       "118700"
      ]
     },
     "execution_count": 102,
     "metadata": {},
     "output_type": "execute_result"
    }
   ],
   "source": [
    "amount = bank_utility.convert_dollars_and_cents(200)\n",
    "user3.deposit(amount)"
   ]
  },
  {
   "cell_type": "code",
   "execution_count": 104,
   "id": "ec516fe2",
   "metadata": {},
   "outputs": [
    {
     "data": {
      "text/plain": [
       "88700"
      ]
     },
     "execution_count": 104,
     "metadata": {},
     "output_type": "execute_result"
    }
   ],
   "source": [
    "amount = bank_utility.convert_dollars_and_cents(300)\n",
    "user3.withdraw(amount)"
   ]
  },
  {
   "cell_type": "code",
   "execution_count": 110,
   "id": "404e7f9d",
   "metadata": {},
   "outputs": [
    {
     "name": "stdout",
     "output_type": "stream",
     "text": [
      "total after removing account: 1\n"
     ]
    },
    {
     "data": {
      "text/plain": [
       "True"
      ]
     },
     "execution_count": 110,
     "metadata": {},
     "output_type": "execute_result"
    }
   ],
   "source": [
    "bank.remove_account_from_bank(user3)"
   ]
  },
  {
   "cell_type": "code",
   "execution_count": 112,
   "id": "e2cf9093",
   "metadata": {},
   "outputs": [
    {
     "name": "stdout",
     "output_type": "stream",
     "text": [
      "total after adding account: 2\n"
     ]
    },
    {
     "data": {
      "text/plain": [
       "True"
      ]
     },
     "execution_count": 112,
     "metadata": {},
     "output_type": "execute_result"
    }
   ],
   "source": [
    "bank.add_account_to_bank(user2)"
   ]
  },
  {
   "cell_type": "code",
   "execution_count": 116,
   "id": "5d952929",
   "metadata": {},
   "outputs": [
    {
     "data": {
      "text/plain": [
       "'kat'"
      ]
     },
     "execution_count": 116,
     "metadata": {},
     "output_type": "execute_result"
    }
   ],
   "source": [
    "bank.find_account(65024018).get_owner_first_name()"
   ]
  },
  {
   "cell_type": "code",
   "execution_count": 183,
   "id": "b290094c",
   "metadata": {},
   "outputs": [],
   "source": [
    "# This class mimics a coin counter machine\n",
    "class CoinCollector:\n",
    "    # constructor so you cannot instantiate this class\n",
    "    def __init__(self):\n",
    "        raise TypeError(\"You cannot instantiate this class.\")\n",
    "        \n",
    "    # Making parse change a static method since it does not use anything in the class\n",
    "    @staticmethod\n",
    "    def parseChange(coins: str) -> Tuple[int, List]:\n",
    "        # dictionary to hold change conversion map\n",
    "        coin_values: dict = {\n",
    "            \"p\": 1,\n",
    "            \"n\": 5,\n",
    "            \"d\": 10,\n",
    "            \"q\": 25,\n",
    "            \"h\": 50,\n",
    "            \"w\": 100,\n",
    "        }\n",
    "        # tracking invalid coins\n",
    "        invalid_coins: List = []\n",
    "        # coin counter\n",
    "        coin_counter: int = 0\n",
    "        # splitting string into list\n",
    "        coins: list = list(coins)\n",
    "        # calculating coin total\n",
    "        for coin in coins:\n",
    "            # If coin is invalid, add it to invalid list other wise count it\n",
    "            if coin not in coin_values:\n",
    "                # ad invalid coin to list\n",
    "                invalid_coins.append(coin)\n",
    "            else:\n",
    "                # counting coins\n",
    "                coin_counter += coin_values[coin]\n",
    "        return coin_counter, invalid_coins\n",
    "       "
   ]
  },
  {
   "cell_type": "code",
   "execution_count": 187,
   "id": "9cc1944d",
   "metadata": {},
   "outputs": [
    {
     "name": "stdout",
     "output_type": "stream",
     "text": [
      "136 ['l']\n"
     ]
    }
   ],
   "source": [
    "total, invalid_coins = CoinCollector.parseChange(\"plwqd\")\n",
    "print(total, invalid_coins)"
   ]
  },
  {
   "cell_type": "code",
   "execution_count": 165,
   "id": "082044f1",
   "metadata": {},
   "outputs": [],
   "source": [
    " coin_values: dict = {\n",
    "            \"p\": 1,\n",
    "            \"n\": 5,\n",
    "            \"d\": 10,\n",
    "            \"q\": 25,\n",
    "            \"h\": 50,\n",
    "            \"w\": 100,\n",
    "        }"
   ]
  },
  {
   "cell_type": "code",
   "execution_count": 166,
   "id": "e1d4413c",
   "metadata": {},
   "outputs": [
    {
     "data": {
      "text/plain": [
       "1"
      ]
     },
     "execution_count": 166,
     "metadata": {},
     "output_type": "execute_result"
    }
   ],
   "source": [
    "coin_values[\"p\"]"
   ]
  },
  {
   "cell_type": "code",
   "execution_count": 189,
   "id": "057f0365",
   "metadata": {},
   "outputs": [],
   "source": [
    "# BankManager class is where the action happens\n",
    "class BankManager:\n",
    "    def __init__(self, bank_object: Bank, bank_util_object: BankUtility, account_object: Account):\n",
    "        self.bank_object = bank_object\n",
    "        self.bank_util_object = bank_util_object\n",
    "        self.account_object = account_object\n",
    "        \n",
    "    # This method prompt the user to enter an account number then pin\n",
    "    def prompt_for_account_and_pin(self, bank_object: Bank) -> Union[Account,str]:\n",
    "        while True:\n",
    "            try:\n",
    "                user_input: int = int(input(f\"\\nPlease enter your account number.\\n:>\"))\n",
    "                if bank.get_account_number()\n",
    "            except ValueError:\n",
    "                print(\"\\nPlease try again entering number sonly.\\n\")\n",
    "        \n",
    "        \n",
    "    \n",
    "    \n",
    "    "
   ]
  },
  {
   "cell_type": "code",
   "execution_count": 8,
   "id": "b1c7c96c",
   "metadata": {},
   "outputs": [],
   "source": [
    "nums = 12345678"
   ]
  },
  {
   "cell_type": "code",
   "execution_count": 9,
   "id": "3ec239bb",
   "metadata": {},
   "outputs": [
    {
     "data": {
      "text/plain": [
       "8"
      ]
     },
     "execution_count": 9,
     "metadata": {},
     "output_type": "execute_result"
    }
   ],
   "source": [
    "len(str(nums))"
   ]
  },
  {
   "cell_type": "code",
   "execution_count": 44,
   "id": "4dde662a",
   "metadata": {},
   "outputs": [
    {
     "name": "stdout",
     "output_type": "stream",
     "text": [
      "============================================================\n",
      "What do you want to do?\n"
     ]
    }
   ],
   "source": [
    "border = \"============================================================\"\n",
    "header = \"What do you want to do?\"\n",
    "print(border)\n",
    "print(header)"
   ]
  },
  {
   "cell_type": "code",
   "execution_count": 48,
   "id": "fc51ad46",
   "metadata": {},
   "outputs": [
    {
     "name": "stdout",
     "output_type": "stream",
     "text": [
      "============================================================\n",
      "What do you want to do?\n",
      "1. Open an account\n",
      "2. Get account information and balance\n",
      "3. Change PIN\n",
      "4. Deposit money in account\n",
      "5. Transfer money between accounts\n",
      "6. Withdraw money from account\n",
      "7. ATM withdrawal\n",
      " 8. Deposit change\n",
      "9. Close an account\n",
      "10. Add monthly interest to all accounts\n",
      "11. End Program\n",
      "============================================================\n"
     ]
    }
   ],
   "source": [
    "# Defining menu border and header\n",
    "border: str = \"============================================================\"\n",
    "header: str = \"What do you want to do?\"\n",
    "# Printing menu border\n",
    "print(border)\n",
    "# Printing menu header\n",
    "print(header)\n",
    "# Show Menu\n",
    "print(*banking_menu, sep=\"\\n\")\n",
    "print(border)"
   ]
  },
  {
   "cell_type": "code",
   "execution_count": 61,
   "id": "e17d8e76",
   "metadata": {},
   "outputs": [],
   "source": [
    "ssn = \"1234567l89\""
   ]
  },
  {
   "cell_type": "code",
   "execution_count": 62,
   "id": "fa6d2a7c",
   "metadata": {},
   "outputs": [
    {
     "data": {
      "text/plain": [
       "10"
      ]
     },
     "execution_count": 62,
     "metadata": {},
     "output_type": "execute_result"
    }
   ],
   "source": [
    "len(ssn)"
   ]
  },
  {
   "cell_type": "code",
   "execution_count": 63,
   "id": "2021277c",
   "metadata": {},
   "outputs": [],
   "source": [
    "def test():\n",
    "    if ssn.isdigit():\n",
    "        return True\n",
    "    else:\n",
    "        return False"
   ]
  },
  {
   "cell_type": "code",
   "execution_count": 64,
   "id": "3e5e4fd3",
   "metadata": {},
   "outputs": [
    {
     "name": "stdout",
     "output_type": "stream",
     "text": [
      "yes\n"
     ]
    }
   ],
   "source": [
    "l = test()\n",
    "y = 2\n",
    "\n",
    "if y != 3 and not l:\n",
    "    print(\"yes\")"
   ]
  },
  {
   "cell_type": "code",
   "execution_count": 65,
   "id": "ed665f0a",
   "metadata": {},
   "outputs": [
    {
     "data": {
      "text/plain": [
       "15.025"
      ]
     },
     "execution_count": 65,
     "metadata": {},
     "output_type": "execute_result"
    }
   ],
   "source": [
    "300.50/20"
   ]
  },
  {
   "cell_type": "code",
   "execution_count": 66,
   "id": "e6d921b0",
   "metadata": {},
   "outputs": [
    {
     "data": {
      "text/plain": [
       "15.025"
      ]
     },
     "execution_count": 66,
     "metadata": {},
     "output_type": "execute_result"
    }
   ],
   "source": [
    "300.50/20.00"
   ]
  },
  {
   "cell_type": "code",
   "execution_count": 67,
   "id": "6d9eaa80",
   "metadata": {},
   "outputs": [
    {
     "data": {
      "text/plain": [
       "6.75"
      ]
     },
     "execution_count": 67,
     "metadata": {},
     "output_type": "execute_result"
    }
   ],
   "source": [
    "135/20"
   ]
  },
  {
   "cell_type": "code",
   "execution_count": 68,
   "id": "bba12f1c",
   "metadata": {},
   "outputs": [
    {
     "data": {
      "text/plain": [
       "0"
      ]
     },
     "execution_count": 68,
     "metadata": {},
     "output_type": "execute_result"
    }
   ],
   "source": [
    "100 % 5"
   ]
  },
  {
   "cell_type": "code",
   "execution_count": 69,
   "id": "1baf6416",
   "metadata": {},
   "outputs": [],
   "source": [
    "money = 300"
   ]
  },
  {
   "cell_type": "code",
   "execution_count": 70,
   "id": "5cf37e2c",
   "metadata": {},
   "outputs": [],
   "source": [
    "def atm_process(amount):\n",
    "    twenty = amount // 20\n",
    "    left_over = amount % 20\n",
    "    "
   ]
  },
  {
   "cell_type": "code",
   "execution_count": 71,
   "id": "8621cd02",
   "metadata": {},
   "outputs": [
    {
     "data": {
      "text/plain": [
       "15"
      ]
     },
     "execution_count": 71,
     "metadata": {},
     "output_type": "execute_result"
    }
   ],
   "source": [
    "300 //20"
   ]
  },
  {
   "cell_type": "code",
   "execution_count": 76,
   "id": "f99ac61b",
   "metadata": {},
   "outputs": [
    {
     "name": "stdout",
     "output_type": "stream",
     "text": [
      "\n",
      "Withdrawal breakdown for $135:\n",
      "$20 bills: 6\n",
      "$10 bills: 1\n",
      "$5 bills: 1\n"
     ]
    }
   ],
   "source": [
    "def calculate_bills(amount: int) -> dict:\n",
    "    bills = {}\n",
    "    bills['$20 bills'] = amount // 20\n",
    "    amount %= 20\n",
    "\n",
    "    bills['$10 bills'] = amount // 10\n",
    "    amount %= 10\n",
    "\n",
    "    bills['$5 bills'] = amount // 5\n",
    "    amount %= 5\n",
    "\n",
    "    return bills\n",
    "\n",
    "amount = 135\n",
    "\n",
    "bills = calculate_bills(amount)\n",
    "print(f\"\\nWithdrawal breakdown for ${amount}:\")\n",
    "for bill_type, count in bills.items():\n",
    "    print(f\"{bill_type}: {count}\")"
   ]
  },
  {
   "cell_type": "code",
   "execution_count": 87,
   "id": "69e49088",
   "metadata": {},
   "outputs": [
    {
     "name": "stdout",
     "output_type": "stream",
     "text": [
      "Invalid Coins: 1 2 3 4\n"
     ]
    }
   ],
   "source": [
    "test = [1, 2, 3, 4]\n",
    "print(\"Invalid Coins:\", *test, sep=\" \")\n"
   ]
  },
  {
   "cell_type": "code",
   "execution_count": 86,
   "id": "26fad8ed",
   "metadata": {},
   "outputs": [
    {
     "ename": "SyntaxError",
     "evalue": "f-string: can't use starred expression here (3731280990.py, line 1)",
     "output_type": "error",
     "traceback": [
      "\u001b[1;36m  File \u001b[1;32m\"C:\\Users\\clarkes\\AppData\\Local\\Temp\\ipykernel_47656\\3731280990.py\"\u001b[1;36m, line \u001b[1;32m1\u001b[0m\n\u001b[1;33m    f\"Invalid coins: {*test}\"\u001b[0m\n\u001b[1;37m     ^\u001b[0m\n\u001b[1;31mSyntaxError\u001b[0m\u001b[1;31m:\u001b[0m f-string: can't use starred expression here\n"
     ]
    }
   ],
   "source": [
    "f\"Invalid coins: {*test}\""
   ]
  },
  {
   "cell_type": "code",
   "execution_count": 88,
   "id": "1b828331",
   "metadata": {},
   "outputs": [
    {
     "data": {
      "text/plain": [
       "16.0"
      ]
     },
     "execution_count": 88,
     "metadata": {},
     "output_type": "execute_result"
    }
   ],
   "source": [
    "1600/100"
   ]
  },
  {
   "cell_type": "code",
   "execution_count": 89,
   "id": "cbf90572",
   "metadata": {},
   "outputs": [
    {
     "data": {
      "text/plain": [
       "160000"
      ]
     },
     "execution_count": 89,
     "metadata": {},
     "output_type": "execute_result"
    }
   ],
   "source": [
    "1600 * 100"
   ]
  },
  {
   "cell_type": "code",
   "execution_count": 90,
   "id": "2d34958e",
   "metadata": {},
   "outputs": [
    {
     "data": {
      "text/plain": [
       "0.16"
      ]
     },
     "execution_count": 90,
     "metadata": {},
     "output_type": "execute_result"
    }
   ],
   "source": [
    "16/100\n"
   ]
  },
  {
   "cell_type": "code",
   "execution_count": 91,
   "id": "0c52fe2d",
   "metadata": {},
   "outputs": [
    {
     "data": {
      "text/plain": [
       "0.0275"
      ]
     },
     "execution_count": 91,
     "metadata": {},
     "output_type": "execute_result"
    }
   ],
   "source": [
    "2.75/100"
   ]
  },
  {
   "cell_type": "code",
   "execution_count": 92,
   "id": "8ac992db",
   "metadata": {},
   "outputs": [
    {
     "data": {
      "text/plain": [
       "5.5"
      ]
     },
     "execution_count": 92,
     "metadata": {},
     "output_type": "execute_result"
    }
   ],
   "source": [
    "200 * (2.75/100)"
   ]
  },
  {
   "cell_type": "code",
   "execution_count": 93,
   "id": "13890ad4",
   "metadata": {},
   "outputs": [
    {
     "data": {
      "text/plain": [
       "550.0"
      ]
     },
     "execution_count": 93,
     "metadata": {},
     "output_type": "execute_result"
    }
   ],
   "source": [
    "5.5 * 100"
   ]
  },
  {
   "cell_type": "code",
   "execution_count": 94,
   "id": "84bccca1",
   "metadata": {},
   "outputs": [
    {
     "data": {
      "text/plain": [
       "0.055"
      ]
     },
     "execution_count": 94,
     "metadata": {},
     "output_type": "execute_result"
    }
   ],
   "source": [
    "5.5 /100"
   ]
  },
  {
   "cell_type": "code",
   "execution_count": null,
   "id": "ab5e350c",
   "metadata": {},
   "outputs": [],
   "source": []
  }
 ],
 "metadata": {
  "kernelspec": {
   "display_name": "Python 3 (ipykernel)",
   "language": "python",
   "name": "python3"
  },
  "language_info": {
   "codemirror_mode": {
    "name": "ipython",
    "version": 3
   },
   "file_extension": ".py",
   "mimetype": "text/x-python",
   "name": "python",
   "nbconvert_exporter": "python",
   "pygments_lexer": "ipython3",
   "version": "3.9.13"
  }
 },
 "nbformat": 4,
 "nbformat_minor": 5
}
