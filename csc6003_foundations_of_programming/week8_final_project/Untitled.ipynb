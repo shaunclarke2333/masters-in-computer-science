{
 "cells": [
  {
   "cell_type": "code",
   "execution_count": null,
   "id": "9fafe56b",
   "metadata": {},
   "outputs": [],
   "source": [
    "\"\"\"\n",
    "Work on bank class next\n",
    "- (Still here)setup methods\n",
    "    - Test the remove account method.\n",
    "Work on utility class\n",
    "- reuse soeme of your input methods from other projects.\n",
    "- you already have a convert dollars function in accounts class, move it to utility\n",
    "- you already have a number generator function in accounts class, move it to utility\n",
    "\n",
    "\"\"\""
   ]
  },
  {
   "cell_type": "code",
   "execution_count": 380,
   "id": "ed62ecdd",
   "metadata": {},
   "outputs": [],
   "source": [
    "# Importing dependencies\n",
    "from typing import Union\n",
    "from typing import List\n",
    "from typing import Dict\n",
    "from typing import Optional\n",
    "from typing import Tuple\n",
    "import random"
   ]
  },
  {
   "cell_type": "code",
   "execution_count": 381,
   "id": "b1a53017",
   "metadata": {},
   "outputs": [],
   "source": [
    "# Menu list\n",
    "banking_menu: List = [\n",
    "    \"1. Open an account\",\n",
    "    \"2. Get account information and balance\",\n",
    "    \"3. Change PIN\",\n",
    "    \"4. Deposit money in account\",\n",
    "    \"5. Transfer money between accounts\",\n",
    "    \"6. Withdraw money from account\",\n",
    "    \"7. ATM withdrawal\",\n",
    "   \" 8. Deposit change\",\n",
    "    \"9. Close an account\",\n",
    "    \"10. Add monthly interest to all accounts\",\n",
    "    \"11. End Program\"\n",
    "]"
   ]
  },
  {
   "cell_type": "code",
   "execution_count": 1035,
   "id": "8b1235c2",
   "metadata": {},
   "outputs": [],
   "source": [
    "# ThiS class creates a bank account \n",
    "class Account:\n",
    "    # a set to hold used account numbers to stay uniqe\n",
    "    __used_account_numbers: set = set()\n",
    "    # a set to hold used pin numbers to stay unique\n",
    "    __used_pin_numbers: set = set()\n",
    "    def __init__(self):\n",
    "        self.__owner_first_name = None\n",
    "        self.__owner_last_name = None\n",
    "        self.__ssn: str = None\n",
    "        self.__balance: int = None\n",
    "        self.account_number: int = self.__number_generator(8)\n",
    "        self.__pin: int = self.__number_generator(4)\n",
    "        \n",
    "    # This method will allow us to compare an account object to a string.\n",
    "    def __eq__(self, other_account_number: str) -> bool:\n",
    "        if isinstance(other_account_number, Account):\n",
    "            if self.account_number == other_account_number.account_number:\n",
    "                return True\n",
    "        return False\n",
    "    \n",
    "    # This method converts dollars to cents and back\n",
    "    def __convert_dollars_and_cents(self, amount: int, switch: bool = False) -> int:\n",
    "        \"\"\"\n",
    "        This method uses a switch to convert dollars to cents.<br>\n",
    "        Swtich set to default False which converts dollars to cents.<br>\n",
    "        If switch is set to True convert cents to dollars.\n",
    "        \"\"\"\n",
    "        # if false, convert dollars to cents\n",
    "        if not switch:\n",
    "            cents = int(round(amount * 100))\n",
    "            return cents\n",
    "        elif switch:\n",
    "            dollars = amount / 100\n",
    "            return f\"{dollars:.2f}\"\n",
    "    \n",
    "    # returns the first name\n",
    "    def get_owner_first_name(self) -> str:\n",
    "        \"\"\"\n",
    "        Getter method that returns first name\n",
    "        \"\"\"\n",
    "        return self.__owner_first_name\n",
    "    \n",
    "    # updates the first name\n",
    "    def set_owner_first_name(self, first_name: str) -> bool:\n",
    "        \"\"\"\n",
    "        Setter method that updates first name\n",
    "        \"\"\"\n",
    "        # updating first name\n",
    "        self.__owner_first_name = first_name\n",
    "        # If update was not successful\n",
    "        if self.__owner_first_name != first_name:\n",
    "            return False\n",
    "        # If update was successful\n",
    "        return True\n",
    "    \n",
    "    # returns the last name\n",
    "    def get_owner_last_name(self) -> str:\n",
    "        \"\"\"\n",
    "        Getter method that returns last name\n",
    "        \"\"\"\n",
    "        return self.__owner_last_name\n",
    "    \n",
    "    # updates the last name\n",
    "    def set_owner_last_name(self, last_name: str) -> bool:\n",
    "        \"\"\"\n",
    "        Setter method that updates last name\n",
    "        \"\"\"\n",
    "        # updating name\n",
    "        self.__owner_last_name = last_name\n",
    "        # If update was not successful\n",
    "        if self.__owner_last_name != last_name:\n",
    "            return False\n",
    "        # If update was successful\n",
    "        return True\n",
    "        \n",
    "    # returns the SSN\n",
    "    def get_ssn(self) -> str:\n",
    "        \"\"\"\n",
    "        Getter method that returns ssn\n",
    "        \"\"\"\n",
    "        return self.__ssn\n",
    "    \n",
    "    # updates the ssn\n",
    "    def set_ssn(self, ssn: str) -> bool:\n",
    "        \"\"\"\n",
    "        Setter method that updates ssn\n",
    "        \"\"\"\n",
    "        # updating ssn\n",
    "        self.__ssn = ssn\n",
    "        # If update was not successful\n",
    "        if self.__ssn != ssn:\n",
    "            return False\n",
    "        # If update was successful\n",
    "        return True\n",
    "    \n",
    "    # returns the balance\n",
    "    def get_balance(self) -> int:\n",
    "        \"\"\"\n",
    "        Getter method that returns balance\n",
    "        \"\"\"\n",
    "        # Returning balance converted to dollars\n",
    "        return self.__convert_dollars_and_cents(self.__balance, switch=True)\n",
    "    \n",
    "    # updates the balance\n",
    "    def set_balance(self, amount: str) -> bool:\n",
    "        \"\"\"\n",
    "        Setter method that updates balance\n",
    "        \"\"\"\n",
    "        # updating balance with amount converted to cents\n",
    "        amount = self.__convert_dollars_and_cents(amount)\n",
    "        self.__balance = amount\n",
    "        # If update was not successful\n",
    "        if self.__balance != amount:\n",
    "            return False\n",
    "        # If update was successful\n",
    "        return True\n",
    "    \n",
    "    # returns the pin\n",
    "    def get_pin(self) -> int:\n",
    "        \"\"\"\n",
    "        Getter method that returns pin\n",
    "        \"\"\"\n",
    "        return self.__pin\n",
    "    \n",
    "    # updates the pin\n",
    "    def set_pin(self, pin: int) -> bool:\n",
    "        \"\"\"\n",
    "        Setter method that updates balance\n",
    "        \"\"\"\n",
    "        # updating pin\n",
    "        self.__pin = pin\n",
    "        # If update was not successful\n",
    "        if self.__pin != pin:\n",
    "            return False\n",
    "        # If update was successful\n",
    "        return True \n",
    "    \n",
    "    # returns the account number\n",
    "    def get_account_number(self) -> int:\n",
    "        \"\"\"\n",
    "        Getter method that returns account number\n",
    "        \"\"\"\n",
    "        return self.account_number\n",
    "    \n",
    "    # updates the account number\n",
    "    def set_account_number(self, account_number: int) -> bool:\n",
    "        \"\"\"\n",
    "        Setter method that updates account number\n",
    "        \"\"\"\n",
    "        # updating account number\n",
    "        self.account_number = account_number\n",
    "        # If update was not successful\n",
    "        if self.account_number != account_number:\n",
    "            return False\n",
    "        # If update was successful\n",
    "        return True \n",
    "    \n",
    "    # Generates a uniqe 8 or 4 digit numbr that does not start with 0.\n",
    "    def __number_generator(self, digits: int) -> int:\n",
    "        \"\"\"\n",
    "        This method generates a unique 8 or 4 digit number.<br>\n",
    "        The 8 digit number is used as an account number.<br>\n",
    "        The 4 digit number is used as a pin bumber.\n",
    "        \"\"\"\n",
    "        # loop until a uniqe 8 or 4 digit number is selected\n",
    "        while True:\n",
    "            if digits == 8:\n",
    "                # Randomly generate account number\n",
    "                number: int = random.randint(20000000, 99999999)\n",
    "                # Check if it is uniqe\n",
    "                if number not in self.__class__.__used_account_numbers:\n",
    "                    # adding it to the used numbers set\n",
    "                    self.__class__.__used_account_numbers.add(number)\n",
    "                    return number\n",
    "            elif digits == 4:\n",
    "                 # Randomly generate pin number\n",
    "                number: int = random.randint(1000, 9999)\n",
    "                # Check if it is uniqe\n",
    "                if number not in self.__class__.__used_pin_numbers:\n",
    "                    # adding it to the used numbers set\n",
    "                    self.__class__.__used_pin_numbers.add(number)\n",
    "                    return number\n",
    "                \n",
    "    # This method adds the deposit to the acc balance returns the updated amount\n",
    "    def deposit(self, amount: int) -> int:\n",
    "        \"\"\"\n",
    "        This method adds the entered amount to the present balance.<br>\n",
    "        It also returns the updated balance.\n",
    "        \"\"\"\n",
    "        # holding balance before change for comaprison\n",
    "        previous_balance = self.__balance\n",
    "        # Updating account balance with deposit amount converted to cents\n",
    "        amount = self.__convert_dollars_and_cents(amount)\n",
    "        self.__balance += amount\n",
    "        # Checking if balance was updated\n",
    "        if self.__balance - amount == previous_balance:\n",
    "            # returning balance converted to dollars\n",
    "            return self.__convert_dollars_and_cents(self.__balance, switch=True)\n",
    "        else:\n",
    "            return False\n",
    "    \n",
    "    # This method subtracts the amount from the balance and returns updated amount\n",
    "    def withdraw(self, amount: int) -> int:\n",
    "        \"\"\"\n",
    "        This mehtod subtracts the entered amount from the present balance.<br>\n",
    "        It also returns the updated balance.\n",
    "        \"\"\"\n",
    "        # holding balance before change for comaprison\n",
    "        previous_balance = self.__balance\n",
    "        # Updating the account with withdrawal\n",
    "        amount = self.__convert_dollars_and_cents(amount)\n",
    "        self.__balance -= amount\n",
    "        # Checking if balance was updated\n",
    "        if self.__balance + amount == previous_balance:\n",
    "            return self.__convert_dollars_and_cents(self.__balance, switch=True)\n",
    "        else:\n",
    "            return False\n",
    "    \n",
    "    # This method checks if a pin is valid and returns a boolean output\n",
    "    def is_pin_valid(self, pin: str) -> bool:\n",
    "        \"\"\"\n",
    "        This method checks if a pin is valid and returns a boolean output.\n",
    "        \"\"\"\n",
    "        # checking if pin is valid\n",
    "        if self.__pin == pin:\n",
    "            return True\n",
    "        else:\n",
    "            return False\n",
    "        \n",
    "    # This method returns account information as a formatted string\n",
    "    def __tostring(self) -> str:\n",
    "        \"\"\"\n",
    "        This method returns account information as a formatted string.\n",
    "        \"\"\"\n",
    "        # Concerting balance from cents to dollars\n",
    "        balance = self.__convert_dollars_and_cents(self.__balance, switch=True)\n",
    "        return (\n",
    "            f\"Account Number: {self.account_number}\\n\"\n",
    "            f\"Owner First Name: {self.__owner_first_name}\\n\"\n",
    "            f\"Owner Last Name: {self.__owner_last_name}\\n\"\n",
    "            f\"Owner SSN: xxx-xx-{self.__ssn[-4:]}\\n\"\n",
    "            f\"PIN: {self.__pin}\\n\"\n",
    "            f\"Balance: ${balance}\"\n",
    "        )\n",
    "    \n",
    "    # Allows the print(object) to display the formatted output\n",
    "    def __str__(self) -> str:\n",
    "        \"\"\"\n",
    "        Allowing the class to display readable format when printed\n",
    "        \"\"\"\n",
    "        return self.__tostring()\n",
    "        \n",
    "    \n",
    "        \n",
    "        \n",
    "        \n",
    "        \n",
    "        \n",
    "        "
   ]
  },
  {
   "cell_type": "code",
   "execution_count": 1056,
   "id": "80eb4f2f",
   "metadata": {},
   "outputs": [],
   "source": [
    "ran_num3 = Account()\n",
    "# ran_num.number_generator(8)"
   ]
  },
  {
   "cell_type": "code",
   "execution_count": 1057,
   "id": "b604d34b",
   "metadata": {},
   "outputs": [
    {
     "data": {
      "text/plain": [
       "'Kat'"
      ]
     },
     "execution_count": 1057,
     "metadata": {},
     "output_type": "execute_result"
    }
   ],
   "source": [
    "ran_num3.set_owner_first_name(\"Kat\")\n",
    "ran_num3.get_owner_first_name()"
   ]
  },
  {
   "cell_type": "code",
   "execution_count": 1058,
   "id": "36ead90c",
   "metadata": {},
   "outputs": [
    {
     "data": {
      "text/plain": [
       "'Clarke'"
      ]
     },
     "execution_count": 1058,
     "metadata": {},
     "output_type": "execute_result"
    }
   ],
   "source": [
    "ran_num3.set_owner_last_name(\"Clarke\")\n",
    "ran_num3.get_owner_last_name()"
   ]
  },
  {
   "cell_type": "code",
   "execution_count": 1059,
   "id": "34316556",
   "metadata": {},
   "outputs": [
    {
     "data": {
      "text/plain": [
       "'000-00-1234'"
      ]
     },
     "execution_count": 1059,
     "metadata": {},
     "output_type": "execute_result"
    }
   ],
   "source": [
    "ran_num3.set_ssn(\"000-00-1234\")\n",
    "ran_num3.get_ssn()"
   ]
  },
  {
   "cell_type": "code",
   "execution_count": 1060,
   "id": "befc018a",
   "metadata": {},
   "outputs": [
    {
     "data": {
      "text/plain": [
       "True"
      ]
     },
     "execution_count": 1060,
     "metadata": {},
     "output_type": "execute_result"
    }
   ],
   "source": [
    "ran_num3.set_balance(260)\n"
   ]
  },
  {
   "cell_type": "code",
   "execution_count": 1061,
   "id": "5a506826",
   "metadata": {},
   "outputs": [
    {
     "data": {
      "text/plain": [
       "'260.00'"
      ]
     },
     "execution_count": 1061,
     "metadata": {},
     "output_type": "execute_result"
    }
   ],
   "source": [
    "ran_num3.get_balance()"
   ]
  },
  {
   "cell_type": "code",
   "execution_count": 1062,
   "id": "5d88d34d",
   "metadata": {},
   "outputs": [
    {
     "data": {
      "text/plain": [
       "'460.10'"
      ]
     },
     "execution_count": 1062,
     "metadata": {},
     "output_type": "execute_result"
    }
   ],
   "source": [
    "ran_num3.deposit(200.10)"
   ]
  },
  {
   "cell_type": "code",
   "execution_count": 1063,
   "id": "9319de31",
   "metadata": {},
   "outputs": [
    {
     "data": {
      "text/plain": [
       "'410.08'"
      ]
     },
     "execution_count": 1063,
     "metadata": {},
     "output_type": "execute_result"
    }
   ],
   "source": [
    "ran_num3.withdraw(50.02)"
   ]
  },
  {
   "cell_type": "code",
   "execution_count": 1064,
   "id": "19f124a9",
   "metadata": {},
   "outputs": [
    {
     "data": {
      "text/plain": [
       "'410.08'"
      ]
     },
     "execution_count": 1064,
     "metadata": {},
     "output_type": "execute_result"
    }
   ],
   "source": [
    "ran_num3.get_balance()"
   ]
  },
  {
   "cell_type": "code",
   "execution_count": 1066,
   "id": "7f70a8b5",
   "metadata": {},
   "outputs": [
    {
     "name": "stdout",
     "output_type": "stream",
     "text": [
      "Account Number: 56538170\n",
      "Owner First Name: Kat\n",
      "Owner Last Name: Clarke\n",
      "Owner SSN: xxx-xx-1234\n",
      "PIN: 6541\n",
      "Balance: $410.08\n"
     ]
    }
   ],
   "source": [
    "print(ran_num3)"
   ]
  },
  {
   "cell_type": "code",
   "execution_count": null,
   "id": "2889b67d",
   "metadata": {},
   "outputs": [],
   "source": []
  },
  {
   "cell_type": "code",
   "execution_count": 1048,
   "id": "a7d5d946",
   "metadata": {},
   "outputs": [],
   "source": [
    "def convert_dollars_and_cents(amount: int, switch: bool = False) -> str:\n",
    "        \"\"\"\n",
    "        This method uses a switch to convert dollars to cents.<br>\n",
    "        Swtich set to default False which converts dollars to cents.<br>\n",
    "        If switch is set to True convert cents to dollars.\n",
    "        \"\"\"\n",
    "        # if false, convert dollars to cents\n",
    "        if not switch:\n",
    "            cents = int(round(amount * 100))\n",
    "            return cents\n",
    "        elif switch:\n",
    "            dollars = amount / 100\n",
    "            return f\"{dollars:.2f}\""
   ]
  },
  {
   "cell_type": "code",
   "execution_count": 1049,
   "id": "7d19014b",
   "metadata": {},
   "outputs": [
    {
     "data": {
      "text/plain": [
       "25103"
      ]
     },
     "execution_count": 1049,
     "metadata": {},
     "output_type": "execute_result"
    }
   ],
   "source": [
    "test = convert_dollars_and_cents(251.03)\n",
    "test"
   ]
  },
  {
   "cell_type": "code",
   "execution_count": 1050,
   "id": "82103b1d",
   "metadata": {},
   "outputs": [
    {
     "data": {
      "text/plain": [
       "'251.03'"
      ]
     },
     "execution_count": 1050,
     "metadata": {},
     "output_type": "execute_result"
    }
   ],
   "source": [
    "convert_dollars_and_cents(test, switch=True)"
   ]
  },
  {
   "cell_type": "code",
   "execution_count": 1051,
   "id": "e49ca1a8",
   "metadata": {},
   "outputs": [],
   "source": [
    "# This class mimics some of the basic functions of a bank\n",
    "class Bank:\n",
    "    # List to hold all bank accounts\n",
    "    __accounts = []\n",
    "    # Variable for total allowed bank accounts\n",
    "    __total_accounts = 0\n",
    "    \n",
    "    # This method checks if an account is already in accounts\n",
    "    def __does_account_exist(self, account: Account) -> bool:\n",
    "        \"\"\"\n",
    "        This method checks if an account is already in accounts.\n",
    "        \"\"\"\n",
    "        # Checking for duplicates\n",
    "        for acc in self.__class__.__accounts:\n",
    "            if acc == account:\n",
    "                return True\n",
    "        return False\n",
    "    \n",
    "    # This method adds the Account object to the bank\n",
    "    def add_account_to_bank(self, account: Account) -> Union[bool,str]:\n",
    "        \"\"\"\n",
    "        This method adds an account object to the accounts list.<br>\n",
    "        It also make sure they are no duplicates and only allows 100 accounts.\n",
    "        \"\"\"\n",
    "        # Account Counter\n",
    "        account_counter = 0\n",
    "        for acc in self.__class__.__total_accounts:\n",
    "            if acc\n",
    "        # Checking if we reached account limit\n",
    "        if len(self.__accounts) == 2:\n",
    "            print(f\"No more accounts available\")\n",
    "            return False\n",
    "        # Checking for duplicates\n",
    "        if self.__does_account_exist(account):\n",
    "            return f\"account already exists\"\n",
    "        # Adding account to bank if they are no duplicates\n",
    "        self.__accounts.append(account)\n",
    "        #updating total accounts count by adding 1 to represent a new account\n",
    "        self.__class__.__total_accounts += 1\n",
    "        return True\n",
    "        \n",
    "    # This method removes an account object from the accounts list\n",
    "    def remove_account_from_bank(self, account: Account) -> bool:\n",
    "        \"\"\"\n",
    "        This method allows us to remnove an account from the account list\n",
    "        \"\"\"\n",
    "        # checking each account in the list\n",
    "        for index,acc in enumerate(self.__class__.__accounts):\n",
    "            # if we have a match\n",
    "            if acc == account:\n",
    "                # replace the account with None\n",
    "                self.__class__.__accounts[index] = None\n",
    "                #updating total accounts count by subtracting 1 to represent closing an account\n",
    "                self.__class__.__total_accounts -= 1\n",
    "                return True\n",
    "        # return false if account doesnt exist\n",
    "        return False\n",
    "    \n",
    "    # This method finds the specified account and return it\n",
    "    def find_account(self, account_number: int) -> Account:\n",
    "        # checking each account in the list\n",
    "        for acc in self.__class__.__accounts:\n",
    "            # If there is an account number match, return the account\n",
    "            if acc.get_account_number() == account_number:\n",
    "                return acc\n",
    "        # Return false if the account was not found\n",
    "        return False\n",
    "    \n",
    "    # This method adds a monthly interest to all accounts using a submitted rate\n",
    "    def add_monthly_interest(self, interest_rate: float) -> bool:\n",
    "        # checking each account\n",
    "        for acc in self.__class__.__accounts:\n",
    "            # getting present balance\n",
    "            balance = float(acc.get_balance())\n",
    "            # Creating interest rate amount\n",
    "            interest = balance * (interest_rate/100)\n",
    "            # depositing balance to account\n",
    "            acc.deposit(interest)\n",
    "            return True\n",
    "        \n",
    "                \n",
    "        "
   ]
  },
  {
   "cell_type": "code",
   "execution_count": 1052,
   "id": "03b1bcc8",
   "metadata": {},
   "outputs": [],
   "source": [
    "bank = Bank()"
   ]
  },
  {
   "cell_type": "code",
   "execution_count": 1053,
   "id": "592165f5",
   "metadata": {},
   "outputs": [],
   "source": [
    "new_accounttwo = Account()"
   ]
  },
  {
   "cell_type": "code",
   "execution_count": 1073,
   "id": "8a19d23a",
   "metadata": {},
   "outputs": [
    {
     "name": "stdout",
     "output_type": "stream",
     "text": [
      "No more accounts available\n"
     ]
    },
    {
     "data": {
      "text/plain": [
       "False"
      ]
     },
     "execution_count": 1073,
     "metadata": {},
     "output_type": "execute_result"
    }
   ],
   "source": [
    "bank.add_account_to_bank(ran_num3)"
   ]
  },
  {
   "cell_type": "code",
   "execution_count": 1068,
   "id": "e50faa47",
   "metadata": {},
   "outputs": [
    {
     "data": {
      "text/plain": [
       "'Kat'"
      ]
     },
     "execution_count": 1068,
     "metadata": {},
     "output_type": "execute_result"
    }
   ],
   "source": [
    "acc = bank.find_account(56538170)\n",
    "acc.get_owner_first_name()"
   ]
  },
  {
   "cell_type": "code",
   "execution_count": 1089,
   "id": "c2a9a07c",
   "metadata": {},
   "outputs": [
    {
     "name": "stdout",
     "output_type": "stream",
     "text": [
      "Account Number: 56538170\n",
      "Owner First Name: Kat\n",
      "Owner Last Name: Clarke\n",
      "Owner SSN: xxx-xx-1234\n",
      "PIN: 6541\n",
      "Balance: $410.08\n"
     ]
    }
   ],
   "source": [
    "print(acc)"
   ]
  },
  {
   "cell_type": "code",
   "execution_count": 1070,
   "id": "29449b19",
   "metadata": {},
   "outputs": [
    {
     "data": {
      "text/plain": [
       "True"
      ]
     },
     "execution_count": 1070,
     "metadata": {},
     "output_type": "execute_result"
    }
   ],
   "source": [
    "bank.add_monthly_interest(2.5)"
   ]
  },
  {
   "cell_type": "code",
   "execution_count": 1072,
   "id": "057e45c2",
   "metadata": {},
   "outputs": [
    {
     "data": {
      "text/plain": [
       "True"
      ]
     },
     "execution_count": 1072,
     "metadata": {},
     "output_type": "execute_result"
    }
   ],
   "source": [
    "bank.remove_account_from_bank(ran_num3)"
   ]
  },
  {
   "cell_type": "code",
   "execution_count": 1030,
   "id": "491c6b81",
   "metadata": {},
   "outputs": [],
   "source": [
    "# This class is like a swiss army knife with methods that carry out bank actions\n",
    "class BankUtility:\n",
    "    pass"
   ]
  },
  {
   "cell_type": "code",
   "execution_count": 1075,
   "id": "ca313ea0",
   "metadata": {},
   "outputs": [],
   "source": [
    "class Test:\n",
    "    pass"
   ]
  },
  {
   "cell_type": "code",
   "execution_count": 1078,
   "id": "a7a00f5c",
   "metadata": {},
   "outputs": [],
   "source": [
    "test1 = Test()\n",
    "test2 = Test()\n",
    "test3 = Test()"
   ]
  },
  {
   "cell_type": "code",
   "execution_count": 1081,
   "id": "6640053f",
   "metadata": {},
   "outputs": [],
   "source": [
    "test_list = [test1,test1,test3]"
   ]
  },
  {
   "cell_type": "code",
   "execution_count": 1087,
   "id": "ac76cd6e",
   "metadata": {},
   "outputs": [
    {
     "data": {
      "text/plain": [
       "[<__main__.Test at 0x25a0b61bf10>, None, <__main__.Test at 0x25a0b61b610>]"
      ]
     },
     "execution_count": 1087,
     "metadata": {},
     "output_type": "execute_result"
    }
   ],
   "source": [
    "test_list[1]=None\n",
    "test_list"
   ]
  },
  {
   "cell_type": "code",
   "execution_count": 1088,
   "id": "9b5763bf",
   "metadata": {},
   "outputs": [
    {
     "name": "stdout",
     "output_type": "stream",
     "text": [
      "No\n",
      "yes\n",
      "No\n"
     ]
    }
   ],
   "source": [
    "for item in test_list:\n",
    "    if item == None:\n",
    "        print(\"yes\")\n",
    "    else:\n",
    "        print(\"No\")"
   ]
  },
  {
   "cell_type": "code",
   "execution_count": null,
   "id": "6fafd4d8",
   "metadata": {},
   "outputs": [],
   "source": []
  }
 ],
 "metadata": {
  "kernelspec": {
   "display_name": "Python 3 (ipykernel)",
   "language": "python",
   "name": "python3"
  },
  "language_info": {
   "codemirror_mode": {
    "name": "ipython",
    "version": 3
   },
   "file_extension": ".py",
   "mimetype": "text/x-python",
   "name": "python",
   "nbconvert_exporter": "python",
   "pygments_lexer": "ipython3",
   "version": "3.9.13"
  }
 },
 "nbformat": 4,
 "nbformat_minor": 5
}
